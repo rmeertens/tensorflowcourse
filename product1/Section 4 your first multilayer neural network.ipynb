{
 "cells": [
  {
   "cell_type": "markdown",
   "metadata": {},
   "source": [
    "# Section 4 The MNIST dataset\n"
   ]
  },
  {
   "cell_type": "markdown",
   "metadata": {
    "collapsed": true
   },
   "source": [
    "## Section 1: downloading the data, and visualising it\n",
    "In XXX somebody decided to start \n",
    "\n",
    "The MNIST dataset is used in so tutorials, as it is a great practical example to test your network on. New novel network architectures often show how well they perform on the MNIST dataset. Even if your new network architecture does not perform better, it's often easy to show interesting features using the MNIST dataset. As it's used very often, loading the MNIST dataset is included in your installation of Tensorflow. \n",
    "\n",
    "Execute the following code will either load the data, and if it's your first time loading the data it will download the data. \n"
   ]
  },
  {
   "cell_type": "code",
   "execution_count": 3,
   "metadata": {},
   "outputs": [
    {
     "name": "stdout",
     "output_type": "stream",
     "text": [
      "Extracting MNIST_data/train-images-idx3-ubyte.gz\n",
      "Extracting MNIST_data/train-labels-idx1-ubyte.gz\n",
      "Extracting MNIST_data/t10k-images-idx3-ubyte.gz\n",
      "Extracting MNIST_data/t10k-labels-idx1-ubyte.gz\n"
     ]
    }
   ],
   "source": [
    "from tensorflow.examples.tutorials.mnist import input_data\n",
    "mnist = input_data.read_data_sets(\"MNIST_data/\", one_hot=True)\n"
   ]
  },
  {
   "cell_type": "markdown",
   "metadata": {},
   "source": [
    "### Visualising MNIST\n",
    "mnist"
   ]
  },
  {
   "cell_type": "code",
   "execution_count": 17,
   "metadata": {},
   "outputs": [
    {
     "name": "stdout",
     "output_type": "stream",
     "text": [
      "Datasets(train=<tensorflow.contrib.learn.python.learn.datasets.mnist.DataSet object at 0x7f30e81b67f0>, validation=<tensorflow.contrib.learn.python.learn.datasets.mnist.DataSet object at 0x7f30d6a89e10>, test=<tensorflow.contrib.learn.python.learn.datasets.mnist.DataSet object at 0x7f30d6a96ef0>)\n",
      "<tensorflow.contrib.learn.python.learn.datasets.mnist.DataSet object at 0x7f30e81b67f0>\n",
      "(array([[ 0.,  0.,  0., ...,  0.,  0.,  0.],\n",
      "       [ 0.,  0.,  0., ...,  0.,  0.,  0.],\n",
      "       [ 0.,  0.,  0., ...,  0.,  0.,  0.],\n",
      "       [ 0.,  0.,  0., ...,  0.,  0.,  0.],\n",
      "       [ 0.,  0.,  0., ...,  0.,  0.,  0.]], dtype=float32), array([[ 0.,  0.,  0.,  1.,  0.,  0.,  0.,  0.,  0.,  0.],\n",
      "       [ 0.,  1.,  0.,  0.,  0.,  0.,  0.,  0.,  0.,  0.],\n",
      "       [ 0.,  0.,  0.,  0.,  1.,  0.,  0.,  0.,  0.,  0.],\n",
      "       [ 0.,  0.,  0.,  0.,  1.,  0.,  0.,  0.,  0.,  0.],\n",
      "       [ 0.,  0.,  0.,  0.,  0.,  0.,  1.,  0.,  0.,  0.]]))\n",
      "[[ 0.  0.  0. ...,  0.  0.  0.]\n",
      " [ 0.  0.  0. ...,  0.  0.  0.]\n",
      " [ 0.  0.  0. ...,  0.  0.  0.]\n",
      " [ 0.  0.  0. ...,  0.  0.  0.]\n",
      " [ 0.  0.  0. ...,  0.  0.  0.]]\n",
      "784\n",
      "784\n",
      "[[ 0.  0.  0.  0.  1.  0.  0.  0.  0.  0.]\n",
      " [ 0.  0.  0.  0.  0.  0.  0.  1.  0.  0.]\n",
      " [ 0.  0.  0.  1.  0.  0.  0.  0.  0.  0.]\n",
      " [ 0.  0.  0.  1.  0.  0.  0.  0.  0.  0.]\n",
      " [ 0.  0.  0.  0.  0.  0.  0.  0.  0.  1.]]\n"
     ]
    }
   ],
   "source": [
    "print(mnist)\n",
    "print(mnist.train)\n",
    "print(mnist.train.next_batch(5))\n",
    "images, labels = mnist.train.next_batch(5)\n",
    "print(images)\n",
    "print(len(images[0]))\n",
    "print(28*28)\n",
    "print(labels)"
   ]
  },
  {
   "cell_type": "code",
   "execution_count": 21,
   "metadata": {},
   "outputs": [
    {
     "data": {
      "image/png": "[encoded data removed]",
      "text/plain": [
       "<matplotlib.figure.Figure at 0x7f30c86bf9b0>"
      ]
     },
     "metadata": {},
     "output_type": "display_data"
    },
    {
     "name": "stdout",
     "output_type": "stream",
     "text": [
      "[ 0.  1.  0.  0.  0.  0.  0.  0.  0.  0.]\n"
     ]
    },
    {
     "data": {
      "image/png": "[encoded data removed]",
      "text/plain": [
       "<matplotlib.figure.Figure at 0x7f30c84956a0>"
      ]
     },
     "metadata": {},
     "output_type": "display_data"
    },
    {
     "name": "stdout",
     "output_type": "stream",
     "text": [
      "[ 0.  1.  0.  0.  0.  0.  0.  0.  0.  0.]\n"
     ]
    },
    {
     "data": {
      "image/png": "[encoded data removed]",
      "text/plain": [
       "<matplotlib.figure.Figure at 0x7f30c8742e48>"
      ]
     },
     "metadata": {},
     "output_type": "display_data"
    },
    {
     "name": "stdout",
     "output_type": "stream",
     "text": [
      "[ 0.  0.  0.  1.  0.  0.  0.  0.  0.  0.]\n"
     ]
    },
    {
     "data": {
      "image/png": "[encoded data removed]",
      "text/plain": [
       "<matplotlib.figure.Figure at 0x7f30c847cc18>"
      ]
     },
     "metadata": {},
     "output_type": "display_data"
    },
    {
     "name": "stdout",
     "output_type": "stream",
     "text": [
      "[ 0.  0.  1.  0.  0.  0.  0.  0.  0.  0.]\n"
     ]
    },
    {
     "data": {
      "image/png": "[encoded data removed]",
      "text/plain": [
       "<matplotlib.figure.Figure at 0x7f30c83fcc88>"
      ]
     },
     "metadata": {},
     "output_type": "display_data"
    },
    {
     "name": "stdout",
     "output_type": "stream",
     "text": [
      "[ 0.  0.  0.  1.  0.  0.  0.  0.  0.  0.]\n"
     ]
    },
    {
     "data": {
      "image/png": "[encoded data removed]",
      "text/plain": [
       "<matplotlib.figure.Figure at 0x7f30c8694a58>"
      ]
     },
     "metadata": {},
     "output_type": "display_data"
    },
    {
     "name": "stdout",
     "output_type": "stream",
     "text": [
      "[ 0.  0.  0.  0.  0.  1.  0.  0.  0.  0.]\n"
     ]
    },
    {
     "data": {
      "image/png": "[encoded data removed]",
      "text/plain": [
       "<matplotlib.figure.Figure at 0x7f30c865a940>"
      ]
     },
     "metadata": {},
     "output_type": "display_data"
    },
    {
     "name": "stdout",
     "output_type": "stream",
     "text": [
      "[ 0.  0.  0.  0.  0.  0.  1.  0.  0.  0.]\n"
     ]
    },
    {
     "data": {
      "image/png": "[encoded data removed]",
      "text/plain": [
       "<matplotlib.figure.Figure at 0x7f30c83c74a8>"
      ]
     },
     "metadata": {},
     "output_type": "display_data"
    },
    {
     "name": "stdout",
     "output_type": "stream",
     "text": [
      "[ 0.  0.  1.  0.  0.  0.  0.  0.  0.  0.]\n"
     ]
    },
    {
     "data": {
      "image/png": "[encoded data removed]",
      "text/plain": [
       "<matplotlib.figure.Figure at 0x7f30c854b9b0>"
      ]
     },
     "metadata": {},
     "output_type": "display_data"
    },
    {
     "name": "stdout",
     "output_type": "stream",
     "text": [
      "[ 0.  0.  0.  0.  0.  0.  0.  0.  0.  1.]\n"
     ]
    },
    {
     "data": {
      "image/png": "[encoded data removed]",
      "text/plain": [
       "<matplotlib.figure.Figure at 0x7f30c87ec4e0>"
      ]
     },
     "metadata": {},
     "output_type": "display_data"
    },
    {
     "name": "stdout",
     "output_type": "stream",
     "text": [
      "[ 0.  1.  0.  0.  0.  0.  0.  0.  0.  0.]\n"
     ]
    }
   ],
   "source": [
    "%matplotlib inline \n",
    "import matplotlib.pyplot as plt\n",
    "import numpy as np\n",
    "images, labels = mnist.train.next_batch(10)\n",
    "for image, label in zip(images, labels):\n",
    "    image_reshaped = np.reshape(image,(28,28) ) # https://docs.scipy.org/doc/numpy/reference/generated/numpy.reshape.html\n",
    "    plt.imshow(image_reshaped)\n",
    "    plt.show()\n",
    "    print(label)"
   ]
  },
  {
   "cell_type": "markdown",
   "metadata": {},
   "source": [
    "### Nicer visualisations and difficult data\n",
    "http://www.pinchofintelligence.com/simple-introduction-to-tensorboard-embedding-visualisation/\n",
    "http://yaroslavvb.blogspot.nl/2011/09/notmnist-dataset.html\n",
    "![not mnist](http://yaroslavvb.com/upload/notMNIST/nmn.png)"
   ]
  },
  {
   "cell_type": "markdown",
   "metadata": {},
   "source": [
    "## Section 2: trying the network we made in chapter 3, and comparing it to the state of the art\n",
    "Now let's try to build a simple neural network to classify these images. By now you are already familiar with the way you build a simple neural network in Tensorflow, so I won't make it very fancy. \n"
   ]
  },
  {
   "cell_type": "code",
   "execution_count": 22,
   "metadata": {
    "collapsed": true
   },
   "outputs": [],
   "source": [
    "import tensorflow as tf\n",
    "LEARNING_RATE = 0.05\n",
    "x_placeholder = tf.placeholder(tf.float32, [None, 784], name=\"x_placeholder\")\n",
    "y_placeholder = tf.placeholder(tf.float32, [None, 10], name=\"y_placeholder\")\n",
    "dense1 = tf.layers.dense(inputs=x_placeholder, units=400, activation=tf.nn.relu, name=\"first_dense_layer\")\n",
    "dense2 = tf.layers.dense(inputs=dense1, units=100, activation=tf.nn.relu, name=\"second_dense_layer\")\n",
    "predicted_class = tf.layers.dense(inputs=dense2, units=10, activation=tf.nn.relu, name=\"outputprediction_layer\")\n",
    "\n",
    "loss = tf.losses.mean_squared_error(y_placeholder,predicted_class)\n",
    "optimizer = tf.train.GradientDescentOptimizer(LEARNING_RATE).minimize(loss)"
   ]
  },
  {
   "cell_type": "code",
   "execution_count": 23,
   "metadata": {
    "collapsed": true
   },
   "outputs": [],
   "source": [
    "init = tf.global_variables_initializer() # https://www.tensorflow.org/api_docs/python/tf/global_variables_initializer\n",
    "sess = tf.Session() # https://www.tensorflow.org/api_docs/python/tf/Session\n",
    "sess.run(init)"
   ]
  },
  {
   "cell_type": "code",
   "execution_count": 29,
   "metadata": {},
   "outputs": [
    {
     "name": "stdout",
     "output_type": "stream",
     "text": [
      "0.0340696\n",
      "0.0320354\n",
      "0.0282054\n",
      "0.028431\n",
      "0.029145\n",
      "0.035783\n",
      "0.0315572\n",
      "0.0291703\n",
      "0.0348508\n",
      "0.031007\n",
      "0.0289197\n",
      "0.0311898\n",
      "0.0303855\n",
      "0.0286903\n",
      "0.0321843\n",
      "0.0323505\n",
      "0.0337139\n",
      "0.0252654\n",
      "0.0317376\n",
      "0.0343053\n",
      "0.029145\n",
      "0.0264151\n",
      "0.0334617\n",
      "0.0298012\n",
      "0.0324866\n",
      "0.0308819\n",
      "0.0275844\n",
      "0.0253575\n",
      "0.0322746\n",
      "0.031714\n",
      "0.0215322\n",
      "0.0351368\n",
      "0.0293605\n",
      "0.0313051\n",
      "0.0293475\n",
      "0.0319451\n",
      "0.0270673\n",
      "0.0302221\n",
      "0.0329847\n",
      "0.03218\n",
      "0.0316333\n",
      "0.0329818\n",
      "0.0306013\n",
      "0.0319488\n",
      "0.0301639\n",
      "0.0264672\n",
      "0.0258928\n",
      "0.0256793\n",
      "0.027149\n",
      "0.0297762\n",
      "0.024778\n",
      "0.0316236\n",
      "0.0313959\n",
      "0.0304916\n",
      "0.0308145\n",
      "0.0255833\n",
      "0.0328352\n",
      "0.0293763\n",
      "0.0255278\n",
      "0.0306877\n",
      "0.0344167\n",
      "0.0311406\n",
      "0.0350127\n",
      "0.0312215\n",
      "0.0238653\n",
      "0.0282945\n",
      "0.0273698\n",
      "0.0292564\n",
      "0.0287259\n",
      "0.0326325\n",
      "0.0307454\n",
      "0.0256812\n",
      "0.0316834\n",
      "0.0333036\n",
      "0.0265615\n",
      "0.0270263\n",
      "0.028222\n",
      "0.0276712\n",
      "0.0262979\n",
      "0.030495\n",
      "0.0281337\n",
      "0.0263143\n",
      "0.0315857\n",
      "0.0267599\n",
      "0.0294348\n",
      "0.0270066\n",
      "0.0261544\n",
      "0.0258849\n",
      "0.0324217\n",
      "0.0252954\n",
      "0.0315076\n",
      "0.0276639\n",
      "0.0283259\n",
      "0.0343001\n",
      "0.0299045\n",
      "0.0249045\n",
      "0.0306085\n",
      "0.0338327\n",
      "0.0322984\n",
      "0.0305084\n",
      "0.0319851\n",
      "0.0340581\n",
      "0.0303477\n",
      "0.0307451\n",
      "0.0329466\n",
      "0.0294524\n",
      "0.0236422\n",
      "0.0352655\n",
      "0.0277725\n",
      "0.0278005\n",
      "0.0286318\n",
      "0.0283534\n",
      "0.0273389\n",
      "0.0335165\n",
      "0.0348611\n",
      "0.0311071\n",
      "0.028103\n",
      "0.0267096\n",
      "0.0299204\n",
      "0.0323819\n",
      "0.0317498\n",
      "0.0327015\n",
      "0.032975\n",
      "0.0288722\n",
      "0.0220672\n",
      "0.0315879\n",
      "0.0333055\n",
      "0.0332873\n",
      "0.0313483\n",
      "0.0296361\n",
      "0.0284167\n",
      "0.0304966\n",
      "0.0252108\n",
      "0.0322343\n",
      "0.0267711\n",
      "0.0270875\n",
      "0.0311816\n",
      "0.0317411\n",
      "0.0248737\n",
      "0.0249007\n",
      "0.0329207\n",
      "0.0346908\n",
      "0.0295772\n",
      "0.0245754\n",
      "0.0260889\n",
      "0.0311096\n",
      "0.0281892\n",
      "0.024435\n",
      "0.0235467\n",
      "0.0365402\n",
      "0.0280445\n",
      "0.0270129\n",
      "0.0328508\n",
      "0.0277483\n",
      "0.0239948\n",
      "0.0317079\n",
      "0.0310742\n",
      "0.0302646\n",
      "0.0263926\n",
      "0.0253413\n",
      "0.0316537\n",
      "0.0220398\n",
      "0.0221732\n",
      "0.0296744\n",
      "0.0257827\n",
      "0.0246322\n",
      "0.028224\n",
      "0.0295937\n",
      "0.0298142\n",
      "0.0309908\n",
      "0.0281186\n",
      "0.0336876\n",
      "0.0270536\n",
      "0.0303424\n",
      "0.0287374\n",
      "0.0339828\n",
      "0.0272556\n",
      "0.0230927\n",
      "0.0324666\n",
      "0.0324174\n",
      "0.0274592\n",
      "0.0347424\n",
      "0.0283142\n",
      "0.0287112\n",
      "0.0260566\n",
      "0.0338096\n",
      "0.0354134\n",
      "0.0379563\n",
      "0.0300163\n",
      "0.03102\n",
      "0.0293582\n",
      "0.0328565\n",
      "0.027631\n",
      "0.0284134\n",
      "0.0305157\n",
      "0.0352953\n",
      "0.029118\n",
      "0.0226535\n",
      "0.030904\n",
      "0.0269495\n",
      "0.033279\n",
      "0.0259984\n",
      "0.0277158\n",
      "0.0271442\n",
      "0.0320372\n",
      "0.0257736\n",
      "0.0192536\n",
      "0.0278216\n",
      "0.0234144\n",
      "0.031338\n",
      "0.0315034\n",
      "0.0316081\n",
      "0.0292671\n",
      "0.0363557\n",
      "0.0308515\n",
      "0.034132\n",
      "0.0217176\n",
      "0.0278728\n",
      "0.0246607\n",
      "0.0260821\n",
      "0.0329014\n",
      "0.0256106\n",
      "0.0266873\n",
      "0.0302618\n",
      "0.0348723\n",
      "0.0337343\n",
      "0.0257429\n",
      "0.0276902\n",
      "0.0362909\n",
      "0.0219105\n",
      "0.030086\n",
      "0.031049\n",
      "0.0259886\n",
      "0.0300699\n",
      "0.0314251\n",
      "0.0309048\n",
      "0.0289557\n",
      "0.0303739\n",
      "0.0349182\n",
      "0.0294477\n",
      "0.0338134\n",
      "0.034864\n",
      "0.0297544\n",
      "0.0293644\n",
      "0.0335173\n",
      "0.0286931\n",
      "0.0292364\n",
      "0.0292371\n",
      "0.0274512\n",
      "0.0242342\n",
      "0.0307551\n",
      "0.0231879\n",
      "0.0254864\n",
      "0.0278963\n",
      "0.0274074\n",
      "0.028446\n",
      "0.0233718\n",
      "0.0342315\n",
      "0.023999\n",
      "0.0268565\n",
      "0.0300918\n",
      "0.029286\n",
      "0.0300122\n",
      "0.0352451\n",
      "0.0301031\n",
      "0.0267549\n",
      "0.0236991\n",
      "0.0252521\n",
      "0.0351582\n",
      "0.0291362\n",
      "0.0310712\n",
      "0.028302\n",
      "0.0245486\n",
      "0.0318712\n",
      "0.030075\n",
      "0.0317999\n",
      "0.0248618\n",
      "0.0297961\n",
      "0.0307009\n",
      "0.0281919\n",
      "0.0236029\n",
      "0.0289335\n",
      "0.0244818\n",
      "0.0306165\n",
      "0.0359264\n",
      "0.0266102\n",
      "0.0348577\n",
      "0.0319411\n",
      "0.0350835\n",
      "0.0263331\n",
      "0.0190968\n",
      "0.0270497\n",
      "0.0254723\n",
      "0.0257866\n",
      "0.0269316\n",
      "0.0296915\n",
      "0.0240102\n",
      "0.0285012\n",
      "0.0291727\n",
      "0.0289347\n",
      "0.0287648\n",
      "0.0323049\n",
      "0.0316953\n",
      "0.0279487\n",
      "0.0323545\n",
      "0.0242574\n",
      "0.0270795\n",
      "0.0289071\n",
      "0.0296205\n",
      "0.0296374\n",
      "0.0307964\n",
      "0.0291929\n",
      "0.0278144\n",
      "0.0269202\n",
      "0.0292432\n",
      "0.0285398\n",
      "0.0271021\n",
      "0.0386212\n",
      "0.0243364\n",
      "0.0276735\n",
      "0.0303926\n",
      "0.0249033\n",
      "0.040781\n",
      "0.0285713\n",
      "0.0344619\n",
      "0.0365386\n",
      "0.0283023\n",
      "0.0263298\n",
      "0.0248366\n",
      "0.0270313\n",
      "0.025992\n",
      "0.0312424\n",
      "0.0293194\n",
      "0.0317367\n",
      "0.0259995\n",
      "0.0271419\n",
      "0.0324974\n",
      "0.020985\n",
      "0.0347372\n",
      "0.0290664\n",
      "0.0268797\n",
      "0.0246955\n",
      "0.0218153\n",
      "0.0364491\n",
      "0.0315828\n",
      "0.0363601\n",
      "0.0321317\n",
      "0.0249409\n",
      "0.0238457\n",
      "0.0277161\n",
      "0.0298985\n",
      "0.0248754\n"
     ]
    },
    {
     "ename": "KeyboardInterrupt",
     "evalue": "",
     "output_type": "error",
     "traceback": [
      "\u001b[0;31m---------------------------------------------------------------------------\u001b[0m",
      "\u001b[0;31mKeyboardInterrupt\u001b[0m                         Traceback (most recent call last)",
      "\u001b[0;32m<ipython-input-29-7db469869649>\u001b[0m in \u001b[0;36m<module>\u001b[0;34m()\u001b[0m\n\u001b[1;32m      2\u001b[0m \u001b[0;32mfor\u001b[0m \u001b[0m_\u001b[0m \u001b[0;32min\u001b[0m \u001b[0mrange\u001b[0m\u001b[0;34m(\u001b[0m\u001b[0;36m1000\u001b[0m\u001b[0;34m)\u001b[0m\u001b[0;34m:\u001b[0m\u001b[0;34m\u001b[0m\u001b[0m\n\u001b[1;32m      3\u001b[0m     \u001b[0mbatch_xs\u001b[0m\u001b[0;34m,\u001b[0m \u001b[0mbatch_ys\u001b[0m \u001b[0;34m=\u001b[0m \u001b[0mmnist\u001b[0m\u001b[0;34m.\u001b[0m\u001b[0mtrain\u001b[0m\u001b[0;34m.\u001b[0m\u001b[0mnext_batch\u001b[0m\u001b[0;34m(\u001b[0m\u001b[0mBATCH_SIZE\u001b[0m\u001b[0;34m)\u001b[0m\u001b[0;34m\u001b[0m\u001b[0m\n\u001b[0;32m----> 4\u001b[0;31m     \u001b[0mopt_res\u001b[0m\u001b[0;34m,\u001b[0m \u001b[0mcurrent_loss\u001b[0m \u001b[0;34m=\u001b[0m \u001b[0msess\u001b[0m\u001b[0;34m.\u001b[0m\u001b[0mrun\u001b[0m\u001b[0;34m(\u001b[0m\u001b[0;34m[\u001b[0m\u001b[0moptimizer\u001b[0m\u001b[0;34m,\u001b[0m \u001b[0mloss\u001b[0m\u001b[0;34m]\u001b[0m\u001b[0;34m,\u001b[0m \u001b[0mfeed_dict\u001b[0m\u001b[0;34m=\u001b[0m\u001b[0;34m{\u001b[0m\u001b[0mx_placeholder\u001b[0m\u001b[0;34m:\u001b[0m \u001b[0mbatch_xs\u001b[0m\u001b[0;34m,\u001b[0m \u001b[0my_placeholder\u001b[0m\u001b[0;34m:\u001b[0m \u001b[0mbatch_ys\u001b[0m\u001b[0;34m}\u001b[0m\u001b[0;34m)\u001b[0m\u001b[0;34m\u001b[0m\u001b[0m\n\u001b[0m\u001b[1;32m      5\u001b[0m     \u001b[0mprint\u001b[0m\u001b[0;34m(\u001b[0m\u001b[0mcurrent_loss\u001b[0m\u001b[0;34m)\u001b[0m\u001b[0;34m\u001b[0m\u001b[0m\n",
      "\u001b[0;32m/usr/local/lib/python3.5/dist-packages/tensorflow/python/client/session.py\u001b[0m in \u001b[0;36mrun\u001b[0;34m(self, fetches, feed_dict, options, run_metadata)\u001b[0m\n\u001b[1;32m    893\u001b[0m     \u001b[0;32mtry\u001b[0m\u001b[0;34m:\u001b[0m\u001b[0;34m\u001b[0m\u001b[0m\n\u001b[1;32m    894\u001b[0m       result = self._run(None, fetches, feed_dict, options_ptr,\n\u001b[0;32m--> 895\u001b[0;31m                          run_metadata_ptr)\n\u001b[0m\u001b[1;32m    896\u001b[0m       \u001b[0;32mif\u001b[0m \u001b[0mrun_metadata\u001b[0m\u001b[0;34m:\u001b[0m\u001b[0;34m\u001b[0m\u001b[0m\n\u001b[1;32m    897\u001b[0m         \u001b[0mproto_data\u001b[0m \u001b[0;34m=\u001b[0m \u001b[0mtf_session\u001b[0m\u001b[0;34m.\u001b[0m\u001b[0mTF_GetBuffer\u001b[0m\u001b[0;34m(\u001b[0m\u001b[0mrun_metadata_ptr\u001b[0m\u001b[0;34m)\u001b[0m\u001b[0;34m\u001b[0m\u001b[0m\n",
      "\u001b[0;32m/usr/local/lib/python3.5/dist-packages/tensorflow/python/client/session.py\u001b[0m in \u001b[0;36m_run\u001b[0;34m(self, handle, fetches, feed_dict, options, run_metadata)\u001b[0m\n\u001b[1;32m   1122\u001b[0m     \u001b[0;32mif\u001b[0m \u001b[0mfinal_fetches\u001b[0m \u001b[0;32mor\u001b[0m \u001b[0mfinal_targets\u001b[0m \u001b[0;32mor\u001b[0m \u001b[0;34m(\u001b[0m\u001b[0mhandle\u001b[0m \u001b[0;32mand\u001b[0m \u001b[0mfeed_dict_tensor\u001b[0m\u001b[0;34m)\u001b[0m\u001b[0;34m:\u001b[0m\u001b[0;34m\u001b[0m\u001b[0m\n\u001b[1;32m   1123\u001b[0m       results = self._do_run(handle, final_targets, final_fetches,\n\u001b[0;32m-> 1124\u001b[0;31m                              feed_dict_tensor, options, run_metadata)\n\u001b[0m\u001b[1;32m   1125\u001b[0m     \u001b[0;32melse\u001b[0m\u001b[0;34m:\u001b[0m\u001b[0;34m\u001b[0m\u001b[0m\n\u001b[1;32m   1126\u001b[0m       \u001b[0mresults\u001b[0m \u001b[0;34m=\u001b[0m \u001b[0;34m[\u001b[0m\u001b[0;34m]\u001b[0m\u001b[0;34m\u001b[0m\u001b[0m\n",
      "\u001b[0;32m/usr/local/lib/python3.5/dist-packages/tensorflow/python/client/session.py\u001b[0m in \u001b[0;36m_do_run\u001b[0;34m(self, handle, target_list, fetch_list, feed_dict, options, run_metadata)\u001b[0m\n\u001b[1;32m   1319\u001b[0m     \u001b[0;32mif\u001b[0m \u001b[0mhandle\u001b[0m \u001b[0;32mis\u001b[0m \u001b[0;32mNone\u001b[0m\u001b[0;34m:\u001b[0m\u001b[0;34m\u001b[0m\u001b[0m\n\u001b[1;32m   1320\u001b[0m       return self._do_call(_run_fn, self._session, feeds, fetches, targets,\n\u001b[0;32m-> 1321\u001b[0;31m                            options, run_metadata)\n\u001b[0m\u001b[1;32m   1322\u001b[0m     \u001b[0;32melse\u001b[0m\u001b[0;34m:\u001b[0m\u001b[0;34m\u001b[0m\u001b[0m\n\u001b[1;32m   1323\u001b[0m       \u001b[0;32mreturn\u001b[0m \u001b[0mself\u001b[0m\u001b[0;34m.\u001b[0m\u001b[0m_do_call\u001b[0m\u001b[0;34m(\u001b[0m\u001b[0m_prun_fn\u001b[0m\u001b[0;34m,\u001b[0m \u001b[0mself\u001b[0m\u001b[0;34m.\u001b[0m\u001b[0m_session\u001b[0m\u001b[0;34m,\u001b[0m \u001b[0mhandle\u001b[0m\u001b[0;34m,\u001b[0m \u001b[0mfeeds\u001b[0m\u001b[0;34m,\u001b[0m \u001b[0mfetches\u001b[0m\u001b[0;34m)\u001b[0m\u001b[0;34m\u001b[0m\u001b[0m\n",
      "\u001b[0;32m/usr/local/lib/python3.5/dist-packages/tensorflow/python/client/session.py\u001b[0m in \u001b[0;36m_do_call\u001b[0;34m(self, fn, *args)\u001b[0m\n\u001b[1;32m   1325\u001b[0m   \u001b[0;32mdef\u001b[0m \u001b[0m_do_call\u001b[0m\u001b[0;34m(\u001b[0m\u001b[0mself\u001b[0m\u001b[0;34m,\u001b[0m \u001b[0mfn\u001b[0m\u001b[0;34m,\u001b[0m \u001b[0;34m*\u001b[0m\u001b[0margs\u001b[0m\u001b[0;34m)\u001b[0m\u001b[0;34m:\u001b[0m\u001b[0;34m\u001b[0m\u001b[0m\n\u001b[1;32m   1326\u001b[0m     \u001b[0;32mtry\u001b[0m\u001b[0;34m:\u001b[0m\u001b[0;34m\u001b[0m\u001b[0m\n\u001b[0;32m-> 1327\u001b[0;31m       \u001b[0;32mreturn\u001b[0m \u001b[0mfn\u001b[0m\u001b[0;34m(\u001b[0m\u001b[0;34m*\u001b[0m\u001b[0margs\u001b[0m\u001b[0;34m)\u001b[0m\u001b[0;34m\u001b[0m\u001b[0m\n\u001b[0m\u001b[1;32m   1328\u001b[0m     \u001b[0;32mexcept\u001b[0m \u001b[0merrors\u001b[0m\u001b[0;34m.\u001b[0m\u001b[0mOpError\u001b[0m \u001b[0;32mas\u001b[0m \u001b[0me\u001b[0m\u001b[0;34m:\u001b[0m\u001b[0;34m\u001b[0m\u001b[0m\n\u001b[1;32m   1329\u001b[0m       \u001b[0mmessage\u001b[0m \u001b[0;34m=\u001b[0m \u001b[0mcompat\u001b[0m\u001b[0;34m.\u001b[0m\u001b[0mas_text\u001b[0m\u001b[0;34m(\u001b[0m\u001b[0me\u001b[0m\u001b[0;34m.\u001b[0m\u001b[0mmessage\u001b[0m\u001b[0;34m)\u001b[0m\u001b[0;34m\u001b[0m\u001b[0m\n",
      "\u001b[0;32m/usr/local/lib/python3.5/dist-packages/tensorflow/python/client/session.py\u001b[0m in \u001b[0;36m_run_fn\u001b[0;34m(session, feed_dict, fetch_list, target_list, options, run_metadata)\u001b[0m\n\u001b[1;32m   1304\u001b[0m           return tf_session.TF_Run(session, options,\n\u001b[1;32m   1305\u001b[0m                                    \u001b[0mfeed_dict\u001b[0m\u001b[0;34m,\u001b[0m \u001b[0mfetch_list\u001b[0m\u001b[0;34m,\u001b[0m \u001b[0mtarget_list\u001b[0m\u001b[0;34m,\u001b[0m\u001b[0;34m\u001b[0m\u001b[0m\n\u001b[0;32m-> 1306\u001b[0;31m                                    status, run_metadata)\n\u001b[0m\u001b[1;32m   1307\u001b[0m \u001b[0;34m\u001b[0m\u001b[0m\n\u001b[1;32m   1308\u001b[0m     \u001b[0;32mdef\u001b[0m \u001b[0m_prun_fn\u001b[0m\u001b[0;34m(\u001b[0m\u001b[0msession\u001b[0m\u001b[0;34m,\u001b[0m \u001b[0mhandle\u001b[0m\u001b[0;34m,\u001b[0m \u001b[0mfeed_dict\u001b[0m\u001b[0;34m,\u001b[0m \u001b[0mfetch_list\u001b[0m\u001b[0;34m)\u001b[0m\u001b[0;34m:\u001b[0m\u001b[0;34m\u001b[0m\u001b[0m\n",
      "\u001b[0;31mKeyboardInterrupt\u001b[0m: "
     ]
    }
   ],
   "source": [
    "BATCH_SIZE = 128\n",
    "for _ in range(1000):\n",
    "    batch_xs, batch_ys = mnist.train.next_batch(BATCH_SIZE)\n",
    "    opt_res, current_loss = sess.run([optimizer, loss], feed_dict={x_placeholder: batch_xs, y_placeholder: batch_ys})\n",
    "    print(current_loss)\n"
   ]
  },
  {
   "cell_type": "code",
   "execution_count": 30,
   "metadata": {},
   "outputs": [
    {
     "name": "stdout",
     "output_type": "stream",
     "text": [
      "809\n"
     ]
    }
   ],
   "source": [
    "TEST_BATCH_SIZE = 1000\n",
    "batch_xs, batch_ys = mnist.test.next_batch(TEST_BATCH_SIZE)\n",
    "predicted_chars = sess.run(predicted_class, feed_dict={x_placeholder: batch_xs})\n",
    "correct_predictions = 0\n",
    "for truechar, predictedchar in zip(batch_ys, predicted_chars):\n",
    "    if np.argmax(truechar) == np.argmax(predictedchar): # https://docs.scipy.org/doc/numpy/reference/generated/numpy.argmax.html\n",
    "        correct_predictions += 1\n",
    "print(correct_predictions)"
   ]
  },
  {
   "cell_type": "markdown",
   "metadata": {},
   "source": [
    "### Comparing to state of the art\n",
    "Although what we have right now seems pretty good, it's important to take a look at what the state of the art is doing: http://rodrigob.github.io/are_we_there_yet/build/\n",
    "\n",
    "As you can see we should not be happy with our results, and continue learning to improve our network. \n",
    "\n"
   ]
  },
  {
   "cell_type": "markdown",
   "metadata": {},
   "source": [
    "## Section 4 or 3?: from activations to probabilities: the softmax function\n",
    "A question I find way too often on Stackoverflow is how people can go from an activation in their final layer to a probability that the network is \"correct\". Imagine the network gives you the following activation: `[0.1, 0.3, 0.9, 0.4]`. We probably want guess the network predicted the 3rd class. There are several methods to 'normalize' this outcome. A popular way to do this with neural networks is the [softmax function, or 'normalized exponential function'](https://en.wikipedia.org/wiki/Softmax_function).\n",
    "\n",
    "The softmax function is: $Softmax(vector_i) \\frac{e^{vector_i}}{\\sum_j e^{vector_j} }$\n",
    "The softmax function is a great nonregularity to add to on the final layer of our neural network. \n",
    "\n",
    "If you are wondering why in particular the softmax function is such a good function, take a look at the [following Stackoverflow answer](https://stackoverflow.com/questions/17187507/why-use-softmax-as-opposed-to-standard-normalization). \n",
    "\n",
    "\n"
   ]
  },
  {
   "cell_type": "markdown",
   "metadata": {},
   "source": [
    "## Section 3: improving the network by understanding optimization functions\n",
    "Right now we used the mean squared error to determine our loss, and the gradient descent optimization function. \n",
    "\n",
    "### Loss functions\n",
    "Mean squared error not only gives a penalty for not being certain about the class you want, it also gives a penalty for being \"confused\" about another class. For many classification problems it turns out that it's beneficial to mostly penalise not being very certain about your prediction. \n",
    "\n",
    "The list with losses available in Tensorflow [can be found here.](https://www.tensorflow.org/api_docs/python/tf/losses) A short article about them can be found on [this site](https://www.tensorflow.org/api_guides/python/contrib.losses)\n",
    "\n",
    "A great article about why you should use cross-entropy loss can be [found here](https://jamesmccaffrey.wordpress.com/2013/11/05/why-you-should-use-cross-entropy-error-instead-of-classification-error-or-mean-squared-error-for-neural-network-classifier-training/). \n",
    "### Optimization functions"
   ]
  },
  {
   "cell_type": "markdown",
   "metadata": {},
   "source": [
    "## Section 5: Understanding and adding convolutional layers and comparing our performance to state of the art. "
   ]
  },
  {
   "cell_type": "code",
   "execution_count": null,
   "metadata": {
    "collapsed": true
   },
   "outputs": [],
   "source": []
  },
  {
   "cell_type": "markdown",
   "metadata": {},
   "source": [
    "One thing we can easily change is the activation function of our network. In [this paper]( https://arxiv.org/abs/1502.01852) authors attempt to solve a more difficult problem: imagenet. In this competition you see many images, and you have to guess what's in the image. To improve upon the state of the art they compare several activation functions. "
   ]
  },
  {
   "cell_type": "code",
   "execution_count": null,
   "metadata": {
    "collapsed": true
   },
   "outputs": [],
   "source": []
  }
 ],
 "metadata": {
  "kernelspec": {
   "display_name": "Python 3",
   "language": "python",
   "name": "python3"
  },
  "language_info": {
   "codemirror_mode": {
    "name": "ipython",
    "version": 3
   },
   "file_extension": ".py",
   "mimetype": "text/x-python",
   "name": "python",
   "nbconvert_exporter": "python",
   "pygments_lexer": "ipython3",
   "version": "3.5.2"
  }
 },
 "nbformat": 4,
 "nbformat_minor": 2
}
