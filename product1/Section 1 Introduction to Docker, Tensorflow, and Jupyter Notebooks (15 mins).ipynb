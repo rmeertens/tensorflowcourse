{
 "cells": [
  {
   "cell_type": "markdown",
   "metadata": {},
   "source": [
    "# The Dataset Driven Approach to Building Neural Networks with Tensorflow \n",
    "\n",
    "Thank you for downloading this notebook. This means you are subscribed to my first online course: a dataset driven approach to building neural networks with Tensorflow. \n"
   ]
  },
  {
   "cell_type": "markdown",
   "metadata": {},
   "source": [
    "## Section 1: solving public datasets and your own sets: is deep learning a science or an art?\n",
    "\n",
    "Reference to this [paper from 1994](http://dl.acm.org/citation.cfm?id=181522). \n"
   ]
  },
  {
   "cell_type": "markdown",
   "metadata": {
    "collapsed": true
   },
   "source": [
    "## Section 2: why we use Docker, and installation instruction\n",
    "\n"
   ]
  },
  {
   "cell_type": "markdown",
   "metadata": {
    "collapsed": true
   },
   "source": [
    "## Installation\n",
    "We use Docker, super awesome stuff\n",
    "\n",
    "### Windows 10\n",
    "\n",
    "### OSX\n",
    " \n",
    "### Linux\n",
    "\n",
    "### Windows 7\n",
    "\n"
   ]
  },
  {
   "cell_type": "markdown",
   "metadata": {},
   "source": [
    "## Section 3: where to find the Jupyter notebook, code, etc. "
   ]
  },
  {
   "cell_type": "markdown",
   "metadata": {},
   "source": [
    "## Section 4: Understanding Tensorflow\n",
    "\n",
    "Tensorflow is a XXX based tool. Normally in Python everything you type with variables is evaluated immediately: \n"
   ]
  },
  {
   "cell_type": "code",
   "execution_count": 1,
   "metadata": {},
   "outputs": [
    {
     "name": "stdout",
     "output_type": "stream",
     "text": [
      "3.0\n"
     ]
    }
   ],
   "source": [
    "a = 1.0\n",
    "b = 2.0\n",
    "c = a + b\n",
    "print(c)"
   ]
  },
  {
   "cell_type": "markdown",
   "metadata": {},
   "source": [
    "In Tensorflow this is different: you first define the variables in a graph, and the operations in this graph. You then 'compile' and build up this graph, and evaluate it in a session you defined:\n"
   ]
  },
  {
   "cell_type": "code",
   "execution_count": 2,
   "metadata": {},
   "outputs": [
    {
     "name": "stdout",
     "output_type": "stream",
     "text": [
      "Tensor(\"Const:0\", shape=(), dtype=float32)\n",
      "Tensor(\"Const_1:0\", shape=(), dtype=float32)\n",
      "Tensor(\"mul:0\", shape=(), dtype=float32)\n",
      "2.0\n"
     ]
    }
   ],
   "source": [
    "import tensorflow as tf\n",
    "# Example from here: https://www.tensorflow.org/api_docs/python/tf/Session\n",
    "# Build a graph.\n",
    "a = tf.constant(1.0)\n",
    "b = tf.constant(2.0)\n",
    "c = a * b\n",
    "print(a)\n",
    "print(b)\n",
    "print(c)\n",
    "\n",
    "# Launch the graph in a session.\n",
    "sess = tf.Session()\n",
    "# Evaluate the tensor `c`.\n",
    "print(sess.run(c))\n",
    "\n"
   ]
  },
  {
   "cell_type": "code",
   "execution_count": 3,
   "metadata": {
    "collapsed": true
   },
   "outputs": [],
   "source": [
    "sess.run?"
   ]
  },
  {
   "cell_type": "code",
   "execution_count": 4,
   "metadata": {
    "collapsed": true
   },
   "outputs": [],
   "source": [
    "import numpy as np\n"
   ]
  },
  {
   "cell_type": "code",
   "execution_count": 5,
   "metadata": {},
   "outputs": [
    {
     "name": "stdout",
     "output_type": "stream",
     "text": [
      "[[ 0.70393472  0.51152581  0.58675583]\n",
      " [ 0.91018351  0.56399951  0.44546657]]\n",
      "[[ 0.39655651  0.25052009  0.85010918]\n",
      " [ 0.76321046  0.92673495  0.86829131]]\n",
      "[[ 1.10049123  0.76204589  1.436865  ]\n",
      " [ 1.67339397  1.49073446  1.31375789]]\n"
     ]
    }
   ],
   "source": [
    "matrix_a = np.random.rand(2,3)\n",
    "matrix_b = np.random.rand(2,3)\n",
    "matrix_c = matrix_a + matrix_b\n",
    "print(matrix_a)\n",
    "print(matrix_b)\n",
    "print(matrix_c)\n",
    "\n",
    "\n"
   ]
  },
  {
   "cell_type": "code",
   "execution_count": 6,
   "metadata": {},
   "outputs": [
    {
     "name": "stdout",
     "output_type": "stream",
     "text": [
      "<tf.Variable 'matrix_a:0' shape=(2, 3) dtype=float32_ref>\n",
      "<tf.Variable 'matrix_b:0' shape=(2, 3) dtype=float32_ref>\n",
      "Tensor(\"add:0\", shape=(2, 3), dtype=float32)\n",
      "EXCEPTION!\n",
      "Attempting to use uninitialized value matrix_a\n",
      "\t [[Node: _retval_matrix_a_0_0 = _Retval[T=DT_FLOAT, index=0, _device=\"/job:localhost/replica:0/task:0/cpu:0\"](matrix_a)]]\n"
     ]
    }
   ],
   "source": [
    "matrix_a = tf.Variable(tf.random_uniform([2, 3]), name=\"matrix_a\")\n",
    "matrix_b = tf.Variable(tf.random_uniform([2, 3]), name=\"matrix_b\")\n",
    "matrix_c = matrix_a + matrix_b\n",
    "\n",
    "print(matrix_a)\n",
    "print(matrix_b)\n",
    "print(matrix_c)\n",
    "try:\n",
    "    print(sess.run(matrix_a))\n",
    "    print(sess.run(matrix_b))\n",
    "    print(sess.run(matrix_c))\n",
    "except Exception as e:\n",
    "    print(\"EXCEPTION!\")\n",
    "    print(e)\n",
    "\n"
   ]
  },
  {
   "cell_type": "markdown",
   "metadata": {},
   "source": [
    "Looks like Tensorflow does not like what we are doing. Before using anything from the graph you have to initialise the graph:"
   ]
  },
  {
   "cell_type": "code",
   "execution_count": 7,
   "metadata": {},
   "outputs": [
    {
     "name": "stdout",
     "output_type": "stream",
     "text": [
      "name: \"init\"\n",
      "op: \"NoOp\"\n",
      "input: \"^matrix_a/Assign\"\n",
      "input: \"^matrix_b/Assign\"\n",
      "\n",
      "[[ 0.74558568  0.69464195  0.53896284]\n",
      " [ 0.97363114  0.30603969  0.69910371]]\n",
      "[[ 0.39540875  0.32313693  0.55544686]\n",
      " [ 0.4022845   0.3200599   0.35239327]]\n",
      "[[ 1.14099443  1.01777887  1.0944097 ]\n",
      " [ 1.37591565  0.62609959  1.05149698]]\n"
     ]
    }
   ],
   "source": [
    "init = tf.global_variables_initializer() # https://www.tensorflow.org/api_docs/python/tf/global_variables_initializer\n",
    "print(init)\n",
    "sess = tf.Session() # https://www.tensorflow.org/api_docs/python/tf/Session\n",
    "sess.run(init)\n",
    "print(sess.run(matrix_a))\n",
    "print(sess.run(matrix_b))\n",
    "print(sess.run(matrix_c))"
   ]
  },
  {
   "cell_type": "markdown",
   "metadata": {},
   "source": [
    "### Placeholders\n",
    "Now you know how to play with static data we are going to make it a little bit more interesting, and start working with placeholders. \n",
    "\n",
    "Let's say we want to add one to each element in the following matrix: \n",
    "\n",
    "\\begin{matrix}\n",
    "1 & 2 \\\\\n",
    "3 & 4 \\\\\n",
    "5 & 6\n",
    "\\end{matrix}\n",
    "\n",
    "Here is how we do this with numpy: \n"
   ]
  },
  {
   "cell_type": "code",
   "execution_count": 8,
   "metadata": {},
   "outputs": [
    {
     "name": "stdout",
     "output_type": "stream",
     "text": [
      "[[1 2]\n",
      " [3 4]\n",
      " [5 6]]\n",
      "[[ 1.  1.]\n",
      " [ 1.  1.]\n",
      " [ 1.  1.]]\n",
      "[[ 2.  3.]\n",
      " [ 4.  5.]\n",
      " [ 6.  7.]]\n"
     ]
    }
   ],
   "source": [
    "our_matrix = np.array([[1,2],[3,4],[5,6]])\n",
    "to_add_matrix = np.ones([3,2])\n",
    "result_matrix = our_matrix + to_add_matrix\n",
    "print(our_matrix)\n",
    "print(to_add_matrix)\n",
    "print(result_matrix)"
   ]
  },
  {
   "cell_type": "code",
   "execution_count": 9,
   "metadata": {
    "scrolled": false
   },
   "outputs": [
    {
     "name": "stdout",
     "output_type": "stream",
     "text": [
      "Tensor(\"input_placeholder:0\", shape=(3, 2), dtype=int32)\n",
      "ERROR!\n",
      "Tensor conversion requested dtype int32 for Tensor with dtype float32: 'Tensor(\"ones:0\", shape=(3, 2), dtype=float32)'\n",
      "Tensor(\"add_2:0\", shape=(3, 2), dtype=int32)\n",
      "----------\n",
      "[[2 3]\n",
      " [4 5]\n",
      " [6 7]]\n"
     ]
    }
   ],
   "source": [
    "# Now with Tensorflow this would look like: \n",
    "input_shape = [3,2]\n",
    "inputplaceholder = tf.placeholder(dtype=tf.int32, shape=input_shape, name=\"input_placeholder\") # https://www.tensorflow.org/api_docs/python/tf/placeholder\n",
    "print(inputplaceholder)\n",
    "toadd = tf.ones(input_shape) # https://www.tensorflow.org/api_guides/python/constant_op\n",
    "try:\n",
    "    together = inputplaceholder + toadd\n",
    "    print(together)\n",
    "except Exception as e:\n",
    "    print(\"ERROR!\")\n",
    "    print(e)\n",
    "\n",
    "## Now correct: \n",
    "toadd = tf.ones(input_shape,dtype=tf.int32)\n",
    "together = inputplaceholder + toadd\n",
    "print(together)\n",
    "\n",
    "init = tf.global_variables_initializer() # https://www.tensorflow.org/api_docs/python/tf/global_variables_initializer\n",
    "sess = tf.Session() # https://www.tensorflow.org/api_docs/python/tf/Session\n",
    "sess.run(init)\n",
    "result = sess.run(together, feed_dict={inputplaceholder: our_matrix})\n",
    "print('-'*10)\n",
    "print(result)\n",
    "\n",
    "\n",
    "\n",
    "\n",
    "\n",
    "\n",
    "\n"
   ]
  },
  {
   "cell_type": "markdown",
   "metadata": {
    "collapsed": true
   },
   "source": [
    "\n",
    "https://github.com/tensorflow/tensorflow/blob/master/tensorflow/python/framework/dtypes.py\n",
    "The following `DType` objects are defined:\n",
    "  * `tf.float16`: 16-bit half-precision floating-point.\n",
    "  * `tf.float32`: 32-bit single-precision floating-point.\n",
    "  * `tf.float64`: 64-bit double-precision floating-point.\n",
    "  * `tf.bfloat16`: 16-bit truncated floating-point.\n",
    "  * `tf.complex64`: 64-bit single-precision complex.\n",
    "  * `tf.complex128`: 128-bit double-precision complex.\n",
    "  * `tf.int8`: 8-bit signed integer.\n",
    "  * `tf.uint8`: 8-bit unsigned integer.\n",
    "  * `tf.uint16`: 16-bit unsigned integer.\n",
    "  * `tf.int16`: 16-bit signed integer.\n",
    "  * `tf.int32`: 32-bit signed integer.\n",
    "  * `tf.int64`: 64-bit signed integer.\n",
    "  * `tf.bool`: Boolean.\n",
    "  * `tf.string`: String.\n",
    "  * `tf.qint8`: Quantized 8-bit signed integer.\n",
    "  * `tf.quint8`: Quantized 8-bit unsigned integer.\n",
    "  * `tf.qint16`: Quantized 16-bit signed integer.\n",
    "  * `tf.quint16`: Quantized 16-bit unsigned integer.\n",
    "  * `tf.qint32`: Quantized 32-bit signed integer.\n",
    "  * `tf.resource`: Handle to a mutable resource.\n",
    "  * `tf.variant`: Values of arbitrary types.\n"
   ]
  },
  {
   "cell_type": "markdown",
   "metadata": {},
   "source": [
    "Now we did this operation once, but if we want to perform this operation with multiple types of input data we keep defining what the input is. Instead we define what we have as input, and a series of operations on this data:\n",
    "\n",
    "\n"
   ]
  }
 ],
 "metadata": {
  "kernelspec": {
   "display_name": "Python 3",
   "language": "python",
   "name": "python3"
  },
  "language_info": {
   "codemirror_mode": {
    "name": "ipython",
    "version": 3
   },
   "file_extension": ".py",
   "mimetype": "text/x-python",
   "name": "python",
   "nbconvert_exporter": "python",
   "pygments_lexer": "ipython3",
   "version": "3.5.2"
  }
 },
 "nbformat": 4,
 "nbformat_minor": 2
}
