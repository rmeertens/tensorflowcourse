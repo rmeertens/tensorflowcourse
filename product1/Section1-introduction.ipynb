{
 "cells": [
  {
   "cell_type": "markdown",
   "metadata": {},
   "source": [
    "# Introduction Tensorflow course by Roland Meertens\n",
    "\n",
    "## Installation\n",
    "We use Docker, super awesome stuff\n",
    "\n",
    "### Windows 10\n",
    "\n",
    "### OSX\n",
    " \n",
    "### Linux\n",
    "\n",
    "### Windows 7\n",
    "\n",
    "## Using a Jupyter notebook\n"
   ]
  },
  {
   "cell_type": "code",
   "execution_count": null,
   "metadata": {
    "collapsed": true
   },
   "outputs": [],
   "source": []
  }
 ],
 "metadata": {
  "kernelspec": {
   "display_name": "Python 3",
   "language": "python",
   "name": "python3"
  },
  "language_info": {
   "codemirror_mode": {
    "name": "ipython",
    "version": 3
   },
   "file_extension": ".py",
   "mimetype": "text/x-python",
   "name": "python",
   "nbconvert_exporter": "python",
   "pygments_lexer": "ipython3",
   "version": "3.5.2"
  }
 },
 "nbformat": 4,
 "nbformat_minor": 2
}
