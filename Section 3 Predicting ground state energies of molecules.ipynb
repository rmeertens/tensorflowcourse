{
 "cells": [
  {
   "cell_type": "markdown",
   "metadata": {},
   "source": [
    "# Section 3: predicting the ground state energy of molecules\n",
    "\n",
    "In chapter 1 we learned that Tensorflow does all its computations in its graph, that you first have to define. In chapter 2 we made or first neural network, and made a very simple classifier for the iris dataset. \n",
    "\n",
    "This chapter we are going to make our neural network more interesting. We are going to [predict the ground state energies of molecules](https://www.kaggle.com/haimfeld87/prediction-of-ground-state-energies-of-molecules). \n",
    "\n",
    "http://web.stanford.edu/class/cs20si/lectures/notes_09.pdf"
   ]
  },
  {
   "cell_type": "markdown",
   "metadata": {},
   "source": [
    "## Video 1: downloading the data, visualising it \n",
    "Welcome to section 3 of our course. In this section we are going to predict the [ground state energies of molecules](https://www.kaggle.com/haimfeld87/prediction-of-ground-state-energies-of-molecules). \n",
    "\n",
    "In a [blogpost and paper the author explains what kind of data we are working with](https://burakhimmetoglu.com/machine-learning-meets-quantum-mechanics/). An interesting quote is: \n",
    "> This peculiar nonlinear dependence is impossible to model with simple linear models, thus learning algorithms such as neural networks and boosted regression trees are a perfect match for such a task.\n",
    "\n",
    "Below we will start visualising our data, and you will see that it's difficult for yourself to intuitively predict what the ground energy state of the molecules will be. This makes this dataset a great challenge for us. \n",
    "![Vis ground energy state](http://www.pinchofintelligence.com/wp-content/uploads/2017/08/ground-energies.png)\n",
    "\n",
    "\n",
    "\n",
    "I imagine that the author is also quite happy with us, as he states:\n",
    "> I am looking for Kagglers to find the best model and reduce mean squared error as much as possible!\n",
    "\n",
    "Looks like we now know the function we have to minimise. \n",
    "\n",
    "\n"
   ]
  },
  {
   "cell_type": "markdown",
   "metadata": {},
   "source": [
    "## Downloading and loading data\n",
    "The data is here: https://www.kaggle.com/burakhmmtgl/energy-molecule\n",
    "Download it, unzip it, and place it in the datasets folder...\n",
    "\n",
    "Image called downloaddata1.png here...\n",
    "\n",
    "To load the data I'm going to use a [package called Pandas](http://pandas.pydata.org/). This package is great for reading datasets, and getting an initial understanding of what you are working with. Although we are not doing to discuss all features Pandas has, I just want you to use it one time, and know that it's out there. Pandas is already installed in the Docker image I provided, so let's dive right in: "
   ]
  },
  {
   "cell_type": "code",
   "execution_count": 45,
   "metadata": {
    "collapsed": true
   },
   "outputs": [],
   "source": [
    "import pandas as pd\n",
    "df = pd.read_csv('datasets/energy-molecule/roboBohr.csv')"
   ]
  },
  {
   "cell_type": "code",
   "execution_count": 46,
   "metadata": {},
   "outputs": [
    {
     "name": "stdout",
     "output_type": "stream",
     "text": [
      "   Unnamed: 0          0          1          2          3          4  \\\n",
      "0           0  73.516695  17.817765  12.469551  12.458130  12.454607   \n",
      "1           1  73.516695  20.649126  18.527789  17.891535  17.887995   \n",
      "2           2  73.516695  17.830377  12.512263  12.404775  12.394493   \n",
      "3           3  73.516695  17.875810  17.871259  17.862402  17.850920   \n",
      "4           4  73.516695  17.883818  17.868256  17.864221  17.818540   \n",
      "\n",
      "           5          6          7          8    ...      1267  1268  1269  \\\n",
      "0  12.447345  12.433065  12.426926  12.387474    ...       0.0   0.0   0.5   \n",
      "1  17.871731  17.852586  17.729842  15.864270    ...       0.0   0.0   0.0   \n",
      "2  12.391564  12.324461  12.238106  10.423249    ...       0.0   0.0   0.0   \n",
      "3  17.850440  12.558105  12.557645  12.517583    ...       0.0   0.0   0.0   \n",
      "4  12.508657  12.490519  12.450098  10.597068    ...       0.0   0.0   0.0   \n",
      "\n",
      "   1270  1271  1272  1273  1274  pubchem_id        Eat  \n",
      "0   0.0   0.0   0.0   0.0   0.0       25004 -19.013763  \n",
      "1   0.0   0.0   0.0   0.0   0.0       25005 -10.161019  \n",
      "2   0.0   0.0   0.0   0.0   0.0       25006  -9.376619  \n",
      "3   0.0   0.0   0.0   0.0   0.0       25009 -13.776438  \n",
      "4   0.0   0.0   0.0   0.0   0.0       25011  -8.537140  \n",
      "\n",
      "[5 rows x 1278 columns]\n"
     ]
    }
   ],
   "source": [
    "# print(df)\n",
    "print(df.head(5))\n"
   ]
  },
  {
   "cell_type": "markdown",
   "metadata": {},
   "source": [
    "What we are going to predict is the variable in the last axis, called Eat. To do this we are going to use all features, except for the ID, and the pubchem_id. Let's use pandas to remove these columns: "
   ]
  },
  {
   "cell_type": "code",
   "execution_count": 3,
   "metadata": {
    "collapsed": true
   },
   "outputs": [],
   "source": [
    "\n",
    "df = df.drop(['Unnamed: 0', 'pubchem_id'], axis = 1)\n"
   ]
  },
  {
   "cell_type": "markdown",
   "metadata": {},
   "source": [
    "Now we can also check if there is any missing data: \n",
    "\n"
   ]
  },
  {
   "cell_type": "code",
   "execution_count": 4,
   "metadata": {},
   "outputs": [
    {
     "data": {
      "text/plain": [
       "0"
      ]
     },
     "execution_count": 4,
     "metadata": {},
     "output_type": "execute_result"
    }
   ],
   "source": [
    "df.isnull().sum().sum()"
   ]
  },
  {
   "cell_type": "code",
   "execution_count": 5,
   "metadata": {
    "collapsed": true
   },
   "outputs": [],
   "source": [
    "X = df.drop(['Eat'], axis = 1)\n",
    "Y = df['Eat']"
   ]
  },
  {
   "cell_type": "markdown",
   "metadata": {},
   "source": [
    "It's always a good idea to visualise your data. One way to do this is building a scatter plot: \n"
   ]
  },
  {
   "cell_type": "code",
   "execution_count": 6,
   "metadata": {},
   "outputs": [
    {
     "data": {
      "image/png": "[encoded data removed]",
      "text/plain": [
       "<matplotlib.figure.Figure at 0x7fabfc36ecc0>"
      ]
     },
     "metadata": {},
     "output_type": "display_data"
    },
    {
     "data": {
      "image/png": "[encoded data removed]",
      "text/plain": [
       "<matplotlib.figure.Figure at 0x7fabf00a15f8>"
      ]
     },
     "metadata": {},
     "output_type": "display_data"
    },
    {
     "data": {
      "image/png": "[encoded data removed]",
      "text/plain": [
       "<matplotlib.figure.Figure at 0x7fabd05642e8>"
      ]
     },
     "metadata": {},
     "output_type": "display_data"
    }
   ],
   "source": [
    "%matplotlib inline\n",
    "import matplotlib.pyplot as plt\n",
    "for x in range(3):\n",
    "    \n",
    "    df.plot.scatter(x,x+1,c=-1, colormap=plt.get_cmap('CMRmap'))\n",
    "    plt.show()\n",
    "df.plot.scatter?"
   ]
  },
  {
   "cell_type": "markdown",
   "metadata": {},
   "source": [
    "### Splitting our data\n",
    "Like we learned in our previous chapter, it's a good idea to split our data. "
   ]
  },
  {
   "cell_type": "code",
   "execution_count": 7,
   "metadata": {},
   "outputs": [
    {
     "name": "stdout",
     "output_type": "stream",
     "text": [
      "16242\n",
      "12993\n",
      "3249\n"
     ]
    }
   ],
   "source": [
    "from sklearn.model_selection import train_test_split\n",
    "print(len(X))\n",
    "X_train, X_test, Y_train, Y_test = train_test_split(X, Y, test_size = 0.2, random_state = 1)\n",
    "print(len(X_train))\n",
    "print(len(X_test))\n",
    "\n",
    "datasetX = X_train.values\n",
    "datasetY = Y_train.values\n",
    "#print(datasetX.shape)\n",
    "#print(datasetY.shape)\n",
    "#print(datasetY)"
   ]
  },
  {
   "cell_type": "markdown",
   "metadata": {},
   "source": [
    "## Video 2: first approach - easy layer building"
   ]
  },
  {
   "cell_type": "markdown",
   "metadata": {},
   "source": [
    "Let's start with manually constructing our network again, just like we did in section 1. \n",
    "\n",
    "## Simplifying layer building\n",
    "In chapter 1 we made our network using the following code: \n",
    "\n"
   ]
  },
  {
   "cell_type": "code",
   "execution_count": 8,
   "metadata": {
    "collapsed": true
   },
   "outputs": [],
   "source": [
    "import tensorflow as tf\n",
    "\n",
    "n_input = 1275\n",
    "n_output = 1\n",
    "inputplaceholder = tf.placeholder(dtype=tf.float32, shape=[None, n_input], name=\"inputplaceholder\")\n",
    "\n",
    "## This code can be simplified:\n",
    "weights = tf.Variable(tf.random_normal([n_input, n_output]))\n",
    "biases = tf.Variable(tf.zeros([n_output]))\n",
    "layer_1 = tf.matmul(inputplaceholder, weights)\n",
    "layer_2 = tf.add(layer_1, biases)\n",
    "outputlayer = tf.nn.sigmoid(layer_2)\n",
    "\n",
    "## Which we can simplify to, but this still is 3 lines...: \n",
    "weights = tf.Variable(tf.random_normal([n_input, n_output]))\n",
    "biases = tf.Variable(tf.zeros([n_output]))\n",
    "outputlayer = tf.nn.sigmoid(tf.add(tf.matmul(inputplaceholder, weights), biases))\n"
   ]
  },
  {
   "cell_type": "markdown",
   "metadata": {},
   "source": [
    "Still, typing this out for a big neural network is a lot of work, and it's easy to make errors. This is why you can build functions that perform the same thing for you. \n",
    "\n",
    "You can also use the higher level functions already available in Tensorflow. You can make the same thing using: \n",
    "\n",
    "`tf.layers.dense(inputs=inputplaceholder, units=3, activation=tf.nn.sigmoid, name=\"single_layer_neural_network\") `\n",
    "\n",
    "Another option you might want to consider is the Keras python package. Keras is a high-level API definition for neural networks. It uses Tensorflow as backend to build its functions on. A neural network even more complex than in chapter two can be made like this: \n",
    "![keras logo](https://upload.wikimedia.org/wikipedia/commons/c/c9/Keras_Logo.jpg)\n",
    "![tensorflow logo](https://upload.wikimedia.org/wikipedia/commons/thumb/2/2d/Tensorflow_logo.svg/1000px-Tensorflow_logo.svg.png)"
   ]
  },
  {
   "cell_type": "code",
   "execution_count": 9,
   "metadata": {},
   "outputs": [
    {
     "name": "stderr",
     "output_type": "stream",
     "text": [
      "Using TensorFlow backend.\n"
     ]
    }
   ],
   "source": [
    "from keras.models import Sequential\n",
    "from keras.layers import Dense, Activation\n",
    "\n",
    "model = Sequential()\n",
    "model.add(Dense(units=3, input_dim=4))\n",
    "model.add(Activation('sigmoid'))\n",
    "model.compile(loss='categorical_crossentropy',optimizer='sgd',metrics=['accuracy'])\n"
   ]
  },
  {
   "cell_type": "markdown",
   "metadata": {},
   "source": [
    "### Why stick to Tensorflow\n",
    "It's very likely that for your specific application Keras is good enough (95% sure). However, Tensorflow as been adapting the Keras API specifications, and thus Tensorflow can do roughly the same as Keras. The reason to stick to Tensorflow is that it offers a LOT of extra functionality, which will come in handy for the \"strange\" applications you want to build. \n",
    "\n",
    "Let's create a simple single-layer neural network for our new dataset!"
   ]
  },
  {
   "cell_type": "code",
   "execution_count": 10,
   "metadata": {
    "collapsed": true
   },
   "outputs": [],
   "source": [
    "import tensorflow as tf\n",
    "import numpy as np"
   ]
  },
  {
   "cell_type": "code",
   "execution_count": 11,
   "metadata": {},
   "outputs": [
    {
     "name": "stdout",
     "output_type": "stream",
     "text": [
      "Tensor(\"first_dense_layer/Sigmoid:0\", shape=(?, 512), dtype=float32)\n",
      "Tensor(\"prediction_dense_layer/BiasAdd:0\", shape=(?, 1), dtype=float32)\n",
      "Tensor(\"mean_squared_error/value:0\", shape=(), dtype=float32)\n",
      "Optimizer: --------\n",
      "name: \"GradientDescent\"\n",
      "op: \"NoOp\"\n",
      "input: \"^GradientDescent/update_first_dense_layer/kernel/ApplyGradientDescent\"\n",
      "input: \"^GradientDescent/update_first_dense_layer/bias/ApplyGradientDescent\"\n",
      "input: \"^GradientDescent/update_prediction_dense_layer/kernel/ApplyGradientDescent\"\n",
      "input: \"^GradientDescent/update_prediction_dense_layer/bias/ApplyGradientDescent\"\n",
      "\n"
     ]
    }
   ],
   "source": [
    "LEARNING_RATE = 0.05\n",
    "tf.reset_default_graph()\n",
    "input_pl = tf.placeholder(dtype=tf.float32, shape=[None, 1275], name=\"inputplaceholder\")\n",
    "output_pl = tf.placeholder(dtype=tf.float32, shape=[None, 1], name=\"userdefinedoutput\")\n",
    "\n",
    "## Add layers\n",
    "dense = tf.layers.dense(inputs=input_pl,\n",
    "                       units=512,\n",
    "                       activation=tf.nn.sigmoid,\n",
    "                       name=\"first_dense_layer\")\n",
    "network_prediction = tf.layers.dense(inputs=dense, \n",
    "                                    units=1,\n",
    "                                    activation=None,\n",
    "                                    name=\"prediction_dense_layer\")\n",
    "\n",
    "\n",
    "print(dense)\n",
    "print(network_prediction)\n",
    "loss = tf.losses.mean_squared_error(output_pl,network_prediction)\n",
    "optimizer = tf.train.GradientDescentOptimizer(LEARNING_RATE).minimize(loss)\n",
    "\n",
    "print(loss)\n",
    "print(\"Optimizer: --------\")\n",
    "print(optimizer)\n"
   ]
  },
  {
   "cell_type": "code",
   "execution_count": 12,
   "metadata": {
    "collapsed": true
   },
   "outputs": [],
   "source": [
    "init = tf.global_variables_initializer() # https://www.tensorflow.org/api_docs/python/tf/global_variables_initializer\n",
    "sess = tf.Session() # https://www.tensorflow.org/api_docs/python/tf/Session\n",
    "sess.run(init)"
   ]
  },
  {
   "cell_type": "markdown",
   "metadata": {},
   "source": [
    "This gives us this network: \n",
    "![network](http://www.pinchofintelligence.com/wp-content/uploads/2017/09/two-layer-regression.png)"
   ]
  },
  {
   "cell_type": "code",
   "execution_count": 13,
   "metadata": {},
   "outputs": [
    {
     "name": "stdout",
     "output_type": "stream",
     "text": [
      "187.167\n",
      "38840.5\n",
      "1.11099e+07\n",
      "2.66227e+09\n",
      "5.71282e+11\n",
      "1.21774e+14\n",
      "2.56257e+16\n",
      "5.53746e+18\n",
      "1.18139e+21\n",
      "2.03017e+23\n",
      "5.00417e+25\n",
      "1.23348e+28\n",
      "3.0404e+30\n",
      "7.49427e+32\n",
      "1.84726e+35\n",
      "inf\n",
      "inf\n",
      "inf\n",
      "nan\n",
      "nan\n",
      "nan\n",
      "nan\n",
      "nan\n",
      "nan\n",
      "nan\n",
      "nan\n",
      "nan\n",
      "nan\n",
      "nan\n",
      "nan\n",
      "nan\n",
      "nan\n",
      "nan\n",
      "nan\n",
      "nan\n",
      "nan\n",
      "nan\n",
      "nan\n",
      "nan\n",
      "nan\n",
      "nan\n",
      "nan\n",
      "nan\n",
      "nan\n",
      "nan\n",
      "nan\n",
      "nan\n",
      "nan\n",
      "nan\n",
      "nan\n",
      "nan\n",
      "nan\n",
      "nan\n",
      "nan\n",
      "nan\n",
      "nan\n",
      "nan\n",
      "nan\n",
      "nan\n",
      "nan\n",
      "nan\n",
      "nan\n",
      "nan\n",
      "nan\n",
      "nan\n",
      "nan\n",
      "nan\n",
      "nan\n",
      "nan\n",
      "nan\n",
      "nan\n",
      "nan\n",
      "nan\n",
      "nan\n",
      "nan\n",
      "nan\n",
      "nan\n",
      "nan\n",
      "nan\n",
      "nan\n",
      "nan\n",
      "nan\n",
      "nan\n",
      "nan\n",
      "nan\n",
      "nan\n",
      "nan\n",
      "nan\n",
      "nan\n",
      "nan\n",
      "nan\n",
      "nan\n",
      "nan\n",
      "nan\n",
      "nan\n",
      "nan\n",
      "nan\n",
      "nan\n",
      "nan\n",
      "nan\n"
     ]
    }
   ],
   "source": [
    "import random\n",
    "\n",
    "zipped = list(zip(datasetX, datasetY))\n",
    "\n",
    "BATCH_SIZE = 32\n",
    "for _ in range(100):\n",
    "    datax = list()\n",
    "    datay = list()\n",
    "    for _ in range(BATCH_SIZE):\n",
    "        samp = random.choice(zipped)\n",
    "        datax.append(samp[0])\n",
    "        datay.append([samp[1]])\n",
    "    \n",
    "    ## Run the training\n",
    "    _, l = sess.run([optimizer, loss], \n",
    "                   feed_dict={input_pl: datax,\n",
    "                             output_pl: datay})\n",
    "    print(l)"
   ]
  },
  {
   "cell_type": "markdown",
   "metadata": {},
   "source": [
    "### Adjusting the learning rate\n",
    "As you can see above our loss becomes HIGHER instead of lower. About once a week I see somebody on Stackoverflow ask why this is happening, and why their network is giving nan as output. The answer is: they have to adjust their learning rate.\n",
    "\n",
    "![LR](http://www.pinchofintelligence.com/wp-content/uploads/2017/09/Learning-rates.png)\n",
    "\n",
    "A nice analogy I like to use is one in which we are walking through misty mountains, and want to reach the deepest valley. Every 5 minutes we determine based on our small observation what path leads down, and continue that way. If we did this every second we could never leave small valleys. If we only did this every day we might walk right out of the valley again...\n",
    "\n",
    "Let's adjust our learning rate tenfold every time till our network is able to learn something. "
   ]
  },
  {
   "cell_type": "code",
   "execution_count": 14,
   "metadata": {
    "collapsed": true
   },
   "outputs": [],
   "source": [
    "LEARNING_RATE = 0.00005\n",
    "optimizer = tf.train.GradientDescentOptimizer(LEARNING_RATE).minimize(loss)\n",
    "\n",
    "init = tf.global_variables_initializer() # https://www.tensorflow.org/api_docs/python/tf/global_variables_initializer\n",
    "sess = tf.Session() # https://www.tensorflow.org/api_docs/python/tf/Session\n",
    "sess.run(init)"
   ]
  },
  {
   "cell_type": "code",
   "execution_count": 15,
   "metadata": {},
   "outputs": [
    {
     "name": "stdout",
     "output_type": "stream",
     "text": [
      "106.954\n",
      "105.216\n",
      "79.2907\n",
      "75.3359\n",
      "89.2597\n",
      "62.6028\n",
      "72.421\n",
      "50.2546\n",
      "46.7394\n",
      "38.2949\n",
      "38.6664\n",
      "30.5396\n",
      "27.1311\n",
      "38.0961\n",
      "31.3437\n",
      "42.0582\n",
      "30.5723\n",
      "36.3344\n",
      "24.1574\n",
      "30.4573\n",
      "19.6486\n",
      "17.5223\n",
      "23.8592\n",
      "28.7923\n",
      "17.1434\n",
      "12.3151\n",
      "31.0644\n",
      "14.3113\n",
      "13.017\n",
      "23.6806\n",
      "14.6158\n",
      "17.8416\n",
      "23.1477\n",
      "19.5545\n",
      "16.5526\n",
      "8.35441\n",
      "9.78089\n",
      "11.3657\n",
      "9.33397\n",
      "13.7784\n",
      "7.55341\n",
      "13.0246\n",
      "11.6124\n",
      "9.9594\n",
      "9.96226\n",
      "10.3868\n",
      "7.7159\n",
      "8.85328\n",
      "9.19719\n",
      "12.0765\n",
      "7.90184\n",
      "8.55956\n",
      "11.0374\n",
      "13.0951\n",
      "8.9904\n",
      "7.75014\n",
      "3.75743\n",
      "11.0212\n",
      "5.37716\n",
      "8.01083\n",
      "7.20496\n",
      "8.36171\n",
      "7.95806\n",
      "6.76659\n",
      "9.59142\n",
      "9.027\n",
      "15.0911\n",
      "10.8495\n",
      "10.3141\n",
      "17.2026\n",
      "12.0135\n",
      "12.4934\n",
      "8.44877\n",
      "8.99654\n",
      "6.74648\n",
      "8.64727\n",
      "10.2836\n",
      "12.8117\n",
      "8.00968\n",
      "7.89298\n",
      "4.18806\n",
      "12.3356\n",
      "9.76318\n",
      "6.85324\n",
      "14.4945\n",
      "4.80288\n",
      "11.9677\n",
      "6.3792\n",
      "8.99085\n",
      "9.5233\n",
      "9.23116\n",
      "10.5972\n",
      "8.60258\n",
      "11.0261\n",
      "7.67553\n",
      "3.04285\n",
      "8.78069\n",
      "8.85864\n",
      "6.62143\n",
      "11.1791\n",
      "6.69871\n",
      "10.7182\n",
      "8.10847\n",
      "6.22438\n",
      "5.69663\n",
      "5.90395\n",
      "5.40145\n",
      "6.87813\n",
      "4.89315\n",
      "7.52152\n",
      "7.13242\n",
      "11.7594\n",
      "8.29835\n",
      "5.6997\n",
      "4.96142\n",
      "7.05344\n",
      "13.7869\n",
      "2.28501\n",
      "10.1128\n",
      "10.1136\n",
      "11.0579\n",
      "4.63219\n",
      "5.83523\n",
      "7.91088\n",
      "3.49148\n",
      "4.50281\n",
      "5.41501\n",
      "6.52214\n",
      "7.75761\n",
      "4.75702\n",
      "8.12052\n",
      "4.89313\n",
      "3.91878\n",
      "11.6191\n",
      "5.01469\n",
      "6.45019\n",
      "3.85714\n",
      "10.1564\n",
      "7.66431\n",
      "3.23834\n",
      "8.52247\n",
      "6.68582\n",
      "5.6953\n",
      "4.8748\n",
      "4.06454\n",
      "2.95059\n",
      "5.63803\n",
      "5.57786\n",
      "5.61741\n",
      "7.7357\n",
      "6.37932\n",
      "4.73806\n",
      "11.1313\n",
      "4.48627\n",
      "4.93431\n",
      "4.64466\n",
      "6.85154\n",
      "7.08818\n",
      "7.41465\n",
      "6.20068\n",
      "4.86598\n",
      "6.8165\n",
      "5.80834\n",
      "5.78109\n",
      "8.29422\n",
      "4.18528\n",
      "4.29102\n",
      "8.63866\n",
      "4.87182\n",
      "10.0268\n",
      "4.99365\n",
      "3.66216\n",
      "4.83964\n",
      "12.4187\n",
      "5.38964\n",
      "3.90421\n",
      "4.03656\n",
      "8.43782\n",
      "5.50576\n",
      "4.79184\n",
      "5.61868\n",
      "4.51139\n",
      "3.66589\n",
      "4.19208\n",
      "5.79631\n",
      "2.98189\n",
      "3.75418\n",
      "4.24155\n",
      "7.73372\n",
      "4.93773\n",
      "6.28942\n",
      "5.62744\n",
      "3.59417\n",
      "3.92336\n",
      "5.9229\n",
      "2.98677\n",
      "5.96238\n",
      "4.08669\n",
      "5.6103\n",
      "9.80496\n",
      "4.77295\n",
      "4.3573\n",
      "8.72253\n",
      "3.73829\n",
      "4.16645\n",
      "2.66955\n",
      "7.66674\n",
      "6.5973\n",
      "5.0724\n",
      "3.83624\n",
      "5.57495\n",
      "5.19754\n",
      "3.77798\n",
      "3.3959\n",
      "4.59586\n",
      "5.84611\n",
      "5.99453\n",
      "5.4982\n",
      "9.54205\n",
      "3.28282\n",
      "5.64627\n",
      "3.9941\n",
      "2.82002\n",
      "4.79245\n",
      "5.64725\n",
      "3.54228\n",
      "9.41026\n",
      "4.05976\n",
      "2.9689\n",
      "3.08552\n",
      "3.66176\n",
      "4.31504\n",
      "3.53091\n",
      "5.64988\n",
      "3.32973\n",
      "3.10315\n",
      "3.49862\n",
      "7.35669\n",
      "4.86865\n",
      "3.81181\n",
      "5.63688\n",
      "5.7912\n",
      "5.80145\n",
      "6.26951\n",
      "2.75924\n",
      "4.26045\n",
      "2.83325\n",
      "3.26726\n",
      "2.85345\n",
      "8.17028\n",
      "2.42394\n",
      "6.89201\n",
      "3.55033\n",
      "3.85103\n",
      "2.84196\n",
      "3.96498\n",
      "3.09282\n",
      "4.87315\n",
      "8.24257\n",
      "4.52129\n",
      "3.48239\n",
      "3.36976\n",
      "4.84122\n",
      "3.25336\n",
      "2.3427\n",
      "4.3175\n",
      "3.74618\n",
      "2.92365\n",
      "5.11759\n",
      "2.9728\n",
      "3.72505\n",
      "7.97279\n",
      "2.89955\n",
      "5.88639\n",
      "1.92696\n",
      "2.66318\n",
      "3.44188\n",
      "4.65203\n",
      "3.16735\n",
      "4.61927\n",
      "5.28193\n",
      "5.63773\n",
      "2.81568\n",
      "2.01148\n",
      "9.67294\n",
      "5.29971\n",
      "3.14745\n",
      "3.80811\n",
      "4.41624\n",
      "2.9949\n",
      "5.946\n",
      "3.84905\n",
      "4.445\n",
      "3.63007\n",
      "4.12522\n",
      "2.46742\n",
      "2.95646\n",
      "2.52921\n",
      "1.27199\n",
      "4.20075\n",
      "3.41607\n",
      "2.17112\n",
      "2.81227\n",
      "5.40501\n",
      "3.05652\n",
      "3.08744\n",
      "2.123\n",
      "3.33736\n",
      "3.3314\n",
      "3.18678\n",
      "5.41231\n",
      "2.45111\n",
      "2.19367\n",
      "1.24132\n",
      "5.76889\n",
      "3.51258\n",
      "3.51211\n",
      "0.892962\n",
      "1.57502\n",
      "8.84095\n",
      "3.16782\n",
      "4.19648\n",
      "2.74363\n",
      "4.44436\n",
      "6.84172\n",
      "4.72972\n",
      "3.62425\n",
      "6.45962\n",
      "3.61274\n",
      "8.35935\n",
      "5.37195\n",
      "2.43769\n",
      "8.20187\n",
      "2.38514\n",
      "2.73844\n",
      "5.80058\n",
      "4.45099\n",
      "2.87687\n",
      "3.55713\n",
      "6.34382\n",
      "5.00826\n",
      "2.91996\n",
      "2.22724\n",
      "2.80972\n",
      "4.46658\n",
      "1.98321\n",
      "1.41752\n",
      "1.64694\n",
      "3.33918\n",
      "3.81234\n",
      "5.1508\n",
      "3.2359\n",
      "3.64642\n",
      "1.23879\n",
      "1.82036\n",
      "3.39499\n",
      "2.72028\n",
      "2.20112\n",
      "3.28623\n",
      "4.39642\n",
      "2.5106\n",
      "1.69125\n",
      "2.36882\n",
      "9.38154\n",
      "3.47484\n",
      "2.53948\n",
      "3.60251\n",
      "2.58608\n",
      "2.81459\n",
      "1.52976\n",
      "3.66988\n",
      "5.46719\n",
      "3.39237\n",
      "3.76106\n",
      "2.78097\n",
      "4.54705\n",
      "1.47342\n",
      "2.80688\n",
      "6.2503\n",
      "2.36832\n",
      "2.13294\n",
      "2.71853\n",
      "2.92556\n",
      "3.3175\n",
      "4.44424\n",
      "5.09342\n",
      "3.54636\n",
      "1.95055\n",
      "6.83174\n",
      "4.128\n",
      "1.58164\n",
      "7.40281\n",
      "2.84822\n",
      "2.77369\n",
      "1.13046\n",
      "3.89258\n",
      "2.79216\n",
      "6.24388\n",
      "1.47378\n",
      "2.49421\n",
      "1.20274\n",
      "2.87627\n",
      "2.41715\n",
      "2.61974\n",
      "2.10301\n",
      "2.67904\n",
      "5.5475\n",
      "3.34934\n",
      "1.66005\n",
      "4.72337\n",
      "3.50335\n",
      "5.39808\n",
      "4.8501\n",
      "2.09237\n",
      "2.18151\n",
      "2.23837\n",
      "4.9761\n",
      "2.92698\n",
      "3.51566\n",
      "2.45817\n",
      "5.85278\n",
      "3.43549\n",
      "2.00026\n",
      "0.995542\n",
      "4.4012\n",
      "3.39873\n",
      "1.38894\n",
      "3.86102\n",
      "3.27964\n",
      "7.14958\n",
      "1.75174\n",
      "1.87718\n",
      "2.10667\n",
      "4.06311\n",
      "3.59839\n",
      "3.48647\n",
      "3.60304\n",
      "2.95807\n",
      "3.72214\n",
      "1.61174\n",
      "2.19782\n",
      "2.53649\n",
      "3.00432\n",
      "1.77907\n",
      "1.59444\n",
      "4.86021\n",
      "4.21265\n",
      "4.16057\n",
      "2.87764\n",
      "1.69479\n",
      "4.55796\n",
      "2.94503\n",
      "4.57697\n",
      "3.62681\n",
      "5.52574\n",
      "3.97537\n",
      "5.51646\n",
      "1.36792\n",
      "3.29028\n",
      "2.60506\n",
      "6.19577\n",
      "6.34347\n",
      "5.44355\n",
      "4.56844\n",
      "3.24897\n",
      "2.87669\n",
      "1.77899\n",
      "3.35883\n",
      "2.06601\n",
      "2.1598\n",
      "2.08376\n",
      "1.62973\n",
      "1.82875\n",
      "3.03298\n",
      "2.93116\n",
      "2.81926\n",
      "2.4955\n",
      "2.66221\n",
      "5.61714\n",
      "2.30811\n",
      "1.5402\n",
      "2.49498\n",
      "1.7052\n",
      "3.70796\n",
      "4.04221\n",
      "2.05958\n",
      "3.18581\n",
      "2.17205\n",
      "2.78933\n",
      "3.65928\n",
      "1.9415\n",
      "1.78337\n",
      "2.48249\n",
      "4.38787\n",
      "3.59124\n",
      "1.41418\n",
      "3.74467\n",
      "1.37112\n",
      "1.85723\n",
      "2.71387\n",
      "1.69452\n",
      "3.22874\n",
      "3.63944\n",
      "2.3061\n",
      "6.85123\n",
      "2.60884\n",
      "2.09153\n",
      "1.36705\n",
      "2.59273\n",
      "2.76788\n",
      "2.36731\n",
      "4.4532\n",
      "2.88592\n",
      "2.58204\n",
      "1.82604\n",
      "2.99908\n",
      "3.55879\n",
      "3.04477\n",
      "1.63874\n",
      "4.5519\n",
      "3.55129\n",
      "3.55721\n",
      "2.80616\n",
      "2.64776\n",
      "4.46565\n",
      "3.31128\n",
      "2.95332\n",
      "6.1253\n",
      "5.05153\n",
      "2.01676\n",
      "2.26206\n",
      "4.69326\n",
      "1.94539\n",
      "3.47704\n",
      "1.52659\n",
      "9.74292\n",
      "4.20767\n",
      "2.50114\n",
      "3.0859\n",
      "2.75575\n",
      "2.94776\n",
      "3.07781\n",
      "2.34536\n",
      "3.44406\n",
      "3.82057\n",
      "3.06607\n",
      "1.72381\n",
      "2.05229\n",
      "4.60481\n",
      "2.91593\n",
      "3.50814\n",
      "1.68474\n",
      "5.37841\n",
      "2.31204\n",
      "4.20485\n",
      "1.58701\n",
      "2.79834\n",
      "3.64568\n",
      "1.72306\n",
      "2.36174\n",
      "1.79967\n",
      "3.00823\n",
      "2.64946\n",
      "1.40428\n",
      "3.84838\n",
      "1.21251\n",
      "1.65113\n",
      "2.6211\n",
      "3.73488\n",
      "2.28336\n",
      "2.00129\n",
      "2.23288\n",
      "1.32289\n",
      "1.79062\n",
      "4.1622\n",
      "1.87779\n",
      "2.74067\n",
      "1.90465\n",
      "2.84089\n",
      "1.81254\n",
      "2.25305\n",
      "1.43152\n",
      "4.17432\n",
      "5.00471\n",
      "4.33692\n",
      "4.59276\n",
      "2.16409\n",
      "4.81973\n",
      "1.3623\n",
      "3.64152\n",
      "2.22972\n",
      "1.78929\n",
      "2.14776\n",
      "5.33564\n",
      "2.65182\n",
      "1.72241\n",
      "3.05284\n",
      "2.68591\n",
      "4.26959\n",
      "2.88836\n",
      "7.72217\n",
      "4.58866\n",
      "1.43868\n",
      "3.23005\n",
      "2.4174\n",
      "1.88418\n",
      "1.81116\n",
      "1.8484\n",
      "3.97219\n",
      "2.22799\n",
      "1.34523\n",
      "3.67781\n",
      "1.86723\n",
      "3.06275\n",
      "1.69984\n",
      "2.48371\n",
      "3.16721\n",
      "1.40258\n",
      "2.96075\n",
      "2.87866\n",
      "2.62147\n",
      "2.11506\n",
      "2.43306\n",
      "2.5129\n",
      "4.05448\n",
      "3.36075\n",
      "2.20755\n",
      "2.991\n",
      "2.62569\n",
      "2.13924\n",
      "3.83615\n",
      "2.69719\n",
      "2.81208\n",
      "2.32884\n",
      "1.30787\n",
      "2.76564\n",
      "3.66456\n",
      "1.81527\n",
      "3.95457\n",
      "1.01911\n",
      "1.67439\n",
      "3.85906\n",
      "2.71086\n",
      "4.92762\n",
      "2.41165\n",
      "3.14286\n",
      "5.34005\n",
      "3.35175\n",
      "2.18887\n",
      "2.81318\n",
      "1.24213\n",
      "2.0005\n",
      "2.63955\n",
      "2.33835\n",
      "2.11055\n",
      "2.83753\n",
      "2.12072\n",
      "4.08524\n",
      "2.33848\n",
      "1.79367\n",
      "1.96711\n",
      "4.04923\n",
      "1.32872\n",
      "2.66276\n",
      "1.88425\n",
      "2.48144\n",
      "1.63539\n",
      "1.51748\n",
      "1.83451\n",
      "1.69363\n",
      "4.12304\n",
      "2.46561\n",
      "2.9646\n",
      "2.54167\n",
      "1.61487\n",
      "4.11513\n",
      "2.71996\n",
      "1.57631\n",
      "2.01726\n",
      "1.16413\n",
      "1.44931\n",
      "5.20045\n",
      "3.28456\n",
      "2.33681\n",
      "3.08382\n",
      "1.79614\n",
      "1.60247\n",
      "1.56994\n",
      "1.72184\n",
      "2.28301\n",
      "2.79826\n",
      "2.45496\n",
      "2.15451\n",
      "1.86749\n",
      "2.41492\n",
      "2.32793\n",
      "2.21198\n",
      "3.39974\n",
      "2.80827\n",
      "2.44099\n",
      "3.64333\n",
      "1.1785\n",
      "4.0873\n",
      "3.63459\n",
      "1.05749\n",
      "5.00397\n",
      "0.944197\n",
      "1.67902\n",
      "1.25066\n",
      "1.81321\n",
      "3.99257\n",
      "3.60106\n",
      "0.972271\n",
      "2.15623\n",
      "3.29092\n",
      "1.77876\n",
      "1.85253\n",
      "1.084\n",
      "1.30054\n",
      "2.52075\n",
      "2.51304\n",
      "1.66537\n",
      "1.37282\n",
      "2.01847\n",
      "2.25656\n",
      "1.70982\n",
      "4.37615\n",
      "0.995373\n",
      "2.66769\n",
      "3.1381\n",
      "1.79379\n",
      "1.67261\n",
      "1.03606\n",
      "1.77879\n",
      "3.48438\n",
      "1.76092\n",
      "3.13422\n",
      "2.2861\n",
      "4.01326\n",
      "1.08673\n",
      "1.57824\n",
      "1.19346\n",
      "3.38969\n",
      "2.05108\n",
      "2.47809\n",
      "0.885243\n",
      "3.19881\n",
      "3.15072\n",
      "1.76484\n",
      "2.38716\n",
      "2.12351\n",
      "1.41844\n",
      "5.1312\n",
      "1.90134\n",
      "2.79239\n",
      "5.48949\n",
      "2.8307\n",
      "2.33207\n",
      "1.88589\n",
      "3.40499\n",
      "1.77893\n",
      "3.21112\n",
      "2.89777\n",
      "0.818815\n",
      "2.08319\n",
      "2.92776\n",
      "2.54745\n",
      "1.8963\n",
      "1.6988\n",
      "3.57394\n",
      "1.57185\n",
      "1.55774\n",
      "4.16398\n",
      "1.97812\n",
      "5.06277\n",
      "1.8695\n",
      "2.40158\n",
      "2.11327\n",
      "3.47016\n",
      "1.10136\n",
      "1.25802\n",
      "1.84255\n",
      "2.31921\n",
      "1.42054\n",
      "3.39371\n",
      "1.31861\n",
      "3.12384\n",
      "1.32289\n",
      "1.99804\n",
      "1.71256\n",
      "1.59674\n",
      "1.4832\n",
      "1.55584\n",
      "1.46284\n",
      "0.854332\n",
      "1.96595\n",
      "1.62293\n",
      "3.18482\n",
      "1.40936\n",
      "1.67528\n",
      "2.92416\n",
      "2.20473\n",
      "1.64704\n",
      "2.01753\n",
      "1.68358\n",
      "5.34519\n",
      "1.25049\n",
      "2.25145\n",
      "4.03678\n",
      "1.80944\n",
      "1.14259\n",
      "2.41331\n",
      "2.35511\n",
      "1.79962\n",
      "1.22753\n",
      "1.84063\n",
      "1.89841\n",
      "2.23672\n",
      "0.899571\n",
      "2.56648\n",
      "2.27026\n",
      "3.68033\n",
      "3.56034\n",
      "2.14705\n",
      "2.27941\n",
      "1.48768\n",
      "1.50296\n",
      "1.06657\n",
      "4.1024\n",
      "2.23677\n",
      "1.455\n",
      "1.78189\n",
      "1.89028\n",
      "1.97523\n",
      "5.13175\n",
      "2.75254\n",
      "1.33008\n",
      "1.47268\n",
      "2.4557\n",
      "3.66778\n",
      "2.28693\n",
      "2.07325\n",
      "2.0046\n",
      "1.63643\n",
      "2.03096\n",
      "1.99086\n",
      "1.86049\n",
      "1.16519\n",
      "1.52332\n",
      "2.48048\n",
      "3.06443\n",
      "2.10643\n",
      "1.06775\n",
      "2.28986\n",
      "1.96192\n",
      "3.62533\n",
      "1.42098\n",
      "3.13616\n",
      "2.10032\n",
      "1.56462\n",
      "1.49826\n",
      "1.3812\n",
      "1.151\n",
      "3.73838\n",
      "3.69982\n",
      "2.15368\n",
      "1.42918\n",
      "2.00817\n",
      "1.90505\n",
      "1.38031\n",
      "1.62654\n",
      "1.50371\n",
      "1.60568\n",
      "1.80832\n",
      "0.941647\n",
      "1.20558\n",
      "2.0387\n",
      "2.25466\n",
      "1.39867\n",
      "2.68269\n",
      "1.73838\n",
      "1.5839\n",
      "1.60864\n",
      "2.39255\n",
      "1.2086\n",
      "1.77342\n",
      "1.50628\n",
      "1.42197\n",
      "0.98908\n",
      "1.8232\n",
      "2.1735\n",
      "1.86729\n",
      "2.82886\n",
      "1.53496\n",
      "2.38725\n",
      "3.47481\n",
      "2.7415\n",
      "1.53951\n",
      "2.19449\n",
      "3.97412\n",
      "2.46493\n",
      "2.59578\n",
      "1.75239\n",
      "2.35986\n",
      "1.85631\n",
      "2.29697\n",
      "1.57835\n",
      "2.20099\n",
      "0.868711\n",
      "1.19962\n",
      "1.19034\n",
      "1.61622\n",
      "1.08344\n",
      "1.96963\n",
      "1.61419\n",
      "2.29382\n",
      "3.73672\n",
      "1.23275\n",
      "1.92237\n",
      "1.75739\n",
      "2.69554\n",
      "1.62458\n",
      "1.78871\n",
      "1.06351\n",
      "1.71981\n",
      "2.00972\n",
      "2.31443\n",
      "2.33229\n",
      "1.58457\n",
      "1.82742\n",
      "1.27695\n",
      "2.25933\n",
      "1.3227\n",
      "1.41308\n",
      "1.58245\n",
      "1.78172\n",
      "1.44228\n",
      "4.43248\n",
      "1.5267\n",
      "1.71014\n",
      "2.07072\n",
      "1.61027\n",
      "1.37374\n",
      "1.8212\n",
      "2.3829\n",
      "1.4994\n",
      "1.85731\n",
      "2.67876\n",
      "1.546\n",
      "0.645893\n",
      "2.04919\n",
      "1.76169\n",
      "1.6574\n",
      "1.85848\n",
      "1.67046\n",
      "3.06044\n",
      "2.59579\n",
      "1.95697\n",
      "3.28212\n",
      "0.87551\n",
      "1.69972\n",
      "1.35533\n",
      "1.39696\n",
      "1.17746\n",
      "3.75541\n",
      "3.41278\n",
      "1.20542\n",
      "1.36296\n",
      "1.19663\n",
      "1.02895\n",
      "1.33279\n",
      "2.61531\n",
      "1.56656\n",
      "2.96155\n",
      "2.17662\n",
      "4.82718\n",
      "1.70869\n",
      "3.22933\n",
      "1.32175\n",
      "2.2639\n",
      "1.78634\n",
      "2.68641\n",
      "1.17619\n",
      "1.47537\n",
      "2.07649\n",
      "1.95876\n",
      "1.43782\n",
      "1.85106\n",
      "2.26259\n",
      "0.657911\n",
      "1.3563\n",
      "1.49451\n",
      "1.20122\n",
      "2.30211\n",
      "2.32004\n",
      "1.11357\n",
      "2.35456\n",
      "2.17479\n",
      "1.5598\n",
      "0.624398\n"
     ]
    }
   ],
   "source": [
    "\n",
    "\n",
    "zipped = list(zip(datasetX, datasetY))\n",
    "\n",
    "BATCH_SIZE = 32\n",
    "loss_history = list()\n",
    "for _ in range(1000):\n",
    "    datax = list()\n",
    "    datay = list()\n",
    "    for _ in range(BATCH_SIZE):\n",
    "        samp = random.choice(zipped)\n",
    "        datax.append(samp[0])\n",
    "        datay.append([samp[1]])\n",
    "    _, l = sess.run([optimizer,loss], feed_dict={input_pl: datax, output_pl: datay})\n",
    "    print(l)\n",
    "    loss_history.append(l)"
   ]
  },
  {
   "cell_type": "code",
   "execution_count": 16,
   "metadata": {},
   "outputs": [
    {
     "data": {
      "text/plain": [
       "[<matplotlib.lines.Line2D at 0x7fabc684b828>]"
      ]
     },
     "execution_count": 16,
     "metadata": {},
     "output_type": "execute_result"
    },
    {
     "data": {
      "image/png": "[encoded data removed]",
      "text/plain": [
       "<matplotlib.figure.Figure at 0x7fabfcf8afd0>"
      ]
     },
     "metadata": {},
     "output_type": "display_data"
    }
   ],
   "source": [
    "%matplotlib inline\n",
    "import matplotlib.pyplot as plt\n",
    "plt.plot(loss_history[10:])"
   ]
  },
  {
   "cell_type": "markdown",
   "metadata": {},
   "source": [
    "### Looking at gradients\n",
    "Knowing about gradients and inspecting them is a vital part of working with neural networks. If your network is stuck, broke, or does not perform as you expect it: take a look at the gradients!\n",
    "\n",
    "Part of why this is important is that in very deep neural networks we are dealing with vanishing and exploding gradients. Imagine that you start with a high gradient in your final layer, and multiply this with the learning rate. You update your weights and move on to the next layer. Your loss is lower in this layer, and thus your gradient is lower. \n"
   ]
  },
  {
   "cell_type": "markdown",
   "metadata": {},
   "source": [
    "## Video 3: preprocessing data\n",
    "Last section we made our first multi-layer neural network. This video we are going to learn about standardising data, and why this is important. \n",
    "\n",
    "### Train and evaluation functions\n",
    "To really see the impact of decisions we make when building any machine learning algorithm we need to build some functions that train a network and evaluate a network. I made two simple functions here with the code we made in previous videos so we can demonstrate the effect of preprocessing data!"
   ]
  },
  {
   "cell_type": "code",
   "execution_count": 17,
   "metadata": {
    "collapsed": true
   },
   "outputs": [],
   "source": [
    "def reset_and_train_network(sess,\n",
    "                            inX, \n",
    "                            inY, \n",
    "                            batch_size, \n",
    "                            iterations, \n",
    "                            optimizer, \n",
    "                            inputplaceholder, \n",
    "                            outputplaceholder, \n",
    "                            loss_tensor, \n",
    "                            verbose=True):\n",
    "    init = tf.global_variables_initializer() # https://www.tensorflow.org/api_docs/python/tf/global_variables_initializer\n",
    "    sess.run(init)\n",
    "\n",
    "    zipped = list(zip(inX, inY))\n",
    "\n",
    "\n",
    "    loss_history = list()\n",
    "    for _ in range(iterations):\n",
    "        datax = list()\n",
    "        datay = list()\n",
    "        for _ in range(batch_size):\n",
    "            samp = random.choice(zipped)\n",
    "            datax.append(samp[0])\n",
    "            datay.append([samp[1]])\n",
    "        _, l = sess.run([optimizer,loss_tensor], \n",
    "                        feed_dict={inputplaceholder: datax, \n",
    "                                   outputplaceholder: datay})\n",
    "        if verbose:\n",
    "            print(l)\n",
    "        loss_history.append(l)\n",
    "    return loss_history\n",
    "\n",
    "## Do the train set\n",
    "def evaluate_network(sess,\n",
    "                     inX, \n",
    "                     inY, \n",
    "                     prediction_tensor, \n",
    "                     inputplaceholder,\n",
    "                     outputplaceholder,\n",
    "                     loss):\n",
    "\n",
    "\n",
    "    datasetY2 = [[x] for x in inY]\n",
    "    predicted_values, loss_dataset = sess.run([prediction_tensor,loss], \n",
    "                                              feed_dict={inputplaceholder: inX, \n",
    "                                                         outputplaceholder: datasetY2})\n",
    "    print(\"Loss dataset: \" + str(loss_dataset))\n",
    "    plt.scatter(datasetY2, predicted_values)\n",
    "    plt.xlabel(\"True value\")\n",
    "    plt.ylabel(\"Predicted value\")\n",
    "    plt.show()\n",
    "    \n",
    "\n"
   ]
  },
  {
   "cell_type": "markdown",
   "metadata": {},
   "source": [
    "### Why preprocess data\n",
    "At the moment we are feedign the raw properties of atoms to the network. When we worked with the iris dataset we saw that by shifting all data a bit manually even a single layer neural network was able to classify the data. \n",
    "\n",
    "To preprocss the data you can use the [Scikit preprocessing library](http://scikit-learn.org/stable/modules/preprocessing.html). With this library you standardise all your data outside of your Tensorflow pipeline. If you want to keep everything inside this pipeline you can use the [tf.Transform library]( https://github.com/tensorflow/transform)\n",
    "\n"
   ]
  },
  {
   "cell_type": "code",
   "execution_count": 18,
   "metadata": {},
   "outputs": [
    {
     "data": {
      "image/png": "[encoded data removed]",
      "text/plain": [
       "<matplotlib.figure.Figure at 0x7fabd0582c50>"
      ]
     },
     "metadata": {},
     "output_type": "display_data"
    },
    {
     "name": "stdout",
     "output_type": "stream",
     "text": [
      "Evaluating testset on network without preprocessing\n",
      "Loss dataset: 2.0104\n"
     ]
    },
    {
     "data": {
      "image/png": "[encoded data removed]",
      "text/plain": [
       "<matplotlib.figure.Figure at 0x7fabc699e550>"
      ]
     },
     "metadata": {},
     "output_type": "display_data"
    }
   ],
   "source": [
    "import random\n",
    "%matplotlib inline\n",
    "import matplotlib.pyplot as plt\n",
    "\n",
    "COMPARE_MSE_ITERATIONS = 1000\n",
    "## Without standardizing our data:\n",
    "losses = reset_and_train_network(sess,X_train.values,\n",
    "                                 Y_train.values, \n",
    "                                 64, \n",
    "                                COMPARE_MSE_ITERATIONS,\n",
    "                                optimizer, \n",
    "                                input_pl, \n",
    "                                output_pl,\n",
    "                                loss,\n",
    "                                verbose=False)\n",
    "plt.plot(losses[10:])\n",
    "plt.show()\n",
    "print(\"Evaluating testset on network without preprocessing\")\n",
    "\n",
    "## Evaluate our network\n",
    "evaluate_network(sess, X_test, Y_test, network_prediction, input_pl,\n",
    "                output_pl, loss)\n"
   ]
  },
  {
   "cell_type": "markdown",
   "metadata": {},
   "source": [
    "### Determining the mean squared error on a testset\n",
    "Although our loss function already indicates what the mean squared error on our train set is, this does not help us to compare models after we standardised our input and output data, as the loss naturally will be smaller with smaller numbers. After we \"inverted\" our predictions back to their normal range we can compare the mean square errors using the sklearn.metrics library! Let's do this now so we can verify the mean squared error function works. "
   ]
  },
  {
   "cell_type": "code",
   "execution_count": 19,
   "metadata": {},
   "outputs": [
    {
     "name": "stdout",
     "output_type": "stream",
     "text": [
      "Test mean squared error: 2.01040482619\n"
     ]
    }
   ],
   "source": [
    "\n",
    "true_values = [[x] for x in Y_test]\n",
    "predicted_values = sess.run(network_prediction, feed_dict={input_pl: X_test})\n",
    "\n",
    "from sklearn.metrics import mean_squared_error\n",
    "mse = mean_squared_error(predicted_values, true_values)\n",
    "print(\"Test mean squared error: \" + str(mse))\n"
   ]
  },
  {
   "cell_type": "markdown",
   "metadata": {},
   "source": [
    "### Scaling our data\n",
    "To actually scale our data we use the **StandardScaler** of the sklearn library. Calling the `fit(data)` function returns an object that can scale your data. To see how well our neural network performs we scale on the traindata, and evaluate our network on the testdata. "
   ]
  },
  {
   "cell_type": "code",
   "execution_count": 20,
   "metadata": {
    "scrolled": true
   },
   "outputs": [
    {
     "name": "stderr",
     "output_type": "stream",
     "text": [
      "/usr/local/lib/python3.5/dist-packages/sklearn/preprocessing/data.py:586: DeprecationWarning: Passing 1d arrays as data is deprecated in 0.17 and will raise ValueError in 0.19. Reshape your data either using X.reshape(-1, 1) if your data has a single feature or X.reshape(1, -1) if it contains a single sample.\n",
      "  warnings.warn(DEPRECATION_MSG_1D, DeprecationWarning)\n",
      "/usr/local/lib/python3.5/dist-packages/sklearn/preprocessing/data.py:649: DeprecationWarning: Passing 1d arrays as data is deprecated in 0.17 and will raise ValueError in 0.19. Reshape your data either using X.reshape(-1, 1) if your data has a single feature or X.reshape(1, -1) if it contains a single sample.\n",
      "  warnings.warn(DEPRECATION_MSG_1D, DeprecationWarning)\n",
      "/usr/local/lib/python3.5/dist-packages/sklearn/preprocessing/data.py:649: DeprecationWarning: Passing 1d arrays as data is deprecated in 0.17 and will raise ValueError in 0.19. Reshape your data either using X.reshape(-1, 1) if your data has a single feature or X.reshape(1, -1) if it contains a single sample.\n",
      "  warnings.warn(DEPRECATION_MSG_1D, DeprecationWarning)\n"
     ]
    },
    {
     "name": "stdout",
     "output_type": "stream",
     "text": [
      "[  1.63512875e-16   1.47653766e-16  -6.30262836e-16 ...,  -1.53122424e-17\n",
      "  -7.38268832e-18  -1.23044805e-17]\n",
      "[ 1.  1.  1. ...,  1.  1.  1.]\n"
     ]
    },
    {
     "data": {
      "image/png": "[encoded data removed]",
      "text/plain": [
       "<matplotlib.figure.Figure at 0x7fabc67dbd30>"
      ]
     },
     "metadata": {},
     "output_type": "display_data"
    },
    {
     "name": "stdout",
     "output_type": "stream",
     "text": [
      "Evaluating trainset with preprocessing\n",
      "Loss dataset: 0.14575\n"
     ]
    },
    {
     "data": {
      "image/png": "[encoded data removed]",
      "text/plain": [
       "<matplotlib.figure.Figure at 0x7fabf00d80f0>"
      ]
     },
     "metadata": {},
     "output_type": "display_data"
    },
    {
     "name": "stdout",
     "output_type": "stream",
     "text": [
      "Evaluating testset with preprocessing\n",
      "Loss dataset: 0.145821\n"
     ]
    },
    {
     "data": {
      "image/png": "[encoded data removed]",
      "text/plain": [
       "<matplotlib.figure.Figure at 0x7fabc5369390>"
      ]
     },
     "metadata": {},
     "output_type": "display_data"
    }
   ],
   "source": [
    "from sklearn import preprocessing\n",
    "\n",
    "## Create the scalers\n",
    "scaler = preprocessing.StandardScaler().fit(X_train)\n",
    "outputscaler = preprocessing.StandardScaler().fit(Y_train)\n",
    "\n",
    "## Scale all datasets\n",
    "scaled_trainset = scaler.transform(X_train)\n",
    "scaled_testset = scaler.transform(X_test)\n",
    "scaled_train_out = outputscaler.transform(Y_train)\n",
    "scaled_test_out = outputscaler.transform(Y_test)\n",
    "\n",
    "## Verify our data is scaled correctly \n",
    "print(scaled_trainset.mean(axis=0))\n",
    "print(scaled_trainset.std(axis=0))\n",
    "\n",
    "\n",
    "## Retrain the same network with standardized data\n",
    "losses_norm = reset_and_train_network(sess,scaled_trainset,\n",
    "                                      scaled_train_out,\n",
    "                                      64, \n",
    "                                        COMPARE_MSE_ITERATIONS,\n",
    "                                        optimizer, \n",
    "                                        input_pl, \n",
    "                                        output_pl,\n",
    "                                        loss,\n",
    "                                        verbose=False)\n",
    "plt.plot(losses_norm[10:])\n",
    "plt.show()\n",
    "\n",
    "## Evaluate the trainset after preprocessing and the testset after preprocessing\n",
    "print(\"Evaluating trainset with preprocessing\")\n",
    "evaluate_network(sess,scaled_trainset, scaled_train_out, network_prediction, input_pl, output_pl, loss)\n",
    "print(\"Evaluating testset with preprocessing\")\n",
    "evaluate_network(sess,scaled_testset, scaled_test_out, network_prediction, input_pl, output_pl, loss)\n"
   ]
  },
  {
   "cell_type": "code",
   "execution_count": 21,
   "metadata": {},
   "outputs": [
    {
     "name": "stdout",
     "output_type": "stream",
     "text": [
      "MSE testset with scaling: 1.96488886316\n"
     ]
    }
   ],
   "source": [
    "from sklearn.metrics import mean_squared_error\n",
    "\n",
    "## Predict the ground energy of each molecule\n",
    "datasetY2 = [[x] for x in Y_test]\n",
    "predicted_values = sess.run(network_prediction, feed_dict={input_pl: scaled_testset})\n",
    "\n",
    "## Scale these values back, and calculate the MSE\n",
    "inversed_predicted_values = outputscaler.inverse_transform(predicted_values)\n",
    "mse = mean_squared_error(inversed_predicted_values, datasetY2)\n",
    "print(\"MSE testset with scaling: \" + str(mse))"
   ]
  },
  {
   "cell_type": "markdown",
   "metadata": {},
   "source": [
    "### Visualising your graph\n",
    "When working with Tensorflow it's easy to make a mistake. For example, when adding an extra layer to your network it's easy to forget to connect it to other layers. A cool feature of our Jupyter notebook is that you can visualise the graph you made. The source of this code can be found in [this Stackoverflow answer](https://stackoverflow.com/questions/38189119/simple-way-to-visualize-a-tensorflow-graph-in-jupyter/38192374#38192374). \n"
   ]
  },
  {
   "cell_type": "code",
   "execution_count": 22,
   "metadata": {
    "collapsed": true
   },
   "outputs": [],
   "source": [
    "from IPython.display import clear_output, Image, display, HTML\n",
    "\n",
    "def strip_consts(graph_def, max_const_size=32):\n",
    "    \"\"\"Strip large constant values from graph_def.\"\"\"\n",
    "    strip_def = tf.GraphDef()\n",
    "    for n0 in graph_def.node:\n",
    "        n = strip_def.node.add() \n",
    "        n.MergeFrom(n0)\n",
    "        if n.op == 'Const':\n",
    "            tensor = n.attr['value'].tensor\n",
    "            size = len(tensor.tensor_content)\n",
    "            if size > max_const_size:\n",
    "                tensor.tensor_content = \"<stripped %d bytes>\"%size\n",
    "    return strip_def\n",
    "\n",
    "def show_graph(graph_def, max_const_size=32):\n",
    "    \"\"\"Visualize TensorFlow graph.\"\"\"\n",
    "    if hasattr(graph_def, 'as_graph_def'):\n",
    "        graph_def = graph_def.as_graph_def()\n",
    "    strip_def = strip_consts(graph_def, max_const_size=max_const_size)\n",
    "    code = \"\"\"\n",
    "        <script>\n",
    "          function load() {{\n",
    "            document.getElementById(\"{id}\").pbtxt = {data};\n",
    "          }}\n",
    "        </script>\n",
    "        <link rel=\"import\" href=\"https://tensorboard.appspot.com/tf-graph-basic.build.html\" onload=load()>\n",
    "        <div style=\"height:600px\">\n",
    "          <tf-graph-basic id=\"{id}\"></tf-graph-basic>\n",
    "        </div>\n",
    "    \"\"\".format(data=repr(str(strip_def)), id='graph'+str(np.random.rand()))\n",
    "\n",
    "    iframe = \"\"\"\n",
    "        <iframe seamless style=\"width:1200px;height:620px;border:0\" srcdoc=\"{}\"></iframe>\n",
    "    \"\"\".format(code.replace('\"', '&quot;'))\n",
    "    display(HTML(iframe))\n"
   ]
  },
  {
   "cell_type": "code",
   "execution_count": 23,
   "metadata": {},
   "outputs": [
    {
     "data": {
      "text/html": [
       "\n",
       "        <iframe seamless style=\"width:1200px;height:620px;border:0\" srcdoc=\"\n",
       "        <script>\n",
       "          function load() {\n",
       "            document.getElementById(&quot;graph0.9838334616086987&quot;).pbtxt = 'node {\\n  name: &quot;inputplaceholder&quot;\\n  op: &quot;Placeholder&quot;\\n  attr {\\n    key: &quot;dtype&quot;\\n    value {\\n      type: DT_FLOAT\\n    }\\n  }\\n  attr {\\n    key: &quot;shape&quot;\\n    value {\\n      shape {\\n        dim {\\n          size: -1\\n        }\\n        dim {\\n          size: 1275\\n        }\\n      }\\n    }\\n  }\\n}\\nnode {\\n  name: &quot;userdefinedoutput&quot;\\n  op: &quot;Placeholder&quot;\\n  attr {\\n    key: &quot;dtype&quot;\\n    value {\\n      type: DT_FLOAT\\n    }\\n  }\\n  attr {\\n    key: &quot;shape&quot;\\n    value {\\n      shape {\\n        dim {\\n          size: -1\\n        }\\n        dim {\\n          size: 1\\n        }\\n      }\\n    }\\n  }\\n}\\nnode {\\n  name: &quot;first_dense_layer/kernel/Initializer/random_uniform/shape&quot;\\n  op: &quot;Const&quot;\\n  attr {\\n    key: &quot;_class&quot;\\n    value {\\n      list {\\n        s: &quot;loc:@first_dense_layer/kernel&quot;\\n      }\\n    }\\n  }\\n  attr {\\n    key: &quot;dtype&quot;\\n    value {\\n      type: DT_INT32\\n    }\\n  }\\n  attr {\\n    key: &quot;value&quot;\\n    value {\\n      tensor {\\n        dtype: DT_INT32\\n        tensor_shape {\\n          dim {\\n            size: 2\\n          }\\n        }\\n        tensor_content: &quot;\\\\373\\\\004\\\\000\\\\000\\\\000\\\\002\\\\000\\\\000&quot;\\n      }\\n    }\\n  }\\n}\\nnode {\\n  name: &quot;first_dense_layer/kernel/Initializer/random_uniform/min&quot;\\n  op: &quot;Const&quot;\\n  attr {\\n    key: &quot;_class&quot;\\n    value {\\n      list {\\n        s: &quot;loc:@first_dense_layer/kernel&quot;\\n      }\\n    }\\n  }\\n  attr {\\n    key: &quot;dtype&quot;\\n    value {\\n      type: DT_FLOAT\\n    }\\n  }\\n  attr {\\n    key: &quot;value&quot;\\n    value {\\n      tensor {\\n        dtype: DT_FLOAT\\n        tensor_shape {\\n        }\\n        float_val: -0.0579446516931057\\n      }\\n    }\\n  }\\n}\\nnode {\\n  name: &quot;first_dense_layer/kernel/Initializer/random_uniform/max&quot;\\n  op: &quot;Const&quot;\\n  attr {\\n    key: &quot;_class&quot;\\n    value {\\n      list {\\n        s: &quot;loc:@first_dense_layer/kernel&quot;\\n      }\\n    }\\n  }\\n  attr {\\n    key: &quot;dtype&quot;\\n    value {\\n      type: DT_FLOAT\\n    }\\n  }\\n  attr {\\n    key: &quot;value&quot;\\n    value {\\n      tensor {\\n        dtype: DT_FLOAT\\n        tensor_shape {\\n        }\\n        float_val: 0.0579446516931057\\n      }\\n    }\\n  }\\n}\\nnode {\\n  name: &quot;first_dense_layer/kernel/Initializer/random_uniform/RandomUniform&quot;\\n  op: &quot;RandomUniform&quot;\\n  input: &quot;first_dense_layer/kernel/Initializer/random_uniform/shape&quot;\\n  attr {\\n    key: &quot;T&quot;\\n    value {\\n      type: DT_INT32\\n    }\\n  }\\n  attr {\\n    key: &quot;_class&quot;\\n    value {\\n      list {\\n        s: &quot;loc:@first_dense_layer/kernel&quot;\\n      }\\n    }\\n  }\\n  attr {\\n    key: &quot;dtype&quot;\\n    value {\\n      type: DT_FLOAT\\n    }\\n  }\\n  attr {\\n    key: &quot;seed&quot;\\n    value {\\n      i: 0\\n    }\\n  }\\n  attr {\\n    key: &quot;seed2&quot;\\n    value {\\n      i: 0\\n    }\\n  }\\n}\\nnode {\\n  name: &quot;first_dense_layer/kernel/Initializer/random_uniform/sub&quot;\\n  op: &quot;Sub&quot;\\n  input: &quot;first_dense_layer/kernel/Initializer/random_uniform/max&quot;\\n  input: &quot;first_dense_layer/kernel/Initializer/random_uniform/min&quot;\\n  attr {\\n    key: &quot;T&quot;\\n    value {\\n      type: DT_FLOAT\\n    }\\n  }\\n  attr {\\n    key: &quot;_class&quot;\\n    value {\\n      list {\\n        s: &quot;loc:@first_dense_layer/kernel&quot;\\n      }\\n    }\\n  }\\n}\\nnode {\\n  name: &quot;first_dense_layer/kernel/Initializer/random_uniform/mul&quot;\\n  op: &quot;Mul&quot;\\n  input: &quot;first_dense_layer/kernel/Initializer/random_uniform/RandomUniform&quot;\\n  input: &quot;first_dense_layer/kernel/Initializer/random_uniform/sub&quot;\\n  attr {\\n    key: &quot;T&quot;\\n    value {\\n      type: DT_FLOAT\\n    }\\n  }\\n  attr {\\n    key: &quot;_class&quot;\\n    value {\\n      list {\\n        s: &quot;loc:@first_dense_layer/kernel&quot;\\n      }\\n    }\\n  }\\n}\\nnode {\\n  name: &quot;first_dense_layer/kernel/Initializer/random_uniform&quot;\\n  op: &quot;Add&quot;\\n  input: &quot;first_dense_layer/kernel/Initializer/random_uniform/mul&quot;\\n  input: &quot;first_dense_layer/kernel/Initializer/random_uniform/min&quot;\\n  attr {\\n    key: &quot;T&quot;\\n    value {\\n      type: DT_FLOAT\\n    }\\n  }\\n  attr {\\n    key: &quot;_class&quot;\\n    value {\\n      list {\\n        s: &quot;loc:@first_dense_layer/kernel&quot;\\n      }\\n    }\\n  }\\n}\\nnode {\\n  name: &quot;first_dense_layer/kernel&quot;\\n  op: &quot;VariableV2&quot;\\n  attr {\\n    key: &quot;_class&quot;\\n    value {\\n      list {\\n        s: &quot;loc:@first_dense_layer/kernel&quot;\\n      }\\n    }\\n  }\\n  attr {\\n    key: &quot;container&quot;\\n    value {\\n      s: &quot;&quot;\\n    }\\n  }\\n  attr {\\n    key: &quot;dtype&quot;\\n    value {\\n      type: DT_FLOAT\\n    }\\n  }\\n  attr {\\n    key: &quot;shape&quot;\\n    value {\\n      shape {\\n        dim {\\n          size: 1275\\n        }\\n        dim {\\n          size: 512\\n        }\\n      }\\n    }\\n  }\\n  attr {\\n    key: &quot;shared_name&quot;\\n    value {\\n      s: &quot;&quot;\\n    }\\n  }\\n}\\nnode {\\n  name: &quot;first_dense_layer/kernel/Assign&quot;\\n  op: &quot;Assign&quot;\\n  input: &quot;first_dense_layer/kernel&quot;\\n  input: &quot;first_dense_layer/kernel/Initializer/random_uniform&quot;\\n  attr {\\n    key: &quot;T&quot;\\n    value {\\n      type: DT_FLOAT\\n    }\\n  }\\n  attr {\\n    key: &quot;_class&quot;\\n    value {\\n      list {\\n        s: &quot;loc:@first_dense_layer/kernel&quot;\\n      }\\n    }\\n  }\\n  attr {\\n    key: &quot;use_locking&quot;\\n    value {\\n      b: true\\n    }\\n  }\\n  attr {\\n    key: &quot;validate_shape&quot;\\n    value {\\n      b: true\\n    }\\n  }\\n}\\nnode {\\n  name: &quot;first_dense_layer/kernel/read&quot;\\n  op: &quot;Identity&quot;\\n  input: &quot;first_dense_layer/kernel&quot;\\n  attr {\\n    key: &quot;T&quot;\\n    value {\\n      type: DT_FLOAT\\n    }\\n  }\\n  attr {\\n    key: &quot;_class&quot;\\n    value {\\n      list {\\n        s: &quot;loc:@first_dense_layer/kernel&quot;\\n      }\\n    }\\n  }\\n}\\nnode {\\n  name: &quot;first_dense_layer/bias/Initializer/zeros&quot;\\n  op: &quot;Const&quot;\\n  attr {\\n    key: &quot;_class&quot;\\n    value {\\n      list {\\n        s: &quot;loc:@first_dense_layer/bias&quot;\\n      }\\n    }\\n  }\\n  attr {\\n    key: &quot;dtype&quot;\\n    value {\\n      type: DT_FLOAT\\n    }\\n  }\\n  attr {\\n    key: &quot;value&quot;\\n    value {\\n      tensor {\\n        dtype: DT_FLOAT\\n        tensor_shape {\\n          dim {\\n            size: 512\\n          }\\n        }\\n        float_val: 0.0\\n      }\\n    }\\n  }\\n}\\nnode {\\n  name: &quot;first_dense_layer/bias&quot;\\n  op: &quot;VariableV2&quot;\\n  attr {\\n    key: &quot;_class&quot;\\n    value {\\n      list {\\n        s: &quot;loc:@first_dense_layer/bias&quot;\\n      }\\n    }\\n  }\\n  attr {\\n    key: &quot;container&quot;\\n    value {\\n      s: &quot;&quot;\\n    }\\n  }\\n  attr {\\n    key: &quot;dtype&quot;\\n    value {\\n      type: DT_FLOAT\\n    }\\n  }\\n  attr {\\n    key: &quot;shape&quot;\\n    value {\\n      shape {\\n        dim {\\n          size: 512\\n        }\\n      }\\n    }\\n  }\\n  attr {\\n    key: &quot;shared_name&quot;\\n    value {\\n      s: &quot;&quot;\\n    }\\n  }\\n}\\nnode {\\n  name: &quot;first_dense_layer/bias/Assign&quot;\\n  op: &quot;Assign&quot;\\n  input: &quot;first_dense_layer/bias&quot;\\n  input: &quot;first_dense_layer/bias/Initializer/zeros&quot;\\n  attr {\\n    key: &quot;T&quot;\\n    value {\\n      type: DT_FLOAT\\n    }\\n  }\\n  attr {\\n    key: &quot;_class&quot;\\n    value {\\n      list {\\n        s: &quot;loc:@first_dense_layer/bias&quot;\\n      }\\n    }\\n  }\\n  attr {\\n    key: &quot;use_locking&quot;\\n    value {\\n      b: true\\n    }\\n  }\\n  attr {\\n    key: &quot;validate_shape&quot;\\n    value {\\n      b: true\\n    }\\n  }\\n}\\nnode {\\n  name: &quot;first_dense_layer/bias/read&quot;\\n  op: &quot;Identity&quot;\\n  input: &quot;first_dense_layer/bias&quot;\\n  attr {\\n    key: &quot;T&quot;\\n    value {\\n      type: DT_FLOAT\\n    }\\n  }\\n  attr {\\n    key: &quot;_class&quot;\\n    value {\\n      list {\\n        s: &quot;loc:@first_dense_layer/bias&quot;\\n      }\\n    }\\n  }\\n}\\nnode {\\n  name: &quot;first_dense_layer/MatMul&quot;\\n  op: &quot;MatMul&quot;\\n  input: &quot;inputplaceholder&quot;\\n  input: &quot;first_dense_layer/kernel/read&quot;\\n  attr {\\n    key: &quot;T&quot;\\n    value {\\n      type: DT_FLOAT\\n    }\\n  }\\n  attr {\\n    key: &quot;transpose_a&quot;\\n    value {\\n      b: false\\n    }\\n  }\\n  attr {\\n    key: &quot;transpose_b&quot;\\n    value {\\n      b: false\\n    }\\n  }\\n}\\nnode {\\n  name: &quot;first_dense_layer/BiasAdd&quot;\\n  op: &quot;BiasAdd&quot;\\n  input: &quot;first_dense_layer/MatMul&quot;\\n  input: &quot;first_dense_layer/bias/read&quot;\\n  attr {\\n    key: &quot;T&quot;\\n    value {\\n      type: DT_FLOAT\\n    }\\n  }\\n  attr {\\n    key: &quot;data_format&quot;\\n    value {\\n      s: &quot;NHWC&quot;\\n    }\\n  }\\n}\\nnode {\\n  name: &quot;first_dense_layer/Sigmoid&quot;\\n  op: &quot;Sigmoid&quot;\\n  input: &quot;first_dense_layer/BiasAdd&quot;\\n  attr {\\n    key: &quot;T&quot;\\n    value {\\n      type: DT_FLOAT\\n    }\\n  }\\n}\\nnode {\\n  name: &quot;prediction_dense_layer/kernel/Initializer/random_uniform/shape&quot;\\n  op: &quot;Const&quot;\\n  attr {\\n    key: &quot;_class&quot;\\n    value {\\n      list {\\n        s: &quot;loc:@prediction_dense_layer/kernel&quot;\\n      }\\n    }\\n  }\\n  attr {\\n    key: &quot;dtype&quot;\\n    value {\\n      type: DT_INT32\\n    }\\n  }\\n  attr {\\n    key: &quot;value&quot;\\n    value {\\n      tensor {\\n        dtype: DT_INT32\\n        tensor_shape {\\n          dim {\\n            size: 2\\n          }\\n        }\\n        tensor_content: &quot;\\\\000\\\\002\\\\000\\\\000\\\\001\\\\000\\\\000\\\\000&quot;\\n      }\\n    }\\n  }\\n}\\nnode {\\n  name: &quot;prediction_dense_layer/kernel/Initializer/random_uniform/min&quot;\\n  op: &quot;Const&quot;\\n  attr {\\n    key: &quot;_class&quot;\\n    value {\\n      list {\\n        s: &quot;loc:@prediction_dense_layer/kernel&quot;\\n      }\\n    }\\n  }\\n  attr {\\n    key: &quot;dtype&quot;\\n    value {\\n      type: DT_FLOAT\\n    }\\n  }\\n  attr {\\n    key: &quot;value&quot;\\n    value {\\n      tensor {\\n        dtype: DT_FLOAT\\n        tensor_shape {\\n        }\\n        float_val: -0.10814761370420456\\n      }\\n    }\\n  }\\n}\\nnode {\\n  name: &quot;prediction_dense_layer/kernel/Initializer/random_uniform/max&quot;\\n  op: &quot;Const&quot;\\n  attr {\\n    key: &quot;_class&quot;\\n    value {\\n      list {\\n        s: &quot;loc:@prediction_dense_layer/kernel&quot;\\n      }\\n    }\\n  }\\n  attr {\\n    key: &quot;dtype&quot;\\n    value {\\n      type: DT_FLOAT\\n    }\\n  }\\n  attr {\\n    key: &quot;value&quot;\\n    value {\\n      tensor {\\n        dtype: DT_FLOAT\\n        tensor_shape {\\n        }\\n        float_val: 0.10814761370420456\\n      }\\n    }\\n  }\\n}\\nnode {\\n  name: &quot;prediction_dense_layer/kernel/Initializer/random_uniform/RandomUniform&quot;\\n  op: &quot;RandomUniform&quot;\\n  input: &quot;prediction_dense_layer/kernel/Initializer/random_uniform/shape&quot;\\n  attr {\\n    key: &quot;T&quot;\\n    value {\\n      type: DT_INT32\\n    }\\n  }\\n  attr {\\n    key: &quot;_class&quot;\\n    value {\\n      list {\\n        s: &quot;loc:@prediction_dense_layer/kernel&quot;\\n      }\\n    }\\n  }\\n  attr {\\n    key: &quot;dtype&quot;\\n    value {\\n      type: DT_FLOAT\\n    }\\n  }\\n  attr {\\n    key: &quot;seed&quot;\\n    value {\\n      i: 0\\n    }\\n  }\\n  attr {\\n    key: &quot;seed2&quot;\\n    value {\\n      i: 0\\n    }\\n  }\\n}\\nnode {\\n  name: &quot;prediction_dense_layer/kernel/Initializer/random_uniform/sub&quot;\\n  op: &quot;Sub&quot;\\n  input: &quot;prediction_dense_layer/kernel/Initializer/random_uniform/max&quot;\\n  input: &quot;prediction_dense_layer/kernel/Initializer/random_uniform/min&quot;\\n  attr {\\n    key: &quot;T&quot;\\n    value {\\n      type: DT_FLOAT\\n    }\\n  }\\n  attr {\\n    key: &quot;_class&quot;\\n    value {\\n      list {\\n        s: &quot;loc:@prediction_dense_layer/kernel&quot;\\n      }\\n    }\\n  }\\n}\\nnode {\\n  name: &quot;prediction_dense_layer/kernel/Initializer/random_uniform/mul&quot;\\n  op: &quot;Mul&quot;\\n  input: &quot;prediction_dense_layer/kernel/Initializer/random_uniform/RandomUniform&quot;\\n  input: &quot;prediction_dense_layer/kernel/Initializer/random_uniform/sub&quot;\\n  attr {\\n    key: &quot;T&quot;\\n    value {\\n      type: DT_FLOAT\\n    }\\n  }\\n  attr {\\n    key: &quot;_class&quot;\\n    value {\\n      list {\\n        s: &quot;loc:@prediction_dense_layer/kernel&quot;\\n      }\\n    }\\n  }\\n}\\nnode {\\n  name: &quot;prediction_dense_layer/kernel/Initializer/random_uniform&quot;\\n  op: &quot;Add&quot;\\n  input: &quot;prediction_dense_layer/kernel/Initializer/random_uniform/mul&quot;\\n  input: &quot;prediction_dense_layer/kernel/Initializer/random_uniform/min&quot;\\n  attr {\\n    key: &quot;T&quot;\\n    value {\\n      type: DT_FLOAT\\n    }\\n  }\\n  attr {\\n    key: &quot;_class&quot;\\n    value {\\n      list {\\n        s: &quot;loc:@prediction_dense_layer/kernel&quot;\\n      }\\n    }\\n  }\\n}\\nnode {\\n  name: &quot;prediction_dense_layer/kernel&quot;\\n  op: &quot;VariableV2&quot;\\n  attr {\\n    key: &quot;_class&quot;\\n    value {\\n      list {\\n        s: &quot;loc:@prediction_dense_layer/kernel&quot;\\n      }\\n    }\\n  }\\n  attr {\\n    key: &quot;container&quot;\\n    value {\\n      s: &quot;&quot;\\n    }\\n  }\\n  attr {\\n    key: &quot;dtype&quot;\\n    value {\\n      type: DT_FLOAT\\n    }\\n  }\\n  attr {\\n    key: &quot;shape&quot;\\n    value {\\n      shape {\\n        dim {\\n          size: 512\\n        }\\n        dim {\\n          size: 1\\n        }\\n      }\\n    }\\n  }\\n  attr {\\n    key: &quot;shared_name&quot;\\n    value {\\n      s: &quot;&quot;\\n    }\\n  }\\n}\\nnode {\\n  name: &quot;prediction_dense_layer/kernel/Assign&quot;\\n  op: &quot;Assign&quot;\\n  input: &quot;prediction_dense_layer/kernel&quot;\\n  input: &quot;prediction_dense_layer/kernel/Initializer/random_uniform&quot;\\n  attr {\\n    key: &quot;T&quot;\\n    value {\\n      type: DT_FLOAT\\n    }\\n  }\\n  attr {\\n    key: &quot;_class&quot;\\n    value {\\n      list {\\n        s: &quot;loc:@prediction_dense_layer/kernel&quot;\\n      }\\n    }\\n  }\\n  attr {\\n    key: &quot;use_locking&quot;\\n    value {\\n      b: true\\n    }\\n  }\\n  attr {\\n    key: &quot;validate_shape&quot;\\n    value {\\n      b: true\\n    }\\n  }\\n}\\nnode {\\n  name: &quot;prediction_dense_layer/kernel/read&quot;\\n  op: &quot;Identity&quot;\\n  input: &quot;prediction_dense_layer/kernel&quot;\\n  attr {\\n    key: &quot;T&quot;\\n    value {\\n      type: DT_FLOAT\\n    }\\n  }\\n  attr {\\n    key: &quot;_class&quot;\\n    value {\\n      list {\\n        s: &quot;loc:@prediction_dense_layer/kernel&quot;\\n      }\\n    }\\n  }\\n}\\nnode {\\n  name: &quot;prediction_dense_layer/bias/Initializer/zeros&quot;\\n  op: &quot;Const&quot;\\n  attr {\\n    key: &quot;_class&quot;\\n    value {\\n      list {\\n        s: &quot;loc:@prediction_dense_layer/bias&quot;\\n      }\\n    }\\n  }\\n  attr {\\n    key: &quot;dtype&quot;\\n    value {\\n      type: DT_FLOAT\\n    }\\n  }\\n  attr {\\n    key: &quot;value&quot;\\n    value {\\n      tensor {\\n        dtype: DT_FLOAT\\n        tensor_shape {\\n          dim {\\n            size: 1\\n          }\\n        }\\n        float_val: 0.0\\n      }\\n    }\\n  }\\n}\\nnode {\\n  name: &quot;prediction_dense_layer/bias&quot;\\n  op: &quot;VariableV2&quot;\\n  attr {\\n    key: &quot;_class&quot;\\n    value {\\n      list {\\n        s: &quot;loc:@prediction_dense_layer/bias&quot;\\n      }\\n    }\\n  }\\n  attr {\\n    key: &quot;container&quot;\\n    value {\\n      s: &quot;&quot;\\n    }\\n  }\\n  attr {\\n    key: &quot;dtype&quot;\\n    value {\\n      type: DT_FLOAT\\n    }\\n  }\\n  attr {\\n    key: &quot;shape&quot;\\n    value {\\n      shape {\\n        dim {\\n          size: 1\\n        }\\n      }\\n    }\\n  }\\n  attr {\\n    key: &quot;shared_name&quot;\\n    value {\\n      s: &quot;&quot;\\n    }\\n  }\\n}\\nnode {\\n  name: &quot;prediction_dense_layer/bias/Assign&quot;\\n  op: &quot;Assign&quot;\\n  input: &quot;prediction_dense_layer/bias&quot;\\n  input: &quot;prediction_dense_layer/bias/Initializer/zeros&quot;\\n  attr {\\n    key: &quot;T&quot;\\n    value {\\n      type: DT_FLOAT\\n    }\\n  }\\n  attr {\\n    key: &quot;_class&quot;\\n    value {\\n      list {\\n        s: &quot;loc:@prediction_dense_layer/bias&quot;\\n      }\\n    }\\n  }\\n  attr {\\n    key: &quot;use_locking&quot;\\n    value {\\n      b: true\\n    }\\n  }\\n  attr {\\n    key: &quot;validate_shape&quot;\\n    value {\\n      b: true\\n    }\\n  }\\n}\\nnode {\\n  name: &quot;prediction_dense_layer/bias/read&quot;\\n  op: &quot;Identity&quot;\\n  input: &quot;prediction_dense_layer/bias&quot;\\n  attr {\\n    key: &quot;T&quot;\\n    value {\\n      type: DT_FLOAT\\n    }\\n  }\\n  attr {\\n    key: &quot;_class&quot;\\n    value {\\n      list {\\n        s: &quot;loc:@prediction_dense_layer/bias&quot;\\n      }\\n    }\\n  }\\n}\\nnode {\\n  name: &quot;prediction_dense_layer/MatMul&quot;\\n  op: &quot;MatMul&quot;\\n  input: &quot;first_dense_layer/Sigmoid&quot;\\n  input: &quot;prediction_dense_layer/kernel/read&quot;\\n  attr {\\n    key: &quot;T&quot;\\n    value {\\n      type: DT_FLOAT\\n    }\\n  }\\n  attr {\\n    key: &quot;transpose_a&quot;\\n    value {\\n      b: false\\n    }\\n  }\\n  attr {\\n    key: &quot;transpose_b&quot;\\n    value {\\n      b: false\\n    }\\n  }\\n}\\nnode {\\n  name: &quot;prediction_dense_layer/BiasAdd&quot;\\n  op: &quot;BiasAdd&quot;\\n  input: &quot;prediction_dense_layer/MatMul&quot;\\n  input: &quot;prediction_dense_layer/bias/read&quot;\\n  attr {\\n    key: &quot;T&quot;\\n    value {\\n      type: DT_FLOAT\\n    }\\n  }\\n  attr {\\n    key: &quot;data_format&quot;\\n    value {\\n      s: &quot;NHWC&quot;\\n    }\\n  }\\n}\\nnode {\\n  name: &quot;mean_squared_error/SquaredDifference&quot;\\n  op: &quot;SquaredDifference&quot;\\n  input: &quot;prediction_dense_layer/BiasAdd&quot;\\n  input: &quot;userdefinedoutput&quot;\\n  attr {\\n    key: &quot;T&quot;\\n    value {\\n      type: DT_FLOAT\\n    }\\n  }\\n}\\nnode {\\n  name: &quot;mean_squared_error/assert_broadcastable/weights&quot;\\n  op: &quot;Const&quot;\\n  attr {\\n    key: &quot;dtype&quot;\\n    value {\\n      type: DT_FLOAT\\n    }\\n  }\\n  attr {\\n    key: &quot;value&quot;\\n    value {\\n      tensor {\\n        dtype: DT_FLOAT\\n        tensor_shape {\\n        }\\n        float_val: 1.0\\n      }\\n    }\\n  }\\n}\\nnode {\\n  name: &quot;mean_squared_error/assert_broadcastable/weights/shape&quot;\\n  op: &quot;Const&quot;\\n  attr {\\n    key: &quot;dtype&quot;\\n    value {\\n      type: DT_INT32\\n    }\\n  }\\n  attr {\\n    key: &quot;value&quot;\\n    value {\\n      tensor {\\n        dtype: DT_INT32\\n        tensor_shape {\\n          dim {\\n          }\\n        }\\n      }\\n    }\\n  }\\n}\\nnode {\\n  name: &quot;mean_squared_error/assert_broadcastable/weights/rank&quot;\\n  op: &quot;Const&quot;\\n  attr {\\n    key: &quot;dtype&quot;\\n    value {\\n      type: DT_INT32\\n    }\\n  }\\n  attr {\\n    key: &quot;value&quot;\\n    value {\\n      tensor {\\n        dtype: DT_INT32\\n        tensor_shape {\\n        }\\n        int_val: 0\\n      }\\n    }\\n  }\\n}\\nnode {\\n  name: &quot;mean_squared_error/assert_broadcastable/values/shape&quot;\\n  op: &quot;Shape&quot;\\n  input: &quot;mean_squared_error/SquaredDifference&quot;\\n  attr {\\n    key: &quot;T&quot;\\n    value {\\n      type: DT_FLOAT\\n    }\\n  }\\n  attr {\\n    key: &quot;out_type&quot;\\n    value {\\n      type: DT_INT32\\n    }\\n  }\\n}\\nnode {\\n  name: &quot;mean_squared_error/assert_broadcastable/values/rank&quot;\\n  op: &quot;Const&quot;\\n  attr {\\n    key: &quot;dtype&quot;\\n    value {\\n      type: DT_INT32\\n    }\\n  }\\n  attr {\\n    key: &quot;value&quot;\\n    value {\\n      tensor {\\n        dtype: DT_INT32\\n        tensor_shape {\\n        }\\n        int_val: 2\\n      }\\n    }\\n  }\\n}\\nnode {\\n  name: &quot;mean_squared_error/assert_broadcastable/static_scalar_check_success&quot;\\n  op: &quot;NoOp&quot;\\n}\\nnode {\\n  name: &quot;mean_squared_error/ToFloat_3/x&quot;\\n  op: &quot;Const&quot;\\n  input: &quot;^mean_squared_error/assert_broadcastable/static_scalar_check_success&quot;\\n  attr {\\n    key: &quot;dtype&quot;\\n    value {\\n      type: DT_FLOAT\\n    }\\n  }\\n  attr {\\n    key: &quot;value&quot;\\n    value {\\n      tensor {\\n        dtype: DT_FLOAT\\n        tensor_shape {\\n        }\\n        float_val: 1.0\\n      }\\n    }\\n  }\\n}\\nnode {\\n  name: &quot;mean_squared_error/Mul&quot;\\n  op: &quot;Mul&quot;\\n  input: &quot;mean_squared_error/SquaredDifference&quot;\\n  input: &quot;mean_squared_error/ToFloat_3/x&quot;\\n  attr {\\n    key: &quot;T&quot;\\n    value {\\n      type: DT_FLOAT\\n    }\\n  }\\n}\\nnode {\\n  name: &quot;mean_squared_error/Const&quot;\\n  op: &quot;Const&quot;\\n  input: &quot;^mean_squared_error/assert_broadcastable/static_scalar_check_success&quot;\\n  attr {\\n    key: &quot;dtype&quot;\\n    value {\\n      type: DT_INT32\\n    }\\n  }\\n  attr {\\n    key: &quot;value&quot;\\n    value {\\n      tensor {\\n        dtype: DT_INT32\\n        tensor_shape {\\n          dim {\\n            size: 2\\n          }\\n        }\\n        tensor_content: &quot;\\\\000\\\\000\\\\000\\\\000\\\\001\\\\000\\\\000\\\\000&quot;\\n      }\\n    }\\n  }\\n}\\nnode {\\n  name: &quot;mean_squared_error/Sum&quot;\\n  op: &quot;Sum&quot;\\n  input: &quot;mean_squared_error/Mul&quot;\\n  input: &quot;mean_squared_error/Const&quot;\\n  attr {\\n    key: &quot;T&quot;\\n    value {\\n      type: DT_FLOAT\\n    }\\n  }\\n  attr {\\n    key: &quot;Tidx&quot;\\n    value {\\n      type: DT_INT32\\n    }\\n  }\\n  attr {\\n    key: &quot;keep_dims&quot;\\n    value {\\n      b: false\\n    }\\n  }\\n}\\nnode {\\n  name: &quot;mean_squared_error/num_present/Equal/y&quot;\\n  op: &quot;Const&quot;\\n  input: &quot;^mean_squared_error/assert_broadcastable/static_scalar_check_success&quot;\\n  attr {\\n    key: &quot;dtype&quot;\\n    value {\\n      type: DT_FLOAT\\n    }\\n  }\\n  attr {\\n    key: &quot;value&quot;\\n    value {\\n      tensor {\\n        dtype: DT_FLOAT\\n        tensor_shape {\\n        }\\n        float_val: 0.0\\n      }\\n    }\\n  }\\n}\\nnode {\\n  name: &quot;mean_squared_error/num_present/Equal&quot;\\n  op: &quot;Equal&quot;\\n  input: &quot;mean_squared_error/ToFloat_3/x&quot;\\n  input: &quot;mean_squared_error/num_present/Equal/y&quot;\\n  attr {\\n    key: &quot;T&quot;\\n    value {\\n      type: DT_FLOAT\\n    }\\n  }\\n}\\nnode {\\n  name: &quot;mean_squared_error/num_present/zeros_like&quot;\\n  op: &quot;Const&quot;\\n  input: &quot;^mean_squared_error/assert_broadcastable/static_scalar_check_success&quot;\\n  attr {\\n    key: &quot;dtype&quot;\\n    value {\\n      type: DT_FLOAT\\n    }\\n  }\\n  attr {\\n    key: &quot;value&quot;\\n    value {\\n      tensor {\\n        dtype: DT_FLOAT\\n        tensor_shape {\\n        }\\n        float_val: 0.0\\n      }\\n    }\\n  }\\n}\\nnode {\\n  name: &quot;mean_squared_error/num_present/ones_like/Shape&quot;\\n  op: &quot;Const&quot;\\n  input: &quot;^mean_squared_error/assert_broadcastable/static_scalar_check_success&quot;\\n  attr {\\n    key: &quot;dtype&quot;\\n    value {\\n      type: DT_INT32\\n    }\\n  }\\n  attr {\\n    key: &quot;value&quot;\\n    value {\\n      tensor {\\n        dtype: DT_INT32\\n        tensor_shape {\\n          dim {\\n          }\\n        }\\n      }\\n    }\\n  }\\n}\\nnode {\\n  name: &quot;mean_squared_error/num_present/ones_like/Const&quot;\\n  op: &quot;Const&quot;\\n  input: &quot;^mean_squared_error/assert_broadcastable/static_scalar_check_success&quot;\\n  attr {\\n    key: &quot;dtype&quot;\\n    value {\\n      type: DT_FLOAT\\n    }\\n  }\\n  attr {\\n    key: &quot;value&quot;\\n    value {\\n      tensor {\\n        dtype: DT_FLOAT\\n        tensor_shape {\\n        }\\n        float_val: 1.0\\n      }\\n    }\\n  }\\n}\\nnode {\\n  name: &quot;mean_squared_error/num_present/ones_like&quot;\\n  op: &quot;Fill&quot;\\n  input: &quot;mean_squared_error/num_present/ones_like/Shape&quot;\\n  input: &quot;mean_squared_error/num_present/ones_like/Const&quot;\\n  attr {\\n    key: &quot;T&quot;\\n    value {\\n      type: DT_FLOAT\\n    }\\n  }\\n}\\nnode {\\n  name: &quot;mean_squared_error/num_present/Select&quot;\\n  op: &quot;Select&quot;\\n  input: &quot;mean_squared_error/num_present/Equal&quot;\\n  input: &quot;mean_squared_error/num_present/zeros_like&quot;\\n  input: &quot;mean_squared_error/num_present/ones_like&quot;\\n  attr {\\n    key: &quot;T&quot;\\n    value {\\n      type: DT_FLOAT\\n    }\\n  }\\n}\\nnode {\\n  name: &quot;mean_squared_error/num_present/broadcast_weights/assert_broadcastable/weights/shape&quot;\\n  op: &quot;Const&quot;\\n  input: &quot;^mean_squared_error/assert_broadcastable/static_scalar_check_success&quot;\\n  attr {\\n    key: &quot;dtype&quot;\\n    value {\\n      type: DT_INT32\\n    }\\n  }\\n  attr {\\n    key: &quot;value&quot;\\n    value {\\n      tensor {\\n        dtype: DT_INT32\\n        tensor_shape {\\n          dim {\\n          }\\n        }\\n      }\\n    }\\n  }\\n}\\nnode {\\n  name: &quot;mean_squared_error/num_present/broadcast_weights/assert_broadcastable/weights/rank&quot;\\n  op: &quot;Const&quot;\\n  input: &quot;^mean_squared_error/assert_broadcastable/static_scalar_check_success&quot;\\n  attr {\\n    key: &quot;dtype&quot;\\n    value {\\n      type: DT_INT32\\n    }\\n  }\\n  attr {\\n    key: &quot;value&quot;\\n    value {\\n      tensor {\\n        dtype: DT_INT32\\n        tensor_shape {\\n        }\\n        int_val: 0\\n      }\\n    }\\n  }\\n}\\nnode {\\n  name: &quot;mean_squared_error/num_present/broadcast_weights/assert_broadcastable/values/shape&quot;\\n  op: &quot;Shape&quot;\\n  input: &quot;mean_squared_error/SquaredDifference&quot;\\n  input: &quot;^mean_squared_error/assert_broadcastable/static_scalar_check_success&quot;\\n  attr {\\n    key: &quot;T&quot;\\n    value {\\n      type: DT_FLOAT\\n    }\\n  }\\n  attr {\\n    key: &quot;out_type&quot;\\n    value {\\n      type: DT_INT32\\n    }\\n  }\\n}\\nnode {\\n  name: &quot;mean_squared_error/num_present/broadcast_weights/assert_broadcastable/values/rank&quot;\\n  op: &quot;Const&quot;\\n  input: &quot;^mean_squared_error/assert_broadcastable/static_scalar_check_success&quot;\\n  attr {\\n    key: &quot;dtype&quot;\\n    value {\\n      type: DT_INT32\\n    }\\n  }\\n  attr {\\n    key: &quot;value&quot;\\n    value {\\n      tensor {\\n        dtype: DT_INT32\\n        tensor_shape {\\n        }\\n        int_val: 2\\n      }\\n    }\\n  }\\n}\\nnode {\\n  name: &quot;mean_squared_error/num_present/broadcast_weights/assert_broadcastable/static_scalar_check_success&quot;\\n  op: &quot;NoOp&quot;\\n  input: &quot;^mean_squared_error/assert_broadcastable/static_scalar_check_success&quot;\\n}\\nnode {\\n  name: &quot;mean_squared_error/num_present/broadcast_weights/ones_like/Shape&quot;\\n  op: &quot;Shape&quot;\\n  input: &quot;mean_squared_error/SquaredDifference&quot;\\n  input: &quot;^mean_squared_error/assert_broadcastable/static_scalar_check_success&quot;\\n  input: &quot;^mean_squared_error/num_present/broadcast_weights/assert_broadcastable/static_scalar_check_success&quot;\\n  attr {\\n    key: &quot;T&quot;\\n    value {\\n      type: DT_FLOAT\\n    }\\n  }\\n  attr {\\n    key: &quot;out_type&quot;\\n    value {\\n      type: DT_INT32\\n    }\\n  }\\n}\\nnode {\\n  name: &quot;mean_squared_error/num_present/broadcast_weights/ones_like/Const&quot;\\n  op: &quot;Const&quot;\\n  input: &quot;^mean_squared_error/assert_broadcastable/static_scalar_check_success&quot;\\n  input: &quot;^mean_squared_error/num_present/broadcast_weights/assert_broadcastable/static_scalar_check_success&quot;\\n  attr {\\n    key: &quot;dtype&quot;\\n    value {\\n      type: DT_FLOAT\\n    }\\n  }\\n  attr {\\n    key: &quot;value&quot;\\n    value {\\n      tensor {\\n        dtype: DT_FLOAT\\n        tensor_shape {\\n        }\\n        float_val: 1.0\\n      }\\n    }\\n  }\\n}\\nnode {\\n  name: &quot;mean_squared_error/num_present/broadcast_weights/ones_like&quot;\\n  op: &quot;Fill&quot;\\n  input: &quot;mean_squared_error/num_present/broadcast_weights/ones_like/Shape&quot;\\n  input: &quot;mean_squared_error/num_present/broadcast_weights/ones_like/Const&quot;\\n  attr {\\n    key: &quot;T&quot;\\n    value {\\n      type: DT_FLOAT\\n    }\\n  }\\n}\\nnode {\\n  name: &quot;mean_squared_error/num_present/broadcast_weights&quot;\\n  op: &quot;Mul&quot;\\n  input: &quot;mean_squared_error/num_present/Select&quot;\\n  input: &quot;mean_squared_error/num_present/broadcast_weights/ones_like&quot;\\n  attr {\\n    key: &quot;T&quot;\\n    value {\\n      type: DT_FLOAT\\n    }\\n  }\\n}\\nnode {\\n  name: &quot;mean_squared_error/num_present/Const&quot;\\n  op: &quot;Const&quot;\\n  input: &quot;^mean_squared_error/assert_broadcastable/static_scalar_check_success&quot;\\n  attr {\\n    key: &quot;dtype&quot;\\n    value {\\n      type: DT_INT32\\n    }\\n  }\\n  attr {\\n    key: &quot;value&quot;\\n    value {\\n      tensor {\\n        dtype: DT_INT32\\n        tensor_shape {\\n          dim {\\n            size: 2\\n          }\\n        }\\n        tensor_content: &quot;\\\\000\\\\000\\\\000\\\\000\\\\001\\\\000\\\\000\\\\000&quot;\\n      }\\n    }\\n  }\\n}\\nnode {\\n  name: &quot;mean_squared_error/num_present&quot;\\n  op: &quot;Sum&quot;\\n  input: &quot;mean_squared_error/num_present/broadcast_weights&quot;\\n  input: &quot;mean_squared_error/num_present/Const&quot;\\n  attr {\\n    key: &quot;T&quot;\\n    value {\\n      type: DT_FLOAT\\n    }\\n  }\\n  attr {\\n    key: &quot;Tidx&quot;\\n    value {\\n      type: DT_INT32\\n    }\\n  }\\n  attr {\\n    key: &quot;keep_dims&quot;\\n    value {\\n      b: false\\n    }\\n  }\\n}\\nnode {\\n  name: &quot;mean_squared_error/Const_1&quot;\\n  op: &quot;Const&quot;\\n  input: &quot;^mean_squared_error/assert_broadcastable/static_scalar_check_success&quot;\\n  attr {\\n    key: &quot;dtype&quot;\\n    value {\\n      type: DT_INT32\\n    }\\n  }\\n  attr {\\n    key: &quot;value&quot;\\n    value {\\n      tensor {\\n        dtype: DT_INT32\\n        tensor_shape {\\n          dim {\\n          }\\n        }\\n      }\\n    }\\n  }\\n}\\nnode {\\n  name: &quot;mean_squared_error/Sum_1&quot;\\n  op: &quot;Sum&quot;\\n  input: &quot;mean_squared_error/Sum&quot;\\n  input: &quot;mean_squared_error/Const_1&quot;\\n  attr {\\n    key: &quot;T&quot;\\n    value {\\n      type: DT_FLOAT\\n    }\\n  }\\n  attr {\\n    key: &quot;Tidx&quot;\\n    value {\\n      type: DT_INT32\\n    }\\n  }\\n  attr {\\n    key: &quot;keep_dims&quot;\\n    value {\\n      b: false\\n    }\\n  }\\n}\\nnode {\\n  name: &quot;mean_squared_error/Greater/y&quot;\\n  op: &quot;Const&quot;\\n  input: &quot;^mean_squared_error/assert_broadcastable/static_scalar_check_success&quot;\\n  attr {\\n    key: &quot;dtype&quot;\\n    value {\\n      type: DT_FLOAT\\n    }\\n  }\\n  attr {\\n    key: &quot;value&quot;\\n    value {\\n      tensor {\\n        dtype: DT_FLOAT\\n        tensor_shape {\\n        }\\n        float_val: 0.0\\n      }\\n    }\\n  }\\n}\\nnode {\\n  name: &quot;mean_squared_error/Greater&quot;\\n  op: &quot;Greater&quot;\\n  input: &quot;mean_squared_error/num_present&quot;\\n  input: &quot;mean_squared_error/Greater/y&quot;\\n  attr {\\n    key: &quot;T&quot;\\n    value {\\n      type: DT_FLOAT\\n    }\\n  }\\n}\\nnode {\\n  name: &quot;mean_squared_error/Equal/y&quot;\\n  op: &quot;Const&quot;\\n  input: &quot;^mean_squared_error/assert_broadcastable/static_scalar_check_success&quot;\\n  attr {\\n    key: &quot;dtype&quot;\\n    value {\\n      type: DT_FLOAT\\n    }\\n  }\\n  attr {\\n    key: &quot;value&quot;\\n    value {\\n      tensor {\\n        dtype: DT_FLOAT\\n        tensor_shape {\\n        }\\n        float_val: 0.0\\n      }\\n    }\\n  }\\n}\\nnode {\\n  name: &quot;mean_squared_error/Equal&quot;\\n  op: &quot;Equal&quot;\\n  input: &quot;mean_squared_error/num_present&quot;\\n  input: &quot;mean_squared_error/Equal/y&quot;\\n  attr {\\n    key: &quot;T&quot;\\n    value {\\n      type: DT_FLOAT\\n    }\\n  }\\n}\\nnode {\\n  name: &quot;mean_squared_error/ones_like/Shape&quot;\\n  op: &quot;Const&quot;\\n  input: &quot;^mean_squared_error/assert_broadcastable/static_scalar_check_success&quot;\\n  attr {\\n    key: &quot;dtype&quot;\\n    value {\\n      type: DT_INT32\\n    }\\n  }\\n  attr {\\n    key: &quot;value&quot;\\n    value {\\n      tensor {\\n        dtype: DT_INT32\\n        tensor_shape {\\n          dim {\\n          }\\n        }\\n      }\\n    }\\n  }\\n}\\nnode {\\n  name: &quot;mean_squared_error/ones_like/Const&quot;\\n  op: &quot;Const&quot;\\n  input: &quot;^mean_squared_error/assert_broadcastable/static_scalar_check_success&quot;\\n  attr {\\n    key: &quot;dtype&quot;\\n    value {\\n      type: DT_FLOAT\\n    }\\n  }\\n  attr {\\n    key: &quot;value&quot;\\n    value {\\n      tensor {\\n        dtype: DT_FLOAT\\n        tensor_shape {\\n        }\\n        float_val: 1.0\\n      }\\n    }\\n  }\\n}\\nnode {\\n  name: &quot;mean_squared_error/ones_like&quot;\\n  op: &quot;Fill&quot;\\n  input: &quot;mean_squared_error/ones_like/Shape&quot;\\n  input: &quot;mean_squared_error/ones_like/Const&quot;\\n  attr {\\n    key: &quot;T&quot;\\n    value {\\n      type: DT_FLOAT\\n    }\\n  }\\n}\\nnode {\\n  name: &quot;mean_squared_error/Select&quot;\\n  op: &quot;Select&quot;\\n  input: &quot;mean_squared_error/Equal&quot;\\n  input: &quot;mean_squared_error/ones_like&quot;\\n  input: &quot;mean_squared_error/num_present&quot;\\n  attr {\\n    key: &quot;T&quot;\\n    value {\\n      type: DT_FLOAT\\n    }\\n  }\\n}\\nnode {\\n  name: &quot;mean_squared_error/div&quot;\\n  op: &quot;RealDiv&quot;\\n  input: &quot;mean_squared_error/Sum_1&quot;\\n  input: &quot;mean_squared_error/Select&quot;\\n  attr {\\n    key: &quot;T&quot;\\n    value {\\n      type: DT_FLOAT\\n    }\\n  }\\n}\\nnode {\\n  name: &quot;mean_squared_error/zeros_like&quot;\\n  op: &quot;Const&quot;\\n  input: &quot;^mean_squared_error/assert_broadcastable/static_scalar_check_success&quot;\\n  attr {\\n    key: &quot;dtype&quot;\\n    value {\\n      type: DT_FLOAT\\n    }\\n  }\\n  attr {\\n    key: &quot;value&quot;\\n    value {\\n      tensor {\\n        dtype: DT_FLOAT\\n        tensor_shape {\\n        }\\n        float_val: 0.0\\n      }\\n    }\\n  }\\n}\\nnode {\\n  name: &quot;mean_squared_error/value&quot;\\n  op: &quot;Select&quot;\\n  input: &quot;mean_squared_error/Greater&quot;\\n  input: &quot;mean_squared_error/div&quot;\\n  input: &quot;mean_squared_error/zeros_like&quot;\\n  attr {\\n    key: &quot;T&quot;\\n    value {\\n      type: DT_FLOAT\\n    }\\n  }\\n}\\nnode {\\n  name: &quot;gradients/Shape&quot;\\n  op: &quot;Const&quot;\\n  attr {\\n    key: &quot;dtype&quot;\\n    value {\\n      type: DT_INT32\\n    }\\n  }\\n  attr {\\n    key: &quot;value&quot;\\n    value {\\n      tensor {\\n        dtype: DT_INT32\\n        tensor_shape {\\n          dim {\\n          }\\n        }\\n      }\\n    }\\n  }\\n}\\nnode {\\n  name: &quot;gradients/Const&quot;\\n  op: &quot;Const&quot;\\n  attr {\\n    key: &quot;dtype&quot;\\n    value {\\n      type: DT_FLOAT\\n    }\\n  }\\n  attr {\\n    key: &quot;value&quot;\\n    value {\\n      tensor {\\n        dtype: DT_FLOAT\\n        tensor_shape {\\n        }\\n        float_val: 1.0\\n      }\\n    }\\n  }\\n}\\nnode {\\n  name: &quot;gradients/Fill&quot;\\n  op: &quot;Fill&quot;\\n  input: &quot;gradients/Shape&quot;\\n  input: &quot;gradients/Const&quot;\\n  attr {\\n    key: &quot;T&quot;\\n    value {\\n      type: DT_FLOAT\\n    }\\n  }\\n}\\nnode {\\n  name: &quot;gradients/mean_squared_error/value_grad/zeros_like&quot;\\n  op: &quot;Const&quot;\\n  attr {\\n    key: &quot;dtype&quot;\\n    value {\\n      type: DT_FLOAT\\n    }\\n  }\\n  attr {\\n    key: &quot;value&quot;\\n    value {\\n      tensor {\\n        dtype: DT_FLOAT\\n        tensor_shape {\\n        }\\n        float_val: 0.0\\n      }\\n    }\\n  }\\n}\\nnode {\\n  name: &quot;gradients/mean_squared_error/value_grad/Select&quot;\\n  op: &quot;Select&quot;\\n  input: &quot;mean_squared_error/Greater&quot;\\n  input: &quot;gradients/Fill&quot;\\n  input: &quot;gradients/mean_squared_error/value_grad/zeros_like&quot;\\n  attr {\\n    key: &quot;T&quot;\\n    value {\\n      type: DT_FLOAT\\n    }\\n  }\\n}\\nnode {\\n  name: &quot;gradients/mean_squared_error/value_grad/Select_1&quot;\\n  op: &quot;Select&quot;\\n  input: &quot;mean_squared_error/Greater&quot;\\n  input: &quot;gradients/mean_squared_error/value_grad/zeros_like&quot;\\n  input: &quot;gradients/Fill&quot;\\n  attr {\\n    key: &quot;T&quot;\\n    value {\\n      type: DT_FLOAT\\n    }\\n  }\\n}\\nnode {\\n  name: &quot;gradients/mean_squared_error/value_grad/tuple/group_deps&quot;\\n  op: &quot;NoOp&quot;\\n  input: &quot;^gradients/mean_squared_error/value_grad/Select&quot;\\n  input: &quot;^gradients/mean_squared_error/value_grad/Select_1&quot;\\n}\\nnode {\\n  name: &quot;gradients/mean_squared_error/value_grad/tuple/control_dependency&quot;\\n  op: &quot;Identity&quot;\\n  input: &quot;gradients/mean_squared_error/value_grad/Select&quot;\\n  input: &quot;^gradients/mean_squared_error/value_grad/tuple/group_deps&quot;\\n  attr {\\n    key: &quot;T&quot;\\n    value {\\n      type: DT_FLOAT\\n    }\\n  }\\n  attr {\\n    key: &quot;_class&quot;\\n    value {\\n      list {\\n        s: &quot;loc:@gradients/mean_squared_error/value_grad/Select&quot;\\n      }\\n    }\\n  }\\n}\\nnode {\\n  name: &quot;gradients/mean_squared_error/value_grad/tuple/control_dependency_1&quot;\\n  op: &quot;Identity&quot;\\n  input: &quot;gradients/mean_squared_error/value_grad/Select_1&quot;\\n  input: &quot;^gradients/mean_squared_error/value_grad/tuple/group_deps&quot;\\n  attr {\\n    key: &quot;T&quot;\\n    value {\\n      type: DT_FLOAT\\n    }\\n  }\\n  attr {\\n    key: &quot;_class&quot;\\n    value {\\n      list {\\n        s: &quot;loc:@gradients/mean_squared_error/value_grad/Select_1&quot;\\n      }\\n    }\\n  }\\n}\\nnode {\\n  name: &quot;gradients/mean_squared_error/div_grad/Shape&quot;\\n  op: &quot;Const&quot;\\n  attr {\\n    key: &quot;dtype&quot;\\n    value {\\n      type: DT_INT32\\n    }\\n  }\\n  attr {\\n    key: &quot;value&quot;\\n    value {\\n      tensor {\\n        dtype: DT_INT32\\n        tensor_shape {\\n          dim {\\n          }\\n        }\\n      }\\n    }\\n  }\\n}\\nnode {\\n  name: &quot;gradients/mean_squared_error/div_grad/Shape_1&quot;\\n  op: &quot;Const&quot;\\n  attr {\\n    key: &quot;dtype&quot;\\n    value {\\n      type: DT_INT32\\n    }\\n  }\\n  attr {\\n    key: &quot;value&quot;\\n    value {\\n      tensor {\\n        dtype: DT_INT32\\n        tensor_shape {\\n          dim {\\n          }\\n        }\\n      }\\n    }\\n  }\\n}\\nnode {\\n  name: &quot;gradients/mean_squared_error/div_grad/BroadcastGradientArgs&quot;\\n  op: &quot;BroadcastGradientArgs&quot;\\n  input: &quot;gradients/mean_squared_error/div_grad/Shape&quot;\\n  input: &quot;gradients/mean_squared_error/div_grad/Shape_1&quot;\\n  attr {\\n    key: &quot;T&quot;\\n    value {\\n      type: DT_INT32\\n    }\\n  }\\n}\\nnode {\\n  name: &quot;gradients/mean_squared_error/div_grad/RealDiv&quot;\\n  op: &quot;RealDiv&quot;\\n  input: &quot;gradients/mean_squared_error/value_grad/tuple/control_dependency&quot;\\n  input: &quot;mean_squared_error/Select&quot;\\n  attr {\\n    key: &quot;T&quot;\\n    value {\\n      type: DT_FLOAT\\n    }\\n  }\\n}\\nnode {\\n  name: &quot;gradients/mean_squared_error/div_grad/Sum&quot;\\n  op: &quot;Sum&quot;\\n  input: &quot;gradients/mean_squared_error/div_grad/RealDiv&quot;\\n  input: &quot;gradients/mean_squared_error/div_grad/BroadcastGradientArgs&quot;\\n  attr {\\n    key: &quot;T&quot;\\n    value {\\n      type: DT_FLOAT\\n    }\\n  }\\n  attr {\\n    key: &quot;Tidx&quot;\\n    value {\\n      type: DT_INT32\\n    }\\n  }\\n  attr {\\n    key: &quot;keep_dims&quot;\\n    value {\\n      b: false\\n    }\\n  }\\n}\\nnode {\\n  name: &quot;gradients/mean_squared_error/div_grad/Reshape&quot;\\n  op: &quot;Reshape&quot;\\n  input: &quot;gradients/mean_squared_error/div_grad/Sum&quot;\\n  input: &quot;gradients/mean_squared_error/div_grad/Shape&quot;\\n  attr {\\n    key: &quot;T&quot;\\n    value {\\n      type: DT_FLOAT\\n    }\\n  }\\n  attr {\\n    key: &quot;Tshape&quot;\\n    value {\\n      type: DT_INT32\\n    }\\n  }\\n}\\nnode {\\n  name: &quot;gradients/mean_squared_error/div_grad/Neg&quot;\\n  op: &quot;Neg&quot;\\n  input: &quot;mean_squared_error/Sum_1&quot;\\n  attr {\\n    key: &quot;T&quot;\\n    value {\\n      type: DT_FLOAT\\n    }\\n  }\\n}\\nnode {\\n  name: &quot;gradients/mean_squared_error/div_grad/RealDiv_1&quot;\\n  op: &quot;RealDiv&quot;\\n  input: &quot;gradients/mean_squared_error/div_grad/Neg&quot;\\n  input: &quot;mean_squared_error/Select&quot;\\n  attr {\\n    key: &quot;T&quot;\\n    value {\\n      type: DT_FLOAT\\n    }\\n  }\\n}\\nnode {\\n  name: &quot;gradients/mean_squared_error/div_grad/RealDiv_2&quot;\\n  op: &quot;RealDiv&quot;\\n  input: &quot;gradients/mean_squared_error/div_grad/RealDiv_1&quot;\\n  input: &quot;mean_squared_error/Select&quot;\\n  attr {\\n    key: &quot;T&quot;\\n    value {\\n      type: DT_FLOAT\\n    }\\n  }\\n}\\nnode {\\n  name: &quot;gradients/mean_squared_error/div_grad/mul&quot;\\n  op: &quot;Mul&quot;\\n  input: &quot;gradients/mean_squared_error/value_grad/tuple/control_dependency&quot;\\n  input: &quot;gradients/mean_squared_error/div_grad/RealDiv_2&quot;\\n  attr {\\n    key: &quot;T&quot;\\n    value {\\n      type: DT_FLOAT\\n    }\\n  }\\n}\\nnode {\\n  name: &quot;gradients/mean_squared_error/div_grad/Sum_1&quot;\\n  op: &quot;Sum&quot;\\n  input: &quot;gradients/mean_squared_error/div_grad/mul&quot;\\n  input: &quot;gradients/mean_squared_error/div_grad/BroadcastGradientArgs:1&quot;\\n  attr {\\n    key: &quot;T&quot;\\n    value {\\n      type: DT_FLOAT\\n    }\\n  }\\n  attr {\\n    key: &quot;Tidx&quot;\\n    value {\\n      type: DT_INT32\\n    }\\n  }\\n  attr {\\n    key: &quot;keep_dims&quot;\\n    value {\\n      b: false\\n    }\\n  }\\n}\\nnode {\\n  name: &quot;gradients/mean_squared_error/div_grad/Reshape_1&quot;\\n  op: &quot;Reshape&quot;\\n  input: &quot;gradients/mean_squared_error/div_grad/Sum_1&quot;\\n  input: &quot;gradients/mean_squared_error/div_grad/Shape_1&quot;\\n  attr {\\n    key: &quot;T&quot;\\n    value {\\n      type: DT_FLOAT\\n    }\\n  }\\n  attr {\\n    key: &quot;Tshape&quot;\\n    value {\\n      type: DT_INT32\\n    }\\n  }\\n}\\nnode {\\n  name: &quot;gradients/mean_squared_error/div_grad/tuple/group_deps&quot;\\n  op: &quot;NoOp&quot;\\n  input: &quot;^gradients/mean_squared_error/div_grad/Reshape&quot;\\n  input: &quot;^gradients/mean_squared_error/div_grad/Reshape_1&quot;\\n}\\nnode {\\n  name: &quot;gradients/mean_squared_error/div_grad/tuple/control_dependency&quot;\\n  op: &quot;Identity&quot;\\n  input: &quot;gradients/mean_squared_error/div_grad/Reshape&quot;\\n  input: &quot;^gradients/mean_squared_error/div_grad/tuple/group_deps&quot;\\n  attr {\\n    key: &quot;T&quot;\\n    value {\\n      type: DT_FLOAT\\n    }\\n  }\\n  attr {\\n    key: &quot;_class&quot;\\n    value {\\n      list {\\n        s: &quot;loc:@gradients/mean_squared_error/div_grad/Reshape&quot;\\n      }\\n    }\\n  }\\n}\\nnode {\\n  name: &quot;gradients/mean_squared_error/div_grad/tuple/control_dependency_1&quot;\\n  op: &quot;Identity&quot;\\n  input: &quot;gradients/mean_squared_error/div_grad/Reshape_1&quot;\\n  input: &quot;^gradients/mean_squared_error/div_grad/tuple/group_deps&quot;\\n  attr {\\n    key: &quot;T&quot;\\n    value {\\n      type: DT_FLOAT\\n    }\\n  }\\n  attr {\\n    key: &quot;_class&quot;\\n    value {\\n      list {\\n        s: &quot;loc:@gradients/mean_squared_error/div_grad/Reshape_1&quot;\\n      }\\n    }\\n  }\\n}\\nnode {\\n  name: &quot;gradients/mean_squared_error/Sum_1_grad/Reshape/shape&quot;\\n  op: &quot;Const&quot;\\n  attr {\\n    key: &quot;dtype&quot;\\n    value {\\n      type: DT_INT32\\n    }\\n  }\\n  attr {\\n    key: &quot;value&quot;\\n    value {\\n      tensor {\\n        dtype: DT_INT32\\n        tensor_shape {\\n          dim {\\n          }\\n        }\\n      }\\n    }\\n  }\\n}\\nnode {\\n  name: &quot;gradients/mean_squared_error/Sum_1_grad/Reshape&quot;\\n  op: &quot;Reshape&quot;\\n  input: &quot;gradients/mean_squared_error/div_grad/tuple/control_dependency&quot;\\n  input: &quot;gradients/mean_squared_error/Sum_1_grad/Reshape/shape&quot;\\n  attr {\\n    key: &quot;T&quot;\\n    value {\\n      type: DT_FLOAT\\n    }\\n  }\\n  attr {\\n    key: &quot;Tshape&quot;\\n    value {\\n      type: DT_INT32\\n    }\\n  }\\n}\\nnode {\\n  name: &quot;gradients/mean_squared_error/Sum_1_grad/Tile/multiples&quot;\\n  op: &quot;Const&quot;\\n  attr {\\n    key: &quot;dtype&quot;\\n    value {\\n      type: DT_INT32\\n    }\\n  }\\n  attr {\\n    key: &quot;value&quot;\\n    value {\\n      tensor {\\n        dtype: DT_INT32\\n        tensor_shape {\\n          dim {\\n          }\\n        }\\n      }\\n    }\\n  }\\n}\\nnode {\\n  name: &quot;gradients/mean_squared_error/Sum_1_grad/Tile&quot;\\n  op: &quot;Tile&quot;\\n  input: &quot;gradients/mean_squared_error/Sum_1_grad/Reshape&quot;\\n  input: &quot;gradients/mean_squared_error/Sum_1_grad/Tile/multiples&quot;\\n  attr {\\n    key: &quot;T&quot;\\n    value {\\n      type: DT_FLOAT\\n    }\\n  }\\n  attr {\\n    key: &quot;Tmultiples&quot;\\n    value {\\n      type: DT_INT32\\n    }\\n  }\\n}\\nnode {\\n  name: &quot;gradients/mean_squared_error/Select_grad/zeros_like&quot;\\n  op: &quot;Const&quot;\\n  attr {\\n    key: &quot;dtype&quot;\\n    value {\\n      type: DT_FLOAT\\n    }\\n  }\\n  attr {\\n    key: &quot;value&quot;\\n    value {\\n      tensor {\\n        dtype: DT_FLOAT\\n        tensor_shape {\\n        }\\n        float_val: 0.0\\n      }\\n    }\\n  }\\n}\\nnode {\\n  name: &quot;gradients/mean_squared_error/Select_grad/Select&quot;\\n  op: &quot;Select&quot;\\n  input: &quot;mean_squared_error/Equal&quot;\\n  input: &quot;gradients/mean_squared_error/div_grad/tuple/control_dependency_1&quot;\\n  input: &quot;gradients/mean_squared_error/Select_grad/zeros_like&quot;\\n  attr {\\n    key: &quot;T&quot;\\n    value {\\n      type: DT_FLOAT\\n    }\\n  }\\n}\\nnode {\\n  name: &quot;gradients/mean_squared_error/Select_grad/Select_1&quot;\\n  op: &quot;Select&quot;\\n  input: &quot;mean_squared_error/Equal&quot;\\n  input: &quot;gradients/mean_squared_error/Select_grad/zeros_like&quot;\\n  input: &quot;gradients/mean_squared_error/div_grad/tuple/control_dependency_1&quot;\\n  attr {\\n    key: &quot;T&quot;\\n    value {\\n      type: DT_FLOAT\\n    }\\n  }\\n}\\nnode {\\n  name: &quot;gradients/mean_squared_error/Select_grad/tuple/group_deps&quot;\\n  op: &quot;NoOp&quot;\\n  input: &quot;^gradients/mean_squared_error/Select_grad/Select&quot;\\n  input: &quot;^gradients/mean_squared_error/Select_grad/Select_1&quot;\\n}\\nnode {\\n  name: &quot;gradients/mean_squared_error/Select_grad/tuple/control_dependency&quot;\\n  op: &quot;Identity&quot;\\n  input: &quot;gradients/mean_squared_error/Select_grad/Select&quot;\\n  input: &quot;^gradients/mean_squared_error/Select_grad/tuple/group_deps&quot;\\n  attr {\\n    key: &quot;T&quot;\\n    value {\\n      type: DT_FLOAT\\n    }\\n  }\\n  attr {\\n    key: &quot;_class&quot;\\n    value {\\n      list {\\n        s: &quot;loc:@gradients/mean_squared_error/Select_grad/Select&quot;\\n      }\\n    }\\n  }\\n}\\nnode {\\n  name: &quot;gradients/mean_squared_error/Select_grad/tuple/control_dependency_1&quot;\\n  op: &quot;Identity&quot;\\n  input: &quot;gradients/mean_squared_error/Select_grad/Select_1&quot;\\n  input: &quot;^gradients/mean_squared_error/Select_grad/tuple/group_deps&quot;\\n  attr {\\n    key: &quot;T&quot;\\n    value {\\n      type: DT_FLOAT\\n    }\\n  }\\n  attr {\\n    key: &quot;_class&quot;\\n    value {\\n      list {\\n        s: &quot;loc:@gradients/mean_squared_error/Select_grad/Select_1&quot;\\n      }\\n    }\\n  }\\n}\\nnode {\\n  name: &quot;gradients/mean_squared_error/Sum_grad/Reshape/shape&quot;\\n  op: &quot;Const&quot;\\n  attr {\\n    key: &quot;dtype&quot;\\n    value {\\n      type: DT_INT32\\n    }\\n  }\\n  attr {\\n    key: &quot;value&quot;\\n    value {\\n      tensor {\\n        dtype: DT_INT32\\n        tensor_shape {\\n          dim {\\n            size: 2\\n          }\\n        }\\n        tensor_content: &quot;\\\\001\\\\000\\\\000\\\\000\\\\001\\\\000\\\\000\\\\000&quot;\\n      }\\n    }\\n  }\\n}\\nnode {\\n  name: &quot;gradients/mean_squared_error/Sum_grad/Reshape&quot;\\n  op: &quot;Reshape&quot;\\n  input: &quot;gradients/mean_squared_error/Sum_1_grad/Tile&quot;\\n  input: &quot;gradients/mean_squared_error/Sum_grad/Reshape/shape&quot;\\n  attr {\\n    key: &quot;T&quot;\\n    value {\\n      type: DT_FLOAT\\n    }\\n  }\\n  attr {\\n    key: &quot;Tshape&quot;\\n    value {\\n      type: DT_INT32\\n    }\\n  }\\n}\\nnode {\\n  name: &quot;gradients/mean_squared_error/Sum_grad/Shape&quot;\\n  op: &quot;Shape&quot;\\n  input: &quot;mean_squared_error/Mul&quot;\\n  attr {\\n    key: &quot;T&quot;\\n    value {\\n      type: DT_FLOAT\\n    }\\n  }\\n  attr {\\n    key: &quot;out_type&quot;\\n    value {\\n      type: DT_INT32\\n    }\\n  }\\n}\\nnode {\\n  name: &quot;gradients/mean_squared_error/Sum_grad/Tile&quot;\\n  op: &quot;Tile&quot;\\n  input: &quot;gradients/mean_squared_error/Sum_grad/Reshape&quot;\\n  input: &quot;gradients/mean_squared_error/Sum_grad/Shape&quot;\\n  attr {\\n    key: &quot;T&quot;\\n    value {\\n      type: DT_FLOAT\\n    }\\n  }\\n  attr {\\n    key: &quot;Tmultiples&quot;\\n    value {\\n      type: DT_INT32\\n    }\\n  }\\n}\\nnode {\\n  name: &quot;gradients/mean_squared_error/Mul_grad/Shape&quot;\\n  op: &quot;Shape&quot;\\n  input: &quot;mean_squared_error/SquaredDifference&quot;\\n  attr {\\n    key: &quot;T&quot;\\n    value {\\n      type: DT_FLOAT\\n    }\\n  }\\n  attr {\\n    key: &quot;out_type&quot;\\n    value {\\n      type: DT_INT32\\n    }\\n  }\\n}\\nnode {\\n  name: &quot;gradients/mean_squared_error/Mul_grad/Shape_1&quot;\\n  op: &quot;Const&quot;\\n  attr {\\n    key: &quot;dtype&quot;\\n    value {\\n      type: DT_INT32\\n    }\\n  }\\n  attr {\\n    key: &quot;value&quot;\\n    value {\\n      tensor {\\n        dtype: DT_INT32\\n        tensor_shape {\\n          dim {\\n          }\\n        }\\n      }\\n    }\\n  }\\n}\\nnode {\\n  name: &quot;gradients/mean_squared_error/Mul_grad/BroadcastGradientArgs&quot;\\n  op: &quot;BroadcastGradientArgs&quot;\\n  input: &quot;gradients/mean_squared_error/Mul_grad/Shape&quot;\\n  input: &quot;gradients/mean_squared_error/Mul_grad/Shape_1&quot;\\n  attr {\\n    key: &quot;T&quot;\\n    value {\\n      type: DT_INT32\\n    }\\n  }\\n}\\nnode {\\n  name: &quot;gradients/mean_squared_error/Mul_grad/mul&quot;\\n  op: &quot;Mul&quot;\\n  input: &quot;gradients/mean_squared_error/Sum_grad/Tile&quot;\\n  input: &quot;mean_squared_error/ToFloat_3/x&quot;\\n  attr {\\n    key: &quot;T&quot;\\n    value {\\n      type: DT_FLOAT\\n    }\\n  }\\n}\\nnode {\\n  name: &quot;gradients/mean_squared_error/Mul_grad/Sum&quot;\\n  op: &quot;Sum&quot;\\n  input: &quot;gradients/mean_squared_error/Mul_grad/mul&quot;\\n  input: &quot;gradients/mean_squared_error/Mul_grad/BroadcastGradientArgs&quot;\\n  attr {\\n    key: &quot;T&quot;\\n    value {\\n      type: DT_FLOAT\\n    }\\n  }\\n  attr {\\n    key: &quot;Tidx&quot;\\n    value {\\n      type: DT_INT32\\n    }\\n  }\\n  attr {\\n    key: &quot;keep_dims&quot;\\n    value {\\n      b: false\\n    }\\n  }\\n}\\nnode {\\n  name: &quot;gradients/mean_squared_error/Mul_grad/Reshape&quot;\\n  op: &quot;Reshape&quot;\\n  input: &quot;gradients/mean_squared_error/Mul_grad/Sum&quot;\\n  input: &quot;gradients/mean_squared_error/Mul_grad/Shape&quot;\\n  attr {\\n    key: &quot;T&quot;\\n    value {\\n      type: DT_FLOAT\\n    }\\n  }\\n  attr {\\n    key: &quot;Tshape&quot;\\n    value {\\n      type: DT_INT32\\n    }\\n  }\\n}\\nnode {\\n  name: &quot;gradients/mean_squared_error/Mul_grad/mul_1&quot;\\n  op: &quot;Mul&quot;\\n  input: &quot;mean_squared_error/SquaredDifference&quot;\\n  input: &quot;gradients/mean_squared_error/Sum_grad/Tile&quot;\\n  attr {\\n    key: &quot;T&quot;\\n    value {\\n      type: DT_FLOAT\\n    }\\n  }\\n}\\nnode {\\n  name: &quot;gradients/mean_squared_error/Mul_grad/Sum_1&quot;\\n  op: &quot;Sum&quot;\\n  input: &quot;gradients/mean_squared_error/Mul_grad/mul_1&quot;\\n  input: &quot;gradients/mean_squared_error/Mul_grad/BroadcastGradientArgs:1&quot;\\n  attr {\\n    key: &quot;T&quot;\\n    value {\\n      type: DT_FLOAT\\n    }\\n  }\\n  attr {\\n    key: &quot;Tidx&quot;\\n    value {\\n      type: DT_INT32\\n    }\\n  }\\n  attr {\\n    key: &quot;keep_dims&quot;\\n    value {\\n      b: false\\n    }\\n  }\\n}\\nnode {\\n  name: &quot;gradients/mean_squared_error/Mul_grad/Reshape_1&quot;\\n  op: &quot;Reshape&quot;\\n  input: &quot;gradients/mean_squared_error/Mul_grad/Sum_1&quot;\\n  input: &quot;gradients/mean_squared_error/Mul_grad/Shape_1&quot;\\n  attr {\\n    key: &quot;T&quot;\\n    value {\\n      type: DT_FLOAT\\n    }\\n  }\\n  attr {\\n    key: &quot;Tshape&quot;\\n    value {\\n      type: DT_INT32\\n    }\\n  }\\n}\\nnode {\\n  name: &quot;gradients/mean_squared_error/Mul_grad/tuple/group_deps&quot;\\n  op: &quot;NoOp&quot;\\n  input: &quot;^gradients/mean_squared_error/Mul_grad/Reshape&quot;\\n  input: &quot;^gradients/mean_squared_error/Mul_grad/Reshape_1&quot;\\n}\\nnode {\\n  name: &quot;gradients/mean_squared_error/Mul_grad/tuple/control_dependency&quot;\\n  op: &quot;Identity&quot;\\n  input: &quot;gradients/mean_squared_error/Mul_grad/Reshape&quot;\\n  input: &quot;^gradients/mean_squared_error/Mul_grad/tuple/group_deps&quot;\\n  attr {\\n    key: &quot;T&quot;\\n    value {\\n      type: DT_FLOAT\\n    }\\n  }\\n  attr {\\n    key: &quot;_class&quot;\\n    value {\\n      list {\\n        s: &quot;loc:@gradients/mean_squared_error/Mul_grad/Reshape&quot;\\n      }\\n    }\\n  }\\n}\\nnode {\\n  name: &quot;gradients/mean_squared_error/Mul_grad/tuple/control_dependency_1&quot;\\n  op: &quot;Identity&quot;\\n  input: &quot;gradients/mean_squared_error/Mul_grad/Reshape_1&quot;\\n  input: &quot;^gradients/mean_squared_error/Mul_grad/tuple/group_deps&quot;\\n  attr {\\n    key: &quot;T&quot;\\n    value {\\n      type: DT_FLOAT\\n    }\\n  }\\n  attr {\\n    key: &quot;_class&quot;\\n    value {\\n      list {\\n        s: &quot;loc:@gradients/mean_squared_error/Mul_grad/Reshape_1&quot;\\n      }\\n    }\\n  }\\n}\\nnode {\\n  name: &quot;gradients/mean_squared_error/num_present_grad/Reshape/shape&quot;\\n  op: &quot;Const&quot;\\n  attr {\\n    key: &quot;dtype&quot;\\n    value {\\n      type: DT_INT32\\n    }\\n  }\\n  attr {\\n    key: &quot;value&quot;\\n    value {\\n      tensor {\\n        dtype: DT_INT32\\n        tensor_shape {\\n          dim {\\n            size: 2\\n          }\\n        }\\n        tensor_content: &quot;\\\\001\\\\000\\\\000\\\\000\\\\001\\\\000\\\\000\\\\000&quot;\\n      }\\n    }\\n  }\\n}\\nnode {\\n  name: &quot;gradients/mean_squared_error/num_present_grad/Reshape&quot;\\n  op: &quot;Reshape&quot;\\n  input: &quot;gradients/mean_squared_error/Select_grad/tuple/control_dependency_1&quot;\\n  input: &quot;gradients/mean_squared_error/num_present_grad/Reshape/shape&quot;\\n  attr {\\n    key: &quot;T&quot;\\n    value {\\n      type: DT_FLOAT\\n    }\\n  }\\n  attr {\\n    key: &quot;Tshape&quot;\\n    value {\\n      type: DT_INT32\\n    }\\n  }\\n}\\nnode {\\n  name: &quot;gradients/mean_squared_error/num_present_grad/Shape&quot;\\n  op: &quot;Shape&quot;\\n  input: &quot;mean_squared_error/num_present/broadcast_weights&quot;\\n  attr {\\n    key: &quot;T&quot;\\n    value {\\n      type: DT_FLOAT\\n    }\\n  }\\n  attr {\\n    key: &quot;out_type&quot;\\n    value {\\n      type: DT_INT32\\n    }\\n  }\\n}\\nnode {\\n  name: &quot;gradients/mean_squared_error/num_present_grad/Tile&quot;\\n  op: &quot;Tile&quot;\\n  input: &quot;gradients/mean_squared_error/num_present_grad/Reshape&quot;\\n  input: &quot;gradients/mean_squared_error/num_present_grad/Shape&quot;\\n  attr {\\n    key: &quot;T&quot;\\n    value {\\n      type: DT_FLOAT\\n    }\\n  }\\n  attr {\\n    key: &quot;Tmultiples&quot;\\n    value {\\n      type: DT_INT32\\n    }\\n  }\\n}\\nnode {\\n  name: &quot;gradients/mean_squared_error/num_present/broadcast_weights_grad/Shape&quot;\\n  op: &quot;Const&quot;\\n  attr {\\n    key: &quot;dtype&quot;\\n    value {\\n      type: DT_INT32\\n    }\\n  }\\n  attr {\\n    key: &quot;value&quot;\\n    value {\\n      tensor {\\n        dtype: DT_INT32\\n        tensor_shape {\\n          dim {\\n          }\\n        }\\n      }\\n    }\\n  }\\n}\\nnode {\\n  name: &quot;gradients/mean_squared_error/num_present/broadcast_weights_grad/Shape_1&quot;\\n  op: &quot;Shape&quot;\\n  input: &quot;mean_squared_error/num_present/broadcast_weights/ones_like&quot;\\n  attr {\\n    key: &quot;T&quot;\\n    value {\\n      type: DT_FLOAT\\n    }\\n  }\\n  attr {\\n    key: &quot;out_type&quot;\\n    value {\\n      type: DT_INT32\\n    }\\n  }\\n}\\nnode {\\n  name: &quot;gradients/mean_squared_error/num_present/broadcast_weights_grad/BroadcastGradientArgs&quot;\\n  op: &quot;BroadcastGradientArgs&quot;\\n  input: &quot;gradients/mean_squared_error/num_present/broadcast_weights_grad/Shape&quot;\\n  input: &quot;gradients/mean_squared_error/num_present/broadcast_weights_grad/Shape_1&quot;\\n  attr {\\n    key: &quot;T&quot;\\n    value {\\n      type: DT_INT32\\n    }\\n  }\\n}\\nnode {\\n  name: &quot;gradients/mean_squared_error/num_present/broadcast_weights_grad/mul&quot;\\n  op: &quot;Mul&quot;\\n  input: &quot;gradients/mean_squared_error/num_present_grad/Tile&quot;\\n  input: &quot;mean_squared_error/num_present/broadcast_weights/ones_like&quot;\\n  attr {\\n    key: &quot;T&quot;\\n    value {\\n      type: DT_FLOAT\\n    }\\n  }\\n}\\nnode {\\n  name: &quot;gradients/mean_squared_error/num_present/broadcast_weights_grad/Sum&quot;\\n  op: &quot;Sum&quot;\\n  input: &quot;gradients/mean_squared_error/num_present/broadcast_weights_grad/mul&quot;\\n  input: &quot;gradients/mean_squared_error/num_present/broadcast_weights_grad/BroadcastGradientArgs&quot;\\n  attr {\\n    key: &quot;T&quot;\\n    value {\\n      type: DT_FLOAT\\n    }\\n  }\\n  attr {\\n    key: &quot;Tidx&quot;\\n    value {\\n      type: DT_INT32\\n    }\\n  }\\n  attr {\\n    key: &quot;keep_dims&quot;\\n    value {\\n      b: false\\n    }\\n  }\\n}\\nnode {\\n  name: &quot;gradients/mean_squared_error/num_present/broadcast_weights_grad/Reshape&quot;\\n  op: &quot;Reshape&quot;\\n  input: &quot;gradients/mean_squared_error/num_present/broadcast_weights_grad/Sum&quot;\\n  input: &quot;gradients/mean_squared_error/num_present/broadcast_weights_grad/Shape&quot;\\n  attr {\\n    key: &quot;T&quot;\\n    value {\\n      type: DT_FLOAT\\n    }\\n  }\\n  attr {\\n    key: &quot;Tshape&quot;\\n    value {\\n      type: DT_INT32\\n    }\\n  }\\n}\\nnode {\\n  name: &quot;gradients/mean_squared_error/num_present/broadcast_weights_grad/mul_1&quot;\\n  op: &quot;Mul&quot;\\n  input: &quot;mean_squared_error/num_present/Select&quot;\\n  input: &quot;gradients/mean_squared_error/num_present_grad/Tile&quot;\\n  attr {\\n    key: &quot;T&quot;\\n    value {\\n      type: DT_FLOAT\\n    }\\n  }\\n}\\nnode {\\n  name: &quot;gradients/mean_squared_error/num_present/broadcast_weights_grad/Sum_1&quot;\\n  op: &quot;Sum&quot;\\n  input: &quot;gradients/mean_squared_error/num_present/broadcast_weights_grad/mul_1&quot;\\n  input: &quot;gradients/mean_squared_error/num_present/broadcast_weights_grad/BroadcastGradientArgs:1&quot;\\n  attr {\\n    key: &quot;T&quot;\\n    value {\\n      type: DT_FLOAT\\n    }\\n  }\\n  attr {\\n    key: &quot;Tidx&quot;\\n    value {\\n      type: DT_INT32\\n    }\\n  }\\n  attr {\\n    key: &quot;keep_dims&quot;\\n    value {\\n      b: false\\n    }\\n  }\\n}\\nnode {\\n  name: &quot;gradients/mean_squared_error/num_present/broadcast_weights_grad/Reshape_1&quot;\\n  op: &quot;Reshape&quot;\\n  input: &quot;gradients/mean_squared_error/num_present/broadcast_weights_grad/Sum_1&quot;\\n  input: &quot;gradients/mean_squared_error/num_present/broadcast_weights_grad/Shape_1&quot;\\n  attr {\\n    key: &quot;T&quot;\\n    value {\\n      type: DT_FLOAT\\n    }\\n  }\\n  attr {\\n    key: &quot;Tshape&quot;\\n    value {\\n      type: DT_INT32\\n    }\\n  }\\n}\\nnode {\\n  name: &quot;gradients/mean_squared_error/num_present/broadcast_weights_grad/tuple/group_deps&quot;\\n  op: &quot;NoOp&quot;\\n  input: &quot;^gradients/mean_squared_error/num_present/broadcast_weights_grad/Reshape&quot;\\n  input: &quot;^gradients/mean_squared_error/num_present/broadcast_weights_grad/Reshape_1&quot;\\n}\\nnode {\\n  name: &quot;gradients/mean_squared_error/num_present/broadcast_weights_grad/tuple/control_dependency&quot;\\n  op: &quot;Identity&quot;\\n  input: &quot;gradients/mean_squared_error/num_present/broadcast_weights_grad/Reshape&quot;\\n  input: &quot;^gradients/mean_squared_error/num_present/broadcast_weights_grad/tuple/group_deps&quot;\\n  attr {\\n    key: &quot;T&quot;\\n    value {\\n      type: DT_FLOAT\\n    }\\n  }\\n  attr {\\n    key: &quot;_class&quot;\\n    value {\\n      list {\\n        s: &quot;loc:@gradients/mean_squared_error/num_present/broadcast_weights_grad/Reshape&quot;\\n      }\\n    }\\n  }\\n}\\nnode {\\n  name: &quot;gradients/mean_squared_error/num_present/broadcast_weights_grad/tuple/control_dependency_1&quot;\\n  op: &quot;Identity&quot;\\n  input: &quot;gradients/mean_squared_error/num_present/broadcast_weights_grad/Reshape_1&quot;\\n  input: &quot;^gradients/mean_squared_error/num_present/broadcast_weights_grad/tuple/group_deps&quot;\\n  attr {\\n    key: &quot;T&quot;\\n    value {\\n      type: DT_FLOAT\\n    }\\n  }\\n  attr {\\n    key: &quot;_class&quot;\\n    value {\\n      list {\\n        s: &quot;loc:@gradients/mean_squared_error/num_present/broadcast_weights_grad/Reshape_1&quot;\\n      }\\n    }\\n  }\\n}\\nnode {\\n  name: &quot;gradients/mean_squared_error/num_present/broadcast_weights/ones_like_grad/Const&quot;\\n  op: &quot;Const&quot;\\n  attr {\\n    key: &quot;dtype&quot;\\n    value {\\n      type: DT_INT32\\n    }\\n  }\\n  attr {\\n    key: &quot;value&quot;\\n    value {\\n      tensor {\\n        dtype: DT_INT32\\n        tensor_shape {\\n          dim {\\n            size: 2\\n          }\\n        }\\n        tensor_content: &quot;\\\\000\\\\000\\\\000\\\\000\\\\001\\\\000\\\\000\\\\000&quot;\\n      }\\n    }\\n  }\\n}\\nnode {\\n  name: &quot;gradients/mean_squared_error/num_present/broadcast_weights/ones_like_grad/Sum&quot;\\n  op: &quot;Sum&quot;\\n  input: &quot;gradients/mean_squared_error/num_present/broadcast_weights_grad/tuple/control_dependency_1&quot;\\n  input: &quot;gradients/mean_squared_error/num_present/broadcast_weights/ones_like_grad/Const&quot;\\n  attr {\\n    key: &quot;T&quot;\\n    value {\\n      type: DT_FLOAT\\n    }\\n  }\\n  attr {\\n    key: &quot;Tidx&quot;\\n    value {\\n      type: DT_INT32\\n    }\\n  }\\n  attr {\\n    key: &quot;keep_dims&quot;\\n    value {\\n      b: false\\n    }\\n  }\\n}\\nnode {\\n  name: &quot;gradients/mean_squared_error/SquaredDifference_grad/Shape&quot;\\n  op: &quot;Shape&quot;\\n  input: &quot;prediction_dense_layer/BiasAdd&quot;\\n  attr {\\n    key: &quot;T&quot;\\n    value {\\n      type: DT_FLOAT\\n    }\\n  }\\n  attr {\\n    key: &quot;out_type&quot;\\n    value {\\n      type: DT_INT32\\n    }\\n  }\\n}\\nnode {\\n  name: &quot;gradients/mean_squared_error/SquaredDifference_grad/Shape_1&quot;\\n  op: &quot;Shape&quot;\\n  input: &quot;userdefinedoutput&quot;\\n  attr {\\n    key: &quot;T&quot;\\n    value {\\n      type: DT_FLOAT\\n    }\\n  }\\n  attr {\\n    key: &quot;out_type&quot;\\n    value {\\n      type: DT_INT32\\n    }\\n  }\\n}\\nnode {\\n  name: &quot;gradients/mean_squared_error/SquaredDifference_grad/BroadcastGradientArgs&quot;\\n  op: &quot;BroadcastGradientArgs&quot;\\n  input: &quot;gradients/mean_squared_error/SquaredDifference_grad/Shape&quot;\\n  input: &quot;gradients/mean_squared_error/SquaredDifference_grad/Shape_1&quot;\\n  attr {\\n    key: &quot;T&quot;\\n    value {\\n      type: DT_INT32\\n    }\\n  }\\n}\\nnode {\\n  name: &quot;gradients/mean_squared_error/SquaredDifference_grad/scalar&quot;\\n  op: &quot;Const&quot;\\n  input: &quot;^gradients/mean_squared_error/Mul_grad/tuple/control_dependency&quot;\\n  attr {\\n    key: &quot;dtype&quot;\\n    value {\\n      type: DT_FLOAT\\n    }\\n  }\\n  attr {\\n    key: &quot;value&quot;\\n    value {\\n      tensor {\\n        dtype: DT_FLOAT\\n        tensor_shape {\\n        }\\n        float_val: 2.0\\n      }\\n    }\\n  }\\n}\\nnode {\\n  name: &quot;gradients/mean_squared_error/SquaredDifference_grad/mul&quot;\\n  op: &quot;Mul&quot;\\n  input: &quot;gradients/mean_squared_error/SquaredDifference_grad/scalar&quot;\\n  input: &quot;gradients/mean_squared_error/Mul_grad/tuple/control_dependency&quot;\\n  attr {\\n    key: &quot;T&quot;\\n    value {\\n      type: DT_FLOAT\\n    }\\n  }\\n}\\nnode {\\n  name: &quot;gradients/mean_squared_error/SquaredDifference_grad/sub&quot;\\n  op: &quot;Sub&quot;\\n  input: &quot;prediction_dense_layer/BiasAdd&quot;\\n  input: &quot;userdefinedoutput&quot;\\n  input: &quot;^gradients/mean_squared_error/Mul_grad/tuple/control_dependency&quot;\\n  attr {\\n    key: &quot;T&quot;\\n    value {\\n      type: DT_FLOAT\\n    }\\n  }\\n}\\nnode {\\n  name: &quot;gradients/mean_squared_error/SquaredDifference_grad/mul_1&quot;\\n  op: &quot;Mul&quot;\\n  input: &quot;gradients/mean_squared_error/SquaredDifference_grad/mul&quot;\\n  input: &quot;gradients/mean_squared_error/SquaredDifference_grad/sub&quot;\\n  attr {\\n    key: &quot;T&quot;\\n    value {\\n      type: DT_FLOAT\\n    }\\n  }\\n}\\nnode {\\n  name: &quot;gradients/mean_squared_error/SquaredDifference_grad/Sum&quot;\\n  op: &quot;Sum&quot;\\n  input: &quot;gradients/mean_squared_error/SquaredDifference_grad/mul_1&quot;\\n  input: &quot;gradients/mean_squared_error/SquaredDifference_grad/BroadcastGradientArgs&quot;\\n  attr {\\n    key: &quot;T&quot;\\n    value {\\n      type: DT_FLOAT\\n    }\\n  }\\n  attr {\\n    key: &quot;Tidx&quot;\\n    value {\\n      type: DT_INT32\\n    }\\n  }\\n  attr {\\n    key: &quot;keep_dims&quot;\\n    value {\\n      b: false\\n    }\\n  }\\n}\\nnode {\\n  name: &quot;gradients/mean_squared_error/SquaredDifference_grad/Reshape&quot;\\n  op: &quot;Reshape&quot;\\n  input: &quot;gradients/mean_squared_error/SquaredDifference_grad/Sum&quot;\\n  input: &quot;gradients/mean_squared_error/SquaredDifference_grad/Shape&quot;\\n  attr {\\n    key: &quot;T&quot;\\n    value {\\n      type: DT_FLOAT\\n    }\\n  }\\n  attr {\\n    key: &quot;Tshape&quot;\\n    value {\\n      type: DT_INT32\\n    }\\n  }\\n}\\nnode {\\n  name: &quot;gradients/mean_squared_error/SquaredDifference_grad/Sum_1&quot;\\n  op: &quot;Sum&quot;\\n  input: &quot;gradients/mean_squared_error/SquaredDifference_grad/mul_1&quot;\\n  input: &quot;gradients/mean_squared_error/SquaredDifference_grad/BroadcastGradientArgs:1&quot;\\n  attr {\\n    key: &quot;T&quot;\\n    value {\\n      type: DT_FLOAT\\n    }\\n  }\\n  attr {\\n    key: &quot;Tidx&quot;\\n    value {\\n      type: DT_INT32\\n    }\\n  }\\n  attr {\\n    key: &quot;keep_dims&quot;\\n    value {\\n      b: false\\n    }\\n  }\\n}\\nnode {\\n  name: &quot;gradients/mean_squared_error/SquaredDifference_grad/Reshape_1&quot;\\n  op: &quot;Reshape&quot;\\n  input: &quot;gradients/mean_squared_error/SquaredDifference_grad/Sum_1&quot;\\n  input: &quot;gradients/mean_squared_error/SquaredDifference_grad/Shape_1&quot;\\n  attr {\\n    key: &quot;T&quot;\\n    value {\\n      type: DT_FLOAT\\n    }\\n  }\\n  attr {\\n    key: &quot;Tshape&quot;\\n    value {\\n      type: DT_INT32\\n    }\\n  }\\n}\\nnode {\\n  name: &quot;gradients/mean_squared_error/SquaredDifference_grad/Neg&quot;\\n  op: &quot;Neg&quot;\\n  input: &quot;gradients/mean_squared_error/SquaredDifference_grad/Reshape_1&quot;\\n  attr {\\n    key: &quot;T&quot;\\n    value {\\n      type: DT_FLOAT\\n    }\\n  }\\n}\\nnode {\\n  name: &quot;gradients/mean_squared_error/SquaredDifference_grad/tuple/group_deps&quot;\\n  op: &quot;NoOp&quot;\\n  input: &quot;^gradients/mean_squared_error/SquaredDifference_grad/Reshape&quot;\\n  input: &quot;^gradients/mean_squared_error/SquaredDifference_grad/Neg&quot;\\n}\\nnode {\\n  name: &quot;gradients/mean_squared_error/SquaredDifference_grad/tuple/control_dependency&quot;\\n  op: &quot;Identity&quot;\\n  input: &quot;gradients/mean_squared_error/SquaredDifference_grad/Reshape&quot;\\n  input: &quot;^gradients/mean_squared_error/SquaredDifference_grad/tuple/group_deps&quot;\\n  attr {\\n    key: &quot;T&quot;\\n    value {\\n      type: DT_FLOAT\\n    }\\n  }\\n  attr {\\n    key: &quot;_class&quot;\\n    value {\\n      list {\\n        s: &quot;loc:@gradients/mean_squared_error/SquaredDifference_grad/Reshape&quot;\\n      }\\n    }\\n  }\\n}\\nnode {\\n  name: &quot;gradients/mean_squared_error/SquaredDifference_grad/tuple/control_dependency_1&quot;\\n  op: &quot;Identity&quot;\\n  input: &quot;gradients/mean_squared_error/SquaredDifference_grad/Neg&quot;\\n  input: &quot;^gradients/mean_squared_error/SquaredDifference_grad/tuple/group_deps&quot;\\n  attr {\\n    key: &quot;T&quot;\\n    value {\\n      type: DT_FLOAT\\n    }\\n  }\\n  attr {\\n    key: &quot;_class&quot;\\n    value {\\n      list {\\n        s: &quot;loc:@gradients/mean_squared_error/SquaredDifference_grad/Neg&quot;\\n      }\\n    }\\n  }\\n}\\nnode {\\n  name: &quot;gradients/prediction_dense_layer/BiasAdd_grad/BiasAddGrad&quot;\\n  op: &quot;BiasAddGrad&quot;\\n  input: &quot;gradients/mean_squared_error/SquaredDifference_grad/tuple/control_dependency&quot;\\n  attr {\\n    key: &quot;T&quot;\\n    value {\\n      type: DT_FLOAT\\n    }\\n  }\\n  attr {\\n    key: &quot;data_format&quot;\\n    value {\\n      s: &quot;NHWC&quot;\\n    }\\n  }\\n}\\nnode {\\n  name: &quot;gradients/prediction_dense_layer/BiasAdd_grad/tuple/group_deps&quot;\\n  op: &quot;NoOp&quot;\\n  input: &quot;^gradients/mean_squared_error/SquaredDifference_grad/tuple/control_dependency&quot;\\n  input: &quot;^gradients/prediction_dense_layer/BiasAdd_grad/BiasAddGrad&quot;\\n}\\nnode {\\n  name: &quot;gradients/prediction_dense_layer/BiasAdd_grad/tuple/control_dependency&quot;\\n  op: &quot;Identity&quot;\\n  input: &quot;gradients/mean_squared_error/SquaredDifference_grad/tuple/control_dependency&quot;\\n  input: &quot;^gradients/prediction_dense_layer/BiasAdd_grad/tuple/group_deps&quot;\\n  attr {\\n    key: &quot;T&quot;\\n    value {\\n      type: DT_FLOAT\\n    }\\n  }\\n  attr {\\n    key: &quot;_class&quot;\\n    value {\\n      list {\\n        s: &quot;loc:@gradients/mean_squared_error/SquaredDifference_grad/Reshape&quot;\\n      }\\n    }\\n  }\\n}\\nnode {\\n  name: &quot;gradients/prediction_dense_layer/BiasAdd_grad/tuple/control_dependency_1&quot;\\n  op: &quot;Identity&quot;\\n  input: &quot;gradients/prediction_dense_layer/BiasAdd_grad/BiasAddGrad&quot;\\n  input: &quot;^gradients/prediction_dense_layer/BiasAdd_grad/tuple/group_deps&quot;\\n  attr {\\n    key: &quot;T&quot;\\n    value {\\n      type: DT_FLOAT\\n    }\\n  }\\n  attr {\\n    key: &quot;_class&quot;\\n    value {\\n      list {\\n        s: &quot;loc:@gradients/prediction_dense_layer/BiasAdd_grad/BiasAddGrad&quot;\\n      }\\n    }\\n  }\\n}\\nnode {\\n  name: &quot;gradients/prediction_dense_layer/MatMul_grad/MatMul&quot;\\n  op: &quot;MatMul&quot;\\n  input: &quot;gradients/prediction_dense_layer/BiasAdd_grad/tuple/control_dependency&quot;\\n  input: &quot;prediction_dense_layer/kernel/read&quot;\\n  attr {\\n    key: &quot;T&quot;\\n    value {\\n      type: DT_FLOAT\\n    }\\n  }\\n  attr {\\n    key: &quot;transpose_a&quot;\\n    value {\\n      b: false\\n    }\\n  }\\n  attr {\\n    key: &quot;transpose_b&quot;\\n    value {\\n      b: true\\n    }\\n  }\\n}\\nnode {\\n  name: &quot;gradients/prediction_dense_layer/MatMul_grad/MatMul_1&quot;\\n  op: &quot;MatMul&quot;\\n  input: &quot;first_dense_layer/Sigmoid&quot;\\n  input: &quot;gradients/prediction_dense_layer/BiasAdd_grad/tuple/control_dependency&quot;\\n  attr {\\n    key: &quot;T&quot;\\n    value {\\n      type: DT_FLOAT\\n    }\\n  }\\n  attr {\\n    key: &quot;transpose_a&quot;\\n    value {\\n      b: true\\n    }\\n  }\\n  attr {\\n    key: &quot;transpose_b&quot;\\n    value {\\n      b: false\\n    }\\n  }\\n}\\nnode {\\n  name: &quot;gradients/prediction_dense_layer/MatMul_grad/tuple/group_deps&quot;\\n  op: &quot;NoOp&quot;\\n  input: &quot;^gradients/prediction_dense_layer/MatMul_grad/MatMul&quot;\\n  input: &quot;^gradients/prediction_dense_layer/MatMul_grad/MatMul_1&quot;\\n}\\nnode {\\n  name: &quot;gradients/prediction_dense_layer/MatMul_grad/tuple/control_dependency&quot;\\n  op: &quot;Identity&quot;\\n  input: &quot;gradients/prediction_dense_layer/MatMul_grad/MatMul&quot;\\n  input: &quot;^gradients/prediction_dense_layer/MatMul_grad/tuple/group_deps&quot;\\n  attr {\\n    key: &quot;T&quot;\\n    value {\\n      type: DT_FLOAT\\n    }\\n  }\\n  attr {\\n    key: &quot;_class&quot;\\n    value {\\n      list {\\n        s: &quot;loc:@gradients/prediction_dense_layer/MatMul_grad/MatMul&quot;\\n      }\\n    }\\n  }\\n}\\nnode {\\n  name: &quot;gradients/prediction_dense_layer/MatMul_grad/tuple/control_dependency_1&quot;\\n  op: &quot;Identity&quot;\\n  input: &quot;gradients/prediction_dense_layer/MatMul_grad/MatMul_1&quot;\\n  input: &quot;^gradients/prediction_dense_layer/MatMul_grad/tuple/group_deps&quot;\\n  attr {\\n    key: &quot;T&quot;\\n    value {\\n      type: DT_FLOAT\\n    }\\n  }\\n  attr {\\n    key: &quot;_class&quot;\\n    value {\\n      list {\\n        s: &quot;loc:@gradients/prediction_dense_layer/MatMul_grad/MatMul_1&quot;\\n      }\\n    }\\n  }\\n}\\nnode {\\n  name: &quot;gradients/first_dense_layer/Sigmoid_grad/SigmoidGrad&quot;\\n  op: &quot;SigmoidGrad&quot;\\n  input: &quot;first_dense_layer/Sigmoid&quot;\\n  input: &quot;gradients/prediction_dense_layer/MatMul_grad/tuple/control_dependency&quot;\\n  attr {\\n    key: &quot;T&quot;\\n    value {\\n      type: DT_FLOAT\\n    }\\n  }\\n}\\nnode {\\n  name: &quot;gradients/first_dense_layer/BiasAdd_grad/BiasAddGrad&quot;\\n  op: &quot;BiasAddGrad&quot;\\n  input: &quot;gradients/first_dense_layer/Sigmoid_grad/SigmoidGrad&quot;\\n  attr {\\n    key: &quot;T&quot;\\n    value {\\n      type: DT_FLOAT\\n    }\\n  }\\n  attr {\\n    key: &quot;data_format&quot;\\n    value {\\n      s: &quot;NHWC&quot;\\n    }\\n  }\\n}\\nnode {\\n  name: &quot;gradients/first_dense_layer/BiasAdd_grad/tuple/group_deps&quot;\\n  op: &quot;NoOp&quot;\\n  input: &quot;^gradients/first_dense_layer/Sigmoid_grad/SigmoidGrad&quot;\\n  input: &quot;^gradients/first_dense_layer/BiasAdd_grad/BiasAddGrad&quot;\\n}\\nnode {\\n  name: &quot;gradients/first_dense_layer/BiasAdd_grad/tuple/control_dependency&quot;\\n  op: &quot;Identity&quot;\\n  input: &quot;gradients/first_dense_layer/Sigmoid_grad/SigmoidGrad&quot;\\n  input: &quot;^gradients/first_dense_layer/BiasAdd_grad/tuple/group_deps&quot;\\n  attr {\\n    key: &quot;T&quot;\\n    value {\\n      type: DT_FLOAT\\n    }\\n  }\\n  attr {\\n    key: &quot;_class&quot;\\n    value {\\n      list {\\n        s: &quot;loc:@gradients/first_dense_layer/Sigmoid_grad/SigmoidGrad&quot;\\n      }\\n    }\\n  }\\n}\\nnode {\\n  name: &quot;gradients/first_dense_layer/BiasAdd_grad/tuple/control_dependency_1&quot;\\n  op: &quot;Identity&quot;\\n  input: &quot;gradients/first_dense_layer/BiasAdd_grad/BiasAddGrad&quot;\\n  input: &quot;^gradients/first_dense_layer/BiasAdd_grad/tuple/group_deps&quot;\\n  attr {\\n    key: &quot;T&quot;\\n    value {\\n      type: DT_FLOAT\\n    }\\n  }\\n  attr {\\n    key: &quot;_class&quot;\\n    value {\\n      list {\\n        s: &quot;loc:@gradients/first_dense_layer/BiasAdd_grad/BiasAddGrad&quot;\\n      }\\n    }\\n  }\\n}\\nnode {\\n  name: &quot;gradients/first_dense_layer/MatMul_grad/MatMul&quot;\\n  op: &quot;MatMul&quot;\\n  input: &quot;gradients/first_dense_layer/BiasAdd_grad/tuple/control_dependency&quot;\\n  input: &quot;first_dense_layer/kernel/read&quot;\\n  attr {\\n    key: &quot;T&quot;\\n    value {\\n      type: DT_FLOAT\\n    }\\n  }\\n  attr {\\n    key: &quot;transpose_a&quot;\\n    value {\\n      b: false\\n    }\\n  }\\n  attr {\\n    key: &quot;transpose_b&quot;\\n    value {\\n      b: true\\n    }\\n  }\\n}\\nnode {\\n  name: &quot;gradients/first_dense_layer/MatMul_grad/MatMul_1&quot;\\n  op: &quot;MatMul&quot;\\n  input: &quot;inputplaceholder&quot;\\n  input: &quot;gradients/first_dense_layer/BiasAdd_grad/tuple/control_dependency&quot;\\n  attr {\\n    key: &quot;T&quot;\\n    value {\\n      type: DT_FLOAT\\n    }\\n  }\\n  attr {\\n    key: &quot;transpose_a&quot;\\n    value {\\n      b: true\\n    }\\n  }\\n  attr {\\n    key: &quot;transpose_b&quot;\\n    value {\\n      b: false\\n    }\\n  }\\n}\\nnode {\\n  name: &quot;gradients/first_dense_layer/MatMul_grad/tuple/group_deps&quot;\\n  op: &quot;NoOp&quot;\\n  input: &quot;^gradients/first_dense_layer/MatMul_grad/MatMul&quot;\\n  input: &quot;^gradients/first_dense_layer/MatMul_grad/MatMul_1&quot;\\n}\\nnode {\\n  name: &quot;gradients/first_dense_layer/MatMul_grad/tuple/control_dependency&quot;\\n  op: &quot;Identity&quot;\\n  input: &quot;gradients/first_dense_layer/MatMul_grad/MatMul&quot;\\n  input: &quot;^gradients/first_dense_layer/MatMul_grad/tuple/group_deps&quot;\\n  attr {\\n    key: &quot;T&quot;\\n    value {\\n      type: DT_FLOAT\\n    }\\n  }\\n  attr {\\n    key: &quot;_class&quot;\\n    value {\\n      list {\\n        s: &quot;loc:@gradients/first_dense_layer/MatMul_grad/MatMul&quot;\\n      }\\n    }\\n  }\\n}\\nnode {\\n  name: &quot;gradients/first_dense_layer/MatMul_grad/tuple/control_dependency_1&quot;\\n  op: &quot;Identity&quot;\\n  input: &quot;gradients/first_dense_layer/MatMul_grad/MatMul_1&quot;\\n  input: &quot;^gradients/first_dense_layer/MatMul_grad/tuple/group_deps&quot;\\n  attr {\\n    key: &quot;T&quot;\\n    value {\\n      type: DT_FLOAT\\n    }\\n  }\\n  attr {\\n    key: &quot;_class&quot;\\n    value {\\n      list {\\n        s: &quot;loc:@gradients/first_dense_layer/MatMul_grad/MatMul_1&quot;\\n      }\\n    }\\n  }\\n}\\nnode {\\n  name: &quot;GradientDescent/learning_rate&quot;\\n  op: &quot;Const&quot;\\n  attr {\\n    key: &quot;dtype&quot;\\n    value {\\n      type: DT_FLOAT\\n    }\\n  }\\n  attr {\\n    key: &quot;value&quot;\\n    value {\\n      tensor {\\n        dtype: DT_FLOAT\\n        tensor_shape {\\n        }\\n        float_val: 0.05000000074505806\\n      }\\n    }\\n  }\\n}\\nnode {\\n  name: &quot;GradientDescent/update_first_dense_layer/kernel/ApplyGradientDescent&quot;\\n  op: &quot;ApplyGradientDescent&quot;\\n  input: &quot;first_dense_layer/kernel&quot;\\n  input: &quot;GradientDescent/learning_rate&quot;\\n  input: &quot;gradients/first_dense_layer/MatMul_grad/tuple/control_dependency_1&quot;\\n  attr {\\n    key: &quot;T&quot;\\n    value {\\n      type: DT_FLOAT\\n    }\\n  }\\n  attr {\\n    key: &quot;_class&quot;\\n    value {\\n      list {\\n        s: &quot;loc:@first_dense_layer/kernel&quot;\\n      }\\n    }\\n  }\\n  attr {\\n    key: &quot;use_locking&quot;\\n    value {\\n      b: false\\n    }\\n  }\\n}\\nnode {\\n  name: &quot;GradientDescent/update_first_dense_layer/bias/ApplyGradientDescent&quot;\\n  op: &quot;ApplyGradientDescent&quot;\\n  input: &quot;first_dense_layer/bias&quot;\\n  input: &quot;GradientDescent/learning_rate&quot;\\n  input: &quot;gradients/first_dense_layer/BiasAdd_grad/tuple/control_dependency_1&quot;\\n  attr {\\n    key: &quot;T&quot;\\n    value {\\n      type: DT_FLOAT\\n    }\\n  }\\n  attr {\\n    key: &quot;_class&quot;\\n    value {\\n      list {\\n        s: &quot;loc:@first_dense_layer/bias&quot;\\n      }\\n    }\\n  }\\n  attr {\\n    key: &quot;use_locking&quot;\\n    value {\\n      b: false\\n    }\\n  }\\n}\\nnode {\\n  name: &quot;GradientDescent/update_prediction_dense_layer/kernel/ApplyGradientDescent&quot;\\n  op: &quot;ApplyGradientDescent&quot;\\n  input: &quot;prediction_dense_layer/kernel&quot;\\n  input: &quot;GradientDescent/learning_rate&quot;\\n  input: &quot;gradients/prediction_dense_layer/MatMul_grad/tuple/control_dependency_1&quot;\\n  attr {\\n    key: &quot;T&quot;\\n    value {\\n      type: DT_FLOAT\\n    }\\n  }\\n  attr {\\n    key: &quot;_class&quot;\\n    value {\\n      list {\\n        s: &quot;loc:@prediction_dense_layer/kernel&quot;\\n      }\\n    }\\n  }\\n  attr {\\n    key: &quot;use_locking&quot;\\n    value {\\n      b: false\\n    }\\n  }\\n}\\nnode {\\n  name: &quot;GradientDescent/update_prediction_dense_layer/bias/ApplyGradientDescent&quot;\\n  op: &quot;ApplyGradientDescent&quot;\\n  input: &quot;prediction_dense_layer/bias&quot;\\n  input: &quot;GradientDescent/learning_rate&quot;\\n  input: &quot;gradients/prediction_dense_layer/BiasAdd_grad/tuple/control_dependency_1&quot;\\n  attr {\\n    key: &quot;T&quot;\\n    value {\\n      type: DT_FLOAT\\n    }\\n  }\\n  attr {\\n    key: &quot;_class&quot;\\n    value {\\n      list {\\n        s: &quot;loc:@prediction_dense_layer/bias&quot;\\n      }\\n    }\\n  }\\n  attr {\\n    key: &quot;use_locking&quot;\\n    value {\\n      b: false\\n    }\\n  }\\n}\\nnode {\\n  name: &quot;GradientDescent&quot;\\n  op: &quot;NoOp&quot;\\n  input: &quot;^GradientDescent/update_first_dense_layer/kernel/ApplyGradientDescent&quot;\\n  input: &quot;^GradientDescent/update_first_dense_layer/bias/ApplyGradientDescent&quot;\\n  input: &quot;^GradientDescent/update_prediction_dense_layer/kernel/ApplyGradientDescent&quot;\\n  input: &quot;^GradientDescent/update_prediction_dense_layer/bias/ApplyGradientDescent&quot;\\n}\\nnode {\\n  name: &quot;init&quot;\\n  op: &quot;NoOp&quot;\\n  input: &quot;^first_dense_layer/kernel/Assign&quot;\\n  input: &quot;^first_dense_layer/bias/Assign&quot;\\n  input: &quot;^prediction_dense_layer/kernel/Assign&quot;\\n  input: &quot;^prediction_dense_layer/bias/Assign&quot;\\n}\\nnode {\\n  name: &quot;gradients_1/Shape&quot;\\n  op: &quot;Const&quot;\\n  attr {\\n    key: &quot;dtype&quot;\\n    value {\\n      type: DT_INT32\\n    }\\n  }\\n  attr {\\n    key: &quot;value&quot;\\n    value {\\n      tensor {\\n        dtype: DT_INT32\\n        tensor_shape {\\n          dim {\\n          }\\n        }\\n      }\\n    }\\n  }\\n}\\nnode {\\n  name: &quot;gradients_1/Const&quot;\\n  op: &quot;Const&quot;\\n  attr {\\n    key: &quot;dtype&quot;\\n    value {\\n      type: DT_FLOAT\\n    }\\n  }\\n  attr {\\n    key: &quot;value&quot;\\n    value {\\n      tensor {\\n        dtype: DT_FLOAT\\n        tensor_shape {\\n        }\\n        float_val: 1.0\\n      }\\n    }\\n  }\\n}\\nnode {\\n  name: &quot;gradients_1/Fill&quot;\\n  op: &quot;Fill&quot;\\n  input: &quot;gradients_1/Shape&quot;\\n  input: &quot;gradients_1/Const&quot;\\n  attr {\\n    key: &quot;T&quot;\\n    value {\\n      type: DT_FLOAT\\n    }\\n  }\\n}\\nnode {\\n  name: &quot;gradients_1/mean_squared_error/value_grad/zeros_like&quot;\\n  op: &quot;Const&quot;\\n  attr {\\n    key: &quot;dtype&quot;\\n    value {\\n      type: DT_FLOAT\\n    }\\n  }\\n  attr {\\n    key: &quot;value&quot;\\n    value {\\n      tensor {\\n        dtype: DT_FLOAT\\n        tensor_shape {\\n        }\\n        float_val: 0.0\\n      }\\n    }\\n  }\\n}\\nnode {\\n  name: &quot;gradients_1/mean_squared_error/value_grad/Select&quot;\\n  op: &quot;Select&quot;\\n  input: &quot;mean_squared_error/Greater&quot;\\n  input: &quot;gradients_1/Fill&quot;\\n  input: &quot;gradients_1/mean_squared_error/value_grad/zeros_like&quot;\\n  attr {\\n    key: &quot;T&quot;\\n    value {\\n      type: DT_FLOAT\\n    }\\n  }\\n}\\nnode {\\n  name: &quot;gradients_1/mean_squared_error/value_grad/Select_1&quot;\\n  op: &quot;Select&quot;\\n  input: &quot;mean_squared_error/Greater&quot;\\n  input: &quot;gradients_1/mean_squared_error/value_grad/zeros_like&quot;\\n  input: &quot;gradients_1/Fill&quot;\\n  attr {\\n    key: &quot;T&quot;\\n    value {\\n      type: DT_FLOAT\\n    }\\n  }\\n}\\nnode {\\n  name: &quot;gradients_1/mean_squared_error/value_grad/tuple/group_deps&quot;\\n  op: &quot;NoOp&quot;\\n  input: &quot;^gradients_1/mean_squared_error/value_grad/Select&quot;\\n  input: &quot;^gradients_1/mean_squared_error/value_grad/Select_1&quot;\\n}\\nnode {\\n  name: &quot;gradients_1/mean_squared_error/value_grad/tuple/control_dependency&quot;\\n  op: &quot;Identity&quot;\\n  input: &quot;gradients_1/mean_squared_error/value_grad/Select&quot;\\n  input: &quot;^gradients_1/mean_squared_error/value_grad/tuple/group_deps&quot;\\n  attr {\\n    key: &quot;T&quot;\\n    value {\\n      type: DT_FLOAT\\n    }\\n  }\\n  attr {\\n    key: &quot;_class&quot;\\n    value {\\n      list {\\n        s: &quot;loc:@gradients_1/mean_squared_error/value_grad/Select&quot;\\n      }\\n    }\\n  }\\n}\\nnode {\\n  name: &quot;gradients_1/mean_squared_error/value_grad/tuple/control_dependency_1&quot;\\n  op: &quot;Identity&quot;\\n  input: &quot;gradients_1/mean_squared_error/value_grad/Select_1&quot;\\n  input: &quot;^gradients_1/mean_squared_error/value_grad/tuple/group_deps&quot;\\n  attr {\\n    key: &quot;T&quot;\\n    value {\\n      type: DT_FLOAT\\n    }\\n  }\\n  attr {\\n    key: &quot;_class&quot;\\n    value {\\n      list {\\n        s: &quot;loc:@gradients_1/mean_squared_error/value_grad/Select_1&quot;\\n      }\\n    }\\n  }\\n}\\nnode {\\n  name: &quot;gradients_1/mean_squared_error/div_grad/Shape&quot;\\n  op: &quot;Const&quot;\\n  attr {\\n    key: &quot;dtype&quot;\\n    value {\\n      type: DT_INT32\\n    }\\n  }\\n  attr {\\n    key: &quot;value&quot;\\n    value {\\n      tensor {\\n        dtype: DT_INT32\\n        tensor_shape {\\n          dim {\\n          }\\n        }\\n      }\\n    }\\n  }\\n}\\nnode {\\n  name: &quot;gradients_1/mean_squared_error/div_grad/Shape_1&quot;\\n  op: &quot;Const&quot;\\n  attr {\\n    key: &quot;dtype&quot;\\n    value {\\n      type: DT_INT32\\n    }\\n  }\\n  attr {\\n    key: &quot;value&quot;\\n    value {\\n      tensor {\\n        dtype: DT_INT32\\n        tensor_shape {\\n          dim {\\n          }\\n        }\\n      }\\n    }\\n  }\\n}\\nnode {\\n  name: &quot;gradients_1/mean_squared_error/div_grad/BroadcastGradientArgs&quot;\\n  op: &quot;BroadcastGradientArgs&quot;\\n  input: &quot;gradients_1/mean_squared_error/div_grad/Shape&quot;\\n  input: &quot;gradients_1/mean_squared_error/div_grad/Shape_1&quot;\\n  attr {\\n    key: &quot;T&quot;\\n    value {\\n      type: DT_INT32\\n    }\\n  }\\n}\\nnode {\\n  name: &quot;gradients_1/mean_squared_error/div_grad/RealDiv&quot;\\n  op: &quot;RealDiv&quot;\\n  input: &quot;gradients_1/mean_squared_error/value_grad/tuple/control_dependency&quot;\\n  input: &quot;mean_squared_error/Select&quot;\\n  attr {\\n    key: &quot;T&quot;\\n    value {\\n      type: DT_FLOAT\\n    }\\n  }\\n}\\nnode {\\n  name: &quot;gradients_1/mean_squared_error/div_grad/Sum&quot;\\n  op: &quot;Sum&quot;\\n  input: &quot;gradients_1/mean_squared_error/div_grad/RealDiv&quot;\\n  input: &quot;gradients_1/mean_squared_error/div_grad/BroadcastGradientArgs&quot;\\n  attr {\\n    key: &quot;T&quot;\\n    value {\\n      type: DT_FLOAT\\n    }\\n  }\\n  attr {\\n    key: &quot;Tidx&quot;\\n    value {\\n      type: DT_INT32\\n    }\\n  }\\n  attr {\\n    key: &quot;keep_dims&quot;\\n    value {\\n      b: false\\n    }\\n  }\\n}\\nnode {\\n  name: &quot;gradients_1/mean_squared_error/div_grad/Reshape&quot;\\n  op: &quot;Reshape&quot;\\n  input: &quot;gradients_1/mean_squared_error/div_grad/Sum&quot;\\n  input: &quot;gradients_1/mean_squared_error/div_grad/Shape&quot;\\n  attr {\\n    key: &quot;T&quot;\\n    value {\\n      type: DT_FLOAT\\n    }\\n  }\\n  attr {\\n    key: &quot;Tshape&quot;\\n    value {\\n      type: DT_INT32\\n    }\\n  }\\n}\\nnode {\\n  name: &quot;gradients_1/mean_squared_error/div_grad/Neg&quot;\\n  op: &quot;Neg&quot;\\n  input: &quot;mean_squared_error/Sum_1&quot;\\n  attr {\\n    key: &quot;T&quot;\\n    value {\\n      type: DT_FLOAT\\n    }\\n  }\\n}\\nnode {\\n  name: &quot;gradients_1/mean_squared_error/div_grad/RealDiv_1&quot;\\n  op: &quot;RealDiv&quot;\\n  input: &quot;gradients_1/mean_squared_error/div_grad/Neg&quot;\\n  input: &quot;mean_squared_error/Select&quot;\\n  attr {\\n    key: &quot;T&quot;\\n    value {\\n      type: DT_FLOAT\\n    }\\n  }\\n}\\nnode {\\n  name: &quot;gradients_1/mean_squared_error/div_grad/RealDiv_2&quot;\\n  op: &quot;RealDiv&quot;\\n  input: &quot;gradients_1/mean_squared_error/div_grad/RealDiv_1&quot;\\n  input: &quot;mean_squared_error/Select&quot;\\n  attr {\\n    key: &quot;T&quot;\\n    value {\\n      type: DT_FLOAT\\n    }\\n  }\\n}\\nnode {\\n  name: &quot;gradients_1/mean_squared_error/div_grad/mul&quot;\\n  op: &quot;Mul&quot;\\n  input: &quot;gradients_1/mean_squared_error/value_grad/tuple/control_dependency&quot;\\n  input: &quot;gradients_1/mean_squared_error/div_grad/RealDiv_2&quot;\\n  attr {\\n    key: &quot;T&quot;\\n    value {\\n      type: DT_FLOAT\\n    }\\n  }\\n}\\nnode {\\n  name: &quot;gradients_1/mean_squared_error/div_grad/Sum_1&quot;\\n  op: &quot;Sum&quot;\\n  input: &quot;gradients_1/mean_squared_error/div_grad/mul&quot;\\n  input: &quot;gradients_1/mean_squared_error/div_grad/BroadcastGradientArgs:1&quot;\\n  attr {\\n    key: &quot;T&quot;\\n    value {\\n      type: DT_FLOAT\\n    }\\n  }\\n  attr {\\n    key: &quot;Tidx&quot;\\n    value {\\n      type: DT_INT32\\n    }\\n  }\\n  attr {\\n    key: &quot;keep_dims&quot;\\n    value {\\n      b: false\\n    }\\n  }\\n}\\nnode {\\n  name: &quot;gradients_1/mean_squared_error/div_grad/Reshape_1&quot;\\n  op: &quot;Reshape&quot;\\n  input: &quot;gradients_1/mean_squared_error/div_grad/Sum_1&quot;\\n  input: &quot;gradients_1/mean_squared_error/div_grad/Shape_1&quot;\\n  attr {\\n    key: &quot;T&quot;\\n    value {\\n      type: DT_FLOAT\\n    }\\n  }\\n  attr {\\n    key: &quot;Tshape&quot;\\n    value {\\n      type: DT_INT32\\n    }\\n  }\\n}\\nnode {\\n  name: &quot;gradients_1/mean_squared_error/div_grad/tuple/group_deps&quot;\\n  op: &quot;NoOp&quot;\\n  input: &quot;^gradients_1/mean_squared_error/div_grad/Reshape&quot;\\n  input: &quot;^gradients_1/mean_squared_error/div_grad/Reshape_1&quot;\\n}\\nnode {\\n  name: &quot;gradients_1/mean_squared_error/div_grad/tuple/control_dependency&quot;\\n  op: &quot;Identity&quot;\\n  input: &quot;gradients_1/mean_squared_error/div_grad/Reshape&quot;\\n  input: &quot;^gradients_1/mean_squared_error/div_grad/tuple/group_deps&quot;\\n  attr {\\n    key: &quot;T&quot;\\n    value {\\n      type: DT_FLOAT\\n    }\\n  }\\n  attr {\\n    key: &quot;_class&quot;\\n    value {\\n      list {\\n        s: &quot;loc:@gradients_1/mean_squared_error/div_grad/Reshape&quot;\\n      }\\n    }\\n  }\\n}\\nnode {\\n  name: &quot;gradients_1/mean_squared_error/div_grad/tuple/control_dependency_1&quot;\\n  op: &quot;Identity&quot;\\n  input: &quot;gradients_1/mean_squared_error/div_grad/Reshape_1&quot;\\n  input: &quot;^gradients_1/mean_squared_error/div_grad/tuple/group_deps&quot;\\n  attr {\\n    key: &quot;T&quot;\\n    value {\\n      type: DT_FLOAT\\n    }\\n  }\\n  attr {\\n    key: &quot;_class&quot;\\n    value {\\n      list {\\n        s: &quot;loc:@gradients_1/mean_squared_error/div_grad/Reshape_1&quot;\\n      }\\n    }\\n  }\\n}\\nnode {\\n  name: &quot;gradients_1/mean_squared_error/Sum_1_grad/Reshape/shape&quot;\\n  op: &quot;Const&quot;\\n  attr {\\n    key: &quot;dtype&quot;\\n    value {\\n      type: DT_INT32\\n    }\\n  }\\n  attr {\\n    key: &quot;value&quot;\\n    value {\\n      tensor {\\n        dtype: DT_INT32\\n        tensor_shape {\\n          dim {\\n          }\\n        }\\n      }\\n    }\\n  }\\n}\\nnode {\\n  name: &quot;gradients_1/mean_squared_error/Sum_1_grad/Reshape&quot;\\n  op: &quot;Reshape&quot;\\n  input: &quot;gradients_1/mean_squared_error/div_grad/tuple/control_dependency&quot;\\n  input: &quot;gradients_1/mean_squared_error/Sum_1_grad/Reshape/shape&quot;\\n  attr {\\n    key: &quot;T&quot;\\n    value {\\n      type: DT_FLOAT\\n    }\\n  }\\n  attr {\\n    key: &quot;Tshape&quot;\\n    value {\\n      type: DT_INT32\\n    }\\n  }\\n}\\nnode {\\n  name: &quot;gradients_1/mean_squared_error/Sum_1_grad/Tile/multiples&quot;\\n  op: &quot;Const&quot;\\n  attr {\\n    key: &quot;dtype&quot;\\n    value {\\n      type: DT_INT32\\n    }\\n  }\\n  attr {\\n    key: &quot;value&quot;\\n    value {\\n      tensor {\\n        dtype: DT_INT32\\n        tensor_shape {\\n          dim {\\n          }\\n        }\\n      }\\n    }\\n  }\\n}\\nnode {\\n  name: &quot;gradients_1/mean_squared_error/Sum_1_grad/Tile&quot;\\n  op: &quot;Tile&quot;\\n  input: &quot;gradients_1/mean_squared_error/Sum_1_grad/Reshape&quot;\\n  input: &quot;gradients_1/mean_squared_error/Sum_1_grad/Tile/multiples&quot;\\n  attr {\\n    key: &quot;T&quot;\\n    value {\\n      type: DT_FLOAT\\n    }\\n  }\\n  attr {\\n    key: &quot;Tmultiples&quot;\\n    value {\\n      type: DT_INT32\\n    }\\n  }\\n}\\nnode {\\n  name: &quot;gradients_1/mean_squared_error/Select_grad/zeros_like&quot;\\n  op: &quot;Const&quot;\\n  attr {\\n    key: &quot;dtype&quot;\\n    value {\\n      type: DT_FLOAT\\n    }\\n  }\\n  attr {\\n    key: &quot;value&quot;\\n    value {\\n      tensor {\\n        dtype: DT_FLOAT\\n        tensor_shape {\\n        }\\n        float_val: 0.0\\n      }\\n    }\\n  }\\n}\\nnode {\\n  name: &quot;gradients_1/mean_squared_error/Select_grad/Select&quot;\\n  op: &quot;Select&quot;\\n  input: &quot;mean_squared_error/Equal&quot;\\n  input: &quot;gradients_1/mean_squared_error/div_grad/tuple/control_dependency_1&quot;\\n  input: &quot;gradients_1/mean_squared_error/Select_grad/zeros_like&quot;\\n  attr {\\n    key: &quot;T&quot;\\n    value {\\n      type: DT_FLOAT\\n    }\\n  }\\n}\\nnode {\\n  name: &quot;gradients_1/mean_squared_error/Select_grad/Select_1&quot;\\n  op: &quot;Select&quot;\\n  input: &quot;mean_squared_error/Equal&quot;\\n  input: &quot;gradients_1/mean_squared_error/Select_grad/zeros_like&quot;\\n  input: &quot;gradients_1/mean_squared_error/div_grad/tuple/control_dependency_1&quot;\\n  attr {\\n    key: &quot;T&quot;\\n    value {\\n      type: DT_FLOAT\\n    }\\n  }\\n}\\nnode {\\n  name: &quot;gradients_1/mean_squared_error/Select_grad/tuple/group_deps&quot;\\n  op: &quot;NoOp&quot;\\n  input: &quot;^gradients_1/mean_squared_error/Select_grad/Select&quot;\\n  input: &quot;^gradients_1/mean_squared_error/Select_grad/Select_1&quot;\\n}\\nnode {\\n  name: &quot;gradients_1/mean_squared_error/Select_grad/tuple/control_dependency&quot;\\n  op: &quot;Identity&quot;\\n  input: &quot;gradients_1/mean_squared_error/Select_grad/Select&quot;\\n  input: &quot;^gradients_1/mean_squared_error/Select_grad/tuple/group_deps&quot;\\n  attr {\\n    key: &quot;T&quot;\\n    value {\\n      type: DT_FLOAT\\n    }\\n  }\\n  attr {\\n    key: &quot;_class&quot;\\n    value {\\n      list {\\n        s: &quot;loc:@gradients_1/mean_squared_error/Select_grad/Select&quot;\\n      }\\n    }\\n  }\\n}\\nnode {\\n  name: &quot;gradients_1/mean_squared_error/Select_grad/tuple/control_dependency_1&quot;\\n  op: &quot;Identity&quot;\\n  input: &quot;gradients_1/mean_squared_error/Select_grad/Select_1&quot;\\n  input: &quot;^gradients_1/mean_squared_error/Select_grad/tuple/group_deps&quot;\\n  attr {\\n    key: &quot;T&quot;\\n    value {\\n      type: DT_FLOAT\\n    }\\n  }\\n  attr {\\n    key: &quot;_class&quot;\\n    value {\\n      list {\\n        s: &quot;loc:@gradients_1/mean_squared_error/Select_grad/Select_1&quot;\\n      }\\n    }\\n  }\\n}\\nnode {\\n  name: &quot;gradients_1/mean_squared_error/Sum_grad/Reshape/shape&quot;\\n  op: &quot;Const&quot;\\n  attr {\\n    key: &quot;dtype&quot;\\n    value {\\n      type: DT_INT32\\n    }\\n  }\\n  attr {\\n    key: &quot;value&quot;\\n    value {\\n      tensor {\\n        dtype: DT_INT32\\n        tensor_shape {\\n          dim {\\n            size: 2\\n          }\\n        }\\n        tensor_content: &quot;\\\\001\\\\000\\\\000\\\\000\\\\001\\\\000\\\\000\\\\000&quot;\\n      }\\n    }\\n  }\\n}\\nnode {\\n  name: &quot;gradients_1/mean_squared_error/Sum_grad/Reshape&quot;\\n  op: &quot;Reshape&quot;\\n  input: &quot;gradients_1/mean_squared_error/Sum_1_grad/Tile&quot;\\n  input: &quot;gradients_1/mean_squared_error/Sum_grad/Reshape/shape&quot;\\n  attr {\\n    key: &quot;T&quot;\\n    value {\\n      type: DT_FLOAT\\n    }\\n  }\\n  attr {\\n    key: &quot;Tshape&quot;\\n    value {\\n      type: DT_INT32\\n    }\\n  }\\n}\\nnode {\\n  name: &quot;gradients_1/mean_squared_error/Sum_grad/Shape&quot;\\n  op: &quot;Shape&quot;\\n  input: &quot;mean_squared_error/Mul&quot;\\n  attr {\\n    key: &quot;T&quot;\\n    value {\\n      type: DT_FLOAT\\n    }\\n  }\\n  attr {\\n    key: &quot;out_type&quot;\\n    value {\\n      type: DT_INT32\\n    }\\n  }\\n}\\nnode {\\n  name: &quot;gradients_1/mean_squared_error/Sum_grad/Tile&quot;\\n  op: &quot;Tile&quot;\\n  input: &quot;gradients_1/mean_squared_error/Sum_grad/Reshape&quot;\\n  input: &quot;gradients_1/mean_squared_error/Sum_grad/Shape&quot;\\n  attr {\\n    key: &quot;T&quot;\\n    value {\\n      type: DT_FLOAT\\n    }\\n  }\\n  attr {\\n    key: &quot;Tmultiples&quot;\\n    value {\\n      type: DT_INT32\\n    }\\n  }\\n}\\nnode {\\n  name: &quot;gradients_1/mean_squared_error/Mul_grad/Shape&quot;\\n  op: &quot;Shape&quot;\\n  input: &quot;mean_squared_error/SquaredDifference&quot;\\n  attr {\\n    key: &quot;T&quot;\\n    value {\\n      type: DT_FLOAT\\n    }\\n  }\\n  attr {\\n    key: &quot;out_type&quot;\\n    value {\\n      type: DT_INT32\\n    }\\n  }\\n}\\nnode {\\n  name: &quot;gradients_1/mean_squared_error/Mul_grad/Shape_1&quot;\\n  op: &quot;Const&quot;\\n  attr {\\n    key: &quot;dtype&quot;\\n    value {\\n      type: DT_INT32\\n    }\\n  }\\n  attr {\\n    key: &quot;value&quot;\\n    value {\\n      tensor {\\n        dtype: DT_INT32\\n        tensor_shape {\\n          dim {\\n          }\\n        }\\n      }\\n    }\\n  }\\n}\\nnode {\\n  name: &quot;gradients_1/mean_squared_error/Mul_grad/BroadcastGradientArgs&quot;\\n  op: &quot;BroadcastGradientArgs&quot;\\n  input: &quot;gradients_1/mean_squared_error/Mul_grad/Shape&quot;\\n  input: &quot;gradients_1/mean_squared_error/Mul_grad/Shape_1&quot;\\n  attr {\\n    key: &quot;T&quot;\\n    value {\\n      type: DT_INT32\\n    }\\n  }\\n}\\nnode {\\n  name: &quot;gradients_1/mean_squared_error/Mul_grad/mul&quot;\\n  op: &quot;Mul&quot;\\n  input: &quot;gradients_1/mean_squared_error/Sum_grad/Tile&quot;\\n  input: &quot;mean_squared_error/ToFloat_3/x&quot;\\n  attr {\\n    key: &quot;T&quot;\\n    value {\\n      type: DT_FLOAT\\n    }\\n  }\\n}\\nnode {\\n  name: &quot;gradients_1/mean_squared_error/Mul_grad/Sum&quot;\\n  op: &quot;Sum&quot;\\n  input: &quot;gradients_1/mean_squared_error/Mul_grad/mul&quot;\\n  input: &quot;gradients_1/mean_squared_error/Mul_grad/BroadcastGradientArgs&quot;\\n  attr {\\n    key: &quot;T&quot;\\n    value {\\n      type: DT_FLOAT\\n    }\\n  }\\n  attr {\\n    key: &quot;Tidx&quot;\\n    value {\\n      type: DT_INT32\\n    }\\n  }\\n  attr {\\n    key: &quot;keep_dims&quot;\\n    value {\\n      b: false\\n    }\\n  }\\n}\\nnode {\\n  name: &quot;gradients_1/mean_squared_error/Mul_grad/Reshape&quot;\\n  op: &quot;Reshape&quot;\\n  input: &quot;gradients_1/mean_squared_error/Mul_grad/Sum&quot;\\n  input: &quot;gradients_1/mean_squared_error/Mul_grad/Shape&quot;\\n  attr {\\n    key: &quot;T&quot;\\n    value {\\n      type: DT_FLOAT\\n    }\\n  }\\n  attr {\\n    key: &quot;Tshape&quot;\\n    value {\\n      type: DT_INT32\\n    }\\n  }\\n}\\nnode {\\n  name: &quot;gradients_1/mean_squared_error/Mul_grad/mul_1&quot;\\n  op: &quot;Mul&quot;\\n  input: &quot;mean_squared_error/SquaredDifference&quot;\\n  input: &quot;gradients_1/mean_squared_error/Sum_grad/Tile&quot;\\n  attr {\\n    key: &quot;T&quot;\\n    value {\\n      type: DT_FLOAT\\n    }\\n  }\\n}\\nnode {\\n  name: &quot;gradients_1/mean_squared_error/Mul_grad/Sum_1&quot;\\n  op: &quot;Sum&quot;\\n  input: &quot;gradients_1/mean_squared_error/Mul_grad/mul_1&quot;\\n  input: &quot;gradients_1/mean_squared_error/Mul_grad/BroadcastGradientArgs:1&quot;\\n  attr {\\n    key: &quot;T&quot;\\n    value {\\n      type: DT_FLOAT\\n    }\\n  }\\n  attr {\\n    key: &quot;Tidx&quot;\\n    value {\\n      type: DT_INT32\\n    }\\n  }\\n  attr {\\n    key: &quot;keep_dims&quot;\\n    value {\\n      b: false\\n    }\\n  }\\n}\\nnode {\\n  name: &quot;gradients_1/mean_squared_error/Mul_grad/Reshape_1&quot;\\n  op: &quot;Reshape&quot;\\n  input: &quot;gradients_1/mean_squared_error/Mul_grad/Sum_1&quot;\\n  input: &quot;gradients_1/mean_squared_error/Mul_grad/Shape_1&quot;\\n  attr {\\n    key: &quot;T&quot;\\n    value {\\n      type: DT_FLOAT\\n    }\\n  }\\n  attr {\\n    key: &quot;Tshape&quot;\\n    value {\\n      type: DT_INT32\\n    }\\n  }\\n}\\nnode {\\n  name: &quot;gradients_1/mean_squared_error/Mul_grad/tuple/group_deps&quot;\\n  op: &quot;NoOp&quot;\\n  input: &quot;^gradients_1/mean_squared_error/Mul_grad/Reshape&quot;\\n  input: &quot;^gradients_1/mean_squared_error/Mul_grad/Reshape_1&quot;\\n}\\nnode {\\n  name: &quot;gradients_1/mean_squared_error/Mul_grad/tuple/control_dependency&quot;\\n  op: &quot;Identity&quot;\\n  input: &quot;gradients_1/mean_squared_error/Mul_grad/Reshape&quot;\\n  input: &quot;^gradients_1/mean_squared_error/Mul_grad/tuple/group_deps&quot;\\n  attr {\\n    key: &quot;T&quot;\\n    value {\\n      type: DT_FLOAT\\n    }\\n  }\\n  attr {\\n    key: &quot;_class&quot;\\n    value {\\n      list {\\n        s: &quot;loc:@gradients_1/mean_squared_error/Mul_grad/Reshape&quot;\\n      }\\n    }\\n  }\\n}\\nnode {\\n  name: &quot;gradients_1/mean_squared_error/Mul_grad/tuple/control_dependency_1&quot;\\n  op: &quot;Identity&quot;\\n  input: &quot;gradients_1/mean_squared_error/Mul_grad/Reshape_1&quot;\\n  input: &quot;^gradients_1/mean_squared_error/Mul_grad/tuple/group_deps&quot;\\n  attr {\\n    key: &quot;T&quot;\\n    value {\\n      type: DT_FLOAT\\n    }\\n  }\\n  attr {\\n    key: &quot;_class&quot;\\n    value {\\n      list {\\n        s: &quot;loc:@gradients_1/mean_squared_error/Mul_grad/Reshape_1&quot;\\n      }\\n    }\\n  }\\n}\\nnode {\\n  name: &quot;gradients_1/mean_squared_error/num_present_grad/Reshape/shape&quot;\\n  op: &quot;Const&quot;\\n  attr {\\n    key: &quot;dtype&quot;\\n    value {\\n      type: DT_INT32\\n    }\\n  }\\n  attr {\\n    key: &quot;value&quot;\\n    value {\\n      tensor {\\n        dtype: DT_INT32\\n        tensor_shape {\\n          dim {\\n            size: 2\\n          }\\n        }\\n        tensor_content: &quot;\\\\001\\\\000\\\\000\\\\000\\\\001\\\\000\\\\000\\\\000&quot;\\n      }\\n    }\\n  }\\n}\\nnode {\\n  name: &quot;gradients_1/mean_squared_error/num_present_grad/Reshape&quot;\\n  op: &quot;Reshape&quot;\\n  input: &quot;gradients_1/mean_squared_error/Select_grad/tuple/control_dependency_1&quot;\\n  input: &quot;gradients_1/mean_squared_error/num_present_grad/Reshape/shape&quot;\\n  attr {\\n    key: &quot;T&quot;\\n    value {\\n      type: DT_FLOAT\\n    }\\n  }\\n  attr {\\n    key: &quot;Tshape&quot;\\n    value {\\n      type: DT_INT32\\n    }\\n  }\\n}\\nnode {\\n  name: &quot;gradients_1/mean_squared_error/num_present_grad/Shape&quot;\\n  op: &quot;Shape&quot;\\n  input: &quot;mean_squared_error/num_present/broadcast_weights&quot;\\n  attr {\\n    key: &quot;T&quot;\\n    value {\\n      type: DT_FLOAT\\n    }\\n  }\\n  attr {\\n    key: &quot;out_type&quot;\\n    value {\\n      type: DT_INT32\\n    }\\n  }\\n}\\nnode {\\n  name: &quot;gradients_1/mean_squared_error/num_present_grad/Tile&quot;\\n  op: &quot;Tile&quot;\\n  input: &quot;gradients_1/mean_squared_error/num_present_grad/Reshape&quot;\\n  input: &quot;gradients_1/mean_squared_error/num_present_grad/Shape&quot;\\n  attr {\\n    key: &quot;T&quot;\\n    value {\\n      type: DT_FLOAT\\n    }\\n  }\\n  attr {\\n    key: &quot;Tmultiples&quot;\\n    value {\\n      type: DT_INT32\\n    }\\n  }\\n}\\nnode {\\n  name: &quot;gradients_1/mean_squared_error/num_present/broadcast_weights_grad/Shape&quot;\\n  op: &quot;Const&quot;\\n  attr {\\n    key: &quot;dtype&quot;\\n    value {\\n      type: DT_INT32\\n    }\\n  }\\n  attr {\\n    key: &quot;value&quot;\\n    value {\\n      tensor {\\n        dtype: DT_INT32\\n        tensor_shape {\\n          dim {\\n          }\\n        }\\n      }\\n    }\\n  }\\n}\\nnode {\\n  name: &quot;gradients_1/mean_squared_error/num_present/broadcast_weights_grad/Shape_1&quot;\\n  op: &quot;Shape&quot;\\n  input: &quot;mean_squared_error/num_present/broadcast_weights/ones_like&quot;\\n  attr {\\n    key: &quot;T&quot;\\n    value {\\n      type: DT_FLOAT\\n    }\\n  }\\n  attr {\\n    key: &quot;out_type&quot;\\n    value {\\n      type: DT_INT32\\n    }\\n  }\\n}\\nnode {\\n  name: &quot;gradients_1/mean_squared_error/num_present/broadcast_weights_grad/BroadcastGradientArgs&quot;\\n  op: &quot;BroadcastGradientArgs&quot;\\n  input: &quot;gradients_1/mean_squared_error/num_present/broadcast_weights_grad/Shape&quot;\\n  input: &quot;gradients_1/mean_squared_error/num_present/broadcast_weights_grad/Shape_1&quot;\\n  attr {\\n    key: &quot;T&quot;\\n    value {\\n      type: DT_INT32\\n    }\\n  }\\n}\\nnode {\\n  name: &quot;gradients_1/mean_squared_error/num_present/broadcast_weights_grad/mul&quot;\\n  op: &quot;Mul&quot;\\n  input: &quot;gradients_1/mean_squared_error/num_present_grad/Tile&quot;\\n  input: &quot;mean_squared_error/num_present/broadcast_weights/ones_like&quot;\\n  attr {\\n    key: &quot;T&quot;\\n    value {\\n      type: DT_FLOAT\\n    }\\n  }\\n}\\nnode {\\n  name: &quot;gradients_1/mean_squared_error/num_present/broadcast_weights_grad/Sum&quot;\\n  op: &quot;Sum&quot;\\n  input: &quot;gradients_1/mean_squared_error/num_present/broadcast_weights_grad/mul&quot;\\n  input: &quot;gradients_1/mean_squared_error/num_present/broadcast_weights_grad/BroadcastGradientArgs&quot;\\n  attr {\\n    key: &quot;T&quot;\\n    value {\\n      type: DT_FLOAT\\n    }\\n  }\\n  attr {\\n    key: &quot;Tidx&quot;\\n    value {\\n      type: DT_INT32\\n    }\\n  }\\n  attr {\\n    key: &quot;keep_dims&quot;\\n    value {\\n      b: false\\n    }\\n  }\\n}\\nnode {\\n  name: &quot;gradients_1/mean_squared_error/num_present/broadcast_weights_grad/Reshape&quot;\\n  op: &quot;Reshape&quot;\\n  input: &quot;gradients_1/mean_squared_error/num_present/broadcast_weights_grad/Sum&quot;\\n  input: &quot;gradients_1/mean_squared_error/num_present/broadcast_weights_grad/Shape&quot;\\n  attr {\\n    key: &quot;T&quot;\\n    value {\\n      type: DT_FLOAT\\n    }\\n  }\\n  attr {\\n    key: &quot;Tshape&quot;\\n    value {\\n      type: DT_INT32\\n    }\\n  }\\n}\\nnode {\\n  name: &quot;gradients_1/mean_squared_error/num_present/broadcast_weights_grad/mul_1&quot;\\n  op: &quot;Mul&quot;\\n  input: &quot;mean_squared_error/num_present/Select&quot;\\n  input: &quot;gradients_1/mean_squared_error/num_present_grad/Tile&quot;\\n  attr {\\n    key: &quot;T&quot;\\n    value {\\n      type: DT_FLOAT\\n    }\\n  }\\n}\\nnode {\\n  name: &quot;gradients_1/mean_squared_error/num_present/broadcast_weights_grad/Sum_1&quot;\\n  op: &quot;Sum&quot;\\n  input: &quot;gradients_1/mean_squared_error/num_present/broadcast_weights_grad/mul_1&quot;\\n  input: &quot;gradients_1/mean_squared_error/num_present/broadcast_weights_grad/BroadcastGradientArgs:1&quot;\\n  attr {\\n    key: &quot;T&quot;\\n    value {\\n      type: DT_FLOAT\\n    }\\n  }\\n  attr {\\n    key: &quot;Tidx&quot;\\n    value {\\n      type: DT_INT32\\n    }\\n  }\\n  attr {\\n    key: &quot;keep_dims&quot;\\n    value {\\n      b: false\\n    }\\n  }\\n}\\nnode {\\n  name: &quot;gradients_1/mean_squared_error/num_present/broadcast_weights_grad/Reshape_1&quot;\\n  op: &quot;Reshape&quot;\\n  input: &quot;gradients_1/mean_squared_error/num_present/broadcast_weights_grad/Sum_1&quot;\\n  input: &quot;gradients_1/mean_squared_error/num_present/broadcast_weights_grad/Shape_1&quot;\\n  attr {\\n    key: &quot;T&quot;\\n    value {\\n      type: DT_FLOAT\\n    }\\n  }\\n  attr {\\n    key: &quot;Tshape&quot;\\n    value {\\n      type: DT_INT32\\n    }\\n  }\\n}\\nnode {\\n  name: &quot;gradients_1/mean_squared_error/num_present/broadcast_weights_grad/tuple/group_deps&quot;\\n  op: &quot;NoOp&quot;\\n  input: &quot;^gradients_1/mean_squared_error/num_present/broadcast_weights_grad/Reshape&quot;\\n  input: &quot;^gradients_1/mean_squared_error/num_present/broadcast_weights_grad/Reshape_1&quot;\\n}\\nnode {\\n  name: &quot;gradients_1/mean_squared_error/num_present/broadcast_weights_grad/tuple/control_dependency&quot;\\n  op: &quot;Identity&quot;\\n  input: &quot;gradients_1/mean_squared_error/num_present/broadcast_weights_grad/Reshape&quot;\\n  input: &quot;^gradients_1/mean_squared_error/num_present/broadcast_weights_grad/tuple/group_deps&quot;\\n  attr {\\n    key: &quot;T&quot;\\n    value {\\n      type: DT_FLOAT\\n    }\\n  }\\n  attr {\\n    key: &quot;_class&quot;\\n    value {\\n      list {\\n        s: &quot;loc:@gradients_1/mean_squared_error/num_present/broadcast_weights_grad/Reshape&quot;\\n      }\\n    }\\n  }\\n}\\nnode {\\n  name: &quot;gradients_1/mean_squared_error/num_present/broadcast_weights_grad/tuple/control_dependency_1&quot;\\n  op: &quot;Identity&quot;\\n  input: &quot;gradients_1/mean_squared_error/num_present/broadcast_weights_grad/Reshape_1&quot;\\n  input: &quot;^gradients_1/mean_squared_error/num_present/broadcast_weights_grad/tuple/group_deps&quot;\\n  attr {\\n    key: &quot;T&quot;\\n    value {\\n      type: DT_FLOAT\\n    }\\n  }\\n  attr {\\n    key: &quot;_class&quot;\\n    value {\\n      list {\\n        s: &quot;loc:@gradients_1/mean_squared_error/num_present/broadcast_weights_grad/Reshape_1&quot;\\n      }\\n    }\\n  }\\n}\\nnode {\\n  name: &quot;gradients_1/mean_squared_error/num_present/broadcast_weights/ones_like_grad/Const&quot;\\n  op: &quot;Const&quot;\\n  attr {\\n    key: &quot;dtype&quot;\\n    value {\\n      type: DT_INT32\\n    }\\n  }\\n  attr {\\n    key: &quot;value&quot;\\n    value {\\n      tensor {\\n        dtype: DT_INT32\\n        tensor_shape {\\n          dim {\\n            size: 2\\n          }\\n        }\\n        tensor_content: &quot;\\\\000\\\\000\\\\000\\\\000\\\\001\\\\000\\\\000\\\\000&quot;\\n      }\\n    }\\n  }\\n}\\nnode {\\n  name: &quot;gradients_1/mean_squared_error/num_present/broadcast_weights/ones_like_grad/Sum&quot;\\n  op: &quot;Sum&quot;\\n  input: &quot;gradients_1/mean_squared_error/num_present/broadcast_weights_grad/tuple/control_dependency_1&quot;\\n  input: &quot;gradients_1/mean_squared_error/num_present/broadcast_weights/ones_like_grad/Const&quot;\\n  attr {\\n    key: &quot;T&quot;\\n    value {\\n      type: DT_FLOAT\\n    }\\n  }\\n  attr {\\n    key: &quot;Tidx&quot;\\n    value {\\n      type: DT_INT32\\n    }\\n  }\\n  attr {\\n    key: &quot;keep_dims&quot;\\n    value {\\n      b: false\\n    }\\n  }\\n}\\nnode {\\n  name: &quot;gradients_1/mean_squared_error/SquaredDifference_grad/Shape&quot;\\n  op: &quot;Shape&quot;\\n  input: &quot;prediction_dense_layer/BiasAdd&quot;\\n  attr {\\n    key: &quot;T&quot;\\n    value {\\n      type: DT_FLOAT\\n    }\\n  }\\n  attr {\\n    key: &quot;out_type&quot;\\n    value {\\n      type: DT_INT32\\n    }\\n  }\\n}\\nnode {\\n  name: &quot;gradients_1/mean_squared_error/SquaredDifference_grad/Shape_1&quot;\\n  op: &quot;Shape&quot;\\n  input: &quot;userdefinedoutput&quot;\\n  attr {\\n    key: &quot;T&quot;\\n    value {\\n      type: DT_FLOAT\\n    }\\n  }\\n  attr {\\n    key: &quot;out_type&quot;\\n    value {\\n      type: DT_INT32\\n    }\\n  }\\n}\\nnode {\\n  name: &quot;gradients_1/mean_squared_error/SquaredDifference_grad/BroadcastGradientArgs&quot;\\n  op: &quot;BroadcastGradientArgs&quot;\\n  input: &quot;gradients_1/mean_squared_error/SquaredDifference_grad/Shape&quot;\\n  input: &quot;gradients_1/mean_squared_error/SquaredDifference_grad/Shape_1&quot;\\n  attr {\\n    key: &quot;T&quot;\\n    value {\\n      type: DT_INT32\\n    }\\n  }\\n}\\nnode {\\n  name: &quot;gradients_1/mean_squared_error/SquaredDifference_grad/scalar&quot;\\n  op: &quot;Const&quot;\\n  input: &quot;^gradients_1/mean_squared_error/Mul_grad/tuple/control_dependency&quot;\\n  attr {\\n    key: &quot;dtype&quot;\\n    value {\\n      type: DT_FLOAT\\n    }\\n  }\\n  attr {\\n    key: &quot;value&quot;\\n    value {\\n      tensor {\\n        dtype: DT_FLOAT\\n        tensor_shape {\\n        }\\n        float_val: 2.0\\n      }\\n    }\\n  }\\n}\\nnode {\\n  name: &quot;gradients_1/mean_squared_error/SquaredDifference_grad/mul&quot;\\n  op: &quot;Mul&quot;\\n  input: &quot;gradients_1/mean_squared_error/SquaredDifference_grad/scalar&quot;\\n  input: &quot;gradients_1/mean_squared_error/Mul_grad/tuple/control_dependency&quot;\\n  attr {\\n    key: &quot;T&quot;\\n    value {\\n      type: DT_FLOAT\\n    }\\n  }\\n}\\nnode {\\n  name: &quot;gradients_1/mean_squared_error/SquaredDifference_grad/sub&quot;\\n  op: &quot;Sub&quot;\\n  input: &quot;prediction_dense_layer/BiasAdd&quot;\\n  input: &quot;userdefinedoutput&quot;\\n  input: &quot;^gradients_1/mean_squared_error/Mul_grad/tuple/control_dependency&quot;\\n  attr {\\n    key: &quot;T&quot;\\n    value {\\n      type: DT_FLOAT\\n    }\\n  }\\n}\\nnode {\\n  name: &quot;gradients_1/mean_squared_error/SquaredDifference_grad/mul_1&quot;\\n  op: &quot;Mul&quot;\\n  input: &quot;gradients_1/mean_squared_error/SquaredDifference_grad/mul&quot;\\n  input: &quot;gradients_1/mean_squared_error/SquaredDifference_grad/sub&quot;\\n  attr {\\n    key: &quot;T&quot;\\n    value {\\n      type: DT_FLOAT\\n    }\\n  }\\n}\\nnode {\\n  name: &quot;gradients_1/mean_squared_error/SquaredDifference_grad/Sum&quot;\\n  op: &quot;Sum&quot;\\n  input: &quot;gradients_1/mean_squared_error/SquaredDifference_grad/mul_1&quot;\\n  input: &quot;gradients_1/mean_squared_error/SquaredDifference_grad/BroadcastGradientArgs&quot;\\n  attr {\\n    key: &quot;T&quot;\\n    value {\\n      type: DT_FLOAT\\n    }\\n  }\\n  attr {\\n    key: &quot;Tidx&quot;\\n    value {\\n      type: DT_INT32\\n    }\\n  }\\n  attr {\\n    key: &quot;keep_dims&quot;\\n    value {\\n      b: false\\n    }\\n  }\\n}\\nnode {\\n  name: &quot;gradients_1/mean_squared_error/SquaredDifference_grad/Reshape&quot;\\n  op: &quot;Reshape&quot;\\n  input: &quot;gradients_1/mean_squared_error/SquaredDifference_grad/Sum&quot;\\n  input: &quot;gradients_1/mean_squared_error/SquaredDifference_grad/Shape&quot;\\n  attr {\\n    key: &quot;T&quot;\\n    value {\\n      type: DT_FLOAT\\n    }\\n  }\\n  attr {\\n    key: &quot;Tshape&quot;\\n    value {\\n      type: DT_INT32\\n    }\\n  }\\n}\\nnode {\\n  name: &quot;gradients_1/mean_squared_error/SquaredDifference_grad/Sum_1&quot;\\n  op: &quot;Sum&quot;\\n  input: &quot;gradients_1/mean_squared_error/SquaredDifference_grad/mul_1&quot;\\n  input: &quot;gradients_1/mean_squared_error/SquaredDifference_grad/BroadcastGradientArgs:1&quot;\\n  attr {\\n    key: &quot;T&quot;\\n    value {\\n      type: DT_FLOAT\\n    }\\n  }\\n  attr {\\n    key: &quot;Tidx&quot;\\n    value {\\n      type: DT_INT32\\n    }\\n  }\\n  attr {\\n    key: &quot;keep_dims&quot;\\n    value {\\n      b: false\\n    }\\n  }\\n}\\nnode {\\n  name: &quot;gradients_1/mean_squared_error/SquaredDifference_grad/Reshape_1&quot;\\n  op: &quot;Reshape&quot;\\n  input: &quot;gradients_1/mean_squared_error/SquaredDifference_grad/Sum_1&quot;\\n  input: &quot;gradients_1/mean_squared_error/SquaredDifference_grad/Shape_1&quot;\\n  attr {\\n    key: &quot;T&quot;\\n    value {\\n      type: DT_FLOAT\\n    }\\n  }\\n  attr {\\n    key: &quot;Tshape&quot;\\n    value {\\n      type: DT_INT32\\n    }\\n  }\\n}\\nnode {\\n  name: &quot;gradients_1/mean_squared_error/SquaredDifference_grad/Neg&quot;\\n  op: &quot;Neg&quot;\\n  input: &quot;gradients_1/mean_squared_error/SquaredDifference_grad/Reshape_1&quot;\\n  attr {\\n    key: &quot;T&quot;\\n    value {\\n      type: DT_FLOAT\\n    }\\n  }\\n}\\nnode {\\n  name: &quot;gradients_1/mean_squared_error/SquaredDifference_grad/tuple/group_deps&quot;\\n  op: &quot;NoOp&quot;\\n  input: &quot;^gradients_1/mean_squared_error/SquaredDifference_grad/Reshape&quot;\\n  input: &quot;^gradients_1/mean_squared_error/SquaredDifference_grad/Neg&quot;\\n}\\nnode {\\n  name: &quot;gradients_1/mean_squared_error/SquaredDifference_grad/tuple/control_dependency&quot;\\n  op: &quot;Identity&quot;\\n  input: &quot;gradients_1/mean_squared_error/SquaredDifference_grad/Reshape&quot;\\n  input: &quot;^gradients_1/mean_squared_error/SquaredDifference_grad/tuple/group_deps&quot;\\n  attr {\\n    key: &quot;T&quot;\\n    value {\\n      type: DT_FLOAT\\n    }\\n  }\\n  attr {\\n    key: &quot;_class&quot;\\n    value {\\n      list {\\n        s: &quot;loc:@gradients_1/mean_squared_error/SquaredDifference_grad/Reshape&quot;\\n      }\\n    }\\n  }\\n}\\nnode {\\n  name: &quot;gradients_1/mean_squared_error/SquaredDifference_grad/tuple/control_dependency_1&quot;\\n  op: &quot;Identity&quot;\\n  input: &quot;gradients_1/mean_squared_error/SquaredDifference_grad/Neg&quot;\\n  input: &quot;^gradients_1/mean_squared_error/SquaredDifference_grad/tuple/group_deps&quot;\\n  attr {\\n    key: &quot;T&quot;\\n    value {\\n      type: DT_FLOAT\\n    }\\n  }\\n  attr {\\n    key: &quot;_class&quot;\\n    value {\\n      list {\\n        s: &quot;loc:@gradients_1/mean_squared_error/SquaredDifference_grad/Neg&quot;\\n      }\\n    }\\n  }\\n}\\nnode {\\n  name: &quot;gradients_1/prediction_dense_layer/BiasAdd_grad/BiasAddGrad&quot;\\n  op: &quot;BiasAddGrad&quot;\\n  input: &quot;gradients_1/mean_squared_error/SquaredDifference_grad/tuple/control_dependency&quot;\\n  attr {\\n    key: &quot;T&quot;\\n    value {\\n      type: DT_FLOAT\\n    }\\n  }\\n  attr {\\n    key: &quot;data_format&quot;\\n    value {\\n      s: &quot;NHWC&quot;\\n    }\\n  }\\n}\\nnode {\\n  name: &quot;gradients_1/prediction_dense_layer/BiasAdd_grad/tuple/group_deps&quot;\\n  op: &quot;NoOp&quot;\\n  input: &quot;^gradients_1/mean_squared_error/SquaredDifference_grad/tuple/control_dependency&quot;\\n  input: &quot;^gradients_1/prediction_dense_layer/BiasAdd_grad/BiasAddGrad&quot;\\n}\\nnode {\\n  name: &quot;gradients_1/prediction_dense_layer/BiasAdd_grad/tuple/control_dependency&quot;\\n  op: &quot;Identity&quot;\\n  input: &quot;gradients_1/mean_squared_error/SquaredDifference_grad/tuple/control_dependency&quot;\\n  input: &quot;^gradients_1/prediction_dense_layer/BiasAdd_grad/tuple/group_deps&quot;\\n  attr {\\n    key: &quot;T&quot;\\n    value {\\n      type: DT_FLOAT\\n    }\\n  }\\n  attr {\\n    key: &quot;_class&quot;\\n    value {\\n      list {\\n        s: &quot;loc:@gradients_1/mean_squared_error/SquaredDifference_grad/Reshape&quot;\\n      }\\n    }\\n  }\\n}\\nnode {\\n  name: &quot;gradients_1/prediction_dense_layer/BiasAdd_grad/tuple/control_dependency_1&quot;\\n  op: &quot;Identity&quot;\\n  input: &quot;gradients_1/prediction_dense_layer/BiasAdd_grad/BiasAddGrad&quot;\\n  input: &quot;^gradients_1/prediction_dense_layer/BiasAdd_grad/tuple/group_deps&quot;\\n  attr {\\n    key: &quot;T&quot;\\n    value {\\n      type: DT_FLOAT\\n    }\\n  }\\n  attr {\\n    key: &quot;_class&quot;\\n    value {\\n      list {\\n        s: &quot;loc:@gradients_1/prediction_dense_layer/BiasAdd_grad/BiasAddGrad&quot;\\n      }\\n    }\\n  }\\n}\\nnode {\\n  name: &quot;gradients_1/prediction_dense_layer/MatMul_grad/MatMul&quot;\\n  op: &quot;MatMul&quot;\\n  input: &quot;gradients_1/prediction_dense_layer/BiasAdd_grad/tuple/control_dependency&quot;\\n  input: &quot;prediction_dense_layer/kernel/read&quot;\\n  attr {\\n    key: &quot;T&quot;\\n    value {\\n      type: DT_FLOAT\\n    }\\n  }\\n  attr {\\n    key: &quot;transpose_a&quot;\\n    value {\\n      b: false\\n    }\\n  }\\n  attr {\\n    key: &quot;transpose_b&quot;\\n    value {\\n      b: true\\n    }\\n  }\\n}\\nnode {\\n  name: &quot;gradients_1/prediction_dense_layer/MatMul_grad/MatMul_1&quot;\\n  op: &quot;MatMul&quot;\\n  input: &quot;first_dense_layer/Sigmoid&quot;\\n  input: &quot;gradients_1/prediction_dense_layer/BiasAdd_grad/tuple/control_dependency&quot;\\n  attr {\\n    key: &quot;T&quot;\\n    value {\\n      type: DT_FLOAT\\n    }\\n  }\\n  attr {\\n    key: &quot;transpose_a&quot;\\n    value {\\n      b: true\\n    }\\n  }\\n  attr {\\n    key: &quot;transpose_b&quot;\\n    value {\\n      b: false\\n    }\\n  }\\n}\\nnode {\\n  name: &quot;gradients_1/prediction_dense_layer/MatMul_grad/tuple/group_deps&quot;\\n  op: &quot;NoOp&quot;\\n  input: &quot;^gradients_1/prediction_dense_layer/MatMul_grad/MatMul&quot;\\n  input: &quot;^gradients_1/prediction_dense_layer/MatMul_grad/MatMul_1&quot;\\n}\\nnode {\\n  name: &quot;gradients_1/prediction_dense_layer/MatMul_grad/tuple/control_dependency&quot;\\n  op: &quot;Identity&quot;\\n  input: &quot;gradients_1/prediction_dense_layer/MatMul_grad/MatMul&quot;\\n  input: &quot;^gradients_1/prediction_dense_layer/MatMul_grad/tuple/group_deps&quot;\\n  attr {\\n    key: &quot;T&quot;\\n    value {\\n      type: DT_FLOAT\\n    }\\n  }\\n  attr {\\n    key: &quot;_class&quot;\\n    value {\\n      list {\\n        s: &quot;loc:@gradients_1/prediction_dense_layer/MatMul_grad/MatMul&quot;\\n      }\\n    }\\n  }\\n}\\nnode {\\n  name: &quot;gradients_1/prediction_dense_layer/MatMul_grad/tuple/control_dependency_1&quot;\\n  op: &quot;Identity&quot;\\n  input: &quot;gradients_1/prediction_dense_layer/MatMul_grad/MatMul_1&quot;\\n  input: &quot;^gradients_1/prediction_dense_layer/MatMul_grad/tuple/group_deps&quot;\\n  attr {\\n    key: &quot;T&quot;\\n    value {\\n      type: DT_FLOAT\\n    }\\n  }\\n  attr {\\n    key: &quot;_class&quot;\\n    value {\\n      list {\\n        s: &quot;loc:@gradients_1/prediction_dense_layer/MatMul_grad/MatMul_1&quot;\\n      }\\n    }\\n  }\\n}\\nnode {\\n  name: &quot;gradients_1/first_dense_layer/Sigmoid_grad/SigmoidGrad&quot;\\n  op: &quot;SigmoidGrad&quot;\\n  input: &quot;first_dense_layer/Sigmoid&quot;\\n  input: &quot;gradients_1/prediction_dense_layer/MatMul_grad/tuple/control_dependency&quot;\\n  attr {\\n    key: &quot;T&quot;\\n    value {\\n      type: DT_FLOAT\\n    }\\n  }\\n}\\nnode {\\n  name: &quot;gradients_1/first_dense_layer/BiasAdd_grad/BiasAddGrad&quot;\\n  op: &quot;BiasAddGrad&quot;\\n  input: &quot;gradients_1/first_dense_layer/Sigmoid_grad/SigmoidGrad&quot;\\n  attr {\\n    key: &quot;T&quot;\\n    value {\\n      type: DT_FLOAT\\n    }\\n  }\\n  attr {\\n    key: &quot;data_format&quot;\\n    value {\\n      s: &quot;NHWC&quot;\\n    }\\n  }\\n}\\nnode {\\n  name: &quot;gradients_1/first_dense_layer/BiasAdd_grad/tuple/group_deps&quot;\\n  op: &quot;NoOp&quot;\\n  input: &quot;^gradients_1/first_dense_layer/Sigmoid_grad/SigmoidGrad&quot;\\n  input: &quot;^gradients_1/first_dense_layer/BiasAdd_grad/BiasAddGrad&quot;\\n}\\nnode {\\n  name: &quot;gradients_1/first_dense_layer/BiasAdd_grad/tuple/control_dependency&quot;\\n  op: &quot;Identity&quot;\\n  input: &quot;gradients_1/first_dense_layer/Sigmoid_grad/SigmoidGrad&quot;\\n  input: &quot;^gradients_1/first_dense_layer/BiasAdd_grad/tuple/group_deps&quot;\\n  attr {\\n    key: &quot;T&quot;\\n    value {\\n      type: DT_FLOAT\\n    }\\n  }\\n  attr {\\n    key: &quot;_class&quot;\\n    value {\\n      list {\\n        s: &quot;loc:@gradients_1/first_dense_layer/Sigmoid_grad/SigmoidGrad&quot;\\n      }\\n    }\\n  }\\n}\\nnode {\\n  name: &quot;gradients_1/first_dense_layer/BiasAdd_grad/tuple/control_dependency_1&quot;\\n  op: &quot;Identity&quot;\\n  input: &quot;gradients_1/first_dense_layer/BiasAdd_grad/BiasAddGrad&quot;\\n  input: &quot;^gradients_1/first_dense_layer/BiasAdd_grad/tuple/group_deps&quot;\\n  attr {\\n    key: &quot;T&quot;\\n    value {\\n      type: DT_FLOAT\\n    }\\n  }\\n  attr {\\n    key: &quot;_class&quot;\\n    value {\\n      list {\\n        s: &quot;loc:@gradients_1/first_dense_layer/BiasAdd_grad/BiasAddGrad&quot;\\n      }\\n    }\\n  }\\n}\\nnode {\\n  name: &quot;gradients_1/first_dense_layer/MatMul_grad/MatMul&quot;\\n  op: &quot;MatMul&quot;\\n  input: &quot;gradients_1/first_dense_layer/BiasAdd_grad/tuple/control_dependency&quot;\\n  input: &quot;first_dense_layer/kernel/read&quot;\\n  attr {\\n    key: &quot;T&quot;\\n    value {\\n      type: DT_FLOAT\\n    }\\n  }\\n  attr {\\n    key: &quot;transpose_a&quot;\\n    value {\\n      b: false\\n    }\\n  }\\n  attr {\\n    key: &quot;transpose_b&quot;\\n    value {\\n      b: true\\n    }\\n  }\\n}\\nnode {\\n  name: &quot;gradients_1/first_dense_layer/MatMul_grad/MatMul_1&quot;\\n  op: &quot;MatMul&quot;\\n  input: &quot;inputplaceholder&quot;\\n  input: &quot;gradients_1/first_dense_layer/BiasAdd_grad/tuple/control_dependency&quot;\\n  attr {\\n    key: &quot;T&quot;\\n    value {\\n      type: DT_FLOAT\\n    }\\n  }\\n  attr {\\n    key: &quot;transpose_a&quot;\\n    value {\\n      b: true\\n    }\\n  }\\n  attr {\\n    key: &quot;transpose_b&quot;\\n    value {\\n      b: false\\n    }\\n  }\\n}\\nnode {\\n  name: &quot;gradients_1/first_dense_layer/MatMul_grad/tuple/group_deps&quot;\\n  op: &quot;NoOp&quot;\\n  input: &quot;^gradients_1/first_dense_layer/MatMul_grad/MatMul&quot;\\n  input: &quot;^gradients_1/first_dense_layer/MatMul_grad/MatMul_1&quot;\\n}\\nnode {\\n  name: &quot;gradients_1/first_dense_layer/MatMul_grad/tuple/control_dependency&quot;\\n  op: &quot;Identity&quot;\\n  input: &quot;gradients_1/first_dense_layer/MatMul_grad/MatMul&quot;\\n  input: &quot;^gradients_1/first_dense_layer/MatMul_grad/tuple/group_deps&quot;\\n  attr {\\n    key: &quot;T&quot;\\n    value {\\n      type: DT_FLOAT\\n    }\\n  }\\n  attr {\\n    key: &quot;_class&quot;\\n    value {\\n      list {\\n        s: &quot;loc:@gradients_1/first_dense_layer/MatMul_grad/MatMul&quot;\\n      }\\n    }\\n  }\\n}\\nnode {\\n  name: &quot;gradients_1/first_dense_layer/MatMul_grad/tuple/control_dependency_1&quot;\\n  op: &quot;Identity&quot;\\n  input: &quot;gradients_1/first_dense_layer/MatMul_grad/MatMul_1&quot;\\n  input: &quot;^gradients_1/first_dense_layer/MatMul_grad/tuple/group_deps&quot;\\n  attr {\\n    key: &quot;T&quot;\\n    value {\\n      type: DT_FLOAT\\n    }\\n  }\\n  attr {\\n    key: &quot;_class&quot;\\n    value {\\n      list {\\n        s: &quot;loc:@gradients_1/first_dense_layer/MatMul_grad/MatMul_1&quot;\\n      }\\n    }\\n  }\\n}\\nnode {\\n  name: &quot;GradientDescent_1/learning_rate&quot;\\n  op: &quot;Const&quot;\\n  attr {\\n    key: &quot;dtype&quot;\\n    value {\\n      type: DT_FLOAT\\n    }\\n  }\\n  attr {\\n    key: &quot;value&quot;\\n    value {\\n      tensor {\\n        dtype: DT_FLOAT\\n        tensor_shape {\\n        }\\n        float_val: 4.999999873689376e-05\\n      }\\n    }\\n  }\\n}\\nnode {\\n  name: &quot;GradientDescent_1/update_first_dense_layer/kernel/ApplyGradientDescent&quot;\\n  op: &quot;ApplyGradientDescent&quot;\\n  input: &quot;first_dense_layer/kernel&quot;\\n  input: &quot;GradientDescent_1/learning_rate&quot;\\n  input: &quot;gradients_1/first_dense_layer/MatMul_grad/tuple/control_dependency_1&quot;\\n  attr {\\n    key: &quot;T&quot;\\n    value {\\n      type: DT_FLOAT\\n    }\\n  }\\n  attr {\\n    key: &quot;_class&quot;\\n    value {\\n      list {\\n        s: &quot;loc:@first_dense_layer/kernel&quot;\\n      }\\n    }\\n  }\\n  attr {\\n    key: &quot;use_locking&quot;\\n    value {\\n      b: false\\n    }\\n  }\\n}\\nnode {\\n  name: &quot;GradientDescent_1/update_first_dense_layer/bias/ApplyGradientDescent&quot;\\n  op: &quot;ApplyGradientDescent&quot;\\n  input: &quot;first_dense_layer/bias&quot;\\n  input: &quot;GradientDescent_1/learning_rate&quot;\\n  input: &quot;gradients_1/first_dense_layer/BiasAdd_grad/tuple/control_dependency_1&quot;\\n  attr {\\n    key: &quot;T&quot;\\n    value {\\n      type: DT_FLOAT\\n    }\\n  }\\n  attr {\\n    key: &quot;_class&quot;\\n    value {\\n      list {\\n        s: &quot;loc:@first_dense_layer/bias&quot;\\n      }\\n    }\\n  }\\n  attr {\\n    key: &quot;use_locking&quot;\\n    value {\\n      b: false\\n    }\\n  }\\n}\\nnode {\\n  name: &quot;GradientDescent_1/update_prediction_dense_layer/kernel/ApplyGradientDescent&quot;\\n  op: &quot;ApplyGradientDescent&quot;\\n  input: &quot;prediction_dense_layer/kernel&quot;\\n  input: &quot;GradientDescent_1/learning_rate&quot;\\n  input: &quot;gradients_1/prediction_dense_layer/MatMul_grad/tuple/control_dependency_1&quot;\\n  attr {\\n    key: &quot;T&quot;\\n    value {\\n      type: DT_FLOAT\\n    }\\n  }\\n  attr {\\n    key: &quot;_class&quot;\\n    value {\\n      list {\\n        s: &quot;loc:@prediction_dense_layer/kernel&quot;\\n      }\\n    }\\n  }\\n  attr {\\n    key: &quot;use_locking&quot;\\n    value {\\n      b: false\\n    }\\n  }\\n}\\nnode {\\n  name: &quot;GradientDescent_1/update_prediction_dense_layer/bias/ApplyGradientDescent&quot;\\n  op: &quot;ApplyGradientDescent&quot;\\n  input: &quot;prediction_dense_layer/bias&quot;\\n  input: &quot;GradientDescent_1/learning_rate&quot;\\n  input: &quot;gradients_1/prediction_dense_layer/BiasAdd_grad/tuple/control_dependency_1&quot;\\n  attr {\\n    key: &quot;T&quot;\\n    value {\\n      type: DT_FLOAT\\n    }\\n  }\\n  attr {\\n    key: &quot;_class&quot;\\n    value {\\n      list {\\n        s: &quot;loc:@prediction_dense_layer/bias&quot;\\n      }\\n    }\\n  }\\n  attr {\\n    key: &quot;use_locking&quot;\\n    value {\\n      b: false\\n    }\\n  }\\n}\\nnode {\\n  name: &quot;GradientDescent_1&quot;\\n  op: &quot;NoOp&quot;\\n  input: &quot;^GradientDescent_1/update_first_dense_layer/kernel/ApplyGradientDescent&quot;\\n  input: &quot;^GradientDescent_1/update_first_dense_layer/bias/ApplyGradientDescent&quot;\\n  input: &quot;^GradientDescent_1/update_prediction_dense_layer/kernel/ApplyGradientDescent&quot;\\n  input: &quot;^GradientDescent_1/update_prediction_dense_layer/bias/ApplyGradientDescent&quot;\\n}\\nnode {\\n  name: &quot;init_1&quot;\\n  op: &quot;NoOp&quot;\\n  input: &quot;^first_dense_layer/kernel/Assign&quot;\\n  input: &quot;^first_dense_layer/bias/Assign&quot;\\n  input: &quot;^prediction_dense_layer/kernel/Assign&quot;\\n  input: &quot;^prediction_dense_layer/bias/Assign&quot;\\n}\\nnode {\\n  name: &quot;init_2&quot;\\n  op: &quot;NoOp&quot;\\n  input: &quot;^first_dense_layer/kernel/Assign&quot;\\n  input: &quot;^first_dense_layer/bias/Assign&quot;\\n  input: &quot;^prediction_dense_layer/kernel/Assign&quot;\\n  input: &quot;^prediction_dense_layer/bias/Assign&quot;\\n}\\nnode {\\n  name: &quot;init_3&quot;\\n  op: &quot;NoOp&quot;\\n  input: &quot;^first_dense_layer/kernel/Assign&quot;\\n  input: &quot;^first_dense_layer/bias/Assign&quot;\\n  input: &quot;^prediction_dense_layer/kernel/Assign&quot;\\n  input: &quot;^prediction_dense_layer/bias/Assign&quot;\\n}\\n';\n",
       "          }\n",
       "        </script>\n",
       "        <link rel=&quot;import&quot; href=&quot;https://tensorboard.appspot.com/tf-graph-basic.build.html&quot; onload=load()>\n",
       "        <div style=&quot;height:600px&quot;>\n",
       "          <tf-graph-basic id=&quot;graph0.9838334616086987&quot;></tf-graph-basic>\n",
       "        </div>\n",
       "    \"></iframe>\n",
       "    "
      ],
      "text/plain": [
       "<IPython.core.display.HTML object>"
      ]
     },
     "metadata": {},
     "output_type": "display_data"
    }
   ],
   "source": [
    "show_graph(tf.get_default_graph().as_graph_def())\n"
   ]
  },
  {
   "cell_type": "markdown",
   "metadata": {},
   "source": [
    "## Video 4: improving the network by understanding the activation function\n",
    "\n"
   ]
  },
  {
   "cell_type": "markdown",
   "metadata": {},
   "source": [
    "### Deep neural network\n",
    "So far we only made a two-layer neural network. You probably heard about \"deep neural networks\", which means people found out that often by adding more layers in a smart way you can get even better error scores. Let's try to create a four-layer neural network, and see if this improves our error. We start by copying our network and adding layers to it. \n",
    "\n",
    "Note one big change: I define a variable for the activation function which we will tweak later!"
   ]
  },
  {
   "cell_type": "code",
   "execution_count": 24,
   "metadata": {
    "collapsed": true
   },
   "outputs": [],
   "source": [
    "LEARNING_RATE = 0.0005\n",
    "ACTIVATION_FUNCTION = tf.nn.sigmoid\n",
    "\n",
    "tf.reset_default_graph()\n",
    "input_pl = tf.placeholder(dtype=tf.float32, shape=[None, 1275], name=\"inputplaceholder\")\n",
    "output_pl = tf.placeholder(dtype=tf.float32, shape=[None, 1], name=\"userdefinedoutput\")\n",
    "\n",
    "dense = tf.layers.dense(inputs=input_pl, \n",
    "                        units=512, \n",
    "                        activation=ACTIVATION_FUNCTION, \n",
    "                        name=\"first_dense_layer\")\n",
    "dense2 = tf.layers.dense(inputs=dense, \n",
    "                        units=256, \n",
    "                        activation=ACTIVATION_FUNCTION, \n",
    "                        name=\"second_dense_layer\")\n",
    "dense3 = tf.layers.dense(inputs=dense2, \n",
    "                        units=128, \n",
    "                        activation=ACTIVATION_FUNCTION, \n",
    "                        name=\"third_dense_layer\")\n",
    "\n",
    "network_prediction = tf.layers.dense(inputs=dense3       , \n",
    "                                     units=1, \n",
    "                                     activation=None, \n",
    "                                     name=\"prediction_dense_layer\")\n",
    "\n",
    "loss = tf.losses.mean_squared_error(output_pl,network_prediction)\n",
    "optimizer = tf.train.GradientDescentOptimizer(LEARNING_RATE).minimize(loss)"
   ]
  },
  {
   "cell_type": "code",
   "execution_count": 25,
   "metadata": {},
   "outputs": [
    {
     "data": {
      "image/png": "[encoded data removed]",
      "text/plain": [
       "<matplotlib.figure.Figure at 0x7fabc5346d68>"
      ]
     },
     "metadata": {},
     "output_type": "display_data"
    },
    {
     "name": "stdout",
     "output_type": "stream",
     "text": [
      "MSE: 1.48715659725\n"
     ]
    }
   ],
   "source": [
    "\n",
    "sess = tf.Session()\n",
    "\n",
    "losses = reset_and_train_network(sess,scaled_trainset,\n",
    "                                      scaled_train_out,\n",
    "                                      64, \n",
    "                                        10000,\n",
    "                                        optimizer, \n",
    "                                        input_pl, \n",
    "                                        output_pl,\n",
    "                                        loss,\n",
    "                                        verbose=False)\n",
    "\n",
    "\n",
    "plt.plot(losses[10:])\n",
    "plt.show()\n",
    "\n",
    "## Evaluate on the testset: Predict the ground energy of each molecule, \n",
    "## Scale these values back, and calculate the MSE\n",
    "datasetY2 = [[x] for x in Y_test]\n",
    "predicted_values = sess.run(network_prediction, feed_dict={input_pl: scaled_testset})\n",
    "\n",
    "inversed_predicted_values = outputscaler.inverse_transform(predicted_values)\n",
    "mse = mean_squared_error(inversed_predicted_values, datasetY2)\n",
    "\n",
    "print(\"MSE: \" + str(mse))"
   ]
  },
  {
   "cell_type": "markdown",
   "metadata": {},
   "source": [
    "### Result: lower MSE\n",
    "As you can see we now have a way lower mean squared error. Now our goal is to minimize this even further. If you look at the dots we plotted with the predicted and actual value there is a strange pattern, which I think we can remove by selecting a different activation function. Let's try it: \n"
   ]
  },
  {
   "cell_type": "code",
   "execution_count": 26,
   "metadata": {
    "collapsed": true
   },
   "outputs": [],
   "source": [
    "LEARNING_RATE = 0.0005\n",
    "ACTIVATION_FUNCTION = tf.nn.relu\n",
    "\n",
    "tf.reset_default_graph()\n",
    "input_pl = tf.placeholder(dtype=tf.float32, shape=[None, 1275], name=\"inputplaceholder\")\n",
    "output_pl = tf.placeholder(dtype=tf.float32, shape=[None, 1], name=\"userdefinedoutput\")\n",
    "\n",
    "dense = tf.layers.dense(inputs=input_pl, units=512, activation=ACTIVATION_FUNCTION, name=\"first_dense_layer\")\n",
    "dense2 = tf.layers.dense(inputs=dense, units=256, activation=ACTIVATION_FUNCTION, name=\"second_dense_layer\")\n",
    "dense3 = tf.layers.dense(inputs=dense2, units=64, activation=ACTIVATION_FUNCTION, name=\"third_dense_layer\")\n",
    "network_prediction = tf.layers.dense(inputs=dense3, units=1, activation=None, name=\"prediction_dense_layer\")\n",
    "\n",
    "loss = tf.losses.mean_squared_error(output_pl,network_prediction)\n",
    "optimizer = tf.train.GradientDescentOptimizer(LEARNING_RATE).minimize(loss)"
   ]
  },
  {
   "cell_type": "code",
   "execution_count": 27,
   "metadata": {},
   "outputs": [
    {
     "data": {
      "image/png": "[encoded data removed]",
      "text/plain": [
       "<matplotlib.figure.Figure at 0x7fabc6714278>"
      ]
     },
     "metadata": {},
     "output_type": "display_data"
    },
    {
     "name": "stdout",
     "output_type": "stream",
     "text": [
      "MSE: 0.156848711371\n"
     ]
    }
   ],
   "source": [
    "sess = tf.Session()\n",
    "\n",
    "losses = reset_and_train_network(sess,scaled_trainset,\n",
    "                                      scaled_train_out,\n",
    "                                      64, \n",
    "                                        4000,\n",
    "                                        optimizer, \n",
    "                                        input_pl, \n",
    "                                        output_pl,\n",
    "                                        loss,\n",
    "                                        verbose=False)\n",
    "\n",
    "plt.plot(losses[10:])\n",
    "plt.show()\n",
    "\n",
    "## Evaluate on the testset: Predict the ground energy of each molecule, \n",
    "## Scale these values back, and calculate the MSE\n",
    "datasetY2 = [[x] for x in Y_test]\n",
    "predicted_values = sess.run(network_prediction, feed_dict={input_pl: scaled_testset})\n",
    "\n",
    "inversed_predicted_values = outputscaler.inverse_transform(predicted_values)\n",
    "mse = mean_squared_error(inversed_predicted_values, datasetY2)\n",
    "\n",
    "print(\"MSE: \" + str(mse))"
   ]
  },
  {
   "cell_type": "markdown",
   "metadata": {},
   "source": [
    "### Visualising the activation layer\n",
    "Well, looks like we were really able to make a big improvement this time. Lets visualise what's actually happening in the activation layer:"
   ]
  },
  {
   "cell_type": "code",
   "execution_count": 29,
   "metadata": {
    "collapsed": true
   },
   "outputs": [],
   "source": [
    "def visualize_function(function, name):\n",
    "    ## Create inputs between -5 and 5, and put this in a Tensorflow variable\n",
    "    inputdata = np.arange(-5.0, 5.0, 0.1)\n",
    "    mydatainput = tf.Variable(inputdata)\n",
    "    \n",
    "    ## Create the output tensor using the supplied function\n",
    "    functionoutput = function(mydatainput)\n",
    "    \n",
    "    ## Create a temporary session for this graph, and evaluate the activation for these datapoints\n",
    "    with tf.Session() as temp_session:\n",
    "        init = tf.global_variables_initializer() \n",
    "        temp_session.run(init)\n",
    "        activationdata = functionoutput.eval(session=temp_session)\n",
    "        \n",
    "        ## Plot the results\n",
    "        plt.plot(inputdata,activationdata)\n",
    "        plt.xlabel(\"input\")\n",
    "        plt.ylabel(\"activation\")\n",
    "        plt.title(name)\n",
    "        plt.show()\n",
    "\n",
    "        \n",
    "   "
   ]
  },
  {
   "cell_type": "code",
   "execution_count": 30,
   "metadata": {},
   "outputs": [
    {
     "data": {
      "image/png": "[encoded data removed]",
      "text/plain": [
       "<matplotlib.figure.Figure at 0x7fabc412be10>"
      ]
     },
     "metadata": {},
     "output_type": "display_data"
    },
    {
     "data": {
      "image/png": "[encoded data removed]",
      "text/plain": [
       "<matplotlib.figure.Figure at 0x7fabc41005f8>"
      ]
     },
     "metadata": {},
     "output_type": "display_data"
    },
    {
     "data": {
      "image/png": "[encoded data removed]",
      "text/plain": [
       "<matplotlib.figure.Figure at 0x7fabc4192780>"
      ]
     },
     "metadata": {},
     "output_type": "display_data"
    },
    {
     "data": {
      "image/png": "[encoded data removed]",
      "text/plain": [
       "<matplotlib.figure.Figure at 0x7fabc413be80>"
      ]
     },
     "metadata": {},
     "output_type": "display_data"
    }
   ],
   "source": [
    "activation_functions = [(tf.nn.sigmoid, \"sigmoid\"), \n",
    "                        (tf.nn.relu, \"relu\"),\n",
    "                       (tf.nn.tanh, \"tanh\"),\n",
    "                       (tf.nn.elu, \"elu\")]\n",
    "\n",
    "for func, name in activation_functions:\n",
    "    visualize_function(func, name)\n",
    "        \n"
   ]
  },
  {
   "cell_type": "markdown",
   "metadata": {},
   "source": [
    "## Video 5: the importance of hyper parameters\n",
    "So far when defining our neural network we kind of guessed the \"hyper parameters\". Hyper parameters describe our network, but they are not part of the actual network. Note that they are able to have a big influence on your network: selecting the right learning rate, the right amount of layers, and the sizes of your layers are very important, and can contribute a lot to your final performance. \n",
    "\n",
    "In this section we will try to find the best performance for the network we made in the last video. In this case we optimize one hyper parameter: the learning rate. "
   ]
  },
  {
   "cell_type": "code",
   "execution_count": 33,
   "metadata": {},
   "outputs": [
    {
     "name": "stdout",
     "output_type": "stream",
     "text": [
      "Loss at learning rate: 0.0001 loss: 0.0904185 mse: 0.733644287127\n",
      "Loss at learning rate: 0.0003 loss: 0.0689439 mse: 0.421065294643\n",
      "Loss at learning rate: 0.0005 loss: 0.0246236 mse: 0.366439751749\n",
      "Loss at learning rate: 0.0007 loss: 0.0140185 mse: 0.272352607677\n",
      "Loss at learning rate: 0.0009 loss: 0.0142481 mse: 0.215857220126\n",
      "Loss at learning rate: 0.0011 loss: 0.0259972 mse: 0.209818097956\n"
     ]
    }
   ],
   "source": [
    "\n",
    "## Define the network: the same as the network in the previous section. \n",
    "ACTIVATION_FUNCTION =tf.nn.relu\n",
    "tf.reset_default_graph()\n",
    "input_pl = tf.placeholder(dtype=tf.float32, shape=[None, 1275], name=\"inputplaceholder\")\n",
    "output_pl = tf.placeholder(dtype=tf.float32, shape=[None, 1], name=\"userdefinedoutput\")\n",
    "dense = tf.layers.dense(inputs=input_pl, units=512, activation=ACTIVATION_FUNCTION, name=\"first_dense_layer\")\n",
    "dense2 = tf.layers.dense(inputs=dense, units=256, activation=ACTIVATION_FUNCTION, name=\"second_dense_layer\")\n",
    "dense3 = tf.layers.dense(inputs=dense2, units=64, activation=ACTIVATION_FUNCTION, name=\"third_dense_layer\")\n",
    "network_prediction = tf.layers.dense(inputs=dense3, units=1, activation=None, name=\"prediction_dense_layer\")\n",
    "loss = tf.losses.mean_squared_error(output_pl,network_prediction)\n",
    "\n",
    "## Record MSE and loss value for \n",
    "mses = list()\n",
    "hyperparameter_losses = list()\n",
    "\n",
    "## Select these learning rates: currently we were using 0.0005\n",
    "learning_rates = [0.0001, 0.0003, 0.0005, 0.0007, 0.0009, 0.0011]\n",
    "for learning_rate in learning_rates:\n",
    "    optimizer = tf.train.GradientDescentOptimizer(learning_rate).minimize(loss)\n",
    "    sess = tf.Session()\n",
    "    losses = reset_and_train_network(sess,scaled_trainset,\n",
    "                                      scaled_train_out,\n",
    "                                      64, \n",
    "                                        1000,\n",
    "                                        optimizer, \n",
    "                                        input_pl, \n",
    "                                        output_pl,\n",
    "                                        loss,\n",
    "                                        verbose=False)\n",
    "    datasetY2 = [[x] for x in Y_test]\n",
    "    predicted_values = sess.run(network_prediction, feed_dict={input_pl: scaled_testset})\n",
    "\n",
    "    ## Scale these values back, and calculate the MSE\n",
    "    inversed_predicted_values = outputscaler.inverse_transform(predicted_values)\n",
    "    hyperparameter_losses.append(losses[-1])\n",
    "\n",
    "    mse = mean_squared_error(inversed_predicted_values, datasetY2)\n",
    "    mses.append(mse)\n",
    "\n",
    "    print(\"Loss at learning rate: \" + str(learning_rate) + \" loss: \" + str(losses[-1]) + \" mse: \" + str(mse))\n"
   ]
  },
  {
   "cell_type": "code",
   "execution_count": 34,
   "metadata": {},
   "outputs": [
    {
     "data": {
      "text/plain": [
       "[<matplotlib.lines.Line2D at 0x7fabc41b9da0>]"
      ]
     },
     "execution_count": 34,
     "metadata": {},
     "output_type": "execute_result"
    },
    {
     "data": {
      "image/png": "[encoded data removed]",
      "text/plain": [
       "<matplotlib.figure.Figure at 0x7fabc41b9b00>"
      ]
     },
     "metadata": {},
     "output_type": "display_data"
    }
   ],
   "source": [
    "plt.plot(learning_rates,hyperparameter_losses)\n",
    "plt.plot(learning_rates,mses)\n",
    "\n"
   ]
  },
  {
   "cell_type": "markdown",
   "metadata": {},
   "source": [
    "### More on hyper parameters\n",
    "At the moment we went over the learning rate parameter. You can go crazy on hyper parameter optimisation: try to adjust the sizes of layers in your neural network, try to learning rate, try the amount of iterations, try different batch sizes, etc. etc. \n",
    "\n",
    "Unless you have a large datacenter with computers you can't try them all, so write down a few sensible values for each hyper parameter, test these, and determine what values to test next. Note that you don't have to keep watching while your network is training. It's exciting to enter some, go to bed, and wake up with more knowledge on what to do to improve your neural network!"
   ]
  },
  {
   "cell_type": "markdown",
   "metadata": {},
   "source": [
    "## Bonus: visualise what our network learned"
   ]
  },
  {
   "cell_type": "code",
   "execution_count": 44,
   "metadata": {},
   "outputs": [
    {
     "data": {
      "text/plain": [
       "[<matplotlib.lines.Line2D at 0x7fabb61346d8>]"
      ]
     },
     "execution_count": 44,
     "metadata": {},
     "output_type": "execute_result"
    },
    {
     "data": {
      "image/png": "[encoded data removed]",
      "text/plain": [
       "<matplotlib.figure.Figure at 0x7fabb608aa58>"
      ]
     },
     "metadata": {},
     "output_type": "display_data"
    }
   ],
   "source": [
    "plt.scatter(datasetY2, inversed_predicted_values)\n",
    "plt.title(\"Result learning the ground state energy of molecules\")\n",
    "plt.xlabel(\"Actual value\")\n",
    "plt.ylabel(\"Predicted value\")\n",
    "plt.plot([-25,0],[-25,0],color=\"black\")"
   ]
  },
  {
   "cell_type": "code",
   "execution_count": null,
   "metadata": {
    "collapsed": true
   },
   "outputs": [],
   "source": []
  }
 ],
 "metadata": {
  "kernelspec": {
   "display_name": "Python 3",
   "language": "python",
   "name": "python3"
  },
  "language_info": {
   "codemirror_mode": {
    "name": "ipython",
    "version": 3
   },
   "file_extension": ".py",
   "mimetype": "text/x-python",
   "name": "python",
   "nbconvert_exporter": "python",
   "pygments_lexer": "ipython3",
   "version": "3.5.2"
  }
 },
 "nbformat": 4,
 "nbformat_minor": 2
}
