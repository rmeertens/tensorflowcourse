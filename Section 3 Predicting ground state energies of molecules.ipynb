{
 "cells": [
  {
   "cell_type": "markdown",
   "metadata": {},
   "source": [
    "# Section 3: predicting the ground state energy of molecules\n",
    "\n",
    "In chapter 1 we learned that Tensorflow does all its computations in its graph, that you first have to define. In chapter 2 we made or first neural network, and made a very simple classifier for the iris dataset. \n",
    "\n",
    "This chapter we are going to make our neural network more interesting. We are going to [predict the ground state energies of molecules](https://www.kaggle.com/haimfeld87/prediction-of-ground-state-energies-of-molecules). \n",
    "\n",
    "http://web.stanford.edu/class/cs20si/lectures/notes_09.pdf"
   ]
  },
  {
   "cell_type": "markdown",
   "metadata": {},
   "source": [
    "## Video 1: downloading the data, visualising it \n",
    "Welcome to section 3 of our course. In this section we are going to predict the [ground state energies of molecules](https://www.kaggle.com/haimfeld87/prediction-of-ground-state-energies-of-molecules). \n",
    "\n",
    "In a [blogpost and paper the author explains what kind of data we are working with](https://burakhimmetoglu.com/machine-learning-meets-quantum-mechanics/). An interesting quote is: \n",
    "> This peculiar nonlinear dependence is impossible to model with simple linear models, thus learning algorithms such as neural networks and boosted regression trees are a perfect match for such a task.\n",
    "\n",
    "Below we will start visualising our data, and you will see that it's difficult for yourself to intuitively predict what the ground energy state of the molecules will be. This makes this dataset a great challenge for us. \n",
    "![Vis ground energy state](http://www.pinchofintelligence.com/wp-content/uploads/2017/08/ground-energies.png)\n",
    "\n",
    "\n",
    "\n",
    "I imagine that the author is also quite happy with us, as he states:\n",
    "> I am looking for Kagglers to find the best model and reduce mean squared error as much as possible!\n",
    "\n",
    "Looks like we now know the function we have to minimise. \n",
    "\n",
    "\n"
   ]
  },
  {
   "cell_type": "markdown",
   "metadata": {},
   "source": [
    "## Downloading and loading data\n",
    "The data is here: https://www.kaggle.com/burakhmmtgl/energy-molecule\n",
    "Download it, unzip it, and place it in the datasets folder...\n",
    "\n",
    "Image called downloaddata1.png here...\n",
    "\n",
    "To load the data I'm going to use a [package called Pandas](http://pandas.pydata.org/). This package is great for reading datasets, and getting an initial understanding of what you are working with. Although we are not doing to discuss all features Pandas has, I just want you to use it one time, and know that it's out there. Pandas is already installed in the Docker image I provided, so let's dive right in: "
   ]
  },
  {
   "cell_type": "code",
   "execution_count": 1,
   "metadata": {
    "collapsed": true
   },
   "outputs": [],
   "source": [
    "import pandas as pd\n",
    "df = pd.read_csv('datasets/energy-molecule/roboBohr.csv')"
   ]
  },
  {
   "cell_type": "code",
   "execution_count": 2,
   "metadata": {},
   "outputs": [
    {
     "name": "stdout",
     "output_type": "stream",
     "text": [
      "   Unnamed: 0          0          1          2          3          4  \\\n",
      "0           0  73.516695  17.817765  12.469551  12.458130  12.454607   \n",
      "1           1  73.516695  20.649126  18.527789  17.891535  17.887995   \n",
      "2           2  73.516695  17.830377  12.512263  12.404775  12.394493   \n",
      "3           3  73.516695  17.875810  17.871259  17.862402  17.850920   \n",
      "4           4  73.516695  17.883818  17.868256  17.864221  17.818540   \n",
      "\n",
      "           5          6          7          8    ...      1267  1268  1269  \\\n",
      "0  12.447345  12.433065  12.426926  12.387474    ...       0.0   0.0   0.5   \n",
      "1  17.871731  17.852586  17.729842  15.864270    ...       0.0   0.0   0.0   \n",
      "2  12.391564  12.324461  12.238106  10.423249    ...       0.0   0.0   0.0   \n",
      "3  17.850440  12.558105  12.557645  12.517583    ...       0.0   0.0   0.0   \n",
      "4  12.508657  12.490519  12.450098  10.597068    ...       0.0   0.0   0.0   \n",
      "\n",
      "   1270  1271  1272  1273  1274  pubchem_id        Eat  \n",
      "0   0.0   0.0   0.0   0.0   0.0       25004 -19.013763  \n",
      "1   0.0   0.0   0.0   0.0   0.0       25005 -10.161019  \n",
      "2   0.0   0.0   0.0   0.0   0.0       25006  -9.376619  \n",
      "3   0.0   0.0   0.0   0.0   0.0       25009 -13.776438  \n",
      "4   0.0   0.0   0.0   0.0   0.0       25011  -8.537140  \n",
      "\n",
      "[5 rows x 1278 columns]\n"
     ]
    }
   ],
   "source": [
    "# print(df)\n",
    "print(df.head(5))\n"
   ]
  },
  {
   "cell_type": "markdown",
   "metadata": {},
   "source": [
    "What we are going to predict is the variable in the last axis, called Eat. To do this we are going to use all features, except for the ID, and the pubchem_id. Let's use pandas to remove these columns: "
   ]
  },
  {
   "cell_type": "code",
   "execution_count": 3,
   "metadata": {
    "collapsed": true
   },
   "outputs": [],
   "source": [
    "\n",
    "df = df.drop(['Unnamed: 0', 'pubchem_id'], axis = 1)\n"
   ]
  },
  {
   "cell_type": "markdown",
   "metadata": {},
   "source": [
    "Now we can also check if there is any missing data: \n",
    "\n"
   ]
  },
  {
   "cell_type": "code",
   "execution_count": 4,
   "metadata": {},
   "outputs": [
    {
     "data": {
      "text/plain": [
       "0"
      ]
     },
     "execution_count": 4,
     "metadata": {},
     "output_type": "execute_result"
    }
   ],
   "source": [
    "df.isnull().sum().sum()"
   ]
  },
  {
   "cell_type": "code",
   "execution_count": 5,
   "metadata": {
    "collapsed": true
   },
   "outputs": [],
   "source": [
    "X = df.drop(['Eat'], axis = 1)\n",
    "Y = df['Eat']"
   ]
  },
  {
   "cell_type": "markdown",
   "metadata": {},
   "source": [
    "It's always a good idea to visualise your data. One way to do this is building a scatter plot: \n"
   ]
  },
  {
   "cell_type": "code",
   "execution_count": 6,
   "metadata": {},
   "outputs": [
    {
     "data": {
      "image/png": "[encoded data removed]",
      "text/plain": [
       "<matplotlib.figure.Figure at 0x7f91d4024cf8>"
      ]
     },
     "metadata": {},
     "output_type": "display_data"
    },
    {
     "data": {
      "image/png": "[encoded data removed]",
      "text/plain": [
       "<matplotlib.figure.Figure at 0x7f91c7d566d8>"
      ]
     },
     "metadata": {},
     "output_type": "display_data"
    },
    {
     "data": {
      "image/png": "[encoded data removed]",
      "text/plain": [
       "<matplotlib.figure.Figure at 0x7f91c7de67f0>"
      ]
     },
     "metadata": {},
     "output_type": "display_data"
    }
   ],
   "source": [
    "%matplotlib inline\n",
    "import matplotlib.pyplot as plt\n",
    "for x in range(3):\n",
    "    \n",
    "    df.plot.scatter(x,x+1,c=-1, colormap=plt.get_cmap('CMRmap'))\n",
    "    plt.show()\n",
    "df.plot.scatter?"
   ]
  },
  {
   "cell_type": "markdown",
   "metadata": {},
   "source": [
    "### Splitting our data\n",
    "Like we learned in our previous chapter, it's a good idea to split our data. "
   ]
  },
  {
   "cell_type": "code",
   "execution_count": 7,
   "metadata": {},
   "outputs": [
    {
     "name": "stdout",
     "output_type": "stream",
     "text": [
      "16242\n",
      "12993\n",
      "3249\n"
     ]
    }
   ],
   "source": [
    "from sklearn.model_selection import train_test_split\n",
    "print(len(X))\n",
    "X_train, X_test, Y_train, Y_test = train_test_split(X, Y, test_size = 0.2, random_state = 1)\n",
    "print(len(X_train))\n",
    "print(len(X_test))\n",
    "\n",
    "datasetX = X_train.values\n",
    "datasetY = Y_train.values\n",
    "#print(datasetX.shape)\n",
    "#print(datasetY.shape)\n",
    "#print(datasetY)"
   ]
  },
  {
   "cell_type": "markdown",
   "metadata": {},
   "source": [
    "## Video 2: first approach - easy layer building"
   ]
  },
  {
   "cell_type": "markdown",
   "metadata": {},
   "source": [
    "Let's start with manually constructing our network again, just like we did in section 1. \n",
    "\n",
    "## Simplifying layer building\n",
    "In chapter 1 we made our network using the following code: \n",
    "\n"
   ]
  },
  {
   "cell_type": "code",
   "execution_count": 8,
   "metadata": {
    "collapsed": true
   },
   "outputs": [],
   "source": [
    "import tensorflow as tf\n",
    "\n",
    "n_input = 1275\n",
    "n_output = 1\n",
    "inputplaceholder = tf.placeholder(dtype=tf.float32, shape=[None, n_input], name=\"inputplaceholder\")\n",
    "\n",
    "## This code can be simplified:\n",
    "weights = tf.Variable(tf.random_normal([n_input, n_output]))\n",
    "biases = tf.Variable(tf.zeros([n_output]))\n",
    "layer_1 = tf.matmul(inputplaceholder, weights)\n",
    "layer_2 = tf.add(layer_1, biases)\n",
    "outputlayer = tf.nn.sigmoid(layer_2)\n",
    "\n",
    "## Which we can simplify to, but this still is 3 lines...: \n",
    "weights = tf.Variable(tf.random_normal([n_input, n_output]))\n",
    "biases = tf.Variable(tf.zeros([n_output]))\n",
    "outputlayer = tf.nn.sigmoid(tf.add(tf.matmul(inputplaceholder, weights), biases))\n"
   ]
  },
  {
   "cell_type": "markdown",
   "metadata": {},
   "source": [
    "Still, typing this out for a big neural network is a lot of work, and it's easy to make errors. This is why you can build functions that perform the same thing for you. \n",
    "\n",
    "You can also use the higher level functions already available in Tensorflow. You can make the same thing using: \n",
    "\n",
    "`tf.layers.dense(inputs=inputplaceholder, units=3, activation=tf.nn.sigmoid, name=\"single_layer_neural_network\") `\n",
    "\n",
    "Another option you might want to consider is the Keras python package. Keras is a high-level API definition for neural networks. It uses Tensorflow as backend to build its functions on. A neural network even more complex than in chapter two can be made like this: \n",
    "![keras logo](https://upload.wikimedia.org/wikipedia/commons/c/c9/Keras_Logo.jpg)\n",
    "![tensorflow logo](https://upload.wikimedia.org/wikipedia/commons/thumb/2/2d/Tensorflow_logo.svg/1000px-Tensorflow_logo.svg.png)"
   ]
  },
  {
   "cell_type": "code",
   "execution_count": 9,
   "metadata": {},
   "outputs": [
    {
     "name": "stderr",
     "output_type": "stream",
     "text": [
      "Using TensorFlow backend.\n"
     ]
    }
   ],
   "source": [
    "from keras.models import Sequential\n",
    "from keras.layers import Dense, Activation\n",
    "\n",
    "model = Sequential()\n",
    "model.add(Dense(units=3, input_dim=4))\n",
    "model.add(Activation('sigmoid'))\n",
    "model.compile(loss='categorical_crossentropy',optimizer='sgd',metrics=['accuracy'])\n"
   ]
  },
  {
   "cell_type": "markdown",
   "metadata": {},
   "source": [
    "### Why stick to Tensorflow\n",
    "It's very likely that for your specific application Keras is good enough (95% sure). However, Tensorflow as been adapting the Keras API specifications, and thus Tensorflow can do roughly the same as Keras. The reason to stick to Tensorflow is that it offers a LOT of extra functionality, which will come in handy for the \"strange\" applications you want to build. \n",
    "\n",
    "Let's create a simple single-layer neural network for our new dataset!"
   ]
  },
  {
   "cell_type": "code",
   "execution_count": 10,
   "metadata": {
    "collapsed": true
   },
   "outputs": [],
   "source": [
    "import tensorflow as tf\n",
    "import numpy as np"
   ]
  },
  {
   "cell_type": "code",
   "execution_count": 12,
   "metadata": {},
   "outputs": [
    {
     "name": "stdout",
     "output_type": "stream",
     "text": [
      "Tensor(\"first_dense_layer/Sigmoid:0\", shape=(?, 512), dtype=float32)\n",
      "Tensor(\"prediction_dense_layer/BiasAdd:0\", shape=(?, 1), dtype=float32)\n",
      "Tensor(\"mean_squared_error/value:0\", shape=(), dtype=float32)\n",
      "Optimizer: --------\n",
      "name: \"GradientDescent\"\n",
      "op: \"NoOp\"\n",
      "input: \"^GradientDescent/update_first_dense_layer/kernel/ApplyGradientDescent\"\n",
      "input: \"^GradientDescent/update_first_dense_layer/bias/ApplyGradientDescent\"\n",
      "input: \"^GradientDescent/update_prediction_dense_layer/kernel/ApplyGradientDescent\"\n",
      "input: \"^GradientDescent/update_prediction_dense_layer/bias/ApplyGradientDescent\"\n",
      "\n"
     ]
    }
   ],
   "source": [
    "LEARNING_RATE = 0.0005\n",
    "tf.reset_default_graph()\n",
    "input_pl = tf.placeholder(dtype=tf.float32, shape=[None, 1275], name=\"inputplaceholder\")\n",
    "output_pl = tf.placeholder(dtype=tf.float32, shape=[None, 1], name=\"userdefinedoutput\")\n",
    "\n",
    "dense = tf.layers.dense(inputs=input_pl, units=512, activation=tf.nn.sigmoid, name=\"first_dense_layer\")\n",
    "network_prediction = tf.layers.dense(inputs=dense, units=1, activation=None, name=\"prediction_dense_layer\")\n",
    "\n",
    "print(dense)\n",
    "print(network_prediction)\n",
    "loss = tf.losses.mean_squared_error(output_pl,network_prediction)\n",
    "optimizer = tf.train.GradientDescentOptimizer(LEARNING_RATE).minimize(loss)\n",
    "\n",
    "print(loss)\n",
    "print(\"Optimizer: --------\")\n",
    "print(optimizer)\n"
   ]
  },
  {
   "cell_type": "code",
   "execution_count": 13,
   "metadata": {
    "collapsed": true
   },
   "outputs": [],
   "source": [
    "init = tf.global_variables_initializer() # https://www.tensorflow.org/api_docs/python/tf/global_variables_initializer\n",
    "sess = tf.Session() # https://www.tensorflow.org/api_docs/python/tf/Session\n",
    "sess.run(init)"
   ]
  },
  {
   "cell_type": "markdown",
   "metadata": {},
   "source": [
    "This gives us this network: \n",
    "![network](http://www.pinchofintelligence.com/wp-content/uploads/2017/09/two-layer-regression.png)"
   ]
  },
  {
   "cell_type": "code",
   "execution_count": 14,
   "metadata": {},
   "outputs": [
    {
     "name": "stdout",
     "output_type": "stream",
     "text": [
      "78.9002\n",
      "49.5385\n",
      "19.3795\n",
      "22.7197\n",
      "11.7107\n",
      "8.85242\n",
      "12.5596\n",
      "8.71717\n",
      "8.609\n",
      "10.3181\n"
     ]
    }
   ],
   "source": [
    "import random\n",
    "\n",
    "zipped = list(zip(datasetX, datasetY))\n",
    "\n",
    "BATCH_SIZE = 32\n",
    "for _ in range(100):\n",
    "    datax = list()\n",
    "    datay = list()\n",
    "    for _ in range(BATCH_SIZE):\n",
    "        samp = random.choice(zipped)\n",
    "        datax.append(samp[0])\n",
    "        datay.append([samp[1]])\n",
    "    _, l = sess.run([optimizer,loss], feed_dict={input_pl: datax, output_pl: datay})\n",
    "    print(l)"
   ]
  },
  {
   "cell_type": "markdown",
   "metadata": {},
   "source": [
    "### Adjusting the learning rate\n",
    "As you can see above our loss becomes HIGHER instead of lower. About once a week I see somebody on Stackoverflow ask why this is happening, and why their network is giving nan as output. The answer is: they have to adjust their learning rate.\n",
    "\n",
    "![LR](http://www.pinchofintelligence.com/wp-content/uploads/2017/09/Learning-rates.png)\n",
    "\n",
    "A nice analogy I like to use is one in which we are walking through misty mountains, and want to reach the deepest valley. Every 5 minutes we determine based on our small observation what path leads down, and continue that way. If we did this every second we could never leave small valleys. If we only did this every day we might walk right out of the valley again...\n",
    "\n",
    "Let's adjust our learning rate tenfold every time till our network is able to learn something. "
   ]
  },
  {
   "cell_type": "code",
   "execution_count": 15,
   "metadata": {
    "collapsed": true
   },
   "outputs": [],
   "source": [
    "LEARNING_RATE = 0.00005\n",
    "optimizer = tf.train.GradientDescentOptimizer(LEARNING_RATE).minimize(loss)\n",
    "\n",
    "init = tf.global_variables_initializer() # https://www.tensorflow.org/api_docs/python/tf/global_variables_initializer\n",
    "sess = tf.Session() # https://www.tensorflow.org/api_docs/python/tf/Session\n",
    "sess.run(init)"
   ]
  },
  {
   "cell_type": "code",
   "execution_count": 16,
   "metadata": {},
   "outputs": [
    {
     "name": "stdout",
     "output_type": "stream",
     "text": [
      "130.584\n",
      "125.555\n",
      "120.658\n",
      "86.2175\n",
      "68.8379\n",
      "71.0837\n",
      "70.5139\n",
      "67.297\n",
      "62.1581\n",
      "33.3976\n",
      "80.4913\n",
      "39.1565\n",
      "38.2472\n",
      "45.0336\n",
      "43.1889\n",
      "38.7456\n",
      "18.6092\n",
      "37.8259\n",
      "36.9052\n",
      "27.1034\n",
      "20.4872\n",
      "27.0548\n",
      "41.6506\n",
      "19.2087\n",
      "14.097\n",
      "28.7433\n",
      "25.4089\n",
      "26.1916\n",
      "13.3951\n",
      "40.9417\n",
      "22.5315\n",
      "26.4768\n",
      "21.1278\n",
      "11.4609\n",
      "28.044\n",
      "18.8933\n",
      "19.5436\n",
      "13.7173\n",
      "4.62149\n",
      "12.727\n",
      "12.9526\n",
      "9.59441\n",
      "9.97562\n",
      "6.43135\n",
      "26.5869\n",
      "12.6823\n",
      "5.92014\n",
      "22.3835\n",
      "11.6332\n",
      "11.1223\n",
      "6.36214\n",
      "14.3737\n",
      "6.91198\n",
      "6.48403\n",
      "15.1966\n",
      "6.71247\n",
      "12.8258\n",
      "9.75218\n",
      "15.0291\n",
      "10.9021\n",
      "8.78124\n",
      "8.74168\n",
      "11.0056\n",
      "13.9978\n",
      "11.6356\n",
      "12.1804\n",
      "11.458\n",
      "8.55656\n",
      "11.736\n",
      "8.91911\n",
      "6.22638\n",
      "7.79358\n",
      "15.3934\n",
      "12.1335\n",
      "6.27562\n",
      "8.89734\n",
      "9.42827\n",
      "10.9248\n",
      "6.49208\n",
      "6.97639\n",
      "10.553\n",
      "11.5398\n",
      "11.6687\n",
      "6.28655\n",
      "12.3746\n",
      "14.4783\n",
      "4.72034\n",
      "13.4506\n",
      "8.59115\n",
      "15.7248\n",
      "11.78\n",
      "9.95299\n",
      "15.5227\n",
      "10.7451\n",
      "9.08065\n",
      "11.8238\n",
      "6.88537\n",
      "7.93823\n",
      "6.92774\n",
      "9.039\n",
      "9.35221\n",
      "7.45549\n",
      "9.26597\n",
      "14.0333\n",
      "12.5194\n",
      "3.95418\n",
      "5.85163\n",
      "6.1784\n",
      "8.59948\n",
      "9.58371\n",
      "7.69593\n",
      "9.59875\n",
      "3.47326\n",
      "13.393\n",
      "5.64882\n",
      "8.85668\n",
      "7.97799\n",
      "6.59026\n",
      "6.35114\n",
      "12.2181\n",
      "6.82592\n",
      "3.55877\n",
      "13.4798\n",
      "8.02405\n",
      "4.86093\n",
      "10.5207\n",
      "6.94644\n",
      "12.3434\n",
      "11.7038\n",
      "10.1155\n",
      "9.34643\n",
      "9.13035\n",
      "10.4916\n",
      "9.21839\n",
      "6.00145\n",
      "6.26986\n",
      "9.33616\n",
      "8.1947\n",
      "6.89922\n",
      "8.36911\n",
      "6.2836\n",
      "9.45583\n",
      "8.35838\n",
      "6.70009\n",
      "11.3324\n",
      "5.33575\n",
      "8.24469\n",
      "2.70569\n",
      "8.1005\n",
      "5.16853\n",
      "9.35582\n",
      "6.95397\n",
      "10.3138\n",
      "11.1301\n",
      "5.26628\n",
      "14.2096\n",
      "7.65119\n",
      "5.85781\n",
      "4.44557\n",
      "5.43722\n",
      "8.86057\n",
      "8.73067\n",
      "8.30877\n",
      "4.73624\n",
      "5.3034\n",
      "8.23125\n",
      "3.38399\n",
      "3.30451\n",
      "6.10833\n",
      "9.77518\n",
      "4.87957\n",
      "6.05544\n",
      "5.85404\n",
      "12.4208\n",
      "3.97535\n",
      "8.97935\n",
      "4.90316\n",
      "6.10761\n",
      "4.71829\n",
      "4.30707\n",
      "11.6462\n",
      "6.33868\n",
      "3.91227\n",
      "5.21172\n",
      "4.30854\n",
      "10.9091\n",
      "7.05708\n",
      "9.58966\n",
      "7.61107\n",
      "3.20926\n",
      "3.45242\n",
      "3.86186\n",
      "9.4317\n",
      "6.52909\n",
      "7.36561\n",
      "3.32953\n",
      "11.715\n",
      "3.83596\n",
      "6.16077\n",
      "7.71489\n",
      "4.18601\n",
      "4.83811\n",
      "4.88194\n",
      "8.8075\n",
      "3.94043\n",
      "4.99909\n",
      "5.70264\n",
      "7.53045\n",
      "6.07123\n",
      "4.16549\n",
      "6.43966\n",
      "9.54819\n",
      "6.30298\n",
      "3.67043\n",
      "7.76264\n",
      "4.92082\n",
      "10.1335\n",
      "4.34174\n",
      "4.23479\n",
      "5.00689\n",
      "1.99493\n",
      "12.0276\n",
      "5.46081\n",
      "7.79899\n",
      "8.68633\n",
      "6.37772\n",
      "6.28755\n",
      "4.12225\n",
      "7.66771\n",
      "5.6214\n",
      "6.17131\n",
      "6.61747\n",
      "6.18958\n",
      "5.59535\n",
      "3.28024\n",
      "5.39317\n",
      "3.81914\n",
      "3.97726\n",
      "2.95501\n",
      "6.97499\n",
      "7.48825\n",
      "3.64967\n",
      "3.6738\n",
      "3.35805\n",
      "6.96049\n",
      "5.15622\n",
      "6.74835\n",
      "8.39934\n",
      "6.60689\n",
      "4.60025\n",
      "5.33072\n",
      "4.37259\n",
      "6.02735\n",
      "4.24166\n",
      "6.28403\n",
      "7.04635\n",
      "12.0424\n",
      "2.35803\n",
      "4.79654\n",
      "7.80316\n",
      "4.46159\n",
      "3.74647\n",
      "3.78413\n",
      "2.79534\n",
      "7.53534\n",
      "6.03729\n",
      "5.80057\n",
      "3.86429\n",
      "6.00054\n",
      "6.0158\n",
      "3.94564\n",
      "4.77631\n",
      "8.68159\n",
      "3.98023\n",
      "6.44327\n",
      "5.23833\n",
      "4.12978\n",
      "3.35065\n",
      "2.44854\n",
      "3.82183\n",
      "10.0218\n",
      "6.12413\n",
      "5.152\n",
      "4.29971\n",
      "7.60744\n",
      "2.80437\n",
      "6.09948\n",
      "2.34117\n",
      "6.21718\n",
      "2.37517\n",
      "6.01853\n",
      "7.81028\n",
      "3.1516\n",
      "4.75501\n",
      "4.96611\n",
      "4.33212\n",
      "4.157\n",
      "9.77816\n",
      "5.15681\n",
      "4.90264\n",
      "4.24631\n",
      "6.35335\n",
      "4.15544\n",
      "2.83594\n",
      "7.18935\n",
      "3.07783\n",
      "3.44754\n",
      "3.72871\n",
      "5.19608\n",
      "7.2475\n",
      "2.36808\n",
      "4.21008\n",
      "5.27004\n",
      "5.61833\n",
      "6.51521\n",
      "4.56142\n",
      "5.38584\n",
      "3.5045\n",
      "4.46931\n",
      "4.43818\n",
      "1.83442\n",
      "5.0464\n",
      "3.94662\n",
      "4.39058\n",
      "5.87757\n",
      "3.30554\n",
      "3.29079\n",
      "5.51572\n",
      "4.25802\n",
      "4.93868\n",
      "3.41407\n",
      "2.32224\n",
      "1.8071\n",
      "2.81118\n",
      "7.09597\n",
      "3.8146\n",
      "4.7529\n",
      "1.78044\n",
      "3.51954\n",
      "3.24745\n",
      "2.25305\n",
      "4.42304\n",
      "4.75793\n",
      "3.03033\n",
      "4.18777\n",
      "5.67484\n",
      "4.49809\n",
      "3.70631\n",
      "4.71953\n",
      "3.75968\n",
      "5.52455\n",
      "2.7121\n",
      "4.56645\n",
      "4.50167\n",
      "4.62021\n",
      "4.70101\n",
      "1.81373\n",
      "3.19238\n",
      "6.01397\n",
      "5.11779\n",
      "3.71735\n",
      "4.52744\n",
      "2.94207\n",
      "5.4096\n",
      "3.14099\n",
      "4.28914\n",
      "3.43286\n",
      "2.70638\n",
      "2.77493\n",
      "4.34713\n",
      "2.59641\n",
      "3.2417\n",
      "5.18569\n",
      "7.79683\n",
      "2.15397\n",
      "3.87604\n",
      "2.9801\n",
      "2.96553\n",
      "3.69836\n",
      "2.18198\n",
      "2.78954\n",
      "2.81319\n",
      "1.86197\n",
      "5.06826\n",
      "3.40351\n",
      "3.82989\n",
      "3.85442\n",
      "3.2196\n",
      "2.64808\n",
      "5.80428\n",
      "2.72166\n",
      "4.57803\n",
      "3.28081\n",
      "3.98774\n",
      "4.54273\n",
      "4.6657\n",
      "3.33825\n",
      "3.28008\n",
      "3.56004\n",
      "6.44447\n",
      "1.84772\n",
      "5.32208\n",
      "2.4297\n",
      "4.94105\n",
      "4.05828\n",
      "3.335\n",
      "3.28711\n",
      "1.30421\n",
      "2.61871\n",
      "4.81378\n",
      "5.49841\n",
      "3.97563\n",
      "3.36658\n",
      "6.37342\n",
      "2.93495\n",
      "2.25883\n",
      "1.8795\n",
      "1.09212\n",
      "4.28541\n",
      "5.87765\n",
      "4.74475\n",
      "3.94394\n",
      "2.20404\n",
      "2.16512\n",
      "5.68913\n",
      "4.572\n",
      "2.80161\n",
      "4.41297\n",
      "2.64935\n",
      "1.60266\n",
      "2.57213\n",
      "2.94686\n",
      "2.63599\n",
      "3.18355\n",
      "3.16734\n",
      "3.1389\n",
      "3.83864\n",
      "2.18146\n",
      "1.33157\n",
      "3.06857\n",
      "2.52536\n",
      "3.86226\n",
      "4.60553\n",
      "6.44467\n",
      "3.5379\n",
      "2.43936\n",
      "4.54536\n",
      "4.43851\n",
      "3.5035\n",
      "3.22892\n",
      "2.77269\n",
      "2.32037\n",
      "2.00013\n",
      "4.00715\n",
      "3.30305\n",
      "4.01049\n",
      "3.92112\n",
      "4.77312\n",
      "4.14351\n",
      "1.74125\n",
      "3.86489\n",
      "2.72655\n",
      "3.77318\n",
      "2.09282\n",
      "4.92882\n",
      "6.09951\n",
      "3.36972\n",
      "3.1599\n",
      "3.57231\n",
      "1.40239\n",
      "1.36668\n",
      "4.46887\n",
      "2.76743\n",
      "4.74041\n",
      "5.62758\n",
      "4.41643\n",
      "2.20182\n",
      "4.07592\n",
      "4.08265\n",
      "2.96965\n",
      "1.21461\n",
      "3.06297\n",
      "5.20935\n",
      "5.73116\n",
      "1.93667\n",
      "1.89214\n",
      "3.38594\n",
      "5.37107\n",
      "3.3971\n",
      "3.32779\n",
      "3.54801\n",
      "2.99415\n",
      "3.81443\n",
      "6.49792\n",
      "1.65222\n",
      "2.39434\n",
      "1.73859\n",
      "2.62533\n",
      "3.15765\n",
      "1.50141\n",
      "3.5551\n",
      "2.49785\n",
      "4.32615\n",
      "1.34711\n",
      "3.67358\n",
      "2.94364\n",
      "4.66009\n",
      "3.63811\n",
      "1.7669\n",
      "2.25541\n",
      "3.58844\n",
      "2.0043\n",
      "3.01958\n",
      "3.32059\n",
      "1.86936\n",
      "2.13631\n",
      "5.05561\n",
      "4.98761\n",
      "2.83767\n",
      "3.71872\n",
      "2.22343\n",
      "1.71474\n",
      "2.06845\n",
      "3.74459\n",
      "3.49515\n",
      "2.53241\n",
      "2.66217\n",
      "3.03302\n",
      "3.11971\n",
      "5.1951\n",
      "2.12456\n",
      "2.31254\n",
      "1.67311\n",
      "2.07808\n",
      "2.05799\n",
      "2.50795\n",
      "3.41793\n",
      "3.29222\n",
      "2.87491\n",
      "6.7535\n",
      "3.35979\n",
      "2.07851\n",
      "1.31595\n",
      "6.30776\n",
      "2.22429\n",
      "5.07178\n",
      "2.21267\n",
      "2.25708\n",
      "2.76749\n",
      "2.20291\n",
      "3.12899\n",
      "2.2641\n",
      "4.42474\n",
      "5.62936\n",
      "3.43985\n",
      "3.4221\n",
      "2.38847\n",
      "4.77769\n",
      "2.10286\n",
      "4.19948\n",
      "2.46065\n",
      "3.62193\n",
      "1.61495\n",
      "1.6172\n",
      "4.08297\n",
      "1.13043\n",
      "2.76337\n",
      "1.92845\n",
      "3.30331\n",
      "2.18663\n",
      "1.69855\n",
      "3.66748\n",
      "6.82047\n",
      "3.82303\n",
      "3.13004\n",
      "3.19368\n",
      "5.36488\n",
      "5.29303\n",
      "1.97666\n",
      "1.87689\n",
      "2.81553\n",
      "3.43004\n",
      "4.50493\n",
      "2.35348\n",
      "2.13114\n",
      "1.31396\n",
      "2.9311\n",
      "3.65319\n",
      "3.11144\n",
      "1.493\n",
      "2.22061\n",
      "2.76757\n",
      "1.64135\n",
      "2.7854\n",
      "4.1485\n",
      "4.56937\n",
      "3.32701\n",
      "2.63996\n",
      "2.46995\n",
      "2.0558\n",
      "3.91004\n",
      "2.3505\n",
      "2.49432\n",
      "2.58642\n",
      "1.50241\n",
      "2.86305\n",
      "5.1158\n",
      "2.32713\n",
      "1.83463\n",
      "2.2947\n",
      "2.14942\n",
      "2.03796\n",
      "2.02192\n",
      "2.96259\n",
      "4.8492\n",
      "2.23564\n",
      "3.8018\n",
      "1.31044\n",
      "2.83005\n",
      "1.09507\n",
      "2.59717\n",
      "3.06749\n",
      "4.06657\n",
      "2.16641\n",
      "1.76035\n",
      "1.65061\n",
      "1.99832\n",
      "2.57222\n",
      "4.71053\n",
      "4.75061\n",
      "1.23023\n",
      "2.81175\n",
      "2.93502\n",
      "2.54032\n",
      "3.05133\n",
      "5.39335\n",
      "3.14256\n",
      "2.99299\n",
      "1.73809\n",
      "5.52949\n",
      "5.84819\n",
      "4.17039\n",
      "3.67857\n",
      "2.42147\n",
      "2.70376\n",
      "2.06814\n",
      "5.47103\n",
      "2.78254\n",
      "2.32359\n",
      "2.77732\n",
      "1.61919\n",
      "2.07747\n",
      "2.71068\n",
      "3.05408\n",
      "2.33396\n",
      "3.01907\n",
      "4.02477\n",
      "3.11282\n",
      "3.04811\n",
      "2.79859\n",
      "3.58546\n",
      "2.89308\n",
      "2.34155\n",
      "1.98865\n",
      "2.53489\n",
      "3.73852\n",
      "1.24101\n",
      "3.63492\n",
      "3.5932\n",
      "3.12774\n",
      "3.47892\n",
      "3.08355\n",
      "1.11925\n",
      "1.95003\n",
      "1.70993\n",
      "1.31727\n",
      "2.23847\n",
      "2.51977\n",
      "1.71491\n",
      "2.03281\n",
      "1.77602\n",
      "1.58948\n",
      "2.53665\n",
      "1.7359\n",
      "3.5466\n",
      "1.59127\n",
      "2.28119\n",
      "2.01556\n",
      "3.522\n",
      "1.35139\n",
      "2.82968\n",
      "4.07972\n",
      "1.39416\n",
      "4.58187\n",
      "3.09734\n",
      "6.72272\n",
      "1.70277\n",
      "1.90095\n",
      "0.767443\n",
      "2.34269\n",
      "1.16472\n",
      "0.889888\n",
      "1.9342\n",
      "4.28929\n",
      "2.48341\n",
      "2.79276\n",
      "1.51405\n",
      "1.39545\n",
      "4.86553\n",
      "2.97735\n",
      "1.50514\n",
      "2.57265\n",
      "1.48301\n",
      "1.57514\n",
      "3.24497\n",
      "1.76499\n",
      "1.91899\n",
      "2.94108\n",
      "2.57958\n",
      "2.93968\n",
      "2.90169\n",
      "1.38531\n",
      "1.37653\n",
      "2.25623\n",
      "3.42323\n",
      "1.63261\n",
      "1.77372\n",
      "2.55747\n",
      "2.41129\n",
      "1.89282\n",
      "0.970217\n",
      "2.09728\n",
      "1.0607\n",
      "2.60584\n",
      "1.59891\n",
      "2.36727\n",
      "2.21159\n",
      "5.92391\n",
      "1.55066\n",
      "2.70673\n",
      "3.3011\n",
      "3.95938\n",
      "1.49506\n",
      "4.78862\n",
      "2.3271\n",
      "1.48669\n",
      "2.17841\n",
      "3.7724\n",
      "2.96128\n",
      "1.98707\n",
      "2.94141\n",
      "2.40669\n",
      "2.94139\n",
      "2.44558\n",
      "1.528\n",
      "2.84799\n",
      "1.63528\n",
      "2.02336\n",
      "2.12572\n",
      "1.33875\n",
      "1.92205\n",
      "2.30062\n",
      "2.60365\n",
      "2.85548\n",
      "1.88831\n",
      "1.65667\n",
      "3.36996\n",
      "2.12631\n",
      "2.32774\n",
      "2.58113\n",
      "2.05717\n",
      "4.22207\n",
      "3.29519\n",
      "2.77442\n",
      "1.91336\n",
      "2.83507\n",
      "1.5186\n",
      "1.04877\n",
      "2.63259\n",
      "5.42934\n",
      "1.3694\n",
      "2.61567\n",
      "2.77372\n",
      "2.57424\n",
      "5.59544\n",
      "2.09227\n",
      "2.93714\n",
      "1.27722\n",
      "2.61496\n",
      "1.84533\n",
      "2.06944\n",
      "2.40511\n",
      "1.58997\n",
      "1.89646\n",
      "0.778978\n",
      "1.58289\n",
      "1.38441\n",
      "2.93655\n",
      "2.66324\n",
      "1.21258\n",
      "3.85049\n",
      "2.23257\n",
      "1.43864\n",
      "2.5517\n",
      "2.12595\n",
      "2.96911\n",
      "1.83643\n",
      "3.6596\n",
      "2.56212\n",
      "3.64752\n",
      "1.85669\n",
      "2.40494\n",
      "2.80164\n",
      "2.75731\n",
      "0.959793\n",
      "4.11719\n",
      "4.6002\n",
      "1.08641\n",
      "1.22929\n",
      "1.51891\n",
      "2.58816\n",
      "2.5096\n",
      "1.89126\n",
      "1.15094\n",
      "1.37185\n",
      "3.33593\n",
      "1.21053\n",
      "1.4117\n",
      "1.10884\n",
      "1.7003\n",
      "1.62205\n",
      "1.19977\n",
      "1.43808\n",
      "1.41243\n",
      "2.40562\n",
      "2.57197\n",
      "1.65527\n",
      "1.25891\n",
      "2.38991\n",
      "1.58997\n",
      "2.23645\n",
      "1.00951\n",
      "3.60898\n",
      "4.37452\n",
      "1.68433\n",
      "1.76807\n",
      "2.00073\n",
      "1.72966\n",
      "3.3604\n",
      "2.64855\n",
      "0.933082\n",
      "1.70444\n",
      "2.33409\n",
      "1.42155\n",
      "1.30976\n",
      "2.16721\n",
      "1.38637\n",
      "3.03791\n",
      "2.52173\n",
      "2.87151\n",
      "2.52162\n",
      "1.08338\n",
      "2.79742\n",
      "1.79868\n",
      "3.83429\n",
      "1.26221\n",
      "2.69639\n",
      "1.93523\n",
      "2.98802\n",
      "2.82015\n",
      "1.31626\n",
      "1.835\n",
      "2.43458\n",
      "1.40354\n",
      "1.945\n",
      "1.82526\n",
      "2.52636\n",
      "1.65849\n",
      "1.52618\n",
      "1.00383\n",
      "2.51582\n",
      "3.50875\n",
      "1.51093\n",
      "0.829701\n",
      "2.98887\n",
      "2.80888\n",
      "1.64354\n",
      "3.36928\n",
      "1.94132\n",
      "0.706954\n",
      "2.39626\n",
      "1.45317\n",
      "2.26843\n",
      "3.56245\n",
      "2.44898\n",
      "1.61168\n",
      "3.65181\n",
      "2.45227\n",
      "4.111\n",
      "2.95244\n",
      "1.9202\n",
      "1.39405\n",
      "2.37424\n",
      "3.49965\n",
      "2.21938\n",
      "2.63706\n",
      "1.4624\n",
      "3.38061\n",
      "1.44737\n",
      "1.61657\n",
      "2.25839\n",
      "1.41796\n",
      "2.51397\n",
      "2.12358\n",
      "1.71125\n",
      "1.54418\n",
      "1.40822\n",
      "2.93147\n",
      "1.63977\n",
      "1.19633\n",
      "2.03696\n",
      "1.67292\n",
      "1.2195\n",
      "3.08944\n",
      "3.21653\n",
      "2.4719\n",
      "2.29096\n",
      "2.40069\n",
      "2.71046\n",
      "1.68664\n",
      "3.20998\n",
      "1.75639\n",
      "4.41241\n",
      "1.57314\n",
      "1.28952\n",
      "1.78768\n",
      "1.78425\n",
      "1.27673\n",
      "3.59874\n",
      "1.28724\n",
      "1.15905\n",
      "2.91172\n",
      "2.42689\n",
      "1.13983\n",
      "2.28354\n",
      "1.94299\n",
      "1.25066\n",
      "0.95344\n",
      "6.73809\n",
      "1.73773\n",
      "2.50157\n",
      "1.48858\n",
      "2.36922\n",
      "1.68852\n",
      "2.59866\n",
      "0.966975\n",
      "1.25833\n",
      "2.88187\n",
      "3.55923\n",
      "2.16342\n",
      "1.38428\n",
      "2.27645\n",
      "2.38493\n",
      "3.77674\n",
      "1.61103\n",
      "2.13413\n",
      "1.86551\n",
      "0.770218\n",
      "3.31022\n",
      "1.84627\n",
      "1.35271\n",
      "1.23803\n",
      "1.24636\n",
      "1.93217\n",
      "2.00358\n",
      "2.2715\n",
      "1.56457\n",
      "1.72003\n",
      "1.78947\n",
      "1.4061\n",
      "0.982255\n",
      "1.08293\n",
      "1.26536\n",
      "1.20401\n",
      "1.76258\n",
      "1.28249\n",
      "1.85987\n",
      "1.89901\n",
      "1.39261\n",
      "1.26116\n",
      "0.476512\n",
      "2.00309\n",
      "3.39876\n",
      "1.54396\n",
      "0.769442\n",
      "1.99769\n",
      "1.54943\n",
      "1.40432\n",
      "3.69249\n",
      "1.97546\n"
     ]
    }
   ],
   "source": [
    "\n",
    "\n",
    "zipped = list(zip(datasetX, datasetY))\n",
    "\n",
    "BATCH_SIZE = 32\n",
    "loss_history = list()\n",
    "for _ in range(1000):\n",
    "    datax = list()\n",
    "    datay = list()\n",
    "    for _ in range(BATCH_SIZE):\n",
    "        samp = random.choice(zipped)\n",
    "        datax.append(samp[0])\n",
    "        datay.append([samp[1]])\n",
    "    _, l = sess.run([optimizer,loss], feed_dict={input_pl: datax, output_pl: datay})\n",
    "    print(l)\n",
    "    loss_history.append(l)"
   ]
  },
  {
   "cell_type": "code",
   "execution_count": 17,
   "metadata": {},
   "outputs": [
    {
     "data": {
      "text/plain": [
       "[<matplotlib.lines.Line2D at 0x7f919e4ea668>]"
      ]
     },
     "execution_count": 17,
     "metadata": {},
     "output_type": "execute_result"
    },
    {
     "data": {
      "image/png": "[encoded data removed]",
      "text/plain": [
       "<matplotlib.figure.Figure at 0x7f91d4616f98>"
      ]
     },
     "metadata": {},
     "output_type": "display_data"
    }
   ],
   "source": [
    "%matplotlib inline\n",
    "import matplotlib.pyplot as plt\n",
    "plt.plot(loss_history[10:])"
   ]
  },
  {
   "cell_type": "markdown",
   "metadata": {},
   "source": [
    "### Looking at gradients\n",
    "Knowing about gradients and inspecting them is a vital part of working with neural networks. If your network is stuck, broke, or does not perform as you expect it: take a look at the gradients!\n",
    "\n",
    "Part of why this is important is that in very deep neural networks we are dealing with vanishing and exploding gradients. Imagine that you start with a high gradient in your final layer, and multiply this with the learning rate. You update your weights and move on to the next layer. Your loss is lower in this layer, and thus your gradient is lower. \n"
   ]
  },
  {
   "cell_type": "markdown",
   "metadata": {},
   "source": [
    "## Video 3: preprocessing data\n",
    "Last section we made our first multi-layer neural network. This video we are going to learn about standardising data, and why this is important. \n",
    "\n",
    "### Train and evaluation functions\n",
    "To really see the impact of decisions we make when building any machine learning algorithm we need to build some functions that train a network and evaluate a network. I made two simple functions here with the code we made in previous videos so we can demonstrate the effect of preprocessing data!"
   ]
  },
  {
   "cell_type": "code",
   "execution_count": 46,
   "metadata": {
    "collapsed": true
   },
   "outputs": [],
   "source": [
    "def reset_and_train_network(sess,inX, \n",
    "                            inY, \n",
    "                            batch_size, \n",
    "                            iterations, \n",
    "                            optimizer, \n",
    "                            inputplaceholder, \n",
    "                            outputplaceholder, \n",
    "                            loss_tensor, \n",
    "                            verbose=True):\n",
    "    init = tf.global_variables_initializer() # https://www.tensorflow.org/api_docs/python/tf/global_variables_initializer\n",
    "    sess.run(init)\n",
    "\n",
    "    zipped = list(zip(inX, inY))\n",
    "\n",
    "\n",
    "    loss_history = list()\n",
    "    for _ in range(iterations):\n",
    "        datax = list()\n",
    "        datay = list()\n",
    "        for _ in range(batch_size):\n",
    "            samp = random.choice(zipped)\n",
    "            datax.append(samp[0])\n",
    "            datay.append([samp[1]])\n",
    "        _, l = sess.run([optimizer,loss_tensor], \n",
    "                        feed_dict={inputplaceholder: datax, \n",
    "                                   outputplaceholder: datay})\n",
    "        if verbose:\n",
    "            print(l)\n",
    "        loss_history.append(l)\n",
    "    return loss_history\n",
    "\n",
    "## Do the train set\n",
    "def evaluate_network(sess,inX, \n",
    "                     inY, \n",
    "                     prediction_tensor, \n",
    "                     inputplaceholder,\n",
    "                     outputplaceholder,\n",
    "                     loss):\n",
    "\n",
    "\n",
    "    datasetY2 = [[x] for x in inY]\n",
    "    predicted_values, loss_dataset = sess.run([prediction_tensor,loss], \n",
    "                                              feed_dict={inputplaceholder: inX, \n",
    "                                                         outputplaceholder: datasetY2})\n",
    "    print(\"Loss dataset: \" + str(loss_dataset))\n",
    "    plt.scatter(datasetY2, predicted_values)\n",
    "    plt.xlabel(\"True value\")\n",
    "    plt.ylabel(\"Predicted value\")\n",
    "    plt.show()\n",
    "    \n",
    "\n"
   ]
  },
  {
   "cell_type": "markdown",
   "metadata": {},
   "source": [
    "### Why preprocess data\n",
    "At the moment we are feedign the raw properties of atoms to the network. When we worked with the iris dataset we saw that by shifting all data a bit manually even a single layer neural network was able to classify the data. \n",
    "\n",
    "To preprocss the data you can use the [Scikit preprocessing library](http://scikit-learn.org/stable/modules/preprocessing.html). With this library you standardise all your data outside of your Tensorflow pipeline. If you want to keep everything inside this pipeline you can use the [tf.Transform library]( https://github.com/tensorflow/transform)\n",
    "\n"
   ]
  },
  {
   "cell_type": "code",
   "execution_count": 19,
   "metadata": {},
   "outputs": [
    {
     "data": {
      "image/png": "[encoded data removed]",
      "text/plain": [
       "<matplotlib.figure.Figure at 0x7f919cd01a90>"
      ]
     },
     "metadata": {},
     "output_type": "display_data"
    },
    {
     "name": "stdout",
     "output_type": "stream",
     "text": [
      "Evaluating network without preprocessing\n",
      "Loss dataset: 2.17607\n"
     ]
    },
    {
     "data": {
      "image/png": "[encoded data removed]",
      "text/plain": [
       "<matplotlib.figure.Figure at 0x7f919e506518>"
      ]
     },
     "metadata": {},
     "output_type": "display_data"
    }
   ],
   "source": [
    "import random\n",
    "%matplotlib inline\n",
    "import matplotlib.pyplot as plt\n",
    "COMPARE_MSE_ITERATIONS = 1000\n",
    "## Without standardizing our data:\n",
    "losses = reset_and_train_network(sess,X_train.values,\n",
    "                                 Y_train.values, \n",
    "                                 64, \n",
    "                                COMPARE_MSE_ITERATIONS,\n",
    "                                optimizer, \n",
    "                                input_pl, \n",
    "                                output_pl,\n",
    "                                loss,\n",
    "                                verbose=False)\n",
    "plt.plot(losses[10:])\n",
    "plt.show()\n",
    "print(\"Evaluating network without preprocessing\")\n",
    "evaluate_network(sess,X_test, Y_test,network_prediction, input_pl, output_pl, loss)\n",
    "\n"
   ]
  },
  {
   "cell_type": "markdown",
   "metadata": {},
   "source": [
    "### Determining the mean squared error on a testset\n",
    "Although our loss function already indicates what the mean squared error on our train set is, this does not help us to compare models after we standardised our input and output data, as the loss naturally will be smaller with smaller numbers. After we \"inverted\" our predictions back to their normal range we can compare the mean square errors using the sklearn.metrics library! Let's do this now so we can verify the mean squared error function works. "
   ]
  },
  {
   "cell_type": "code",
   "execution_count": 20,
   "metadata": {},
   "outputs": [
    {
     "name": "stdout",
     "output_type": "stream",
     "text": [
      "MSE: 2.17607172833\n"
     ]
    }
   ],
   "source": [
    "from sklearn.metrics import mean_squared_error\n",
    "\n",
    "true_values = [[x] for x in Y_test]\n",
    "predicted_values = sess.run(network_prediction, feed_dict={input_pl: X_test})\n",
    "mse = mean_squared_error(predicted_values, true_values)\n",
    "\n",
    "print(\"MSE: \" + str(mse))"
   ]
  },
  {
   "cell_type": "markdown",
   "metadata": {},
   "source": [
    "### Scaling our data\n",
    "To actually scale our data we use the **StandardScaler** of the sklearn library. Calling the `fit(data)` function returns an object that can scale your data. To see how well our neural network performs we scale on the traindata, and evaluate our network on the testdata. "
   ]
  },
  {
   "cell_type": "code",
   "execution_count": 21,
   "metadata": {},
   "outputs": [
    {
     "name": "stderr",
     "output_type": "stream",
     "text": [
      "/usr/local/lib/python3.5/dist-packages/sklearn/preprocessing/data.py:586: DeprecationWarning: Passing 1d arrays as data is deprecated in 0.17 and will raise ValueError in 0.19. Reshape your data either using X.reshape(-1, 1) if your data has a single feature or X.reshape(1, -1) if it contains a single sample.\n",
      "  warnings.warn(DEPRECATION_MSG_1D, DeprecationWarning)\n",
      "/usr/local/lib/python3.5/dist-packages/sklearn/preprocessing/data.py:649: DeprecationWarning: Passing 1d arrays as data is deprecated in 0.17 and will raise ValueError in 0.19. Reshape your data either using X.reshape(-1, 1) if your data has a single feature or X.reshape(1, -1) if it contains a single sample.\n",
      "  warnings.warn(DEPRECATION_MSG_1D, DeprecationWarning)\n",
      "/usr/local/lib/python3.5/dist-packages/sklearn/preprocessing/data.py:649: DeprecationWarning: Passing 1d arrays as data is deprecated in 0.17 and will raise ValueError in 0.19. Reshape your data either using X.reshape(-1, 1) if your data has a single feature or X.reshape(1, -1) if it contains a single sample.\n",
      "  warnings.warn(DEPRECATION_MSG_1D, DeprecationWarning)\n"
     ]
    },
    {
     "name": "stdout",
     "output_type": "stream",
     "text": [
      "[  1.63512875e-16   1.47653766e-16  -6.30262836e-16 ...,  -1.53122424e-17\n",
      "  -7.38268832e-18  -1.23044805e-17]\n",
      "[ 1.  1.  1. ...,  1.  1.  1.]\n"
     ]
    },
    {
     "data": {
      "image/png": "[encoded data removed]",
      "text/plain": [
       "<matplotlib.figure.Figure at 0x7f919cce2ba8>"
      ]
     },
     "metadata": {},
     "output_type": "display_data"
    },
    {
     "name": "stdout",
     "output_type": "stream",
     "text": [
      "Evaluating trainset with preprocessing\n",
      "Loss dataset: 0.139199\n"
     ]
    },
    {
     "data": {
      "image/png": "[encoded data removed]",
      "text/plain": [
       "<matplotlib.figure.Figure at 0x7f919c351b70>"
      ]
     },
     "metadata": {},
     "output_type": "display_data"
    },
    {
     "name": "stdout",
     "output_type": "stream",
     "text": [
      "Evaluating testset with preprocessing\n",
      "Loss dataset: 0.139983\n"
     ]
    },
    {
     "data": {
      "image/png": "[encoded data removed]",
      "text/plain": [
       "<matplotlib.figure.Figure at 0x7f91c7df3390>"
      ]
     },
     "metadata": {},
     "output_type": "display_data"
    }
   ],
   "source": [
    "from sklearn import preprocessing\n",
    "\n",
    "## Create the scalers\n",
    "scaler = preprocessing.StandardScaler().fit(X_train)\n",
    "outputscaler = preprocessing.StandardScaler().fit(Y_train)\n",
    "\n",
    "## Scale all datasets\n",
    "scaled_trainset = scaler.transform(X_train)\n",
    "scaled_testset = scaler.transform(X_test)\n",
    "scaled_train_out = outputscaler.transform(Y_train)\n",
    "scaled_test_out = outputscaler.transform(Y_test)\n",
    "\n",
    "## Verify our data is scaled correctly \n",
    "print(scaled_trainset.mean(axis=0))\n",
    "print(scaled_trainset.std(axis=0))\n",
    "\n",
    "\n",
    "## Retrain the same network with standardized data\n",
    "losses_norm = reset_and_train_network(sess,scaled_trainset,\n",
    "                                      scaled_train_out,\n",
    "                                      64, \n",
    "                                        COMPARE_MSE_ITERATIONS,\n",
    "                                        optimizer, \n",
    "                                        input_pl, \n",
    "                                        output_pl,\n",
    "                                        loss,\n",
    "                                        verbose=False)\n",
    "plt.plot(losses_norm[10:])\n",
    "plt.show()\n",
    "\n",
    "## Evaluate the trainset after preprocessing and the testset after preprocessing\n",
    "print(\"Evaluating trainset with preprocessing\")\n",
    "evaluate_network(sess,scaled_trainset, scaled_train_out, network_prediction, input_pl, output_pl, loss)\n",
    "print(\"Evaluating testset with preprocessing\")\n",
    "evaluate_network(sess,scaled_testset, scaled_test_out, network_prediction, input_pl, output_pl, loss)\n"
   ]
  },
  {
   "cell_type": "code",
   "execution_count": 22,
   "metadata": {},
   "outputs": [
    {
     "name": "stdout",
     "output_type": "stream",
     "text": [
      "MSE: 1.88622192735\n"
     ]
    }
   ],
   "source": [
    "from sklearn.metrics import mean_squared_error\n",
    "\n",
    "## Predict the ground energy of each molecule\n",
    "datasetY2 = [[x] for x in Y_test]\n",
    "predicted_values = sess.run(network_prediction, feed_dict={input_pl: scaled_testset})\n",
    "\n",
    "## Scale these values back, and calculate the MSE\n",
    "inversed_predicted_values = outputscaler.inverse_transform(predicted_values)\n",
    "mse = mean_squared_error(inversed_predicted_values, datasetY2)\n",
    "print(\"MSE: \" + str(mse))"
   ]
  },
  {
   "cell_type": "markdown",
   "metadata": {},
   "source": [
    "### Visualising your graph\n",
    "When working with Tensorflow it's easy to make a mistake. For example, when adding an extra layer to your network it's easy to forget to connect it to other layers. A cool feature of our Jupyter notebook is that you can visualise the graph you made. The source of this code can be found in [this Stackoverflow answer](https://stackoverflow.com/questions/38189119/simple-way-to-visualize-a-tensorflow-graph-in-jupyter/38192374#38192374). \n"
   ]
  },
  {
   "cell_type": "code",
   "execution_count": 23,
   "metadata": {
    "collapsed": true
   },
   "outputs": [],
   "source": [
    "from IPython.display import clear_output, Image, display, HTML\n",
    "\n",
    "def strip_consts(graph_def, max_const_size=32):\n",
    "    \"\"\"Strip large constant values from graph_def.\"\"\"\n",
    "    strip_def = tf.GraphDef()\n",
    "    for n0 in graph_def.node:\n",
    "        n = strip_def.node.add() \n",
    "        n.MergeFrom(n0)\n",
    "        if n.op == 'Const':\n",
    "            tensor = n.attr['value'].tensor\n",
    "            size = len(tensor.tensor_content)\n",
    "            if size > max_const_size:\n",
    "                tensor.tensor_content = \"<stripped %d bytes>\"%size\n",
    "    return strip_def\n",
    "\n",
    "def show_graph(graph_def, max_const_size=32):\n",
    "    \"\"\"Visualize TensorFlow graph.\"\"\"\n",
    "    if hasattr(graph_def, 'as_graph_def'):\n",
    "        graph_def = graph_def.as_graph_def()\n",
    "    strip_def = strip_consts(graph_def, max_const_size=max_const_size)\n",
    "    code = \"\"\"\n",
    "        <script>\n",
    "          function load() {{\n",
    "            document.getElementById(\"{id}\").pbtxt = {data};\n",
    "          }}\n",
    "        </script>\n",
    "        <link rel=\"import\" href=\"https://tensorboard.appspot.com/tf-graph-basic.build.html\" onload=load()>\n",
    "        <div style=\"height:600px\">\n",
    "          <tf-graph-basic id=\"{id}\"></tf-graph-basic>\n",
    "        </div>\n",
    "    \"\"\".format(data=repr(str(strip_def)), id='graph'+str(np.random.rand()))\n",
    "\n",
    "    iframe = \"\"\"\n",
    "        <iframe seamless style=\"width:1200px;height:620px;border:0\" srcdoc=\"{}\"></iframe>\n",
    "    \"\"\".format(code.replace('\"', '&quot;'))\n",
    "    display(HTML(iframe))\n"
   ]
  },
  {
   "cell_type": "code",
   "execution_count": 33,
   "metadata": {},
   "outputs": [
    {
     "data": {
      "text/html": [
       "\n",
       "        <iframe seamless style=\"width:1200px;height:620px;border:0\" srcdoc=\"\n",
       "        <script>\n",
       "          function load() {\n",
       "            document.getElementById(&quot;graph0.2078397741075152&quot;).pbtxt = 'node {\\n  name: &quot;inputplaceholder&quot;\\n  op: &quot;Placeholder&quot;\\n  attr {\\n    key: &quot;dtype&quot;\\n    value {\\n      type: DT_FLOAT\\n    }\\n  }\\n  attr {\\n    key: &quot;shape&quot;\\n    value {\\n      shape {\\n        dim {\\n          size: -1\\n        }\\n        dim {\\n          size: 1275\\n        }\\n      }\\n    }\\n  }\\n}\\nnode {\\n  name: &quot;userdefinedoutput&quot;\\n  op: &quot;Placeholder&quot;\\n  attr {\\n    key: &quot;dtype&quot;\\n    value {\\n      type: DT_FLOAT\\n    }\\n  }\\n  attr {\\n    key: &quot;shape&quot;\\n    value {\\n      shape {\\n        dim {\\n          size: -1\\n        }\\n        dim {\\n          size: 1\\n        }\\n      }\\n    }\\n  }\\n}\\nnode {\\n  name: &quot;first_dense_layer/kernel/Initializer/random_uniform/shape&quot;\\n  op: &quot;Const&quot;\\n  attr {\\n    key: &quot;_class&quot;\\n    value {\\n      list {\\n        s: &quot;loc:@first_dense_layer/kernel&quot;\\n      }\\n    }\\n  }\\n  attr {\\n    key: &quot;dtype&quot;\\n    value {\\n      type: DT_INT32\\n    }\\n  }\\n  attr {\\n    key: &quot;value&quot;\\n    value {\\n      tensor {\\n        dtype: DT_INT32\\n        tensor_shape {\\n          dim {\\n            size: 2\\n          }\\n        }\\n        tensor_content: &quot;\\\\373\\\\004\\\\000\\\\000\\\\000\\\\002\\\\000\\\\000&quot;\\n      }\\n    }\\n  }\\n}\\nnode {\\n  name: &quot;first_dense_layer/kernel/Initializer/random_uniform/min&quot;\\n  op: &quot;Const&quot;\\n  attr {\\n    key: &quot;_class&quot;\\n    value {\\n      list {\\n        s: &quot;loc:@first_dense_layer/kernel&quot;\\n      }\\n    }\\n  }\\n  attr {\\n    key: &quot;dtype&quot;\\n    value {\\n      type: DT_FLOAT\\n    }\\n  }\\n  attr {\\n    key: &quot;value&quot;\\n    value {\\n      tensor {\\n        dtype: DT_FLOAT\\n        tensor_shape {\\n        }\\n        float_val: -0.0579446516931057\\n      }\\n    }\\n  }\\n}\\nnode {\\n  name: &quot;first_dense_layer/kernel/Initializer/random_uniform/max&quot;\\n  op: &quot;Const&quot;\\n  attr {\\n    key: &quot;_class&quot;\\n    value {\\n      list {\\n        s: &quot;loc:@first_dense_layer/kernel&quot;\\n      }\\n    }\\n  }\\n  attr {\\n    key: &quot;dtype&quot;\\n    value {\\n      type: DT_FLOAT\\n    }\\n  }\\n  attr {\\n    key: &quot;value&quot;\\n    value {\\n      tensor {\\n        dtype: DT_FLOAT\\n        tensor_shape {\\n        }\\n        float_val: 0.0579446516931057\\n      }\\n    }\\n  }\\n}\\nnode {\\n  name: &quot;first_dense_layer/kernel/Initializer/random_uniform/RandomUniform&quot;\\n  op: &quot;RandomUniform&quot;\\n  input: &quot;first_dense_layer/kernel/Initializer/random_uniform/shape&quot;\\n  attr {\\n    key: &quot;T&quot;\\n    value {\\n      type: DT_INT32\\n    }\\n  }\\n  attr {\\n    key: &quot;_class&quot;\\n    value {\\n      list {\\n        s: &quot;loc:@first_dense_layer/kernel&quot;\\n      }\\n    }\\n  }\\n  attr {\\n    key: &quot;dtype&quot;\\n    value {\\n      type: DT_FLOAT\\n    }\\n  }\\n  attr {\\n    key: &quot;seed&quot;\\n    value {\\n      i: 0\\n    }\\n  }\\n  attr {\\n    key: &quot;seed2&quot;\\n    value {\\n      i: 0\\n    }\\n  }\\n}\\nnode {\\n  name: &quot;first_dense_layer/kernel/Initializer/random_uniform/sub&quot;\\n  op: &quot;Sub&quot;\\n  input: &quot;first_dense_layer/kernel/Initializer/random_uniform/max&quot;\\n  input: &quot;first_dense_layer/kernel/Initializer/random_uniform/min&quot;\\n  attr {\\n    key: &quot;T&quot;\\n    value {\\n      type: DT_FLOAT\\n    }\\n  }\\n  attr {\\n    key: &quot;_class&quot;\\n    value {\\n      list {\\n        s: &quot;loc:@first_dense_layer/kernel&quot;\\n      }\\n    }\\n  }\\n}\\nnode {\\n  name: &quot;first_dense_layer/kernel/Initializer/random_uniform/mul&quot;\\n  op: &quot;Mul&quot;\\n  input: &quot;first_dense_layer/kernel/Initializer/random_uniform/RandomUniform&quot;\\n  input: &quot;first_dense_layer/kernel/Initializer/random_uniform/sub&quot;\\n  attr {\\n    key: &quot;T&quot;\\n    value {\\n      type: DT_FLOAT\\n    }\\n  }\\n  attr {\\n    key: &quot;_class&quot;\\n    value {\\n      list {\\n        s: &quot;loc:@first_dense_layer/kernel&quot;\\n      }\\n    }\\n  }\\n}\\nnode {\\n  name: &quot;first_dense_layer/kernel/Initializer/random_uniform&quot;\\n  op: &quot;Add&quot;\\n  input: &quot;first_dense_layer/kernel/Initializer/random_uniform/mul&quot;\\n  input: &quot;first_dense_layer/kernel/Initializer/random_uniform/min&quot;\\n  attr {\\n    key: &quot;T&quot;\\n    value {\\n      type: DT_FLOAT\\n    }\\n  }\\n  attr {\\n    key: &quot;_class&quot;\\n    value {\\n      list {\\n        s: &quot;loc:@first_dense_layer/kernel&quot;\\n      }\\n    }\\n  }\\n}\\nnode {\\n  name: &quot;first_dense_layer/kernel&quot;\\n  op: &quot;VariableV2&quot;\\n  attr {\\n    key: &quot;_class&quot;\\n    value {\\n      list {\\n        s: &quot;loc:@first_dense_layer/kernel&quot;\\n      }\\n    }\\n  }\\n  attr {\\n    key: &quot;container&quot;\\n    value {\\n      s: &quot;&quot;\\n    }\\n  }\\n  attr {\\n    key: &quot;dtype&quot;\\n    value {\\n      type: DT_FLOAT\\n    }\\n  }\\n  attr {\\n    key: &quot;shape&quot;\\n    value {\\n      shape {\\n        dim {\\n          size: 1275\\n        }\\n        dim {\\n          size: 512\\n        }\\n      }\\n    }\\n  }\\n  attr {\\n    key: &quot;shared_name&quot;\\n    value {\\n      s: &quot;&quot;\\n    }\\n  }\\n}\\nnode {\\n  name: &quot;first_dense_layer/kernel/Assign&quot;\\n  op: &quot;Assign&quot;\\n  input: &quot;first_dense_layer/kernel&quot;\\n  input: &quot;first_dense_layer/kernel/Initializer/random_uniform&quot;\\n  attr {\\n    key: &quot;T&quot;\\n    value {\\n      type: DT_FLOAT\\n    }\\n  }\\n  attr {\\n    key: &quot;_class&quot;\\n    value {\\n      list {\\n        s: &quot;loc:@first_dense_layer/kernel&quot;\\n      }\\n    }\\n  }\\n  attr {\\n    key: &quot;use_locking&quot;\\n    value {\\n      b: true\\n    }\\n  }\\n  attr {\\n    key: &quot;validate_shape&quot;\\n    value {\\n      b: true\\n    }\\n  }\\n}\\nnode {\\n  name: &quot;first_dense_layer/kernel/read&quot;\\n  op: &quot;Identity&quot;\\n  input: &quot;first_dense_layer/kernel&quot;\\n  attr {\\n    key: &quot;T&quot;\\n    value {\\n      type: DT_FLOAT\\n    }\\n  }\\n  attr {\\n    key: &quot;_class&quot;\\n    value {\\n      list {\\n        s: &quot;loc:@first_dense_layer/kernel&quot;\\n      }\\n    }\\n  }\\n}\\nnode {\\n  name: &quot;first_dense_layer/bias/Initializer/zeros&quot;\\n  op: &quot;Const&quot;\\n  attr {\\n    key: &quot;_class&quot;\\n    value {\\n      list {\\n        s: &quot;loc:@first_dense_layer/bias&quot;\\n      }\\n    }\\n  }\\n  attr {\\n    key: &quot;dtype&quot;\\n    value {\\n      type: DT_FLOAT\\n    }\\n  }\\n  attr {\\n    key: &quot;value&quot;\\n    value {\\n      tensor {\\n        dtype: DT_FLOAT\\n        tensor_shape {\\n          dim {\\n            size: 512\\n          }\\n        }\\n        float_val: 0.0\\n      }\\n    }\\n  }\\n}\\nnode {\\n  name: &quot;first_dense_layer/bias&quot;\\n  op: &quot;VariableV2&quot;\\n  attr {\\n    key: &quot;_class&quot;\\n    value {\\n      list {\\n        s: &quot;loc:@first_dense_layer/bias&quot;\\n      }\\n    }\\n  }\\n  attr {\\n    key: &quot;container&quot;\\n    value {\\n      s: &quot;&quot;\\n    }\\n  }\\n  attr {\\n    key: &quot;dtype&quot;\\n    value {\\n      type: DT_FLOAT\\n    }\\n  }\\n  attr {\\n    key: &quot;shape&quot;\\n    value {\\n      shape {\\n        dim {\\n          size: 512\\n        }\\n      }\\n    }\\n  }\\n  attr {\\n    key: &quot;shared_name&quot;\\n    value {\\n      s: &quot;&quot;\\n    }\\n  }\\n}\\nnode {\\n  name: &quot;first_dense_layer/bias/Assign&quot;\\n  op: &quot;Assign&quot;\\n  input: &quot;first_dense_layer/bias&quot;\\n  input: &quot;first_dense_layer/bias/Initializer/zeros&quot;\\n  attr {\\n    key: &quot;T&quot;\\n    value {\\n      type: DT_FLOAT\\n    }\\n  }\\n  attr {\\n    key: &quot;_class&quot;\\n    value {\\n      list {\\n        s: &quot;loc:@first_dense_layer/bias&quot;\\n      }\\n    }\\n  }\\n  attr {\\n    key: &quot;use_locking&quot;\\n    value {\\n      b: true\\n    }\\n  }\\n  attr {\\n    key: &quot;validate_shape&quot;\\n    value {\\n      b: true\\n    }\\n  }\\n}\\nnode {\\n  name: &quot;first_dense_layer/bias/read&quot;\\n  op: &quot;Identity&quot;\\n  input: &quot;first_dense_layer/bias&quot;\\n  attr {\\n    key: &quot;T&quot;\\n    value {\\n      type: DT_FLOAT\\n    }\\n  }\\n  attr {\\n    key: &quot;_class&quot;\\n    value {\\n      list {\\n        s: &quot;loc:@first_dense_layer/bias&quot;\\n      }\\n    }\\n  }\\n}\\nnode {\\n  name: &quot;first_dense_layer/MatMul&quot;\\n  op: &quot;MatMul&quot;\\n  input: &quot;inputplaceholder&quot;\\n  input: &quot;first_dense_layer/kernel/read&quot;\\n  attr {\\n    key: &quot;T&quot;\\n    value {\\n      type: DT_FLOAT\\n    }\\n  }\\n  attr {\\n    key: &quot;transpose_a&quot;\\n    value {\\n      b: false\\n    }\\n  }\\n  attr {\\n    key: &quot;transpose_b&quot;\\n    value {\\n      b: false\\n    }\\n  }\\n}\\nnode {\\n  name: &quot;first_dense_layer/BiasAdd&quot;\\n  op: &quot;BiasAdd&quot;\\n  input: &quot;first_dense_layer/MatMul&quot;\\n  input: &quot;first_dense_layer/bias/read&quot;\\n  attr {\\n    key: &quot;T&quot;\\n    value {\\n      type: DT_FLOAT\\n    }\\n  }\\n  attr {\\n    key: &quot;data_format&quot;\\n    value {\\n      s: &quot;NHWC&quot;\\n    }\\n  }\\n}\\nnode {\\n  name: &quot;first_dense_layer/Sigmoid&quot;\\n  op: &quot;Sigmoid&quot;\\n  input: &quot;first_dense_layer/BiasAdd&quot;\\n  attr {\\n    key: &quot;T&quot;\\n    value {\\n      type: DT_FLOAT\\n    }\\n  }\\n}\\nnode {\\n  name: &quot;second_dense_layer/kernel/Initializer/random_uniform/shape&quot;\\n  op: &quot;Const&quot;\\n  attr {\\n    key: &quot;_class&quot;\\n    value {\\n      list {\\n        s: &quot;loc:@second_dense_layer/kernel&quot;\\n      }\\n    }\\n  }\\n  attr {\\n    key: &quot;dtype&quot;\\n    value {\\n      type: DT_INT32\\n    }\\n  }\\n  attr {\\n    key: &quot;value&quot;\\n    value {\\n      tensor {\\n        dtype: DT_INT32\\n        tensor_shape {\\n          dim {\\n            size: 2\\n          }\\n        }\\n        tensor_content: &quot;\\\\000\\\\002\\\\000\\\\000\\\\000\\\\001\\\\000\\\\000&quot;\\n      }\\n    }\\n  }\\n}\\nnode {\\n  name: &quot;second_dense_layer/kernel/Initializer/random_uniform/min&quot;\\n  op: &quot;Const&quot;\\n  attr {\\n    key: &quot;_class&quot;\\n    value {\\n      list {\\n        s: &quot;loc:@second_dense_layer/kernel&quot;\\n      }\\n    }\\n  }\\n  attr {\\n    key: &quot;dtype&quot;\\n    value {\\n      type: DT_FLOAT\\n    }\\n  }\\n  attr {\\n    key: &quot;value&quot;\\n    value {\\n      tensor {\\n        dtype: DT_FLOAT\\n        tensor_shape {\\n        }\\n        float_val: -0.0883883461356163\\n      }\\n    }\\n  }\\n}\\nnode {\\n  name: &quot;second_dense_layer/kernel/Initializer/random_uniform/max&quot;\\n  op: &quot;Const&quot;\\n  attr {\\n    key: &quot;_class&quot;\\n    value {\\n      list {\\n        s: &quot;loc:@second_dense_layer/kernel&quot;\\n      }\\n    }\\n  }\\n  attr {\\n    key: &quot;dtype&quot;\\n    value {\\n      type: DT_FLOAT\\n    }\\n  }\\n  attr {\\n    key: &quot;value&quot;\\n    value {\\n      tensor {\\n        dtype: DT_FLOAT\\n        tensor_shape {\\n        }\\n        float_val: 0.0883883461356163\\n      }\\n    }\\n  }\\n}\\nnode {\\n  name: &quot;second_dense_layer/kernel/Initializer/random_uniform/RandomUniform&quot;\\n  op: &quot;RandomUniform&quot;\\n  input: &quot;second_dense_layer/kernel/Initializer/random_uniform/shape&quot;\\n  attr {\\n    key: &quot;T&quot;\\n    value {\\n      type: DT_INT32\\n    }\\n  }\\n  attr {\\n    key: &quot;_class&quot;\\n    value {\\n      list {\\n        s: &quot;loc:@second_dense_layer/kernel&quot;\\n      }\\n    }\\n  }\\n  attr {\\n    key: &quot;dtype&quot;\\n    value {\\n      type: DT_FLOAT\\n    }\\n  }\\n  attr {\\n    key: &quot;seed&quot;\\n    value {\\n      i: 0\\n    }\\n  }\\n  attr {\\n    key: &quot;seed2&quot;\\n    value {\\n      i: 0\\n    }\\n  }\\n}\\nnode {\\n  name: &quot;second_dense_layer/kernel/Initializer/random_uniform/sub&quot;\\n  op: &quot;Sub&quot;\\n  input: &quot;second_dense_layer/kernel/Initializer/random_uniform/max&quot;\\n  input: &quot;second_dense_layer/kernel/Initializer/random_uniform/min&quot;\\n  attr {\\n    key: &quot;T&quot;\\n    value {\\n      type: DT_FLOAT\\n    }\\n  }\\n  attr {\\n    key: &quot;_class&quot;\\n    value {\\n      list {\\n        s: &quot;loc:@second_dense_layer/kernel&quot;\\n      }\\n    }\\n  }\\n}\\nnode {\\n  name: &quot;second_dense_layer/kernel/Initializer/random_uniform/mul&quot;\\n  op: &quot;Mul&quot;\\n  input: &quot;second_dense_layer/kernel/Initializer/random_uniform/RandomUniform&quot;\\n  input: &quot;second_dense_layer/kernel/Initializer/random_uniform/sub&quot;\\n  attr {\\n    key: &quot;T&quot;\\n    value {\\n      type: DT_FLOAT\\n    }\\n  }\\n  attr {\\n    key: &quot;_class&quot;\\n    value {\\n      list {\\n        s: &quot;loc:@second_dense_layer/kernel&quot;\\n      }\\n    }\\n  }\\n}\\nnode {\\n  name: &quot;second_dense_layer/kernel/Initializer/random_uniform&quot;\\n  op: &quot;Add&quot;\\n  input: &quot;second_dense_layer/kernel/Initializer/random_uniform/mul&quot;\\n  input: &quot;second_dense_layer/kernel/Initializer/random_uniform/min&quot;\\n  attr {\\n    key: &quot;T&quot;\\n    value {\\n      type: DT_FLOAT\\n    }\\n  }\\n  attr {\\n    key: &quot;_class&quot;\\n    value {\\n      list {\\n        s: &quot;loc:@second_dense_layer/kernel&quot;\\n      }\\n    }\\n  }\\n}\\nnode {\\n  name: &quot;second_dense_layer/kernel&quot;\\n  op: &quot;VariableV2&quot;\\n  attr {\\n    key: &quot;_class&quot;\\n    value {\\n      list {\\n        s: &quot;loc:@second_dense_layer/kernel&quot;\\n      }\\n    }\\n  }\\n  attr {\\n    key: &quot;container&quot;\\n    value {\\n      s: &quot;&quot;\\n    }\\n  }\\n  attr {\\n    key: &quot;dtype&quot;\\n    value {\\n      type: DT_FLOAT\\n    }\\n  }\\n  attr {\\n    key: &quot;shape&quot;\\n    value {\\n      shape {\\n        dim {\\n          size: 512\\n        }\\n        dim {\\n          size: 256\\n        }\\n      }\\n    }\\n  }\\n  attr {\\n    key: &quot;shared_name&quot;\\n    value {\\n      s: &quot;&quot;\\n    }\\n  }\\n}\\nnode {\\n  name: &quot;second_dense_layer/kernel/Assign&quot;\\n  op: &quot;Assign&quot;\\n  input: &quot;second_dense_layer/kernel&quot;\\n  input: &quot;second_dense_layer/kernel/Initializer/random_uniform&quot;\\n  attr {\\n    key: &quot;T&quot;\\n    value {\\n      type: DT_FLOAT\\n    }\\n  }\\n  attr {\\n    key: &quot;_class&quot;\\n    value {\\n      list {\\n        s: &quot;loc:@second_dense_layer/kernel&quot;\\n      }\\n    }\\n  }\\n  attr {\\n    key: &quot;use_locking&quot;\\n    value {\\n      b: true\\n    }\\n  }\\n  attr {\\n    key: &quot;validate_shape&quot;\\n    value {\\n      b: true\\n    }\\n  }\\n}\\nnode {\\n  name: &quot;second_dense_layer/kernel/read&quot;\\n  op: &quot;Identity&quot;\\n  input: &quot;second_dense_layer/kernel&quot;\\n  attr {\\n    key: &quot;T&quot;\\n    value {\\n      type: DT_FLOAT\\n    }\\n  }\\n  attr {\\n    key: &quot;_class&quot;\\n    value {\\n      list {\\n        s: &quot;loc:@second_dense_layer/kernel&quot;\\n      }\\n    }\\n  }\\n}\\nnode {\\n  name: &quot;second_dense_layer/bias/Initializer/zeros&quot;\\n  op: &quot;Const&quot;\\n  attr {\\n    key: &quot;_class&quot;\\n    value {\\n      list {\\n        s: &quot;loc:@second_dense_layer/bias&quot;\\n      }\\n    }\\n  }\\n  attr {\\n    key: &quot;dtype&quot;\\n    value {\\n      type: DT_FLOAT\\n    }\\n  }\\n  attr {\\n    key: &quot;value&quot;\\n    value {\\n      tensor {\\n        dtype: DT_FLOAT\\n        tensor_shape {\\n          dim {\\n            size: 256\\n          }\\n        }\\n        float_val: 0.0\\n      }\\n    }\\n  }\\n}\\nnode {\\n  name: &quot;second_dense_layer/bias&quot;\\n  op: &quot;VariableV2&quot;\\n  attr {\\n    key: &quot;_class&quot;\\n    value {\\n      list {\\n        s: &quot;loc:@second_dense_layer/bias&quot;\\n      }\\n    }\\n  }\\n  attr {\\n    key: &quot;container&quot;\\n    value {\\n      s: &quot;&quot;\\n    }\\n  }\\n  attr {\\n    key: &quot;dtype&quot;\\n    value {\\n      type: DT_FLOAT\\n    }\\n  }\\n  attr {\\n    key: &quot;shape&quot;\\n    value {\\n      shape {\\n        dim {\\n          size: 256\\n        }\\n      }\\n    }\\n  }\\n  attr {\\n    key: &quot;shared_name&quot;\\n    value {\\n      s: &quot;&quot;\\n    }\\n  }\\n}\\nnode {\\n  name: &quot;second_dense_layer/bias/Assign&quot;\\n  op: &quot;Assign&quot;\\n  input: &quot;second_dense_layer/bias&quot;\\n  input: &quot;second_dense_layer/bias/Initializer/zeros&quot;\\n  attr {\\n    key: &quot;T&quot;\\n    value {\\n      type: DT_FLOAT\\n    }\\n  }\\n  attr {\\n    key: &quot;_class&quot;\\n    value {\\n      list {\\n        s: &quot;loc:@second_dense_layer/bias&quot;\\n      }\\n    }\\n  }\\n  attr {\\n    key: &quot;use_locking&quot;\\n    value {\\n      b: true\\n    }\\n  }\\n  attr {\\n    key: &quot;validate_shape&quot;\\n    value {\\n      b: true\\n    }\\n  }\\n}\\nnode {\\n  name: &quot;second_dense_layer/bias/read&quot;\\n  op: &quot;Identity&quot;\\n  input: &quot;second_dense_layer/bias&quot;\\n  attr {\\n    key: &quot;T&quot;\\n    value {\\n      type: DT_FLOAT\\n    }\\n  }\\n  attr {\\n    key: &quot;_class&quot;\\n    value {\\n      list {\\n        s: &quot;loc:@second_dense_layer/bias&quot;\\n      }\\n    }\\n  }\\n}\\nnode {\\n  name: &quot;second_dense_layer/MatMul&quot;\\n  op: &quot;MatMul&quot;\\n  input: &quot;first_dense_layer/Sigmoid&quot;\\n  input: &quot;second_dense_layer/kernel/read&quot;\\n  attr {\\n    key: &quot;T&quot;\\n    value {\\n      type: DT_FLOAT\\n    }\\n  }\\n  attr {\\n    key: &quot;transpose_a&quot;\\n    value {\\n      b: false\\n    }\\n  }\\n  attr {\\n    key: &quot;transpose_b&quot;\\n    value {\\n      b: false\\n    }\\n  }\\n}\\nnode {\\n  name: &quot;second_dense_layer/BiasAdd&quot;\\n  op: &quot;BiasAdd&quot;\\n  input: &quot;second_dense_layer/MatMul&quot;\\n  input: &quot;second_dense_layer/bias/read&quot;\\n  attr {\\n    key: &quot;T&quot;\\n    value {\\n      type: DT_FLOAT\\n    }\\n  }\\n  attr {\\n    key: &quot;data_format&quot;\\n    value {\\n      s: &quot;NHWC&quot;\\n    }\\n  }\\n}\\nnode {\\n  name: &quot;second_dense_layer/Sigmoid&quot;\\n  op: &quot;Sigmoid&quot;\\n  input: &quot;second_dense_layer/BiasAdd&quot;\\n  attr {\\n    key: &quot;T&quot;\\n    value {\\n      type: DT_FLOAT\\n    }\\n  }\\n}\\nnode {\\n  name: &quot;third_dense_layer/kernel/Initializer/random_uniform/shape&quot;\\n  op: &quot;Const&quot;\\n  attr {\\n    key: &quot;_class&quot;\\n    value {\\n      list {\\n        s: &quot;loc:@third_dense_layer/kernel&quot;\\n      }\\n    }\\n  }\\n  attr {\\n    key: &quot;dtype&quot;\\n    value {\\n      type: DT_INT32\\n    }\\n  }\\n  attr {\\n    key: &quot;value&quot;\\n    value {\\n      tensor {\\n        dtype: DT_INT32\\n        tensor_shape {\\n          dim {\\n            size: 2\\n          }\\n        }\\n        tensor_content: &quot;\\\\000\\\\001\\\\000\\\\000@\\\\000\\\\000\\\\000&quot;\\n      }\\n    }\\n  }\\n}\\nnode {\\n  name: &quot;third_dense_layer/kernel/Initializer/random_uniform/min&quot;\\n  op: &quot;Const&quot;\\n  attr {\\n    key: &quot;_class&quot;\\n    value {\\n      list {\\n        s: &quot;loc:@third_dense_layer/kernel&quot;\\n      }\\n    }\\n  }\\n  attr {\\n    key: &quot;dtype&quot;\\n    value {\\n      type: DT_FLOAT\\n    }\\n  }\\n  attr {\\n    key: &quot;value&quot;\\n    value {\\n      tensor {\\n        dtype: DT_FLOAT\\n        tensor_shape {\\n        }\\n        float_val: -0.1369306445121765\\n      }\\n    }\\n  }\\n}\\nnode {\\n  name: &quot;third_dense_layer/kernel/Initializer/random_uniform/max&quot;\\n  op: &quot;Const&quot;\\n  attr {\\n    key: &quot;_class&quot;\\n    value {\\n      list {\\n        s: &quot;loc:@third_dense_layer/kernel&quot;\\n      }\\n    }\\n  }\\n  attr {\\n    key: &quot;dtype&quot;\\n    value {\\n      type: DT_FLOAT\\n    }\\n  }\\n  attr {\\n    key: &quot;value&quot;\\n    value {\\n      tensor {\\n        dtype: DT_FLOAT\\n        tensor_shape {\\n        }\\n        float_val: 0.1369306445121765\\n      }\\n    }\\n  }\\n}\\nnode {\\n  name: &quot;third_dense_layer/kernel/Initializer/random_uniform/RandomUniform&quot;\\n  op: &quot;RandomUniform&quot;\\n  input: &quot;third_dense_layer/kernel/Initializer/random_uniform/shape&quot;\\n  attr {\\n    key: &quot;T&quot;\\n    value {\\n      type: DT_INT32\\n    }\\n  }\\n  attr {\\n    key: &quot;_class&quot;\\n    value {\\n      list {\\n        s: &quot;loc:@third_dense_layer/kernel&quot;\\n      }\\n    }\\n  }\\n  attr {\\n    key: &quot;dtype&quot;\\n    value {\\n      type: DT_FLOAT\\n    }\\n  }\\n  attr {\\n    key: &quot;seed&quot;\\n    value {\\n      i: 0\\n    }\\n  }\\n  attr {\\n    key: &quot;seed2&quot;\\n    value {\\n      i: 0\\n    }\\n  }\\n}\\nnode {\\n  name: &quot;third_dense_layer/kernel/Initializer/random_uniform/sub&quot;\\n  op: &quot;Sub&quot;\\n  input: &quot;third_dense_layer/kernel/Initializer/random_uniform/max&quot;\\n  input: &quot;third_dense_layer/kernel/Initializer/random_uniform/min&quot;\\n  attr {\\n    key: &quot;T&quot;\\n    value {\\n      type: DT_FLOAT\\n    }\\n  }\\n  attr {\\n    key: &quot;_class&quot;\\n    value {\\n      list {\\n        s: &quot;loc:@third_dense_layer/kernel&quot;\\n      }\\n    }\\n  }\\n}\\nnode {\\n  name: &quot;third_dense_layer/kernel/Initializer/random_uniform/mul&quot;\\n  op: &quot;Mul&quot;\\n  input: &quot;third_dense_layer/kernel/Initializer/random_uniform/RandomUniform&quot;\\n  input: &quot;third_dense_layer/kernel/Initializer/random_uniform/sub&quot;\\n  attr {\\n    key: &quot;T&quot;\\n    value {\\n      type: DT_FLOAT\\n    }\\n  }\\n  attr {\\n    key: &quot;_class&quot;\\n    value {\\n      list {\\n        s: &quot;loc:@third_dense_layer/kernel&quot;\\n      }\\n    }\\n  }\\n}\\nnode {\\n  name: &quot;third_dense_layer/kernel/Initializer/random_uniform&quot;\\n  op: &quot;Add&quot;\\n  input: &quot;third_dense_layer/kernel/Initializer/random_uniform/mul&quot;\\n  input: &quot;third_dense_layer/kernel/Initializer/random_uniform/min&quot;\\n  attr {\\n    key: &quot;T&quot;\\n    value {\\n      type: DT_FLOAT\\n    }\\n  }\\n  attr {\\n    key: &quot;_class&quot;\\n    value {\\n      list {\\n        s: &quot;loc:@third_dense_layer/kernel&quot;\\n      }\\n    }\\n  }\\n}\\nnode {\\n  name: &quot;third_dense_layer/kernel&quot;\\n  op: &quot;VariableV2&quot;\\n  attr {\\n    key: &quot;_class&quot;\\n    value {\\n      list {\\n        s: &quot;loc:@third_dense_layer/kernel&quot;\\n      }\\n    }\\n  }\\n  attr {\\n    key: &quot;container&quot;\\n    value {\\n      s: &quot;&quot;\\n    }\\n  }\\n  attr {\\n    key: &quot;dtype&quot;\\n    value {\\n      type: DT_FLOAT\\n    }\\n  }\\n  attr {\\n    key: &quot;shape&quot;\\n    value {\\n      shape {\\n        dim {\\n          size: 256\\n        }\\n        dim {\\n          size: 64\\n        }\\n      }\\n    }\\n  }\\n  attr {\\n    key: &quot;shared_name&quot;\\n    value {\\n      s: &quot;&quot;\\n    }\\n  }\\n}\\nnode {\\n  name: &quot;third_dense_layer/kernel/Assign&quot;\\n  op: &quot;Assign&quot;\\n  input: &quot;third_dense_layer/kernel&quot;\\n  input: &quot;third_dense_layer/kernel/Initializer/random_uniform&quot;\\n  attr {\\n    key: &quot;T&quot;\\n    value {\\n      type: DT_FLOAT\\n    }\\n  }\\n  attr {\\n    key: &quot;_class&quot;\\n    value {\\n      list {\\n        s: &quot;loc:@third_dense_layer/kernel&quot;\\n      }\\n    }\\n  }\\n  attr {\\n    key: &quot;use_locking&quot;\\n    value {\\n      b: true\\n    }\\n  }\\n  attr {\\n    key: &quot;validate_shape&quot;\\n    value {\\n      b: true\\n    }\\n  }\\n}\\nnode {\\n  name: &quot;third_dense_layer/kernel/read&quot;\\n  op: &quot;Identity&quot;\\n  input: &quot;third_dense_layer/kernel&quot;\\n  attr {\\n    key: &quot;T&quot;\\n    value {\\n      type: DT_FLOAT\\n    }\\n  }\\n  attr {\\n    key: &quot;_class&quot;\\n    value {\\n      list {\\n        s: &quot;loc:@third_dense_layer/kernel&quot;\\n      }\\n    }\\n  }\\n}\\nnode {\\n  name: &quot;third_dense_layer/bias/Initializer/zeros&quot;\\n  op: &quot;Const&quot;\\n  attr {\\n    key: &quot;_class&quot;\\n    value {\\n      list {\\n        s: &quot;loc:@third_dense_layer/bias&quot;\\n      }\\n    }\\n  }\\n  attr {\\n    key: &quot;dtype&quot;\\n    value {\\n      type: DT_FLOAT\\n    }\\n  }\\n  attr {\\n    key: &quot;value&quot;\\n    value {\\n      tensor {\\n        dtype: DT_FLOAT\\n        tensor_shape {\\n          dim {\\n            size: 64\\n          }\\n        }\\n        float_val: 0.0\\n      }\\n    }\\n  }\\n}\\nnode {\\n  name: &quot;third_dense_layer/bias&quot;\\n  op: &quot;VariableV2&quot;\\n  attr {\\n    key: &quot;_class&quot;\\n    value {\\n      list {\\n        s: &quot;loc:@third_dense_layer/bias&quot;\\n      }\\n    }\\n  }\\n  attr {\\n    key: &quot;container&quot;\\n    value {\\n      s: &quot;&quot;\\n    }\\n  }\\n  attr {\\n    key: &quot;dtype&quot;\\n    value {\\n      type: DT_FLOAT\\n    }\\n  }\\n  attr {\\n    key: &quot;shape&quot;\\n    value {\\n      shape {\\n        dim {\\n          size: 64\\n        }\\n      }\\n    }\\n  }\\n  attr {\\n    key: &quot;shared_name&quot;\\n    value {\\n      s: &quot;&quot;\\n    }\\n  }\\n}\\nnode {\\n  name: &quot;third_dense_layer/bias/Assign&quot;\\n  op: &quot;Assign&quot;\\n  input: &quot;third_dense_layer/bias&quot;\\n  input: &quot;third_dense_layer/bias/Initializer/zeros&quot;\\n  attr {\\n    key: &quot;T&quot;\\n    value {\\n      type: DT_FLOAT\\n    }\\n  }\\n  attr {\\n    key: &quot;_class&quot;\\n    value {\\n      list {\\n        s: &quot;loc:@third_dense_layer/bias&quot;\\n      }\\n    }\\n  }\\n  attr {\\n    key: &quot;use_locking&quot;\\n    value {\\n      b: true\\n    }\\n  }\\n  attr {\\n    key: &quot;validate_shape&quot;\\n    value {\\n      b: true\\n    }\\n  }\\n}\\nnode {\\n  name: &quot;third_dense_layer/bias/read&quot;\\n  op: &quot;Identity&quot;\\n  input: &quot;third_dense_layer/bias&quot;\\n  attr {\\n    key: &quot;T&quot;\\n    value {\\n      type: DT_FLOAT\\n    }\\n  }\\n  attr {\\n    key: &quot;_class&quot;\\n    value {\\n      list {\\n        s: &quot;loc:@third_dense_layer/bias&quot;\\n      }\\n    }\\n  }\\n}\\nnode {\\n  name: &quot;third_dense_layer/MatMul&quot;\\n  op: &quot;MatMul&quot;\\n  input: &quot;second_dense_layer/Sigmoid&quot;\\n  input: &quot;third_dense_layer/kernel/read&quot;\\n  attr {\\n    key: &quot;T&quot;\\n    value {\\n      type: DT_FLOAT\\n    }\\n  }\\n  attr {\\n    key: &quot;transpose_a&quot;\\n    value {\\n      b: false\\n    }\\n  }\\n  attr {\\n    key: &quot;transpose_b&quot;\\n    value {\\n      b: false\\n    }\\n  }\\n}\\nnode {\\n  name: &quot;third_dense_layer/BiasAdd&quot;\\n  op: &quot;BiasAdd&quot;\\n  input: &quot;third_dense_layer/MatMul&quot;\\n  input: &quot;third_dense_layer/bias/read&quot;\\n  attr {\\n    key: &quot;T&quot;\\n    value {\\n      type: DT_FLOAT\\n    }\\n  }\\n  attr {\\n    key: &quot;data_format&quot;\\n    value {\\n      s: &quot;NHWC&quot;\\n    }\\n  }\\n}\\nnode {\\n  name: &quot;third_dense_layer/Sigmoid&quot;\\n  op: &quot;Sigmoid&quot;\\n  input: &quot;third_dense_layer/BiasAdd&quot;\\n  attr {\\n    key: &quot;T&quot;\\n    value {\\n      type: DT_FLOAT\\n    }\\n  }\\n}\\nnode {\\n  name: &quot;prediction_dense_layer/kernel/Initializer/random_uniform/shape&quot;\\n  op: &quot;Const&quot;\\n  attr {\\n    key: &quot;_class&quot;\\n    value {\\n      list {\\n        s: &quot;loc:@prediction_dense_layer/kernel&quot;\\n      }\\n    }\\n  }\\n  attr {\\n    key: &quot;dtype&quot;\\n    value {\\n      type: DT_INT32\\n    }\\n  }\\n  attr {\\n    key: &quot;value&quot;\\n    value {\\n      tensor {\\n        dtype: DT_INT32\\n        tensor_shape {\\n          dim {\\n            size: 2\\n          }\\n        }\\n        tensor_content: &quot;@\\\\000\\\\000\\\\000\\\\001\\\\000\\\\000\\\\000&quot;\\n      }\\n    }\\n  }\\n}\\nnode {\\n  name: &quot;prediction_dense_layer/kernel/Initializer/random_uniform/min&quot;\\n  op: &quot;Const&quot;\\n  attr {\\n    key: &quot;_class&quot;\\n    value {\\n      list {\\n        s: &quot;loc:@prediction_dense_layer/kernel&quot;\\n      }\\n    }\\n  }\\n  attr {\\n    key: &quot;dtype&quot;\\n    value {\\n      type: DT_FLOAT\\n    }\\n  }\\n  attr {\\n    key: &quot;value&quot;\\n    value {\\n      tensor {\\n        dtype: DT_FLOAT\\n        tensor_shape {\\n        }\\n        float_val: -0.3038218021392822\\n      }\\n    }\\n  }\\n}\\nnode {\\n  name: &quot;prediction_dense_layer/kernel/Initializer/random_uniform/max&quot;\\n  op: &quot;Const&quot;\\n  attr {\\n    key: &quot;_class&quot;\\n    value {\\n      list {\\n        s: &quot;loc:@prediction_dense_layer/kernel&quot;\\n      }\\n    }\\n  }\\n  attr {\\n    key: &quot;dtype&quot;\\n    value {\\n      type: DT_FLOAT\\n    }\\n  }\\n  attr {\\n    key: &quot;value&quot;\\n    value {\\n      tensor {\\n        dtype: DT_FLOAT\\n        tensor_shape {\\n        }\\n        float_val: 0.3038218021392822\\n      }\\n    }\\n  }\\n}\\nnode {\\n  name: &quot;prediction_dense_layer/kernel/Initializer/random_uniform/RandomUniform&quot;\\n  op: &quot;RandomUniform&quot;\\n  input: &quot;prediction_dense_layer/kernel/Initializer/random_uniform/shape&quot;\\n  attr {\\n    key: &quot;T&quot;\\n    value {\\n      type: DT_INT32\\n    }\\n  }\\n  attr {\\n    key: &quot;_class&quot;\\n    value {\\n      list {\\n        s: &quot;loc:@prediction_dense_layer/kernel&quot;\\n      }\\n    }\\n  }\\n  attr {\\n    key: &quot;dtype&quot;\\n    value {\\n      type: DT_FLOAT\\n    }\\n  }\\n  attr {\\n    key: &quot;seed&quot;\\n    value {\\n      i: 0\\n    }\\n  }\\n  attr {\\n    key: &quot;seed2&quot;\\n    value {\\n      i: 0\\n    }\\n  }\\n}\\nnode {\\n  name: &quot;prediction_dense_layer/kernel/Initializer/random_uniform/sub&quot;\\n  op: &quot;Sub&quot;\\n  input: &quot;prediction_dense_layer/kernel/Initializer/random_uniform/max&quot;\\n  input: &quot;prediction_dense_layer/kernel/Initializer/random_uniform/min&quot;\\n  attr {\\n    key: &quot;T&quot;\\n    value {\\n      type: DT_FLOAT\\n    }\\n  }\\n  attr {\\n    key: &quot;_class&quot;\\n    value {\\n      list {\\n        s: &quot;loc:@prediction_dense_layer/kernel&quot;\\n      }\\n    }\\n  }\\n}\\nnode {\\n  name: &quot;prediction_dense_layer/kernel/Initializer/random_uniform/mul&quot;\\n  op: &quot;Mul&quot;\\n  input: &quot;prediction_dense_layer/kernel/Initializer/random_uniform/RandomUniform&quot;\\n  input: &quot;prediction_dense_layer/kernel/Initializer/random_uniform/sub&quot;\\n  attr {\\n    key: &quot;T&quot;\\n    value {\\n      type: DT_FLOAT\\n    }\\n  }\\n  attr {\\n    key: &quot;_class&quot;\\n    value {\\n      list {\\n        s: &quot;loc:@prediction_dense_layer/kernel&quot;\\n      }\\n    }\\n  }\\n}\\nnode {\\n  name: &quot;prediction_dense_layer/kernel/Initializer/random_uniform&quot;\\n  op: &quot;Add&quot;\\n  input: &quot;prediction_dense_layer/kernel/Initializer/random_uniform/mul&quot;\\n  input: &quot;prediction_dense_layer/kernel/Initializer/random_uniform/min&quot;\\n  attr {\\n    key: &quot;T&quot;\\n    value {\\n      type: DT_FLOAT\\n    }\\n  }\\n  attr {\\n    key: &quot;_class&quot;\\n    value {\\n      list {\\n        s: &quot;loc:@prediction_dense_layer/kernel&quot;\\n      }\\n    }\\n  }\\n}\\nnode {\\n  name: &quot;prediction_dense_layer/kernel&quot;\\n  op: &quot;VariableV2&quot;\\n  attr {\\n    key: &quot;_class&quot;\\n    value {\\n      list {\\n        s: &quot;loc:@prediction_dense_layer/kernel&quot;\\n      }\\n    }\\n  }\\n  attr {\\n    key: &quot;container&quot;\\n    value {\\n      s: &quot;&quot;\\n    }\\n  }\\n  attr {\\n    key: &quot;dtype&quot;\\n    value {\\n      type: DT_FLOAT\\n    }\\n  }\\n  attr {\\n    key: &quot;shape&quot;\\n    value {\\n      shape {\\n        dim {\\n          size: 64\\n        }\\n        dim {\\n          size: 1\\n        }\\n      }\\n    }\\n  }\\n  attr {\\n    key: &quot;shared_name&quot;\\n    value {\\n      s: &quot;&quot;\\n    }\\n  }\\n}\\nnode {\\n  name: &quot;prediction_dense_layer/kernel/Assign&quot;\\n  op: &quot;Assign&quot;\\n  input: &quot;prediction_dense_layer/kernel&quot;\\n  input: &quot;prediction_dense_layer/kernel/Initializer/random_uniform&quot;\\n  attr {\\n    key: &quot;T&quot;\\n    value {\\n      type: DT_FLOAT\\n    }\\n  }\\n  attr {\\n    key: &quot;_class&quot;\\n    value {\\n      list {\\n        s: &quot;loc:@prediction_dense_layer/kernel&quot;\\n      }\\n    }\\n  }\\n  attr {\\n    key: &quot;use_locking&quot;\\n    value {\\n      b: true\\n    }\\n  }\\n  attr {\\n    key: &quot;validate_shape&quot;\\n    value {\\n      b: true\\n    }\\n  }\\n}\\nnode {\\n  name: &quot;prediction_dense_layer/kernel/read&quot;\\n  op: &quot;Identity&quot;\\n  input: &quot;prediction_dense_layer/kernel&quot;\\n  attr {\\n    key: &quot;T&quot;\\n    value {\\n      type: DT_FLOAT\\n    }\\n  }\\n  attr {\\n    key: &quot;_class&quot;\\n    value {\\n      list {\\n        s: &quot;loc:@prediction_dense_layer/kernel&quot;\\n      }\\n    }\\n  }\\n}\\nnode {\\n  name: &quot;prediction_dense_layer/bias/Initializer/zeros&quot;\\n  op: &quot;Const&quot;\\n  attr {\\n    key: &quot;_class&quot;\\n    value {\\n      list {\\n        s: &quot;loc:@prediction_dense_layer/bias&quot;\\n      }\\n    }\\n  }\\n  attr {\\n    key: &quot;dtype&quot;\\n    value {\\n      type: DT_FLOAT\\n    }\\n  }\\n  attr {\\n    key: &quot;value&quot;\\n    value {\\n      tensor {\\n        dtype: DT_FLOAT\\n        tensor_shape {\\n          dim {\\n            size: 1\\n          }\\n        }\\n        float_val: 0.0\\n      }\\n    }\\n  }\\n}\\nnode {\\n  name: &quot;prediction_dense_layer/bias&quot;\\n  op: &quot;VariableV2&quot;\\n  attr {\\n    key: &quot;_class&quot;\\n    value {\\n      list {\\n        s: &quot;loc:@prediction_dense_layer/bias&quot;\\n      }\\n    }\\n  }\\n  attr {\\n    key: &quot;container&quot;\\n    value {\\n      s: &quot;&quot;\\n    }\\n  }\\n  attr {\\n    key: &quot;dtype&quot;\\n    value {\\n      type: DT_FLOAT\\n    }\\n  }\\n  attr {\\n    key: &quot;shape&quot;\\n    value {\\n      shape {\\n        dim {\\n          size: 1\\n        }\\n      }\\n    }\\n  }\\n  attr {\\n    key: &quot;shared_name&quot;\\n    value {\\n      s: &quot;&quot;\\n    }\\n  }\\n}\\nnode {\\n  name: &quot;prediction_dense_layer/bias/Assign&quot;\\n  op: &quot;Assign&quot;\\n  input: &quot;prediction_dense_layer/bias&quot;\\n  input: &quot;prediction_dense_layer/bias/Initializer/zeros&quot;\\n  attr {\\n    key: &quot;T&quot;\\n    value {\\n      type: DT_FLOAT\\n    }\\n  }\\n  attr {\\n    key: &quot;_class&quot;\\n    value {\\n      list {\\n        s: &quot;loc:@prediction_dense_layer/bias&quot;\\n      }\\n    }\\n  }\\n  attr {\\n    key: &quot;use_locking&quot;\\n    value {\\n      b: true\\n    }\\n  }\\n  attr {\\n    key: &quot;validate_shape&quot;\\n    value {\\n      b: true\\n    }\\n  }\\n}\\nnode {\\n  name: &quot;prediction_dense_layer/bias/read&quot;\\n  op: &quot;Identity&quot;\\n  input: &quot;prediction_dense_layer/bias&quot;\\n  attr {\\n    key: &quot;T&quot;\\n    value {\\n      type: DT_FLOAT\\n    }\\n  }\\n  attr {\\n    key: &quot;_class&quot;\\n    value {\\n      list {\\n        s: &quot;loc:@prediction_dense_layer/bias&quot;\\n      }\\n    }\\n  }\\n}\\nnode {\\n  name: &quot;prediction_dense_layer/MatMul&quot;\\n  op: &quot;MatMul&quot;\\n  input: &quot;third_dense_layer/Sigmoid&quot;\\n  input: &quot;prediction_dense_layer/kernel/read&quot;\\n  attr {\\n    key: &quot;T&quot;\\n    value {\\n      type: DT_FLOAT\\n    }\\n  }\\n  attr {\\n    key: &quot;transpose_a&quot;\\n    value {\\n      b: false\\n    }\\n  }\\n  attr {\\n    key: &quot;transpose_b&quot;\\n    value {\\n      b: false\\n    }\\n  }\\n}\\nnode {\\n  name: &quot;prediction_dense_layer/BiasAdd&quot;\\n  op: &quot;BiasAdd&quot;\\n  input: &quot;prediction_dense_layer/MatMul&quot;\\n  input: &quot;prediction_dense_layer/bias/read&quot;\\n  attr {\\n    key: &quot;T&quot;\\n    value {\\n      type: DT_FLOAT\\n    }\\n  }\\n  attr {\\n    key: &quot;data_format&quot;\\n    value {\\n      s: &quot;NHWC&quot;\\n    }\\n  }\\n}\\nnode {\\n  name: &quot;mean_squared_error/SquaredDifference&quot;\\n  op: &quot;SquaredDifference&quot;\\n  input: &quot;prediction_dense_layer/BiasAdd&quot;\\n  input: &quot;userdefinedoutput&quot;\\n  attr {\\n    key: &quot;T&quot;\\n    value {\\n      type: DT_FLOAT\\n    }\\n  }\\n}\\nnode {\\n  name: &quot;mean_squared_error/assert_broadcastable/weights&quot;\\n  op: &quot;Const&quot;\\n  attr {\\n    key: &quot;dtype&quot;\\n    value {\\n      type: DT_FLOAT\\n    }\\n  }\\n  attr {\\n    key: &quot;value&quot;\\n    value {\\n      tensor {\\n        dtype: DT_FLOAT\\n        tensor_shape {\\n        }\\n        float_val: 1.0\\n      }\\n    }\\n  }\\n}\\nnode {\\n  name: &quot;mean_squared_error/assert_broadcastable/weights/shape&quot;\\n  op: &quot;Const&quot;\\n  attr {\\n    key: &quot;dtype&quot;\\n    value {\\n      type: DT_INT32\\n    }\\n  }\\n  attr {\\n    key: &quot;value&quot;\\n    value {\\n      tensor {\\n        dtype: DT_INT32\\n        tensor_shape {\\n          dim {\\n          }\\n        }\\n      }\\n    }\\n  }\\n}\\nnode {\\n  name: &quot;mean_squared_error/assert_broadcastable/weights/rank&quot;\\n  op: &quot;Const&quot;\\n  attr {\\n    key: &quot;dtype&quot;\\n    value {\\n      type: DT_INT32\\n    }\\n  }\\n  attr {\\n    key: &quot;value&quot;\\n    value {\\n      tensor {\\n        dtype: DT_INT32\\n        tensor_shape {\\n        }\\n        int_val: 0\\n      }\\n    }\\n  }\\n}\\nnode {\\n  name: &quot;mean_squared_error/assert_broadcastable/values/shape&quot;\\n  op: &quot;Shape&quot;\\n  input: &quot;mean_squared_error/SquaredDifference&quot;\\n  attr {\\n    key: &quot;T&quot;\\n    value {\\n      type: DT_FLOAT\\n    }\\n  }\\n  attr {\\n    key: &quot;out_type&quot;\\n    value {\\n      type: DT_INT32\\n    }\\n  }\\n}\\nnode {\\n  name: &quot;mean_squared_error/assert_broadcastable/values/rank&quot;\\n  op: &quot;Const&quot;\\n  attr {\\n    key: &quot;dtype&quot;\\n    value {\\n      type: DT_INT32\\n    }\\n  }\\n  attr {\\n    key: &quot;value&quot;\\n    value {\\n      tensor {\\n        dtype: DT_INT32\\n        tensor_shape {\\n        }\\n        int_val: 2\\n      }\\n    }\\n  }\\n}\\nnode {\\n  name: &quot;mean_squared_error/assert_broadcastable/static_scalar_check_success&quot;\\n  op: &quot;NoOp&quot;\\n}\\nnode {\\n  name: &quot;mean_squared_error/ToFloat_3/x&quot;\\n  op: &quot;Const&quot;\\n  input: &quot;^mean_squared_error/assert_broadcastable/static_scalar_check_success&quot;\\n  attr {\\n    key: &quot;dtype&quot;\\n    value {\\n      type: DT_FLOAT\\n    }\\n  }\\n  attr {\\n    key: &quot;value&quot;\\n    value {\\n      tensor {\\n        dtype: DT_FLOAT\\n        tensor_shape {\\n        }\\n        float_val: 1.0\\n      }\\n    }\\n  }\\n}\\nnode {\\n  name: &quot;mean_squared_error/Mul&quot;\\n  op: &quot;Mul&quot;\\n  input: &quot;mean_squared_error/SquaredDifference&quot;\\n  input: &quot;mean_squared_error/ToFloat_3/x&quot;\\n  attr {\\n    key: &quot;T&quot;\\n    value {\\n      type: DT_FLOAT\\n    }\\n  }\\n}\\nnode {\\n  name: &quot;mean_squared_error/Const&quot;\\n  op: &quot;Const&quot;\\n  input: &quot;^mean_squared_error/assert_broadcastable/static_scalar_check_success&quot;\\n  attr {\\n    key: &quot;dtype&quot;\\n    value {\\n      type: DT_INT32\\n    }\\n  }\\n  attr {\\n    key: &quot;value&quot;\\n    value {\\n      tensor {\\n        dtype: DT_INT32\\n        tensor_shape {\\n          dim {\\n            size: 2\\n          }\\n        }\\n        tensor_content: &quot;\\\\000\\\\000\\\\000\\\\000\\\\001\\\\000\\\\000\\\\000&quot;\\n      }\\n    }\\n  }\\n}\\nnode {\\n  name: &quot;mean_squared_error/Sum&quot;\\n  op: &quot;Sum&quot;\\n  input: &quot;mean_squared_error/Mul&quot;\\n  input: &quot;mean_squared_error/Const&quot;\\n  attr {\\n    key: &quot;T&quot;\\n    value {\\n      type: DT_FLOAT\\n    }\\n  }\\n  attr {\\n    key: &quot;Tidx&quot;\\n    value {\\n      type: DT_INT32\\n    }\\n  }\\n  attr {\\n    key: &quot;keep_dims&quot;\\n    value {\\n      b: false\\n    }\\n  }\\n}\\nnode {\\n  name: &quot;mean_squared_error/num_present/Equal/y&quot;\\n  op: &quot;Const&quot;\\n  input: &quot;^mean_squared_error/assert_broadcastable/static_scalar_check_success&quot;\\n  attr {\\n    key: &quot;dtype&quot;\\n    value {\\n      type: DT_FLOAT\\n    }\\n  }\\n  attr {\\n    key: &quot;value&quot;\\n    value {\\n      tensor {\\n        dtype: DT_FLOAT\\n        tensor_shape {\\n        }\\n        float_val: 0.0\\n      }\\n    }\\n  }\\n}\\nnode {\\n  name: &quot;mean_squared_error/num_present/Equal&quot;\\n  op: &quot;Equal&quot;\\n  input: &quot;mean_squared_error/ToFloat_3/x&quot;\\n  input: &quot;mean_squared_error/num_present/Equal/y&quot;\\n  attr {\\n    key: &quot;T&quot;\\n    value {\\n      type: DT_FLOAT\\n    }\\n  }\\n}\\nnode {\\n  name: &quot;mean_squared_error/num_present/zeros_like&quot;\\n  op: &quot;Const&quot;\\n  input: &quot;^mean_squared_error/assert_broadcastable/static_scalar_check_success&quot;\\n  attr {\\n    key: &quot;dtype&quot;\\n    value {\\n      type: DT_FLOAT\\n    }\\n  }\\n  attr {\\n    key: &quot;value&quot;\\n    value {\\n      tensor {\\n        dtype: DT_FLOAT\\n        tensor_shape {\\n        }\\n        float_val: 0.0\\n      }\\n    }\\n  }\\n}\\nnode {\\n  name: &quot;mean_squared_error/num_present/ones_like/Shape&quot;\\n  op: &quot;Const&quot;\\n  input: &quot;^mean_squared_error/assert_broadcastable/static_scalar_check_success&quot;\\n  attr {\\n    key: &quot;dtype&quot;\\n    value {\\n      type: DT_INT32\\n    }\\n  }\\n  attr {\\n    key: &quot;value&quot;\\n    value {\\n      tensor {\\n        dtype: DT_INT32\\n        tensor_shape {\\n          dim {\\n          }\\n        }\\n      }\\n    }\\n  }\\n}\\nnode {\\n  name: &quot;mean_squared_error/num_present/ones_like/Const&quot;\\n  op: &quot;Const&quot;\\n  input: &quot;^mean_squared_error/assert_broadcastable/static_scalar_check_success&quot;\\n  attr {\\n    key: &quot;dtype&quot;\\n    value {\\n      type: DT_FLOAT\\n    }\\n  }\\n  attr {\\n    key: &quot;value&quot;\\n    value {\\n      tensor {\\n        dtype: DT_FLOAT\\n        tensor_shape {\\n        }\\n        float_val: 1.0\\n      }\\n    }\\n  }\\n}\\nnode {\\n  name: &quot;mean_squared_error/num_present/ones_like&quot;\\n  op: &quot;Fill&quot;\\n  input: &quot;mean_squared_error/num_present/ones_like/Shape&quot;\\n  input: &quot;mean_squared_error/num_present/ones_like/Const&quot;\\n  attr {\\n    key: &quot;T&quot;\\n    value {\\n      type: DT_FLOAT\\n    }\\n  }\\n}\\nnode {\\n  name: &quot;mean_squared_error/num_present/Select&quot;\\n  op: &quot;Select&quot;\\n  input: &quot;mean_squared_error/num_present/Equal&quot;\\n  input: &quot;mean_squared_error/num_present/zeros_like&quot;\\n  input: &quot;mean_squared_error/num_present/ones_like&quot;\\n  attr {\\n    key: &quot;T&quot;\\n    value {\\n      type: DT_FLOAT\\n    }\\n  }\\n}\\nnode {\\n  name: &quot;mean_squared_error/num_present/broadcast_weights/assert_broadcastable/weights/shape&quot;\\n  op: &quot;Const&quot;\\n  input: &quot;^mean_squared_error/assert_broadcastable/static_scalar_check_success&quot;\\n  attr {\\n    key: &quot;dtype&quot;\\n    value {\\n      type: DT_INT32\\n    }\\n  }\\n  attr {\\n    key: &quot;value&quot;\\n    value {\\n      tensor {\\n        dtype: DT_INT32\\n        tensor_shape {\\n          dim {\\n          }\\n        }\\n      }\\n    }\\n  }\\n}\\nnode {\\n  name: &quot;mean_squared_error/num_present/broadcast_weights/assert_broadcastable/weights/rank&quot;\\n  op: &quot;Const&quot;\\n  input: &quot;^mean_squared_error/assert_broadcastable/static_scalar_check_success&quot;\\n  attr {\\n    key: &quot;dtype&quot;\\n    value {\\n      type: DT_INT32\\n    }\\n  }\\n  attr {\\n    key: &quot;value&quot;\\n    value {\\n      tensor {\\n        dtype: DT_INT32\\n        tensor_shape {\\n        }\\n        int_val: 0\\n      }\\n    }\\n  }\\n}\\nnode {\\n  name: &quot;mean_squared_error/num_present/broadcast_weights/assert_broadcastable/values/shape&quot;\\n  op: &quot;Shape&quot;\\n  input: &quot;mean_squared_error/SquaredDifference&quot;\\n  input: &quot;^mean_squared_error/assert_broadcastable/static_scalar_check_success&quot;\\n  attr {\\n    key: &quot;T&quot;\\n    value {\\n      type: DT_FLOAT\\n    }\\n  }\\n  attr {\\n    key: &quot;out_type&quot;\\n    value {\\n      type: DT_INT32\\n    }\\n  }\\n}\\nnode {\\n  name: &quot;mean_squared_error/num_present/broadcast_weights/assert_broadcastable/values/rank&quot;\\n  op: &quot;Const&quot;\\n  input: &quot;^mean_squared_error/assert_broadcastable/static_scalar_check_success&quot;\\n  attr {\\n    key: &quot;dtype&quot;\\n    value {\\n      type: DT_INT32\\n    }\\n  }\\n  attr {\\n    key: &quot;value&quot;\\n    value {\\n      tensor {\\n        dtype: DT_INT32\\n        tensor_shape {\\n        }\\n        int_val: 2\\n      }\\n    }\\n  }\\n}\\nnode {\\n  name: &quot;mean_squared_error/num_present/broadcast_weights/assert_broadcastable/static_scalar_check_success&quot;\\n  op: &quot;NoOp&quot;\\n  input: &quot;^mean_squared_error/assert_broadcastable/static_scalar_check_success&quot;\\n}\\nnode {\\n  name: &quot;mean_squared_error/num_present/broadcast_weights/ones_like/Shape&quot;\\n  op: &quot;Shape&quot;\\n  input: &quot;mean_squared_error/SquaredDifference&quot;\\n  input: &quot;^mean_squared_error/assert_broadcastable/static_scalar_check_success&quot;\\n  input: &quot;^mean_squared_error/num_present/broadcast_weights/assert_broadcastable/static_scalar_check_success&quot;\\n  attr {\\n    key: &quot;T&quot;\\n    value {\\n      type: DT_FLOAT\\n    }\\n  }\\n  attr {\\n    key: &quot;out_type&quot;\\n    value {\\n      type: DT_INT32\\n    }\\n  }\\n}\\nnode {\\n  name: &quot;mean_squared_error/num_present/broadcast_weights/ones_like/Const&quot;\\n  op: &quot;Const&quot;\\n  input: &quot;^mean_squared_error/assert_broadcastable/static_scalar_check_success&quot;\\n  input: &quot;^mean_squared_error/num_present/broadcast_weights/assert_broadcastable/static_scalar_check_success&quot;\\n  attr {\\n    key: &quot;dtype&quot;\\n    value {\\n      type: DT_FLOAT\\n    }\\n  }\\n  attr {\\n    key: &quot;value&quot;\\n    value {\\n      tensor {\\n        dtype: DT_FLOAT\\n        tensor_shape {\\n        }\\n        float_val: 1.0\\n      }\\n    }\\n  }\\n}\\nnode {\\n  name: &quot;mean_squared_error/num_present/broadcast_weights/ones_like&quot;\\n  op: &quot;Fill&quot;\\n  input: &quot;mean_squared_error/num_present/broadcast_weights/ones_like/Shape&quot;\\n  input: &quot;mean_squared_error/num_present/broadcast_weights/ones_like/Const&quot;\\n  attr {\\n    key: &quot;T&quot;\\n    value {\\n      type: DT_FLOAT\\n    }\\n  }\\n}\\nnode {\\n  name: &quot;mean_squared_error/num_present/broadcast_weights&quot;\\n  op: &quot;Mul&quot;\\n  input: &quot;mean_squared_error/num_present/Select&quot;\\n  input: &quot;mean_squared_error/num_present/broadcast_weights/ones_like&quot;\\n  attr {\\n    key: &quot;T&quot;\\n    value {\\n      type: DT_FLOAT\\n    }\\n  }\\n}\\nnode {\\n  name: &quot;mean_squared_error/num_present/Const&quot;\\n  op: &quot;Const&quot;\\n  input: &quot;^mean_squared_error/assert_broadcastable/static_scalar_check_success&quot;\\n  attr {\\n    key: &quot;dtype&quot;\\n    value {\\n      type: DT_INT32\\n    }\\n  }\\n  attr {\\n    key: &quot;value&quot;\\n    value {\\n      tensor {\\n        dtype: DT_INT32\\n        tensor_shape {\\n          dim {\\n            size: 2\\n          }\\n        }\\n        tensor_content: &quot;\\\\000\\\\000\\\\000\\\\000\\\\001\\\\000\\\\000\\\\000&quot;\\n      }\\n    }\\n  }\\n}\\nnode {\\n  name: &quot;mean_squared_error/num_present&quot;\\n  op: &quot;Sum&quot;\\n  input: &quot;mean_squared_error/num_present/broadcast_weights&quot;\\n  input: &quot;mean_squared_error/num_present/Const&quot;\\n  attr {\\n    key: &quot;T&quot;\\n    value {\\n      type: DT_FLOAT\\n    }\\n  }\\n  attr {\\n    key: &quot;Tidx&quot;\\n    value {\\n      type: DT_INT32\\n    }\\n  }\\n  attr {\\n    key: &quot;keep_dims&quot;\\n    value {\\n      b: false\\n    }\\n  }\\n}\\nnode {\\n  name: &quot;mean_squared_error/Const_1&quot;\\n  op: &quot;Const&quot;\\n  input: &quot;^mean_squared_error/assert_broadcastable/static_scalar_check_success&quot;\\n  attr {\\n    key: &quot;dtype&quot;\\n    value {\\n      type: DT_INT32\\n    }\\n  }\\n  attr {\\n    key: &quot;value&quot;\\n    value {\\n      tensor {\\n        dtype: DT_INT32\\n        tensor_shape {\\n          dim {\\n          }\\n        }\\n      }\\n    }\\n  }\\n}\\nnode {\\n  name: &quot;mean_squared_error/Sum_1&quot;\\n  op: &quot;Sum&quot;\\n  input: &quot;mean_squared_error/Sum&quot;\\n  input: &quot;mean_squared_error/Const_1&quot;\\n  attr {\\n    key: &quot;T&quot;\\n    value {\\n      type: DT_FLOAT\\n    }\\n  }\\n  attr {\\n    key: &quot;Tidx&quot;\\n    value {\\n      type: DT_INT32\\n    }\\n  }\\n  attr {\\n    key: &quot;keep_dims&quot;\\n    value {\\n      b: false\\n    }\\n  }\\n}\\nnode {\\n  name: &quot;mean_squared_error/Greater/y&quot;\\n  op: &quot;Const&quot;\\n  input: &quot;^mean_squared_error/assert_broadcastable/static_scalar_check_success&quot;\\n  attr {\\n    key: &quot;dtype&quot;\\n    value {\\n      type: DT_FLOAT\\n    }\\n  }\\n  attr {\\n    key: &quot;value&quot;\\n    value {\\n      tensor {\\n        dtype: DT_FLOAT\\n        tensor_shape {\\n        }\\n        float_val: 0.0\\n      }\\n    }\\n  }\\n}\\nnode {\\n  name: &quot;mean_squared_error/Greater&quot;\\n  op: &quot;Greater&quot;\\n  input: &quot;mean_squared_error/num_present&quot;\\n  input: &quot;mean_squared_error/Greater/y&quot;\\n  attr {\\n    key: &quot;T&quot;\\n    value {\\n      type: DT_FLOAT\\n    }\\n  }\\n}\\nnode {\\n  name: &quot;mean_squared_error/Equal/y&quot;\\n  op: &quot;Const&quot;\\n  input: &quot;^mean_squared_error/assert_broadcastable/static_scalar_check_success&quot;\\n  attr {\\n    key: &quot;dtype&quot;\\n    value {\\n      type: DT_FLOAT\\n    }\\n  }\\n  attr {\\n    key: &quot;value&quot;\\n    value {\\n      tensor {\\n        dtype: DT_FLOAT\\n        tensor_shape {\\n        }\\n        float_val: 0.0\\n      }\\n    }\\n  }\\n}\\nnode {\\n  name: &quot;mean_squared_error/Equal&quot;\\n  op: &quot;Equal&quot;\\n  input: &quot;mean_squared_error/num_present&quot;\\n  input: &quot;mean_squared_error/Equal/y&quot;\\n  attr {\\n    key: &quot;T&quot;\\n    value {\\n      type: DT_FLOAT\\n    }\\n  }\\n}\\nnode {\\n  name: &quot;mean_squared_error/ones_like/Shape&quot;\\n  op: &quot;Const&quot;\\n  input: &quot;^mean_squared_error/assert_broadcastable/static_scalar_check_success&quot;\\n  attr {\\n    key: &quot;dtype&quot;\\n    value {\\n      type: DT_INT32\\n    }\\n  }\\n  attr {\\n    key: &quot;value&quot;\\n    value {\\n      tensor {\\n        dtype: DT_INT32\\n        tensor_shape {\\n          dim {\\n          }\\n        }\\n      }\\n    }\\n  }\\n}\\nnode {\\n  name: &quot;mean_squared_error/ones_like/Const&quot;\\n  op: &quot;Const&quot;\\n  input: &quot;^mean_squared_error/assert_broadcastable/static_scalar_check_success&quot;\\n  attr {\\n    key: &quot;dtype&quot;\\n    value {\\n      type: DT_FLOAT\\n    }\\n  }\\n  attr {\\n    key: &quot;value&quot;\\n    value {\\n      tensor {\\n        dtype: DT_FLOAT\\n        tensor_shape {\\n        }\\n        float_val: 1.0\\n      }\\n    }\\n  }\\n}\\nnode {\\n  name: &quot;mean_squared_error/ones_like&quot;\\n  op: &quot;Fill&quot;\\n  input: &quot;mean_squared_error/ones_like/Shape&quot;\\n  input: &quot;mean_squared_error/ones_like/Const&quot;\\n  attr {\\n    key: &quot;T&quot;\\n    value {\\n      type: DT_FLOAT\\n    }\\n  }\\n}\\nnode {\\n  name: &quot;mean_squared_error/Select&quot;\\n  op: &quot;Select&quot;\\n  input: &quot;mean_squared_error/Equal&quot;\\n  input: &quot;mean_squared_error/ones_like&quot;\\n  input: &quot;mean_squared_error/num_present&quot;\\n  attr {\\n    key: &quot;T&quot;\\n    value {\\n      type: DT_FLOAT\\n    }\\n  }\\n}\\nnode {\\n  name: &quot;mean_squared_error/div&quot;\\n  op: &quot;RealDiv&quot;\\n  input: &quot;mean_squared_error/Sum_1&quot;\\n  input: &quot;mean_squared_error/Select&quot;\\n  attr {\\n    key: &quot;T&quot;\\n    value {\\n      type: DT_FLOAT\\n    }\\n  }\\n}\\nnode {\\n  name: &quot;mean_squared_error/zeros_like&quot;\\n  op: &quot;Const&quot;\\n  input: &quot;^mean_squared_error/assert_broadcastable/static_scalar_check_success&quot;\\n  attr {\\n    key: &quot;dtype&quot;\\n    value {\\n      type: DT_FLOAT\\n    }\\n  }\\n  attr {\\n    key: &quot;value&quot;\\n    value {\\n      tensor {\\n        dtype: DT_FLOAT\\n        tensor_shape {\\n        }\\n        float_val: 0.0\\n      }\\n    }\\n  }\\n}\\nnode {\\n  name: &quot;mean_squared_error/value&quot;\\n  op: &quot;Select&quot;\\n  input: &quot;mean_squared_error/Greater&quot;\\n  input: &quot;mean_squared_error/div&quot;\\n  input: &quot;mean_squared_error/zeros_like&quot;\\n  attr {\\n    key: &quot;T&quot;\\n    value {\\n      type: DT_FLOAT\\n    }\\n  }\\n}\\nnode {\\n  name: &quot;gradients/Shape&quot;\\n  op: &quot;Const&quot;\\n  attr {\\n    key: &quot;dtype&quot;\\n    value {\\n      type: DT_INT32\\n    }\\n  }\\n  attr {\\n    key: &quot;value&quot;\\n    value {\\n      tensor {\\n        dtype: DT_INT32\\n        tensor_shape {\\n          dim {\\n          }\\n        }\\n      }\\n    }\\n  }\\n}\\nnode {\\n  name: &quot;gradients/Const&quot;\\n  op: &quot;Const&quot;\\n  attr {\\n    key: &quot;dtype&quot;\\n    value {\\n      type: DT_FLOAT\\n    }\\n  }\\n  attr {\\n    key: &quot;value&quot;\\n    value {\\n      tensor {\\n        dtype: DT_FLOAT\\n        tensor_shape {\\n        }\\n        float_val: 1.0\\n      }\\n    }\\n  }\\n}\\nnode {\\n  name: &quot;gradients/Fill&quot;\\n  op: &quot;Fill&quot;\\n  input: &quot;gradients/Shape&quot;\\n  input: &quot;gradients/Const&quot;\\n  attr {\\n    key: &quot;T&quot;\\n    value {\\n      type: DT_FLOAT\\n    }\\n  }\\n}\\nnode {\\n  name: &quot;gradients/mean_squared_error/value_grad/zeros_like&quot;\\n  op: &quot;Const&quot;\\n  attr {\\n    key: &quot;dtype&quot;\\n    value {\\n      type: DT_FLOAT\\n    }\\n  }\\n  attr {\\n    key: &quot;value&quot;\\n    value {\\n      tensor {\\n        dtype: DT_FLOAT\\n        tensor_shape {\\n        }\\n        float_val: 0.0\\n      }\\n    }\\n  }\\n}\\nnode {\\n  name: &quot;gradients/mean_squared_error/value_grad/Select&quot;\\n  op: &quot;Select&quot;\\n  input: &quot;mean_squared_error/Greater&quot;\\n  input: &quot;gradients/Fill&quot;\\n  input: &quot;gradients/mean_squared_error/value_grad/zeros_like&quot;\\n  attr {\\n    key: &quot;T&quot;\\n    value {\\n      type: DT_FLOAT\\n    }\\n  }\\n}\\nnode {\\n  name: &quot;gradients/mean_squared_error/value_grad/Select_1&quot;\\n  op: &quot;Select&quot;\\n  input: &quot;mean_squared_error/Greater&quot;\\n  input: &quot;gradients/mean_squared_error/value_grad/zeros_like&quot;\\n  input: &quot;gradients/Fill&quot;\\n  attr {\\n    key: &quot;T&quot;\\n    value {\\n      type: DT_FLOAT\\n    }\\n  }\\n}\\nnode {\\n  name: &quot;gradients/mean_squared_error/value_grad/tuple/group_deps&quot;\\n  op: &quot;NoOp&quot;\\n  input: &quot;^gradients/mean_squared_error/value_grad/Select&quot;\\n  input: &quot;^gradients/mean_squared_error/value_grad/Select_1&quot;\\n}\\nnode {\\n  name: &quot;gradients/mean_squared_error/value_grad/tuple/control_dependency&quot;\\n  op: &quot;Identity&quot;\\n  input: &quot;gradients/mean_squared_error/value_grad/Select&quot;\\n  input: &quot;^gradients/mean_squared_error/value_grad/tuple/group_deps&quot;\\n  attr {\\n    key: &quot;T&quot;\\n    value {\\n      type: DT_FLOAT\\n    }\\n  }\\n  attr {\\n    key: &quot;_class&quot;\\n    value {\\n      list {\\n        s: &quot;loc:@gradients/mean_squared_error/value_grad/Select&quot;\\n      }\\n    }\\n  }\\n}\\nnode {\\n  name: &quot;gradients/mean_squared_error/value_grad/tuple/control_dependency_1&quot;\\n  op: &quot;Identity&quot;\\n  input: &quot;gradients/mean_squared_error/value_grad/Select_1&quot;\\n  input: &quot;^gradients/mean_squared_error/value_grad/tuple/group_deps&quot;\\n  attr {\\n    key: &quot;T&quot;\\n    value {\\n      type: DT_FLOAT\\n    }\\n  }\\n  attr {\\n    key: &quot;_class&quot;\\n    value {\\n      list {\\n        s: &quot;loc:@gradients/mean_squared_error/value_grad/Select_1&quot;\\n      }\\n    }\\n  }\\n}\\nnode {\\n  name: &quot;gradients/mean_squared_error/div_grad/Shape&quot;\\n  op: &quot;Const&quot;\\n  attr {\\n    key: &quot;dtype&quot;\\n    value {\\n      type: DT_INT32\\n    }\\n  }\\n  attr {\\n    key: &quot;value&quot;\\n    value {\\n      tensor {\\n        dtype: DT_INT32\\n        tensor_shape {\\n          dim {\\n          }\\n        }\\n      }\\n    }\\n  }\\n}\\nnode {\\n  name: &quot;gradients/mean_squared_error/div_grad/Shape_1&quot;\\n  op: &quot;Const&quot;\\n  attr {\\n    key: &quot;dtype&quot;\\n    value {\\n      type: DT_INT32\\n    }\\n  }\\n  attr {\\n    key: &quot;value&quot;\\n    value {\\n      tensor {\\n        dtype: DT_INT32\\n        tensor_shape {\\n          dim {\\n          }\\n        }\\n      }\\n    }\\n  }\\n}\\nnode {\\n  name: &quot;gradients/mean_squared_error/div_grad/BroadcastGradientArgs&quot;\\n  op: &quot;BroadcastGradientArgs&quot;\\n  input: &quot;gradients/mean_squared_error/div_grad/Shape&quot;\\n  input: &quot;gradients/mean_squared_error/div_grad/Shape_1&quot;\\n  attr {\\n    key: &quot;T&quot;\\n    value {\\n      type: DT_INT32\\n    }\\n  }\\n}\\nnode {\\n  name: &quot;gradients/mean_squared_error/div_grad/RealDiv&quot;\\n  op: &quot;RealDiv&quot;\\n  input: &quot;gradients/mean_squared_error/value_grad/tuple/control_dependency&quot;\\n  input: &quot;mean_squared_error/Select&quot;\\n  attr {\\n    key: &quot;T&quot;\\n    value {\\n      type: DT_FLOAT\\n    }\\n  }\\n}\\nnode {\\n  name: &quot;gradients/mean_squared_error/div_grad/Sum&quot;\\n  op: &quot;Sum&quot;\\n  input: &quot;gradients/mean_squared_error/div_grad/RealDiv&quot;\\n  input: &quot;gradients/mean_squared_error/div_grad/BroadcastGradientArgs&quot;\\n  attr {\\n    key: &quot;T&quot;\\n    value {\\n      type: DT_FLOAT\\n    }\\n  }\\n  attr {\\n    key: &quot;Tidx&quot;\\n    value {\\n      type: DT_INT32\\n    }\\n  }\\n  attr {\\n    key: &quot;keep_dims&quot;\\n    value {\\n      b: false\\n    }\\n  }\\n}\\nnode {\\n  name: &quot;gradients/mean_squared_error/div_grad/Reshape&quot;\\n  op: &quot;Reshape&quot;\\n  input: &quot;gradients/mean_squared_error/div_grad/Sum&quot;\\n  input: &quot;gradients/mean_squared_error/div_grad/Shape&quot;\\n  attr {\\n    key: &quot;T&quot;\\n    value {\\n      type: DT_FLOAT\\n    }\\n  }\\n  attr {\\n    key: &quot;Tshape&quot;\\n    value {\\n      type: DT_INT32\\n    }\\n  }\\n}\\nnode {\\n  name: &quot;gradients/mean_squared_error/div_grad/Neg&quot;\\n  op: &quot;Neg&quot;\\n  input: &quot;mean_squared_error/Sum_1&quot;\\n  attr {\\n    key: &quot;T&quot;\\n    value {\\n      type: DT_FLOAT\\n    }\\n  }\\n}\\nnode {\\n  name: &quot;gradients/mean_squared_error/div_grad/RealDiv_1&quot;\\n  op: &quot;RealDiv&quot;\\n  input: &quot;gradients/mean_squared_error/div_grad/Neg&quot;\\n  input: &quot;mean_squared_error/Select&quot;\\n  attr {\\n    key: &quot;T&quot;\\n    value {\\n      type: DT_FLOAT\\n    }\\n  }\\n}\\nnode {\\n  name: &quot;gradients/mean_squared_error/div_grad/RealDiv_2&quot;\\n  op: &quot;RealDiv&quot;\\n  input: &quot;gradients/mean_squared_error/div_grad/RealDiv_1&quot;\\n  input: &quot;mean_squared_error/Select&quot;\\n  attr {\\n    key: &quot;T&quot;\\n    value {\\n      type: DT_FLOAT\\n    }\\n  }\\n}\\nnode {\\n  name: &quot;gradients/mean_squared_error/div_grad/mul&quot;\\n  op: &quot;Mul&quot;\\n  input: &quot;gradients/mean_squared_error/value_grad/tuple/control_dependency&quot;\\n  input: &quot;gradients/mean_squared_error/div_grad/RealDiv_2&quot;\\n  attr {\\n    key: &quot;T&quot;\\n    value {\\n      type: DT_FLOAT\\n    }\\n  }\\n}\\nnode {\\n  name: &quot;gradients/mean_squared_error/div_grad/Sum_1&quot;\\n  op: &quot;Sum&quot;\\n  input: &quot;gradients/mean_squared_error/div_grad/mul&quot;\\n  input: &quot;gradients/mean_squared_error/div_grad/BroadcastGradientArgs:1&quot;\\n  attr {\\n    key: &quot;T&quot;\\n    value {\\n      type: DT_FLOAT\\n    }\\n  }\\n  attr {\\n    key: &quot;Tidx&quot;\\n    value {\\n      type: DT_INT32\\n    }\\n  }\\n  attr {\\n    key: &quot;keep_dims&quot;\\n    value {\\n      b: false\\n    }\\n  }\\n}\\nnode {\\n  name: &quot;gradients/mean_squared_error/div_grad/Reshape_1&quot;\\n  op: &quot;Reshape&quot;\\n  input: &quot;gradients/mean_squared_error/div_grad/Sum_1&quot;\\n  input: &quot;gradients/mean_squared_error/div_grad/Shape_1&quot;\\n  attr {\\n    key: &quot;T&quot;\\n    value {\\n      type: DT_FLOAT\\n    }\\n  }\\n  attr {\\n    key: &quot;Tshape&quot;\\n    value {\\n      type: DT_INT32\\n    }\\n  }\\n}\\nnode {\\n  name: &quot;gradients/mean_squared_error/div_grad/tuple/group_deps&quot;\\n  op: &quot;NoOp&quot;\\n  input: &quot;^gradients/mean_squared_error/div_grad/Reshape&quot;\\n  input: &quot;^gradients/mean_squared_error/div_grad/Reshape_1&quot;\\n}\\nnode {\\n  name: &quot;gradients/mean_squared_error/div_grad/tuple/control_dependency&quot;\\n  op: &quot;Identity&quot;\\n  input: &quot;gradients/mean_squared_error/div_grad/Reshape&quot;\\n  input: &quot;^gradients/mean_squared_error/div_grad/tuple/group_deps&quot;\\n  attr {\\n    key: &quot;T&quot;\\n    value {\\n      type: DT_FLOAT\\n    }\\n  }\\n  attr {\\n    key: &quot;_class&quot;\\n    value {\\n      list {\\n        s: &quot;loc:@gradients/mean_squared_error/div_grad/Reshape&quot;\\n      }\\n    }\\n  }\\n}\\nnode {\\n  name: &quot;gradients/mean_squared_error/div_grad/tuple/control_dependency_1&quot;\\n  op: &quot;Identity&quot;\\n  input: &quot;gradients/mean_squared_error/div_grad/Reshape_1&quot;\\n  input: &quot;^gradients/mean_squared_error/div_grad/tuple/group_deps&quot;\\n  attr {\\n    key: &quot;T&quot;\\n    value {\\n      type: DT_FLOAT\\n    }\\n  }\\n  attr {\\n    key: &quot;_class&quot;\\n    value {\\n      list {\\n        s: &quot;loc:@gradients/mean_squared_error/div_grad/Reshape_1&quot;\\n      }\\n    }\\n  }\\n}\\nnode {\\n  name: &quot;gradients/mean_squared_error/Sum_1_grad/Reshape/shape&quot;\\n  op: &quot;Const&quot;\\n  attr {\\n    key: &quot;dtype&quot;\\n    value {\\n      type: DT_INT32\\n    }\\n  }\\n  attr {\\n    key: &quot;value&quot;\\n    value {\\n      tensor {\\n        dtype: DT_INT32\\n        tensor_shape {\\n          dim {\\n          }\\n        }\\n      }\\n    }\\n  }\\n}\\nnode {\\n  name: &quot;gradients/mean_squared_error/Sum_1_grad/Reshape&quot;\\n  op: &quot;Reshape&quot;\\n  input: &quot;gradients/mean_squared_error/div_grad/tuple/control_dependency&quot;\\n  input: &quot;gradients/mean_squared_error/Sum_1_grad/Reshape/shape&quot;\\n  attr {\\n    key: &quot;T&quot;\\n    value {\\n      type: DT_FLOAT\\n    }\\n  }\\n  attr {\\n    key: &quot;Tshape&quot;\\n    value {\\n      type: DT_INT32\\n    }\\n  }\\n}\\nnode {\\n  name: &quot;gradients/mean_squared_error/Sum_1_grad/Tile/multiples&quot;\\n  op: &quot;Const&quot;\\n  attr {\\n    key: &quot;dtype&quot;\\n    value {\\n      type: DT_INT32\\n    }\\n  }\\n  attr {\\n    key: &quot;value&quot;\\n    value {\\n      tensor {\\n        dtype: DT_INT32\\n        tensor_shape {\\n          dim {\\n          }\\n        }\\n      }\\n    }\\n  }\\n}\\nnode {\\n  name: &quot;gradients/mean_squared_error/Sum_1_grad/Tile&quot;\\n  op: &quot;Tile&quot;\\n  input: &quot;gradients/mean_squared_error/Sum_1_grad/Reshape&quot;\\n  input: &quot;gradients/mean_squared_error/Sum_1_grad/Tile/multiples&quot;\\n  attr {\\n    key: &quot;T&quot;\\n    value {\\n      type: DT_FLOAT\\n    }\\n  }\\n  attr {\\n    key: &quot;Tmultiples&quot;\\n    value {\\n      type: DT_INT32\\n    }\\n  }\\n}\\nnode {\\n  name: &quot;gradients/mean_squared_error/Select_grad/zeros_like&quot;\\n  op: &quot;Const&quot;\\n  attr {\\n    key: &quot;dtype&quot;\\n    value {\\n      type: DT_FLOAT\\n    }\\n  }\\n  attr {\\n    key: &quot;value&quot;\\n    value {\\n      tensor {\\n        dtype: DT_FLOAT\\n        tensor_shape {\\n        }\\n        float_val: 0.0\\n      }\\n    }\\n  }\\n}\\nnode {\\n  name: &quot;gradients/mean_squared_error/Select_grad/Select&quot;\\n  op: &quot;Select&quot;\\n  input: &quot;mean_squared_error/Equal&quot;\\n  input: &quot;gradients/mean_squared_error/div_grad/tuple/control_dependency_1&quot;\\n  input: &quot;gradients/mean_squared_error/Select_grad/zeros_like&quot;\\n  attr {\\n    key: &quot;T&quot;\\n    value {\\n      type: DT_FLOAT\\n    }\\n  }\\n}\\nnode {\\n  name: &quot;gradients/mean_squared_error/Select_grad/Select_1&quot;\\n  op: &quot;Select&quot;\\n  input: &quot;mean_squared_error/Equal&quot;\\n  input: &quot;gradients/mean_squared_error/Select_grad/zeros_like&quot;\\n  input: &quot;gradients/mean_squared_error/div_grad/tuple/control_dependency_1&quot;\\n  attr {\\n    key: &quot;T&quot;\\n    value {\\n      type: DT_FLOAT\\n    }\\n  }\\n}\\nnode {\\n  name: &quot;gradients/mean_squared_error/Select_grad/tuple/group_deps&quot;\\n  op: &quot;NoOp&quot;\\n  input: &quot;^gradients/mean_squared_error/Select_grad/Select&quot;\\n  input: &quot;^gradients/mean_squared_error/Select_grad/Select_1&quot;\\n}\\nnode {\\n  name: &quot;gradients/mean_squared_error/Select_grad/tuple/control_dependency&quot;\\n  op: &quot;Identity&quot;\\n  input: &quot;gradients/mean_squared_error/Select_grad/Select&quot;\\n  input: &quot;^gradients/mean_squared_error/Select_grad/tuple/group_deps&quot;\\n  attr {\\n    key: &quot;T&quot;\\n    value {\\n      type: DT_FLOAT\\n    }\\n  }\\n  attr {\\n    key: &quot;_class&quot;\\n    value {\\n      list {\\n        s: &quot;loc:@gradients/mean_squared_error/Select_grad/Select&quot;\\n      }\\n    }\\n  }\\n}\\nnode {\\n  name: &quot;gradients/mean_squared_error/Select_grad/tuple/control_dependency_1&quot;\\n  op: &quot;Identity&quot;\\n  input: &quot;gradients/mean_squared_error/Select_grad/Select_1&quot;\\n  input: &quot;^gradients/mean_squared_error/Select_grad/tuple/group_deps&quot;\\n  attr {\\n    key: &quot;T&quot;\\n    value {\\n      type: DT_FLOAT\\n    }\\n  }\\n  attr {\\n    key: &quot;_class&quot;\\n    value {\\n      list {\\n        s: &quot;loc:@gradients/mean_squared_error/Select_grad/Select_1&quot;\\n      }\\n    }\\n  }\\n}\\nnode {\\n  name: &quot;gradients/mean_squared_error/Sum_grad/Reshape/shape&quot;\\n  op: &quot;Const&quot;\\n  attr {\\n    key: &quot;dtype&quot;\\n    value {\\n      type: DT_INT32\\n    }\\n  }\\n  attr {\\n    key: &quot;value&quot;\\n    value {\\n      tensor {\\n        dtype: DT_INT32\\n        tensor_shape {\\n          dim {\\n            size: 2\\n          }\\n        }\\n        tensor_content: &quot;\\\\001\\\\000\\\\000\\\\000\\\\001\\\\000\\\\000\\\\000&quot;\\n      }\\n    }\\n  }\\n}\\nnode {\\n  name: &quot;gradients/mean_squared_error/Sum_grad/Reshape&quot;\\n  op: &quot;Reshape&quot;\\n  input: &quot;gradients/mean_squared_error/Sum_1_grad/Tile&quot;\\n  input: &quot;gradients/mean_squared_error/Sum_grad/Reshape/shape&quot;\\n  attr {\\n    key: &quot;T&quot;\\n    value {\\n      type: DT_FLOAT\\n    }\\n  }\\n  attr {\\n    key: &quot;Tshape&quot;\\n    value {\\n      type: DT_INT32\\n    }\\n  }\\n}\\nnode {\\n  name: &quot;gradients/mean_squared_error/Sum_grad/Shape&quot;\\n  op: &quot;Shape&quot;\\n  input: &quot;mean_squared_error/Mul&quot;\\n  attr {\\n    key: &quot;T&quot;\\n    value {\\n      type: DT_FLOAT\\n    }\\n  }\\n  attr {\\n    key: &quot;out_type&quot;\\n    value {\\n      type: DT_INT32\\n    }\\n  }\\n}\\nnode {\\n  name: &quot;gradients/mean_squared_error/Sum_grad/Tile&quot;\\n  op: &quot;Tile&quot;\\n  input: &quot;gradients/mean_squared_error/Sum_grad/Reshape&quot;\\n  input: &quot;gradients/mean_squared_error/Sum_grad/Shape&quot;\\n  attr {\\n    key: &quot;T&quot;\\n    value {\\n      type: DT_FLOAT\\n    }\\n  }\\n  attr {\\n    key: &quot;Tmultiples&quot;\\n    value {\\n      type: DT_INT32\\n    }\\n  }\\n}\\nnode {\\n  name: &quot;gradients/mean_squared_error/Mul_grad/Shape&quot;\\n  op: &quot;Shape&quot;\\n  input: &quot;mean_squared_error/SquaredDifference&quot;\\n  attr {\\n    key: &quot;T&quot;\\n    value {\\n      type: DT_FLOAT\\n    }\\n  }\\n  attr {\\n    key: &quot;out_type&quot;\\n    value {\\n      type: DT_INT32\\n    }\\n  }\\n}\\nnode {\\n  name: &quot;gradients/mean_squared_error/Mul_grad/Shape_1&quot;\\n  op: &quot;Const&quot;\\n  attr {\\n    key: &quot;dtype&quot;\\n    value {\\n      type: DT_INT32\\n    }\\n  }\\n  attr {\\n    key: &quot;value&quot;\\n    value {\\n      tensor {\\n        dtype: DT_INT32\\n        tensor_shape {\\n          dim {\\n          }\\n        }\\n      }\\n    }\\n  }\\n}\\nnode {\\n  name: &quot;gradients/mean_squared_error/Mul_grad/BroadcastGradientArgs&quot;\\n  op: &quot;BroadcastGradientArgs&quot;\\n  input: &quot;gradients/mean_squared_error/Mul_grad/Shape&quot;\\n  input: &quot;gradients/mean_squared_error/Mul_grad/Shape_1&quot;\\n  attr {\\n    key: &quot;T&quot;\\n    value {\\n      type: DT_INT32\\n    }\\n  }\\n}\\nnode {\\n  name: &quot;gradients/mean_squared_error/Mul_grad/mul&quot;\\n  op: &quot;Mul&quot;\\n  input: &quot;gradients/mean_squared_error/Sum_grad/Tile&quot;\\n  input: &quot;mean_squared_error/ToFloat_3/x&quot;\\n  attr {\\n    key: &quot;T&quot;\\n    value {\\n      type: DT_FLOAT\\n    }\\n  }\\n}\\nnode {\\n  name: &quot;gradients/mean_squared_error/Mul_grad/Sum&quot;\\n  op: &quot;Sum&quot;\\n  input: &quot;gradients/mean_squared_error/Mul_grad/mul&quot;\\n  input: &quot;gradients/mean_squared_error/Mul_grad/BroadcastGradientArgs&quot;\\n  attr {\\n    key: &quot;T&quot;\\n    value {\\n      type: DT_FLOAT\\n    }\\n  }\\n  attr {\\n    key: &quot;Tidx&quot;\\n    value {\\n      type: DT_INT32\\n    }\\n  }\\n  attr {\\n    key: &quot;keep_dims&quot;\\n    value {\\n      b: false\\n    }\\n  }\\n}\\nnode {\\n  name: &quot;gradients/mean_squared_error/Mul_grad/Reshape&quot;\\n  op: &quot;Reshape&quot;\\n  input: &quot;gradients/mean_squared_error/Mul_grad/Sum&quot;\\n  input: &quot;gradients/mean_squared_error/Mul_grad/Shape&quot;\\n  attr {\\n    key: &quot;T&quot;\\n    value {\\n      type: DT_FLOAT\\n    }\\n  }\\n  attr {\\n    key: &quot;Tshape&quot;\\n    value {\\n      type: DT_INT32\\n    }\\n  }\\n}\\nnode {\\n  name: &quot;gradients/mean_squared_error/Mul_grad/mul_1&quot;\\n  op: &quot;Mul&quot;\\n  input: &quot;mean_squared_error/SquaredDifference&quot;\\n  input: &quot;gradients/mean_squared_error/Sum_grad/Tile&quot;\\n  attr {\\n    key: &quot;T&quot;\\n    value {\\n      type: DT_FLOAT\\n    }\\n  }\\n}\\nnode {\\n  name: &quot;gradients/mean_squared_error/Mul_grad/Sum_1&quot;\\n  op: &quot;Sum&quot;\\n  input: &quot;gradients/mean_squared_error/Mul_grad/mul_1&quot;\\n  input: &quot;gradients/mean_squared_error/Mul_grad/BroadcastGradientArgs:1&quot;\\n  attr {\\n    key: &quot;T&quot;\\n    value {\\n      type: DT_FLOAT\\n    }\\n  }\\n  attr {\\n    key: &quot;Tidx&quot;\\n    value {\\n      type: DT_INT32\\n    }\\n  }\\n  attr {\\n    key: &quot;keep_dims&quot;\\n    value {\\n      b: false\\n    }\\n  }\\n}\\nnode {\\n  name: &quot;gradients/mean_squared_error/Mul_grad/Reshape_1&quot;\\n  op: &quot;Reshape&quot;\\n  input: &quot;gradients/mean_squared_error/Mul_grad/Sum_1&quot;\\n  input: &quot;gradients/mean_squared_error/Mul_grad/Shape_1&quot;\\n  attr {\\n    key: &quot;T&quot;\\n    value {\\n      type: DT_FLOAT\\n    }\\n  }\\n  attr {\\n    key: &quot;Tshape&quot;\\n    value {\\n      type: DT_INT32\\n    }\\n  }\\n}\\nnode {\\n  name: &quot;gradients/mean_squared_error/Mul_grad/tuple/group_deps&quot;\\n  op: &quot;NoOp&quot;\\n  input: &quot;^gradients/mean_squared_error/Mul_grad/Reshape&quot;\\n  input: &quot;^gradients/mean_squared_error/Mul_grad/Reshape_1&quot;\\n}\\nnode {\\n  name: &quot;gradients/mean_squared_error/Mul_grad/tuple/control_dependency&quot;\\n  op: &quot;Identity&quot;\\n  input: &quot;gradients/mean_squared_error/Mul_grad/Reshape&quot;\\n  input: &quot;^gradients/mean_squared_error/Mul_grad/tuple/group_deps&quot;\\n  attr {\\n    key: &quot;T&quot;\\n    value {\\n      type: DT_FLOAT\\n    }\\n  }\\n  attr {\\n    key: &quot;_class&quot;\\n    value {\\n      list {\\n        s: &quot;loc:@gradients/mean_squared_error/Mul_grad/Reshape&quot;\\n      }\\n    }\\n  }\\n}\\nnode {\\n  name: &quot;gradients/mean_squared_error/Mul_grad/tuple/control_dependency_1&quot;\\n  op: &quot;Identity&quot;\\n  input: &quot;gradients/mean_squared_error/Mul_grad/Reshape_1&quot;\\n  input: &quot;^gradients/mean_squared_error/Mul_grad/tuple/group_deps&quot;\\n  attr {\\n    key: &quot;T&quot;\\n    value {\\n      type: DT_FLOAT\\n    }\\n  }\\n  attr {\\n    key: &quot;_class&quot;\\n    value {\\n      list {\\n        s: &quot;loc:@gradients/mean_squared_error/Mul_grad/Reshape_1&quot;\\n      }\\n    }\\n  }\\n}\\nnode {\\n  name: &quot;gradients/mean_squared_error/num_present_grad/Reshape/shape&quot;\\n  op: &quot;Const&quot;\\n  attr {\\n    key: &quot;dtype&quot;\\n    value {\\n      type: DT_INT32\\n    }\\n  }\\n  attr {\\n    key: &quot;value&quot;\\n    value {\\n      tensor {\\n        dtype: DT_INT32\\n        tensor_shape {\\n          dim {\\n            size: 2\\n          }\\n        }\\n        tensor_content: &quot;\\\\001\\\\000\\\\000\\\\000\\\\001\\\\000\\\\000\\\\000&quot;\\n      }\\n    }\\n  }\\n}\\nnode {\\n  name: &quot;gradients/mean_squared_error/num_present_grad/Reshape&quot;\\n  op: &quot;Reshape&quot;\\n  input: &quot;gradients/mean_squared_error/Select_grad/tuple/control_dependency_1&quot;\\n  input: &quot;gradients/mean_squared_error/num_present_grad/Reshape/shape&quot;\\n  attr {\\n    key: &quot;T&quot;\\n    value {\\n      type: DT_FLOAT\\n    }\\n  }\\n  attr {\\n    key: &quot;Tshape&quot;\\n    value {\\n      type: DT_INT32\\n    }\\n  }\\n}\\nnode {\\n  name: &quot;gradients/mean_squared_error/num_present_grad/Shape&quot;\\n  op: &quot;Shape&quot;\\n  input: &quot;mean_squared_error/num_present/broadcast_weights&quot;\\n  attr {\\n    key: &quot;T&quot;\\n    value {\\n      type: DT_FLOAT\\n    }\\n  }\\n  attr {\\n    key: &quot;out_type&quot;\\n    value {\\n      type: DT_INT32\\n    }\\n  }\\n}\\nnode {\\n  name: &quot;gradients/mean_squared_error/num_present_grad/Tile&quot;\\n  op: &quot;Tile&quot;\\n  input: &quot;gradients/mean_squared_error/num_present_grad/Reshape&quot;\\n  input: &quot;gradients/mean_squared_error/num_present_grad/Shape&quot;\\n  attr {\\n    key: &quot;T&quot;\\n    value {\\n      type: DT_FLOAT\\n    }\\n  }\\n  attr {\\n    key: &quot;Tmultiples&quot;\\n    value {\\n      type: DT_INT32\\n    }\\n  }\\n}\\nnode {\\n  name: &quot;gradients/mean_squared_error/num_present/broadcast_weights_grad/Shape&quot;\\n  op: &quot;Const&quot;\\n  attr {\\n    key: &quot;dtype&quot;\\n    value {\\n      type: DT_INT32\\n    }\\n  }\\n  attr {\\n    key: &quot;value&quot;\\n    value {\\n      tensor {\\n        dtype: DT_INT32\\n        tensor_shape {\\n          dim {\\n          }\\n        }\\n      }\\n    }\\n  }\\n}\\nnode {\\n  name: &quot;gradients/mean_squared_error/num_present/broadcast_weights_grad/Shape_1&quot;\\n  op: &quot;Shape&quot;\\n  input: &quot;mean_squared_error/num_present/broadcast_weights/ones_like&quot;\\n  attr {\\n    key: &quot;T&quot;\\n    value {\\n      type: DT_FLOAT\\n    }\\n  }\\n  attr {\\n    key: &quot;out_type&quot;\\n    value {\\n      type: DT_INT32\\n    }\\n  }\\n}\\nnode {\\n  name: &quot;gradients/mean_squared_error/num_present/broadcast_weights_grad/BroadcastGradientArgs&quot;\\n  op: &quot;BroadcastGradientArgs&quot;\\n  input: &quot;gradients/mean_squared_error/num_present/broadcast_weights_grad/Shape&quot;\\n  input: &quot;gradients/mean_squared_error/num_present/broadcast_weights_grad/Shape_1&quot;\\n  attr {\\n    key: &quot;T&quot;\\n    value {\\n      type: DT_INT32\\n    }\\n  }\\n}\\nnode {\\n  name: &quot;gradients/mean_squared_error/num_present/broadcast_weights_grad/mul&quot;\\n  op: &quot;Mul&quot;\\n  input: &quot;gradients/mean_squared_error/num_present_grad/Tile&quot;\\n  input: &quot;mean_squared_error/num_present/broadcast_weights/ones_like&quot;\\n  attr {\\n    key: &quot;T&quot;\\n    value {\\n      type: DT_FLOAT\\n    }\\n  }\\n}\\nnode {\\n  name: &quot;gradients/mean_squared_error/num_present/broadcast_weights_grad/Sum&quot;\\n  op: &quot;Sum&quot;\\n  input: &quot;gradients/mean_squared_error/num_present/broadcast_weights_grad/mul&quot;\\n  input: &quot;gradients/mean_squared_error/num_present/broadcast_weights_grad/BroadcastGradientArgs&quot;\\n  attr {\\n    key: &quot;T&quot;\\n    value {\\n      type: DT_FLOAT\\n    }\\n  }\\n  attr {\\n    key: &quot;Tidx&quot;\\n    value {\\n      type: DT_INT32\\n    }\\n  }\\n  attr {\\n    key: &quot;keep_dims&quot;\\n    value {\\n      b: false\\n    }\\n  }\\n}\\nnode {\\n  name: &quot;gradients/mean_squared_error/num_present/broadcast_weights_grad/Reshape&quot;\\n  op: &quot;Reshape&quot;\\n  input: &quot;gradients/mean_squared_error/num_present/broadcast_weights_grad/Sum&quot;\\n  input: &quot;gradients/mean_squared_error/num_present/broadcast_weights_grad/Shape&quot;\\n  attr {\\n    key: &quot;T&quot;\\n    value {\\n      type: DT_FLOAT\\n    }\\n  }\\n  attr {\\n    key: &quot;Tshape&quot;\\n    value {\\n      type: DT_INT32\\n    }\\n  }\\n}\\nnode {\\n  name: &quot;gradients/mean_squared_error/num_present/broadcast_weights_grad/mul_1&quot;\\n  op: &quot;Mul&quot;\\n  input: &quot;mean_squared_error/num_present/Select&quot;\\n  input: &quot;gradients/mean_squared_error/num_present_grad/Tile&quot;\\n  attr {\\n    key: &quot;T&quot;\\n    value {\\n      type: DT_FLOAT\\n    }\\n  }\\n}\\nnode {\\n  name: &quot;gradients/mean_squared_error/num_present/broadcast_weights_grad/Sum_1&quot;\\n  op: &quot;Sum&quot;\\n  input: &quot;gradients/mean_squared_error/num_present/broadcast_weights_grad/mul_1&quot;\\n  input: &quot;gradients/mean_squared_error/num_present/broadcast_weights_grad/BroadcastGradientArgs:1&quot;\\n  attr {\\n    key: &quot;T&quot;\\n    value {\\n      type: DT_FLOAT\\n    }\\n  }\\n  attr {\\n    key: &quot;Tidx&quot;\\n    value {\\n      type: DT_INT32\\n    }\\n  }\\n  attr {\\n    key: &quot;keep_dims&quot;\\n    value {\\n      b: false\\n    }\\n  }\\n}\\nnode {\\n  name: &quot;gradients/mean_squared_error/num_present/broadcast_weights_grad/Reshape_1&quot;\\n  op: &quot;Reshape&quot;\\n  input: &quot;gradients/mean_squared_error/num_present/broadcast_weights_grad/Sum_1&quot;\\n  input: &quot;gradients/mean_squared_error/num_present/broadcast_weights_grad/Shape_1&quot;\\n  attr {\\n    key: &quot;T&quot;\\n    value {\\n      type: DT_FLOAT\\n    }\\n  }\\n  attr {\\n    key: &quot;Tshape&quot;\\n    value {\\n      type: DT_INT32\\n    }\\n  }\\n}\\nnode {\\n  name: &quot;gradients/mean_squared_error/num_present/broadcast_weights_grad/tuple/group_deps&quot;\\n  op: &quot;NoOp&quot;\\n  input: &quot;^gradients/mean_squared_error/num_present/broadcast_weights_grad/Reshape&quot;\\n  input: &quot;^gradients/mean_squared_error/num_present/broadcast_weights_grad/Reshape_1&quot;\\n}\\nnode {\\n  name: &quot;gradients/mean_squared_error/num_present/broadcast_weights_grad/tuple/control_dependency&quot;\\n  op: &quot;Identity&quot;\\n  input: &quot;gradients/mean_squared_error/num_present/broadcast_weights_grad/Reshape&quot;\\n  input: &quot;^gradients/mean_squared_error/num_present/broadcast_weights_grad/tuple/group_deps&quot;\\n  attr {\\n    key: &quot;T&quot;\\n    value {\\n      type: DT_FLOAT\\n    }\\n  }\\n  attr {\\n    key: &quot;_class&quot;\\n    value {\\n      list {\\n        s: &quot;loc:@gradients/mean_squared_error/num_present/broadcast_weights_grad/Reshape&quot;\\n      }\\n    }\\n  }\\n}\\nnode {\\n  name: &quot;gradients/mean_squared_error/num_present/broadcast_weights_grad/tuple/control_dependency_1&quot;\\n  op: &quot;Identity&quot;\\n  input: &quot;gradients/mean_squared_error/num_present/broadcast_weights_grad/Reshape_1&quot;\\n  input: &quot;^gradients/mean_squared_error/num_present/broadcast_weights_grad/tuple/group_deps&quot;\\n  attr {\\n    key: &quot;T&quot;\\n    value {\\n      type: DT_FLOAT\\n    }\\n  }\\n  attr {\\n    key: &quot;_class&quot;\\n    value {\\n      list {\\n        s: &quot;loc:@gradients/mean_squared_error/num_present/broadcast_weights_grad/Reshape_1&quot;\\n      }\\n    }\\n  }\\n}\\nnode {\\n  name: &quot;gradients/mean_squared_error/num_present/broadcast_weights/ones_like_grad/Const&quot;\\n  op: &quot;Const&quot;\\n  attr {\\n    key: &quot;dtype&quot;\\n    value {\\n      type: DT_INT32\\n    }\\n  }\\n  attr {\\n    key: &quot;value&quot;\\n    value {\\n      tensor {\\n        dtype: DT_INT32\\n        tensor_shape {\\n          dim {\\n            size: 2\\n          }\\n        }\\n        tensor_content: &quot;\\\\000\\\\000\\\\000\\\\000\\\\001\\\\000\\\\000\\\\000&quot;\\n      }\\n    }\\n  }\\n}\\nnode {\\n  name: &quot;gradients/mean_squared_error/num_present/broadcast_weights/ones_like_grad/Sum&quot;\\n  op: &quot;Sum&quot;\\n  input: &quot;gradients/mean_squared_error/num_present/broadcast_weights_grad/tuple/control_dependency_1&quot;\\n  input: &quot;gradients/mean_squared_error/num_present/broadcast_weights/ones_like_grad/Const&quot;\\n  attr {\\n    key: &quot;T&quot;\\n    value {\\n      type: DT_FLOAT\\n    }\\n  }\\n  attr {\\n    key: &quot;Tidx&quot;\\n    value {\\n      type: DT_INT32\\n    }\\n  }\\n  attr {\\n    key: &quot;keep_dims&quot;\\n    value {\\n      b: false\\n    }\\n  }\\n}\\nnode {\\n  name: &quot;gradients/mean_squared_error/SquaredDifference_grad/Shape&quot;\\n  op: &quot;Shape&quot;\\n  input: &quot;prediction_dense_layer/BiasAdd&quot;\\n  attr {\\n    key: &quot;T&quot;\\n    value {\\n      type: DT_FLOAT\\n    }\\n  }\\n  attr {\\n    key: &quot;out_type&quot;\\n    value {\\n      type: DT_INT32\\n    }\\n  }\\n}\\nnode {\\n  name: &quot;gradients/mean_squared_error/SquaredDifference_grad/Shape_1&quot;\\n  op: &quot;Shape&quot;\\n  input: &quot;userdefinedoutput&quot;\\n  attr {\\n    key: &quot;T&quot;\\n    value {\\n      type: DT_FLOAT\\n    }\\n  }\\n  attr {\\n    key: &quot;out_type&quot;\\n    value {\\n      type: DT_INT32\\n    }\\n  }\\n}\\nnode {\\n  name: &quot;gradients/mean_squared_error/SquaredDifference_grad/BroadcastGradientArgs&quot;\\n  op: &quot;BroadcastGradientArgs&quot;\\n  input: &quot;gradients/mean_squared_error/SquaredDifference_grad/Shape&quot;\\n  input: &quot;gradients/mean_squared_error/SquaredDifference_grad/Shape_1&quot;\\n  attr {\\n    key: &quot;T&quot;\\n    value {\\n      type: DT_INT32\\n    }\\n  }\\n}\\nnode {\\n  name: &quot;gradients/mean_squared_error/SquaredDifference_grad/scalar&quot;\\n  op: &quot;Const&quot;\\n  input: &quot;^gradients/mean_squared_error/Mul_grad/tuple/control_dependency&quot;\\n  attr {\\n    key: &quot;dtype&quot;\\n    value {\\n      type: DT_FLOAT\\n    }\\n  }\\n  attr {\\n    key: &quot;value&quot;\\n    value {\\n      tensor {\\n        dtype: DT_FLOAT\\n        tensor_shape {\\n        }\\n        float_val: 2.0\\n      }\\n    }\\n  }\\n}\\nnode {\\n  name: &quot;gradients/mean_squared_error/SquaredDifference_grad/mul&quot;\\n  op: &quot;Mul&quot;\\n  input: &quot;gradients/mean_squared_error/SquaredDifference_grad/scalar&quot;\\n  input: &quot;gradients/mean_squared_error/Mul_grad/tuple/control_dependency&quot;\\n  attr {\\n    key: &quot;T&quot;\\n    value {\\n      type: DT_FLOAT\\n    }\\n  }\\n}\\nnode {\\n  name: &quot;gradients/mean_squared_error/SquaredDifference_grad/sub&quot;\\n  op: &quot;Sub&quot;\\n  input: &quot;prediction_dense_layer/BiasAdd&quot;\\n  input: &quot;userdefinedoutput&quot;\\n  input: &quot;^gradients/mean_squared_error/Mul_grad/tuple/control_dependency&quot;\\n  attr {\\n    key: &quot;T&quot;\\n    value {\\n      type: DT_FLOAT\\n    }\\n  }\\n}\\nnode {\\n  name: &quot;gradients/mean_squared_error/SquaredDifference_grad/mul_1&quot;\\n  op: &quot;Mul&quot;\\n  input: &quot;gradients/mean_squared_error/SquaredDifference_grad/mul&quot;\\n  input: &quot;gradients/mean_squared_error/SquaredDifference_grad/sub&quot;\\n  attr {\\n    key: &quot;T&quot;\\n    value {\\n      type: DT_FLOAT\\n    }\\n  }\\n}\\nnode {\\n  name: &quot;gradients/mean_squared_error/SquaredDifference_grad/Sum&quot;\\n  op: &quot;Sum&quot;\\n  input: &quot;gradients/mean_squared_error/SquaredDifference_grad/mul_1&quot;\\n  input: &quot;gradients/mean_squared_error/SquaredDifference_grad/BroadcastGradientArgs&quot;\\n  attr {\\n    key: &quot;T&quot;\\n    value {\\n      type: DT_FLOAT\\n    }\\n  }\\n  attr {\\n    key: &quot;Tidx&quot;\\n    value {\\n      type: DT_INT32\\n    }\\n  }\\n  attr {\\n    key: &quot;keep_dims&quot;\\n    value {\\n      b: false\\n    }\\n  }\\n}\\nnode {\\n  name: &quot;gradients/mean_squared_error/SquaredDifference_grad/Reshape&quot;\\n  op: &quot;Reshape&quot;\\n  input: &quot;gradients/mean_squared_error/SquaredDifference_grad/Sum&quot;\\n  input: &quot;gradients/mean_squared_error/SquaredDifference_grad/Shape&quot;\\n  attr {\\n    key: &quot;T&quot;\\n    value {\\n      type: DT_FLOAT\\n    }\\n  }\\n  attr {\\n    key: &quot;Tshape&quot;\\n    value {\\n      type: DT_INT32\\n    }\\n  }\\n}\\nnode {\\n  name: &quot;gradients/mean_squared_error/SquaredDifference_grad/Sum_1&quot;\\n  op: &quot;Sum&quot;\\n  input: &quot;gradients/mean_squared_error/SquaredDifference_grad/mul_1&quot;\\n  input: &quot;gradients/mean_squared_error/SquaredDifference_grad/BroadcastGradientArgs:1&quot;\\n  attr {\\n    key: &quot;T&quot;\\n    value {\\n      type: DT_FLOAT\\n    }\\n  }\\n  attr {\\n    key: &quot;Tidx&quot;\\n    value {\\n      type: DT_INT32\\n    }\\n  }\\n  attr {\\n    key: &quot;keep_dims&quot;\\n    value {\\n      b: false\\n    }\\n  }\\n}\\nnode {\\n  name: &quot;gradients/mean_squared_error/SquaredDifference_grad/Reshape_1&quot;\\n  op: &quot;Reshape&quot;\\n  input: &quot;gradients/mean_squared_error/SquaredDifference_grad/Sum_1&quot;\\n  input: &quot;gradients/mean_squared_error/SquaredDifference_grad/Shape_1&quot;\\n  attr {\\n    key: &quot;T&quot;\\n    value {\\n      type: DT_FLOAT\\n    }\\n  }\\n  attr {\\n    key: &quot;Tshape&quot;\\n    value {\\n      type: DT_INT32\\n    }\\n  }\\n}\\nnode {\\n  name: &quot;gradients/mean_squared_error/SquaredDifference_grad/Neg&quot;\\n  op: &quot;Neg&quot;\\n  input: &quot;gradients/mean_squared_error/SquaredDifference_grad/Reshape_1&quot;\\n  attr {\\n    key: &quot;T&quot;\\n    value {\\n      type: DT_FLOAT\\n    }\\n  }\\n}\\nnode {\\n  name: &quot;gradients/mean_squared_error/SquaredDifference_grad/tuple/group_deps&quot;\\n  op: &quot;NoOp&quot;\\n  input: &quot;^gradients/mean_squared_error/SquaredDifference_grad/Reshape&quot;\\n  input: &quot;^gradients/mean_squared_error/SquaredDifference_grad/Neg&quot;\\n}\\nnode {\\n  name: &quot;gradients/mean_squared_error/SquaredDifference_grad/tuple/control_dependency&quot;\\n  op: &quot;Identity&quot;\\n  input: &quot;gradients/mean_squared_error/SquaredDifference_grad/Reshape&quot;\\n  input: &quot;^gradients/mean_squared_error/SquaredDifference_grad/tuple/group_deps&quot;\\n  attr {\\n    key: &quot;T&quot;\\n    value {\\n      type: DT_FLOAT\\n    }\\n  }\\n  attr {\\n    key: &quot;_class&quot;\\n    value {\\n      list {\\n        s: &quot;loc:@gradients/mean_squared_error/SquaredDifference_grad/Reshape&quot;\\n      }\\n    }\\n  }\\n}\\nnode {\\n  name: &quot;gradients/mean_squared_error/SquaredDifference_grad/tuple/control_dependency_1&quot;\\n  op: &quot;Identity&quot;\\n  input: &quot;gradients/mean_squared_error/SquaredDifference_grad/Neg&quot;\\n  input: &quot;^gradients/mean_squared_error/SquaredDifference_grad/tuple/group_deps&quot;\\n  attr {\\n    key: &quot;T&quot;\\n    value {\\n      type: DT_FLOAT\\n    }\\n  }\\n  attr {\\n    key: &quot;_class&quot;\\n    value {\\n      list {\\n        s: &quot;loc:@gradients/mean_squared_error/SquaredDifference_grad/Neg&quot;\\n      }\\n    }\\n  }\\n}\\nnode {\\n  name: &quot;gradients/prediction_dense_layer/BiasAdd_grad/BiasAddGrad&quot;\\n  op: &quot;BiasAddGrad&quot;\\n  input: &quot;gradients/mean_squared_error/SquaredDifference_grad/tuple/control_dependency&quot;\\n  attr {\\n    key: &quot;T&quot;\\n    value {\\n      type: DT_FLOAT\\n    }\\n  }\\n  attr {\\n    key: &quot;data_format&quot;\\n    value {\\n      s: &quot;NHWC&quot;\\n    }\\n  }\\n}\\nnode {\\n  name: &quot;gradients/prediction_dense_layer/BiasAdd_grad/tuple/group_deps&quot;\\n  op: &quot;NoOp&quot;\\n  input: &quot;^gradients/mean_squared_error/SquaredDifference_grad/tuple/control_dependency&quot;\\n  input: &quot;^gradients/prediction_dense_layer/BiasAdd_grad/BiasAddGrad&quot;\\n}\\nnode {\\n  name: &quot;gradients/prediction_dense_layer/BiasAdd_grad/tuple/control_dependency&quot;\\n  op: &quot;Identity&quot;\\n  input: &quot;gradients/mean_squared_error/SquaredDifference_grad/tuple/control_dependency&quot;\\n  input: &quot;^gradients/prediction_dense_layer/BiasAdd_grad/tuple/group_deps&quot;\\n  attr {\\n    key: &quot;T&quot;\\n    value {\\n      type: DT_FLOAT\\n    }\\n  }\\n  attr {\\n    key: &quot;_class&quot;\\n    value {\\n      list {\\n        s: &quot;loc:@gradients/mean_squared_error/SquaredDifference_grad/Reshape&quot;\\n      }\\n    }\\n  }\\n}\\nnode {\\n  name: &quot;gradients/prediction_dense_layer/BiasAdd_grad/tuple/control_dependency_1&quot;\\n  op: &quot;Identity&quot;\\n  input: &quot;gradients/prediction_dense_layer/BiasAdd_grad/BiasAddGrad&quot;\\n  input: &quot;^gradients/prediction_dense_layer/BiasAdd_grad/tuple/group_deps&quot;\\n  attr {\\n    key: &quot;T&quot;\\n    value {\\n      type: DT_FLOAT\\n    }\\n  }\\n  attr {\\n    key: &quot;_class&quot;\\n    value {\\n      list {\\n        s: &quot;loc:@gradients/prediction_dense_layer/BiasAdd_grad/BiasAddGrad&quot;\\n      }\\n    }\\n  }\\n}\\nnode {\\n  name: &quot;gradients/prediction_dense_layer/MatMul_grad/MatMul&quot;\\n  op: &quot;MatMul&quot;\\n  input: &quot;gradients/prediction_dense_layer/BiasAdd_grad/tuple/control_dependency&quot;\\n  input: &quot;prediction_dense_layer/kernel/read&quot;\\n  attr {\\n    key: &quot;T&quot;\\n    value {\\n      type: DT_FLOAT\\n    }\\n  }\\n  attr {\\n    key: &quot;transpose_a&quot;\\n    value {\\n      b: false\\n    }\\n  }\\n  attr {\\n    key: &quot;transpose_b&quot;\\n    value {\\n      b: true\\n    }\\n  }\\n}\\nnode {\\n  name: &quot;gradients/prediction_dense_layer/MatMul_grad/MatMul_1&quot;\\n  op: &quot;MatMul&quot;\\n  input: &quot;third_dense_layer/Sigmoid&quot;\\n  input: &quot;gradients/prediction_dense_layer/BiasAdd_grad/tuple/control_dependency&quot;\\n  attr {\\n    key: &quot;T&quot;\\n    value {\\n      type: DT_FLOAT\\n    }\\n  }\\n  attr {\\n    key: &quot;transpose_a&quot;\\n    value {\\n      b: true\\n    }\\n  }\\n  attr {\\n    key: &quot;transpose_b&quot;\\n    value {\\n      b: false\\n    }\\n  }\\n}\\nnode {\\n  name: &quot;gradients/prediction_dense_layer/MatMul_grad/tuple/group_deps&quot;\\n  op: &quot;NoOp&quot;\\n  input: &quot;^gradients/prediction_dense_layer/MatMul_grad/MatMul&quot;\\n  input: &quot;^gradients/prediction_dense_layer/MatMul_grad/MatMul_1&quot;\\n}\\nnode {\\n  name: &quot;gradients/prediction_dense_layer/MatMul_grad/tuple/control_dependency&quot;\\n  op: &quot;Identity&quot;\\n  input: &quot;gradients/prediction_dense_layer/MatMul_grad/MatMul&quot;\\n  input: &quot;^gradients/prediction_dense_layer/MatMul_grad/tuple/group_deps&quot;\\n  attr {\\n    key: &quot;T&quot;\\n    value {\\n      type: DT_FLOAT\\n    }\\n  }\\n  attr {\\n    key: &quot;_class&quot;\\n    value {\\n      list {\\n        s: &quot;loc:@gradients/prediction_dense_layer/MatMul_grad/MatMul&quot;\\n      }\\n    }\\n  }\\n}\\nnode {\\n  name: &quot;gradients/prediction_dense_layer/MatMul_grad/tuple/control_dependency_1&quot;\\n  op: &quot;Identity&quot;\\n  input: &quot;gradients/prediction_dense_layer/MatMul_grad/MatMul_1&quot;\\n  input: &quot;^gradients/prediction_dense_layer/MatMul_grad/tuple/group_deps&quot;\\n  attr {\\n    key: &quot;T&quot;\\n    value {\\n      type: DT_FLOAT\\n    }\\n  }\\n  attr {\\n    key: &quot;_class&quot;\\n    value {\\n      list {\\n        s: &quot;loc:@gradients/prediction_dense_layer/MatMul_grad/MatMul_1&quot;\\n      }\\n    }\\n  }\\n}\\nnode {\\n  name: &quot;gradients/third_dense_layer/Sigmoid_grad/SigmoidGrad&quot;\\n  op: &quot;SigmoidGrad&quot;\\n  input: &quot;third_dense_layer/Sigmoid&quot;\\n  input: &quot;gradients/prediction_dense_layer/MatMul_grad/tuple/control_dependency&quot;\\n  attr {\\n    key: &quot;T&quot;\\n    value {\\n      type: DT_FLOAT\\n    }\\n  }\\n}\\nnode {\\n  name: &quot;gradients/third_dense_layer/BiasAdd_grad/BiasAddGrad&quot;\\n  op: &quot;BiasAddGrad&quot;\\n  input: &quot;gradients/third_dense_layer/Sigmoid_grad/SigmoidGrad&quot;\\n  attr {\\n    key: &quot;T&quot;\\n    value {\\n      type: DT_FLOAT\\n    }\\n  }\\n  attr {\\n    key: &quot;data_format&quot;\\n    value {\\n      s: &quot;NHWC&quot;\\n    }\\n  }\\n}\\nnode {\\n  name: &quot;gradients/third_dense_layer/BiasAdd_grad/tuple/group_deps&quot;\\n  op: &quot;NoOp&quot;\\n  input: &quot;^gradients/third_dense_layer/Sigmoid_grad/SigmoidGrad&quot;\\n  input: &quot;^gradients/third_dense_layer/BiasAdd_grad/BiasAddGrad&quot;\\n}\\nnode {\\n  name: &quot;gradients/third_dense_layer/BiasAdd_grad/tuple/control_dependency&quot;\\n  op: &quot;Identity&quot;\\n  input: &quot;gradients/third_dense_layer/Sigmoid_grad/SigmoidGrad&quot;\\n  input: &quot;^gradients/third_dense_layer/BiasAdd_grad/tuple/group_deps&quot;\\n  attr {\\n    key: &quot;T&quot;\\n    value {\\n      type: DT_FLOAT\\n    }\\n  }\\n  attr {\\n    key: &quot;_class&quot;\\n    value {\\n      list {\\n        s: &quot;loc:@gradients/third_dense_layer/Sigmoid_grad/SigmoidGrad&quot;\\n      }\\n    }\\n  }\\n}\\nnode {\\n  name: &quot;gradients/third_dense_layer/BiasAdd_grad/tuple/control_dependency_1&quot;\\n  op: &quot;Identity&quot;\\n  input: &quot;gradients/third_dense_layer/BiasAdd_grad/BiasAddGrad&quot;\\n  input: &quot;^gradients/third_dense_layer/BiasAdd_grad/tuple/group_deps&quot;\\n  attr {\\n    key: &quot;T&quot;\\n    value {\\n      type: DT_FLOAT\\n    }\\n  }\\n  attr {\\n    key: &quot;_class&quot;\\n    value {\\n      list {\\n        s: &quot;loc:@gradients/third_dense_layer/BiasAdd_grad/BiasAddGrad&quot;\\n      }\\n    }\\n  }\\n}\\nnode {\\n  name: &quot;gradients/third_dense_layer/MatMul_grad/MatMul&quot;\\n  op: &quot;MatMul&quot;\\n  input: &quot;gradients/third_dense_layer/BiasAdd_grad/tuple/control_dependency&quot;\\n  input: &quot;third_dense_layer/kernel/read&quot;\\n  attr {\\n    key: &quot;T&quot;\\n    value {\\n      type: DT_FLOAT\\n    }\\n  }\\n  attr {\\n    key: &quot;transpose_a&quot;\\n    value {\\n      b: false\\n    }\\n  }\\n  attr {\\n    key: &quot;transpose_b&quot;\\n    value {\\n      b: true\\n    }\\n  }\\n}\\nnode {\\n  name: &quot;gradients/third_dense_layer/MatMul_grad/MatMul_1&quot;\\n  op: &quot;MatMul&quot;\\n  input: &quot;second_dense_layer/Sigmoid&quot;\\n  input: &quot;gradients/third_dense_layer/BiasAdd_grad/tuple/control_dependency&quot;\\n  attr {\\n    key: &quot;T&quot;\\n    value {\\n      type: DT_FLOAT\\n    }\\n  }\\n  attr {\\n    key: &quot;transpose_a&quot;\\n    value {\\n      b: true\\n    }\\n  }\\n  attr {\\n    key: &quot;transpose_b&quot;\\n    value {\\n      b: false\\n    }\\n  }\\n}\\nnode {\\n  name: &quot;gradients/third_dense_layer/MatMul_grad/tuple/group_deps&quot;\\n  op: &quot;NoOp&quot;\\n  input: &quot;^gradients/third_dense_layer/MatMul_grad/MatMul&quot;\\n  input: &quot;^gradients/third_dense_layer/MatMul_grad/MatMul_1&quot;\\n}\\nnode {\\n  name: &quot;gradients/third_dense_layer/MatMul_grad/tuple/control_dependency&quot;\\n  op: &quot;Identity&quot;\\n  input: &quot;gradients/third_dense_layer/MatMul_grad/MatMul&quot;\\n  input: &quot;^gradients/third_dense_layer/MatMul_grad/tuple/group_deps&quot;\\n  attr {\\n    key: &quot;T&quot;\\n    value {\\n      type: DT_FLOAT\\n    }\\n  }\\n  attr {\\n    key: &quot;_class&quot;\\n    value {\\n      list {\\n        s: &quot;loc:@gradients/third_dense_layer/MatMul_grad/MatMul&quot;\\n      }\\n    }\\n  }\\n}\\nnode {\\n  name: &quot;gradients/third_dense_layer/MatMul_grad/tuple/control_dependency_1&quot;\\n  op: &quot;Identity&quot;\\n  input: &quot;gradients/third_dense_layer/MatMul_grad/MatMul_1&quot;\\n  input: &quot;^gradients/third_dense_layer/MatMul_grad/tuple/group_deps&quot;\\n  attr {\\n    key: &quot;T&quot;\\n    value {\\n      type: DT_FLOAT\\n    }\\n  }\\n  attr {\\n    key: &quot;_class&quot;\\n    value {\\n      list {\\n        s: &quot;loc:@gradients/third_dense_layer/MatMul_grad/MatMul_1&quot;\\n      }\\n    }\\n  }\\n}\\nnode {\\n  name: &quot;gradients/second_dense_layer/Sigmoid_grad/SigmoidGrad&quot;\\n  op: &quot;SigmoidGrad&quot;\\n  input: &quot;second_dense_layer/Sigmoid&quot;\\n  input: &quot;gradients/third_dense_layer/MatMul_grad/tuple/control_dependency&quot;\\n  attr {\\n    key: &quot;T&quot;\\n    value {\\n      type: DT_FLOAT\\n    }\\n  }\\n}\\nnode {\\n  name: &quot;gradients/second_dense_layer/BiasAdd_grad/BiasAddGrad&quot;\\n  op: &quot;BiasAddGrad&quot;\\n  input: &quot;gradients/second_dense_layer/Sigmoid_grad/SigmoidGrad&quot;\\n  attr {\\n    key: &quot;T&quot;\\n    value {\\n      type: DT_FLOAT\\n    }\\n  }\\n  attr {\\n    key: &quot;data_format&quot;\\n    value {\\n      s: &quot;NHWC&quot;\\n    }\\n  }\\n}\\nnode {\\n  name: &quot;gradients/second_dense_layer/BiasAdd_grad/tuple/group_deps&quot;\\n  op: &quot;NoOp&quot;\\n  input: &quot;^gradients/second_dense_layer/Sigmoid_grad/SigmoidGrad&quot;\\n  input: &quot;^gradients/second_dense_layer/BiasAdd_grad/BiasAddGrad&quot;\\n}\\nnode {\\n  name: &quot;gradients/second_dense_layer/BiasAdd_grad/tuple/control_dependency&quot;\\n  op: &quot;Identity&quot;\\n  input: &quot;gradients/second_dense_layer/Sigmoid_grad/SigmoidGrad&quot;\\n  input: &quot;^gradients/second_dense_layer/BiasAdd_grad/tuple/group_deps&quot;\\n  attr {\\n    key: &quot;T&quot;\\n    value {\\n      type: DT_FLOAT\\n    }\\n  }\\n  attr {\\n    key: &quot;_class&quot;\\n    value {\\n      list {\\n        s: &quot;loc:@gradients/second_dense_layer/Sigmoid_grad/SigmoidGrad&quot;\\n      }\\n    }\\n  }\\n}\\nnode {\\n  name: &quot;gradients/second_dense_layer/BiasAdd_grad/tuple/control_dependency_1&quot;\\n  op: &quot;Identity&quot;\\n  input: &quot;gradients/second_dense_layer/BiasAdd_grad/BiasAddGrad&quot;\\n  input: &quot;^gradients/second_dense_layer/BiasAdd_grad/tuple/group_deps&quot;\\n  attr {\\n    key: &quot;T&quot;\\n    value {\\n      type: DT_FLOAT\\n    }\\n  }\\n  attr {\\n    key: &quot;_class&quot;\\n    value {\\n      list {\\n        s: &quot;loc:@gradients/second_dense_layer/BiasAdd_grad/BiasAddGrad&quot;\\n      }\\n    }\\n  }\\n}\\nnode {\\n  name: &quot;gradients/second_dense_layer/MatMul_grad/MatMul&quot;\\n  op: &quot;MatMul&quot;\\n  input: &quot;gradients/second_dense_layer/BiasAdd_grad/tuple/control_dependency&quot;\\n  input: &quot;second_dense_layer/kernel/read&quot;\\n  attr {\\n    key: &quot;T&quot;\\n    value {\\n      type: DT_FLOAT\\n    }\\n  }\\n  attr {\\n    key: &quot;transpose_a&quot;\\n    value {\\n      b: false\\n    }\\n  }\\n  attr {\\n    key: &quot;transpose_b&quot;\\n    value {\\n      b: true\\n    }\\n  }\\n}\\nnode {\\n  name: &quot;gradients/second_dense_layer/MatMul_grad/MatMul_1&quot;\\n  op: &quot;MatMul&quot;\\n  input: &quot;first_dense_layer/Sigmoid&quot;\\n  input: &quot;gradients/second_dense_layer/BiasAdd_grad/tuple/control_dependency&quot;\\n  attr {\\n    key: &quot;T&quot;\\n    value {\\n      type: DT_FLOAT\\n    }\\n  }\\n  attr {\\n    key: &quot;transpose_a&quot;\\n    value {\\n      b: true\\n    }\\n  }\\n  attr {\\n    key: &quot;transpose_b&quot;\\n    value {\\n      b: false\\n    }\\n  }\\n}\\nnode {\\n  name: &quot;gradients/second_dense_layer/MatMul_grad/tuple/group_deps&quot;\\n  op: &quot;NoOp&quot;\\n  input: &quot;^gradients/second_dense_layer/MatMul_grad/MatMul&quot;\\n  input: &quot;^gradients/second_dense_layer/MatMul_grad/MatMul_1&quot;\\n}\\nnode {\\n  name: &quot;gradients/second_dense_layer/MatMul_grad/tuple/control_dependency&quot;\\n  op: &quot;Identity&quot;\\n  input: &quot;gradients/second_dense_layer/MatMul_grad/MatMul&quot;\\n  input: &quot;^gradients/second_dense_layer/MatMul_grad/tuple/group_deps&quot;\\n  attr {\\n    key: &quot;T&quot;\\n    value {\\n      type: DT_FLOAT\\n    }\\n  }\\n  attr {\\n    key: &quot;_class&quot;\\n    value {\\n      list {\\n        s: &quot;loc:@gradients/second_dense_layer/MatMul_grad/MatMul&quot;\\n      }\\n    }\\n  }\\n}\\nnode {\\n  name: &quot;gradients/second_dense_layer/MatMul_grad/tuple/control_dependency_1&quot;\\n  op: &quot;Identity&quot;\\n  input: &quot;gradients/second_dense_layer/MatMul_grad/MatMul_1&quot;\\n  input: &quot;^gradients/second_dense_layer/MatMul_grad/tuple/group_deps&quot;\\n  attr {\\n    key: &quot;T&quot;\\n    value {\\n      type: DT_FLOAT\\n    }\\n  }\\n  attr {\\n    key: &quot;_class&quot;\\n    value {\\n      list {\\n        s: &quot;loc:@gradients/second_dense_layer/MatMul_grad/MatMul_1&quot;\\n      }\\n    }\\n  }\\n}\\nnode {\\n  name: &quot;gradients/first_dense_layer/Sigmoid_grad/SigmoidGrad&quot;\\n  op: &quot;SigmoidGrad&quot;\\n  input: &quot;first_dense_layer/Sigmoid&quot;\\n  input: &quot;gradients/second_dense_layer/MatMul_grad/tuple/control_dependency&quot;\\n  attr {\\n    key: &quot;T&quot;\\n    value {\\n      type: DT_FLOAT\\n    }\\n  }\\n}\\nnode {\\n  name: &quot;gradients/first_dense_layer/BiasAdd_grad/BiasAddGrad&quot;\\n  op: &quot;BiasAddGrad&quot;\\n  input: &quot;gradients/first_dense_layer/Sigmoid_grad/SigmoidGrad&quot;\\n  attr {\\n    key: &quot;T&quot;\\n    value {\\n      type: DT_FLOAT\\n    }\\n  }\\n  attr {\\n    key: &quot;data_format&quot;\\n    value {\\n      s: &quot;NHWC&quot;\\n    }\\n  }\\n}\\nnode {\\n  name: &quot;gradients/first_dense_layer/BiasAdd_grad/tuple/group_deps&quot;\\n  op: &quot;NoOp&quot;\\n  input: &quot;^gradients/first_dense_layer/Sigmoid_grad/SigmoidGrad&quot;\\n  input: &quot;^gradients/first_dense_layer/BiasAdd_grad/BiasAddGrad&quot;\\n}\\nnode {\\n  name: &quot;gradients/first_dense_layer/BiasAdd_grad/tuple/control_dependency&quot;\\n  op: &quot;Identity&quot;\\n  input: &quot;gradients/first_dense_layer/Sigmoid_grad/SigmoidGrad&quot;\\n  input: &quot;^gradients/first_dense_layer/BiasAdd_grad/tuple/group_deps&quot;\\n  attr {\\n    key: &quot;T&quot;\\n    value {\\n      type: DT_FLOAT\\n    }\\n  }\\n  attr {\\n    key: &quot;_class&quot;\\n    value {\\n      list {\\n        s: &quot;loc:@gradients/first_dense_layer/Sigmoid_grad/SigmoidGrad&quot;\\n      }\\n    }\\n  }\\n}\\nnode {\\n  name: &quot;gradients/first_dense_layer/BiasAdd_grad/tuple/control_dependency_1&quot;\\n  op: &quot;Identity&quot;\\n  input: &quot;gradients/first_dense_layer/BiasAdd_grad/BiasAddGrad&quot;\\n  input: &quot;^gradients/first_dense_layer/BiasAdd_grad/tuple/group_deps&quot;\\n  attr {\\n    key: &quot;T&quot;\\n    value {\\n      type: DT_FLOAT\\n    }\\n  }\\n  attr {\\n    key: &quot;_class&quot;\\n    value {\\n      list {\\n        s: &quot;loc:@gradients/first_dense_layer/BiasAdd_grad/BiasAddGrad&quot;\\n      }\\n    }\\n  }\\n}\\nnode {\\n  name: &quot;gradients/first_dense_layer/MatMul_grad/MatMul&quot;\\n  op: &quot;MatMul&quot;\\n  input: &quot;gradients/first_dense_layer/BiasAdd_grad/tuple/control_dependency&quot;\\n  input: &quot;first_dense_layer/kernel/read&quot;\\n  attr {\\n    key: &quot;T&quot;\\n    value {\\n      type: DT_FLOAT\\n    }\\n  }\\n  attr {\\n    key: &quot;transpose_a&quot;\\n    value {\\n      b: false\\n    }\\n  }\\n  attr {\\n    key: &quot;transpose_b&quot;\\n    value {\\n      b: true\\n    }\\n  }\\n}\\nnode {\\n  name: &quot;gradients/first_dense_layer/MatMul_grad/MatMul_1&quot;\\n  op: &quot;MatMul&quot;\\n  input: &quot;inputplaceholder&quot;\\n  input: &quot;gradients/first_dense_layer/BiasAdd_grad/tuple/control_dependency&quot;\\n  attr {\\n    key: &quot;T&quot;\\n    value {\\n      type: DT_FLOAT\\n    }\\n  }\\n  attr {\\n    key: &quot;transpose_a&quot;\\n    value {\\n      b: true\\n    }\\n  }\\n  attr {\\n    key: &quot;transpose_b&quot;\\n    value {\\n      b: false\\n    }\\n  }\\n}\\nnode {\\n  name: &quot;gradients/first_dense_layer/MatMul_grad/tuple/group_deps&quot;\\n  op: &quot;NoOp&quot;\\n  input: &quot;^gradients/first_dense_layer/MatMul_grad/MatMul&quot;\\n  input: &quot;^gradients/first_dense_layer/MatMul_grad/MatMul_1&quot;\\n}\\nnode {\\n  name: &quot;gradients/first_dense_layer/MatMul_grad/tuple/control_dependency&quot;\\n  op: &quot;Identity&quot;\\n  input: &quot;gradients/first_dense_layer/MatMul_grad/MatMul&quot;\\n  input: &quot;^gradients/first_dense_layer/MatMul_grad/tuple/group_deps&quot;\\n  attr {\\n    key: &quot;T&quot;\\n    value {\\n      type: DT_FLOAT\\n    }\\n  }\\n  attr {\\n    key: &quot;_class&quot;\\n    value {\\n      list {\\n        s: &quot;loc:@gradients/first_dense_layer/MatMul_grad/MatMul&quot;\\n      }\\n    }\\n  }\\n}\\nnode {\\n  name: &quot;gradients/first_dense_layer/MatMul_grad/tuple/control_dependency_1&quot;\\n  op: &quot;Identity&quot;\\n  input: &quot;gradients/first_dense_layer/MatMul_grad/MatMul_1&quot;\\n  input: &quot;^gradients/first_dense_layer/MatMul_grad/tuple/group_deps&quot;\\n  attr {\\n    key: &quot;T&quot;\\n    value {\\n      type: DT_FLOAT\\n    }\\n  }\\n  attr {\\n    key: &quot;_class&quot;\\n    value {\\n      list {\\n        s: &quot;loc:@gradients/first_dense_layer/MatMul_grad/MatMul_1&quot;\\n      }\\n    }\\n  }\\n}\\nnode {\\n  name: &quot;GradientDescent/learning_rate&quot;\\n  op: &quot;Const&quot;\\n  attr {\\n    key: &quot;dtype&quot;\\n    value {\\n      type: DT_FLOAT\\n    }\\n  }\\n  attr {\\n    key: &quot;value&quot;\\n    value {\\n      tensor {\\n        dtype: DT_FLOAT\\n        tensor_shape {\\n        }\\n        float_val: 0.0005000000237487257\\n      }\\n    }\\n  }\\n}\\nnode {\\n  name: &quot;GradientDescent/update_first_dense_layer/kernel/ApplyGradientDescent&quot;\\n  op: &quot;ApplyGradientDescent&quot;\\n  input: &quot;first_dense_layer/kernel&quot;\\n  input: &quot;GradientDescent/learning_rate&quot;\\n  input: &quot;gradients/first_dense_layer/MatMul_grad/tuple/control_dependency_1&quot;\\n  attr {\\n    key: &quot;T&quot;\\n    value {\\n      type: DT_FLOAT\\n    }\\n  }\\n  attr {\\n    key: &quot;_class&quot;\\n    value {\\n      list {\\n        s: &quot;loc:@first_dense_layer/kernel&quot;\\n      }\\n    }\\n  }\\n  attr {\\n    key: &quot;use_locking&quot;\\n    value {\\n      b: false\\n    }\\n  }\\n}\\nnode {\\n  name: &quot;GradientDescent/update_first_dense_layer/bias/ApplyGradientDescent&quot;\\n  op: &quot;ApplyGradientDescent&quot;\\n  input: &quot;first_dense_layer/bias&quot;\\n  input: &quot;GradientDescent/learning_rate&quot;\\n  input: &quot;gradients/first_dense_layer/BiasAdd_grad/tuple/control_dependency_1&quot;\\n  attr {\\n    key: &quot;T&quot;\\n    value {\\n      type: DT_FLOAT\\n    }\\n  }\\n  attr {\\n    key: &quot;_class&quot;\\n    value {\\n      list {\\n        s: &quot;loc:@first_dense_layer/bias&quot;\\n      }\\n    }\\n  }\\n  attr {\\n    key: &quot;use_locking&quot;\\n    value {\\n      b: false\\n    }\\n  }\\n}\\nnode {\\n  name: &quot;GradientDescent/update_second_dense_layer/kernel/ApplyGradientDescent&quot;\\n  op: &quot;ApplyGradientDescent&quot;\\n  input: &quot;second_dense_layer/kernel&quot;\\n  input: &quot;GradientDescent/learning_rate&quot;\\n  input: &quot;gradients/second_dense_layer/MatMul_grad/tuple/control_dependency_1&quot;\\n  attr {\\n    key: &quot;T&quot;\\n    value {\\n      type: DT_FLOAT\\n    }\\n  }\\n  attr {\\n    key: &quot;_class&quot;\\n    value {\\n      list {\\n        s: &quot;loc:@second_dense_layer/kernel&quot;\\n      }\\n    }\\n  }\\n  attr {\\n    key: &quot;use_locking&quot;\\n    value {\\n      b: false\\n    }\\n  }\\n}\\nnode {\\n  name: &quot;GradientDescent/update_second_dense_layer/bias/ApplyGradientDescent&quot;\\n  op: &quot;ApplyGradientDescent&quot;\\n  input: &quot;second_dense_layer/bias&quot;\\n  input: &quot;GradientDescent/learning_rate&quot;\\n  input: &quot;gradients/second_dense_layer/BiasAdd_grad/tuple/control_dependency_1&quot;\\n  attr {\\n    key: &quot;T&quot;\\n    value {\\n      type: DT_FLOAT\\n    }\\n  }\\n  attr {\\n    key: &quot;_class&quot;\\n    value {\\n      list {\\n        s: &quot;loc:@second_dense_layer/bias&quot;\\n      }\\n    }\\n  }\\n  attr {\\n    key: &quot;use_locking&quot;\\n    value {\\n      b: false\\n    }\\n  }\\n}\\nnode {\\n  name: &quot;GradientDescent/update_third_dense_layer/kernel/ApplyGradientDescent&quot;\\n  op: &quot;ApplyGradientDescent&quot;\\n  input: &quot;third_dense_layer/kernel&quot;\\n  input: &quot;GradientDescent/learning_rate&quot;\\n  input: &quot;gradients/third_dense_layer/MatMul_grad/tuple/control_dependency_1&quot;\\n  attr {\\n    key: &quot;T&quot;\\n    value {\\n      type: DT_FLOAT\\n    }\\n  }\\n  attr {\\n    key: &quot;_class&quot;\\n    value {\\n      list {\\n        s: &quot;loc:@third_dense_layer/kernel&quot;\\n      }\\n    }\\n  }\\n  attr {\\n    key: &quot;use_locking&quot;\\n    value {\\n      b: false\\n    }\\n  }\\n}\\nnode {\\n  name: &quot;GradientDescent/update_third_dense_layer/bias/ApplyGradientDescent&quot;\\n  op: &quot;ApplyGradientDescent&quot;\\n  input: &quot;third_dense_layer/bias&quot;\\n  input: &quot;GradientDescent/learning_rate&quot;\\n  input: &quot;gradients/third_dense_layer/BiasAdd_grad/tuple/control_dependency_1&quot;\\n  attr {\\n    key: &quot;T&quot;\\n    value {\\n      type: DT_FLOAT\\n    }\\n  }\\n  attr {\\n    key: &quot;_class&quot;\\n    value {\\n      list {\\n        s: &quot;loc:@third_dense_layer/bias&quot;\\n      }\\n    }\\n  }\\n  attr {\\n    key: &quot;use_locking&quot;\\n    value {\\n      b: false\\n    }\\n  }\\n}\\nnode {\\n  name: &quot;GradientDescent/update_prediction_dense_layer/kernel/ApplyGradientDescent&quot;\\n  op: &quot;ApplyGradientDescent&quot;\\n  input: &quot;prediction_dense_layer/kernel&quot;\\n  input: &quot;GradientDescent/learning_rate&quot;\\n  input: &quot;gradients/prediction_dense_layer/MatMul_grad/tuple/control_dependency_1&quot;\\n  attr {\\n    key: &quot;T&quot;\\n    value {\\n      type: DT_FLOAT\\n    }\\n  }\\n  attr {\\n    key: &quot;_class&quot;\\n    value {\\n      list {\\n        s: &quot;loc:@prediction_dense_layer/kernel&quot;\\n      }\\n    }\\n  }\\n  attr {\\n    key: &quot;use_locking&quot;\\n    value {\\n      b: false\\n    }\\n  }\\n}\\nnode {\\n  name: &quot;GradientDescent/update_prediction_dense_layer/bias/ApplyGradientDescent&quot;\\n  op: &quot;ApplyGradientDescent&quot;\\n  input: &quot;prediction_dense_layer/bias&quot;\\n  input: &quot;GradientDescent/learning_rate&quot;\\n  input: &quot;gradients/prediction_dense_layer/BiasAdd_grad/tuple/control_dependency_1&quot;\\n  attr {\\n    key: &quot;T&quot;\\n    value {\\n      type: DT_FLOAT\\n    }\\n  }\\n  attr {\\n    key: &quot;_class&quot;\\n    value {\\n      list {\\n        s: &quot;loc:@prediction_dense_layer/bias&quot;\\n      }\\n    }\\n  }\\n  attr {\\n    key: &quot;use_locking&quot;\\n    value {\\n      b: false\\n    }\\n  }\\n}\\nnode {\\n  name: &quot;GradientDescent&quot;\\n  op: &quot;NoOp&quot;\\n  input: &quot;^GradientDescent/update_first_dense_layer/kernel/ApplyGradientDescent&quot;\\n  input: &quot;^GradientDescent/update_first_dense_layer/bias/ApplyGradientDescent&quot;\\n  input: &quot;^GradientDescent/update_second_dense_layer/kernel/ApplyGradientDescent&quot;\\n  input: &quot;^GradientDescent/update_second_dense_layer/bias/ApplyGradientDescent&quot;\\n  input: &quot;^GradientDescent/update_third_dense_layer/kernel/ApplyGradientDescent&quot;\\n  input: &quot;^GradientDescent/update_third_dense_layer/bias/ApplyGradientDescent&quot;\\n  input: &quot;^GradientDescent/update_prediction_dense_layer/kernel/ApplyGradientDescent&quot;\\n  input: &quot;^GradientDescent/update_prediction_dense_layer/bias/ApplyGradientDescent&quot;\\n}\\n';\n",
       "          }\n",
       "        </script>\n",
       "        <link rel=&quot;import&quot; href=&quot;https://tensorboard.appspot.com/tf-graph-basic.build.html&quot; onload=load()>\n",
       "        <div style=&quot;height:600px&quot;>\n",
       "          <tf-graph-basic id=&quot;graph0.2078397741075152&quot;></tf-graph-basic>\n",
       "        </div>\n",
       "    \"></iframe>\n",
       "    "
      ],
      "text/plain": [
       "<IPython.core.display.HTML object>"
      ]
     },
     "metadata": {},
     "output_type": "display_data"
    }
   ],
   "source": [
    "show_graph(tf.get_default_graph().as_graph_def())\n"
   ]
  },
  {
   "cell_type": "markdown",
   "metadata": {},
   "source": [
    "## Video 4: improving the network by understanding the activation function\n",
    "\n"
   ]
  },
  {
   "cell_type": "markdown",
   "metadata": {},
   "source": [
    "### Deep neural network\n",
    "So far we only made a two-layer neural network. You probably heard about \"deep neural networks\", which means people found out that often by adding more layers in a smart way you can get even better error scores. Let's try to create a four-layer neural network, and see if this improves our error. We start by copying our network and adding layers to it. \n",
    "\n",
    "Note one big change: I define a variable for the activation function which we will tweak later!"
   ]
  },
  {
   "cell_type": "code",
   "execution_count": 32,
   "metadata": {},
   "outputs": [
    {
     "name": "stdout",
     "output_type": "stream",
     "text": [
      "Tensor(\"first_dense_layer/Sigmoid:0\", shape=(?, 512), dtype=float32)\n",
      "Tensor(\"prediction_dense_layer/BiasAdd:0\", shape=(?, 1), dtype=float32)\n",
      "Tensor(\"mean_squared_error/value:0\", shape=(), dtype=float32)\n",
      "Optimizer: --------\n",
      "name: \"GradientDescent\"\n",
      "op: \"NoOp\"\n",
      "input: \"^GradientDescent/update_first_dense_layer/kernel/ApplyGradientDescent\"\n",
      "input: \"^GradientDescent/update_first_dense_layer/bias/ApplyGradientDescent\"\n",
      "input: \"^GradientDescent/update_second_dense_layer/kernel/ApplyGradientDescent\"\n",
      "input: \"^GradientDescent/update_second_dense_layer/bias/ApplyGradientDescent\"\n",
      "input: \"^GradientDescent/update_third_dense_layer/kernel/ApplyGradientDescent\"\n",
      "input: \"^GradientDescent/update_third_dense_layer/bias/ApplyGradientDescent\"\n",
      "input: \"^GradientDescent/update_prediction_dense_layer/kernel/ApplyGradientDescent\"\n",
      "input: \"^GradientDescent/update_prediction_dense_layer/bias/ApplyGradientDescent\"\n",
      "\n"
     ]
    }
   ],
   "source": [
    "LEARNING_RATE = 0.0005\n",
    "ACTIVATION_FUNCTION = activation=tf.nn.sigmoid\n",
    "\n",
    "tf.reset_default_graph()\n",
    "input_pl = tf.placeholder(dtype=tf.float32, shape=[None, 1275], name=\"inputplaceholder\")\n",
    "output_pl = tf.placeholder(dtype=tf.float32, shape=[None, 1], name=\"userdefinedoutput\")\n",
    "\n",
    "dense = tf.layers.dense(inputs=input_pl, units=512, activation=ACTIVATION_FUNCTION, name=\"first_dense_layer\")\n",
    "dense2 = tf.layers.dense(inputs=dense, units=256, activation=ACTIVATION_FUNCTION, name=\"second_dense_layer\")\n",
    "dense3 = tf.layers.dense(inputs=dense2, units=64, activation=ACTIVATION_FUNCTION, name=\"third_dense_layer\")\n",
    "network_prediction = tf.layers.dense(inputs=dense3, units=1, activation=None, name=\"prediction_dense_layer\")\n",
    "\n",
    "loss = tf.losses.mean_squared_error(output_pl,network_prediction)\n",
    "optimizer = tf.train.GradientDescentOptimizer(LEARNING_RATE).minimize(loss)"
   ]
  },
  {
   "cell_type": "code",
   "execution_count": 45,
   "metadata": {},
   "outputs": [
    {
     "name": "stdout",
     "output_type": "stream",
     "text": [
      "name: \"init_7\"\n",
      "op: \"NoOp\"\n",
      "input: \"^first_dense_layer/kernel/Assign\"\n",
      "input: \"^first_dense_layer/bias/Assign\"\n",
      "input: \"^second_dense_layer/kernel/Assign\"\n",
      "input: \"^second_dense_layer/bias/Assign\"\n",
      "input: \"^third_dense_layer/kernel/Assign\"\n",
      "input: \"^third_dense_layer/bias/Assign\"\n",
      "input: \"^prediction_dense_layer/kernel/Assign\"\n",
      "input: \"^prediction_dense_layer/bias/Assign\"\n",
      "\n",
      "&&&BLAAT&&\n"
     ]
    },
    {
     "data": {
      "image/png": "[encoded data removed]",
      "text/plain": [
       "<matplotlib.figure.Figure at 0x7f919e551e48>"
      ]
     },
     "metadata": {},
     "output_type": "display_data"
    },
    {
     "name": "stdout",
     "output_type": "stream",
     "text": [
      "Evaluating trainset with preprocessing\n",
      "Loss dataset: 0.105986\n"
     ]
    },
    {
     "data": {
      "image/png": "[encoded data removed]",
      "text/plain": [
       "<matplotlib.figure.Figure at 0x7f919c3cd080>"
      ]
     },
     "metadata": {},
     "output_type": "display_data"
    },
    {
     "name": "stdout",
     "output_type": "stream",
     "text": [
      "Evaluating testset with preprocessing\n",
      "Loss dataset: 0.103821\n"
     ]
    },
    {
     "data": {
      "image/png": "[encoded data removed]",
      "text/plain": [
       "<matplotlib.figure.Figure at 0x7f919e661978>"
      ]
     },
     "metadata": {},
     "output_type": "display_data"
    },
    {
     "name": "stdout",
     "output_type": "stream",
     "text": [
      "MSE: 1.39895222804\n"
     ]
    }
   ],
   "source": [
    "\n",
    "sess = tf.Session()\n",
    "\n",
    "losses_norm = reset_and_train_network(sess,scaled_trainset,\n",
    "                                      scaled_train_out,\n",
    "                                      64, \n",
    "                                        10000,\n",
    "                                        optimizer, \n",
    "                                        input_pl, \n",
    "                                        output_pl,\n",
    "                                        loss,\n",
    "                                        verbose=False)\n",
    "\n",
    "\n",
    "plt.plot(losses_norm[10:])\n",
    "plt.show()\n",
    "\n",
    "## Evaluate the trainset after preprocessing and the testset after preprocessing\n",
    "print(\"Evaluating trainset with preprocessing\")\n",
    "evaluate_network(sess,scaled_trainset, scaled_train_out, network_prediction, input_pl, output_pl, loss)\n",
    "print(\"Evaluating testset with preprocessing\")\n",
    "evaluate_network(sess,scaled_testset, scaled_test_out, network_prediction, input_pl, output_pl, loss)\n",
    "\n",
    "\n",
    "from sklearn.metrics import mean_squared_error\n",
    "\n",
    "## Predict the ground energy of each molecule\n",
    "datasetY2 = [[x] for x in Y_test]\n",
    "predicted_values = sess.run(network_prediction, feed_dict={input_pl: scaled_testset})\n",
    "\n",
    "## Scale these values back, and calculate the MSE\n",
    "inversed_predicted_values = outputscaler.inverse_transform(predicted_values)\n",
    "mse = mean_squared_error(inversed_predicted_values, datasetY2)\n",
    "print(\"MSE: \" + str(mse))"
   ]
  },
  {
   "cell_type": "markdown",
   "metadata": {},
   "source": [
    "### Result: lower MSE\n",
    "As you can see we now have a way lower mean squared error. Now our goal is to minimize this even further. If you look at the dots we plotted with the predicted there is a strange pattern, which I think we can remove by selecting a different activation function. Let's try it: \n"
   ]
  },
  {
   "cell_type": "code",
   "execution_count": 47,
   "metadata": {},
   "outputs": [
    {
     "name": "stdout",
     "output_type": "stream",
     "text": [
      "Tensor(\"first_dense_layer/Relu:0\", shape=(?, 512), dtype=float32)\n",
      "Tensor(\"prediction_dense_layer/BiasAdd:0\", shape=(?, 1), dtype=float32)\n",
      "Tensor(\"mean_squared_error/value:0\", shape=(), dtype=float32)\n",
      "Optimizer: --------\n",
      "name: \"GradientDescent\"\n",
      "op: \"NoOp\"\n",
      "input: \"^GradientDescent/update_first_dense_layer/kernel/ApplyGradientDescent\"\n",
      "input: \"^GradientDescent/update_first_dense_layer/bias/ApplyGradientDescent\"\n",
      "input: \"^GradientDescent/update_second_dense_layer/kernel/ApplyGradientDescent\"\n",
      "input: \"^GradientDescent/update_second_dense_layer/bias/ApplyGradientDescent\"\n",
      "input: \"^GradientDescent/update_third_dense_layer/kernel/ApplyGradientDescent\"\n",
      "input: \"^GradientDescent/update_third_dense_layer/bias/ApplyGradientDescent\"\n",
      "input: \"^GradientDescent/update_prediction_dense_layer/kernel/ApplyGradientDescent\"\n",
      "input: \"^GradientDescent/update_prediction_dense_layer/bias/ApplyGradientDescent\"\n",
      "\n"
     ]
    }
   ],
   "source": [
    "LEARNING_RATE = 0.0005\n",
    "ACTIVATION_FUNCTION = activation=tf.nn.relu\n",
    "\n",
    "tf.reset_default_graph()\n",
    "input_pl = tf.placeholder(dtype=tf.float32, shape=[None, 1275], name=\"inputplaceholder\")\n",
    "output_pl = tf.placeholder(dtype=tf.float32, shape=[None, 1], name=\"userdefinedoutput\")\n",
    "\n",
    "dense = tf.layers.dense(inputs=input_pl, units=512, activation=ACTIVATION_FUNCTION, name=\"first_dense_layer\")\n",
    "dense2 = tf.layers.dense(inputs=dense, units=256, activation=ACTIVATION_FUNCTION, name=\"second_dense_layer\")\n",
    "dense3 = tf.layers.dense(inputs=dense2, units=64, activation=ACTIVATION_FUNCTION, name=\"third_dense_layer\")\n",
    "network_prediction = tf.layers.dense(inputs=dense3, units=1, activation=None, name=\"prediction_dense_layer\")\n",
    "\n",
    "loss = tf.losses.mean_squared_error(output_pl,network_prediction)\n",
    "optimizer = tf.train.GradientDescentOptimizer(LEARNING_RATE).minimize(loss)"
   ]
  },
  {
   "cell_type": "code",
   "execution_count": 53,
   "metadata": {},
   "outputs": [
    {
     "data": {
      "image/png": "[encoded data removed]",
      "text/plain": [
       "<matplotlib.figure.Figure at 0x7f919e6584e0>"
      ]
     },
     "metadata": {},
     "output_type": "display_data"
    },
    {
     "name": "stdout",
     "output_type": "stream",
     "text": [
      "Evaluating trainset with preprocessing\n",
      "Loss dataset: 0.0228764\n"
     ]
    },
    {
     "data": {
      "image/png": "[encoded data removed]",
      "text/plain": [
       "<matplotlib.figure.Figure at 0x7f91d4016f98>"
      ]
     },
     "metadata": {},
     "output_type": "display_data"
    },
    {
     "name": "stdout",
     "output_type": "stream",
     "text": [
      "Evaluating testset with preprocessing\n",
      "Loss dataset: 0.0227784\n"
     ]
    },
    {
     "data": {
      "image/png": "[encoded data removed]",
      "text/plain": [
       "<matplotlib.figure.Figure at 0x7f91900efa20>"
      ]
     },
     "metadata": {},
     "output_type": "display_data"
    },
    {
     "name": "stdout",
     "output_type": "stream",
     "text": [
      "MSE: 0.306930757092\n"
     ]
    }
   ],
   "source": [
    "sess = tf.Session()\n",
    "\n",
    "losses_norm = reset_and_train_network(sess,scaled_trainset,\n",
    "                                      scaled_train_out,\n",
    "                                      64, \n",
    "                                        1000,\n",
    "                                        optimizer, \n",
    "                                        input_pl, \n",
    "                                        output_pl,\n",
    "                                        loss,\n",
    "                                        verbose=False)\n",
    "\n",
    "\n",
    "plt.plot(losses_norm[10:])\n",
    "plt.show()\n",
    "\n",
    "## Evaluate the trainset after preprocessing and the testset after preprocessing\n",
    "print(\"Evaluating trainset with preprocessing\")\n",
    "evaluate_network(sess,scaled_trainset, scaled_train_out, network_prediction, input_pl, output_pl, loss)\n",
    "print(\"Evaluating testset with preprocessing\")\n",
    "evaluate_network(sess,scaled_testset, scaled_test_out, network_prediction, input_pl, output_pl, loss)\n",
    "\n",
    "\n",
    "from sklearn.metrics import mean_squared_error\n",
    "\n",
    "## Predict the ground energy of each molecule\n",
    "datasetY2 = [[x] for x in Y_test]\n",
    "predicted_values = sess.run(network_prediction, feed_dict={input_pl: scaled_testset})\n",
    "\n",
    "## Scale these values back, and calculate the MSE\n",
    "inversed_predicted_values = outputscaler.inverse_transform(predicted_values)\n",
    "mse = mean_squared_error(inversed_predicted_values, datasetY2)\n",
    "print(\"MSE: \" + str(mse))"
   ]
  },
  {
   "cell_type": "markdown",
   "metadata": {},
   "source": [
    "### Visualising the activation layer\n",
    "Well, looks like we were really able to make a big improvement this time. Lets visualise what's actually happening in the activation layer:"
   ]
  },
  {
   "cell_type": "code",
   "execution_count": 67,
   "metadata": {},
   "outputs": [],
   "source": [
    "def visualise_function(function, name):\n",
    "    ## Create inputs between -5 and 5, and put this in a Tensorflow variable\n",
    "    inputdata = np.arange(-5.0, 5.0, 0.1)\n",
    "    mydatainput = tf.Variable(inputdata)\n",
    "    \n",
    "    ## Create the output tensor using the supplied function\n",
    "    functionoutput = function(mydatainput)\n",
    "    \n",
    "    ## Create a temporary session for this graph, and evaluate the activation for these datapoints\n",
    "    with tf.Session() as temp_session:\n",
    "        init = tf.global_variables_initializer() \n",
    "        temp_session.run(init)\n",
    "        activationdata = functionoutput.eval(session=temp_session)\n",
    "        \n",
    "        ## Plot the results\n",
    "        plt.plot(inputdata,activationdata)\n",
    "        plt.xlabel(\"input\")\n",
    "        plt.ylabel(\"activation\")\n",
    "        plt.title(name)\n",
    "        plt.show()\n",
    "\n",
    "        \n",
    "   "
   ]
  },
  {
   "cell_type": "code",
   "execution_count": 68,
   "metadata": {},
   "outputs": [
    {
     "data": {
      "image/png": "[encoded data removed]",
      "text/plain": [
       "<matplotlib.figure.Figure at 0x7f919c1c6048>"
      ]
     },
     "metadata": {},
     "output_type": "display_data"
    },
    {
     "data": {
      "image/png": "[encoded data removed]",
      "text/plain": [
       "<matplotlib.figure.Figure at 0x7f919e5a93c8>"
      ]
     },
     "metadata": {},
     "output_type": "display_data"
    },
    {
     "data": {
      "image/png": "[encoded data removed]",
      "text/plain": [
       "<matplotlib.figure.Figure at 0x7f9192584400>"
      ]
     },
     "metadata": {},
     "output_type": "display_data"
    },
    {
     "data": {
      "image/png": "[encoded data removed]",
      "text/plain": [
       "<matplotlib.figure.Figure at 0x7f919c1fee10>"
      ]
     },
     "metadata": {},
     "output_type": "display_data"
    }
   ],
   "source": [
    "activation_functions = [(tf.nn.relu, \"relu\"), \n",
    "                        (tf.nn.sigmoid, \"sigmoid\"), \n",
    "                        (tf.nn.tanh, \"tanh\"),\n",
    "                       (tf.nn.elu, \"elu\")]\n",
    "\n",
    "for func, name in activation_functions:\n",
    "    visualise_function(func, name)\n",
    "        \n"
   ]
  },
  {
   "cell_type": "markdown",
   "metadata": {},
   "source": [
    "## Video 5: the importance of hyper parameters\n",
    "So far when defining our neural network we kind of guessed the \"hyper parameters\". Hyper parameters describe our network, but they are not part of the actual network. Note that they are able to have a big influence on your network: selecting the right learning rate, the right amount of layers, and the sizes of your layers are very important, and can contribute a lot to your final performance. \n",
    "\n",
    "In this section we will try to find the best performance for the network we made in the last video. In this case we optimize one hyper parameter: the learning rate. "
   ]
  },
  {
   "cell_type": "code",
   "execution_count": 87,
   "metadata": {},
   "outputs": [
    {
     "name": "stdout",
     "output_type": "stream",
     "text": [
      "Loss at learning rate: 0.0001 loss: 0.0535809 mse: 0.765865204917\n",
      "Loss at learning rate: 0.0003 loss: 0.0422183 mse: 0.419181209176\n",
      "Loss at learning rate: 0.0005 loss: 0.0212089 mse: 0.317553657491\n",
      "Loss at learning rate: 0.0007 loss: 0.00811248 mse: 0.303679070667\n",
      "Loss at learning rate: 0.0009 loss: 0.0103785 mse: 0.226300415237\n"
     ]
    }
   ],
   "source": [
    "\n",
    "## Define the network: the same as the network in the previous section. \n",
    "ACTIVATION_FUNCTION = activation=tf.nn.relu\n",
    "tf.reset_default_graph()\n",
    "input_pl = tf.placeholder(dtype=tf.float32, shape=[None, 1275], name=\"inputplaceholder\")\n",
    "output_pl = tf.placeholder(dtype=tf.float32, shape=[None, 1], name=\"userdefinedoutput\")\n",
    "dense = tf.layers.dense(inputs=input_pl, units=512, activation=ACTIVATION_FUNCTION, name=\"first_dense_layer\")\n",
    "dense2 = tf.layers.dense(inputs=dense, units=256, activation=ACTIVATION_FUNCTION, name=\"second_dense_layer\")\n",
    "dense3 = tf.layers.dense(inputs=dense2, units=64, activation=ACTIVATION_FUNCTION, name=\"third_dense_layer\")\n",
    "network_prediction = tf.layers.dense(inputs=dense3, units=1, activation=None, name=\"prediction_dense_layer\")\n",
    "loss = tf.losses.mean_squared_error(output_pl,network_prediction)\n",
    "\n",
    "mses = list()\n",
    "losses = list()\n",
    "#for learning_rate in np.arange(0.0001, 0.05, 0.0002):\n",
    "learning_rates = np.arange(0.0001, 0.001, 0.0002)\n",
    "for learning_rate in learning_rates:\n",
    "    optimizer = tf.train.GradientDescentOptimizer(learning_rate).minimize(loss)\n",
    "    sess = tf.Session()\n",
    "    losses_norm = reset_and_train_network(sess,scaled_trainset,\n",
    "                                      scaled_train_out,\n",
    "                                      64, \n",
    "                                        1000,\n",
    "                                        optimizer, \n",
    "                                        input_pl, \n",
    "                                        output_pl,\n",
    "                                        loss,\n",
    "                                        verbose=False)\n",
    "    datasetY2 = [[x] for x in Y_test]\n",
    "    predicted_values = sess.run(network_prediction, feed_dict={input_pl: scaled_testset})\n",
    "\n",
    "    ## Scale these values back, and calculate the MSE\n",
    "    inversed_predicted_values = outputscaler.inverse_transform(predicted_values)\n",
    "    losses.append(losses_norm[-1])\n",
    "\n",
    "    mse = mean_squared_error(inversed_predicted_values, datasetY2)\n",
    "    mses.append(mse)\n",
    "\n",
    "    print(\"Loss at learning rate: \" + str(learning_rate) + \" loss: \" + str(losses_norm[-1]) + \" mse: \" + str(mse))\n"
   ]
  },
  {
   "cell_type": "code",
   "execution_count": 88,
   "metadata": {},
   "outputs": [
    {
     "data": {
      "text/plain": [
       "[<matplotlib.lines.Line2D at 0x7f916f602a20>]"
      ]
     },
     "execution_count": 88,
     "metadata": {},
     "output_type": "execute_result"
    },
    {
     "data": {
      "image/png": "[encoded data removed]",
      "text/plain": [
       "<matplotlib.figure.Figure at 0x7f916f602c18>"
      ]
     },
     "metadata": {},
     "output_type": "display_data"
    }
   ],
   "source": [
    "plt.plot(learning_rates,losses)\n",
    "plt.plot(learning_rates,mses)\n",
    "\n"
   ]
  },
  {
   "cell_type": "markdown",
   "metadata": {},
   "source": [
    "### More on hyper parameters"
   ]
  },
  {
   "cell_type": "code",
   "execution_count": null,
   "metadata": {
    "collapsed": true
   },
   "outputs": [],
   "source": []
  },
  {
   "cell_type": "code",
   "execution_count": null,
   "metadata": {
    "collapsed": true
   },
   "outputs": [],
   "source": []
  },
  {
   "cell_type": "code",
   "execution_count": null,
   "metadata": {
    "collapsed": true
   },
   "outputs": [],
   "source": [
    "init = tf.global_variables_initializer() # https://www.tensorflow.org/api_docs/python/tf/global_variables_initializer\n",
    "sess = tf.Session() # https://www.tensorflow.org/api_docs/python/tf/Session\n",
    "sess.run(init)\n",
    "\n",
    "zipped = list(zip(datasetX, datasetY))\n",
    "\n",
    "BATCH_SIZE = 32\n",
    "loss_history = list()\n",
    "for _ in range(10000):\n",
    "    datax = list()\n",
    "    datay = list()\n",
    "    for _ in range(BATCH_SIZE):\n",
    "        samp = random.choice(zipped)\n",
    "        datax.append(samp[0])\n",
    "        datay.append([samp[1]])\n",
    "    _, l = sess.run([optimizer,loss], feed_dict={input_pl: datax, output_pl: datay})\n",
    "    print(l)\n",
    "    loss_history.append(l)"
   ]
  },
  {
   "cell_type": "code",
   "execution_count": null,
   "metadata": {
    "collapsed": true
   },
   "outputs": [],
   "source": [
    "\n"
   ]
  },
  {
   "cell_type": "code",
   "execution_count": null,
   "metadata": {
    "collapsed": true
   },
   "outputs": [],
   "source": [
    "plt.plot(losses[-100:])\n",
    "plt.plot(losses_norm[-100:])\n"
   ]
  },
  {
   "cell_type": "markdown",
   "metadata": {
    "collapsed": true
   },
   "source": [
    "### Annealing the learning rate\n",
    "Right now we keep the learning rate the same the whole time. It's generally a good idea to reduce your learning rate slowly during training. There are several options for this with Tensorflow: \n",
    "- Define a placeholder for the learning rate and pass this to the network as parameter\n",
    "- Use the `tf.train.exponential_decay` function. \n",
    "We are going use the second approach!\n"
   ]
  },
  {
   "cell_type": "code",
   "execution_count": null,
   "metadata": {
    "collapsed": true
   },
   "outputs": [],
   "source": [
    "tf.train.exponential_decay?"
   ]
  },
  {
   "cell_type": "markdown",
   "metadata": {},
   "source": [
    "> \n",
    "When training a model, it is often recommended to lower the learning rate as\n",
    "the training progresses.  This function applies an exponential decay function\n",
    "to a provided initial learning rate.  It requires a `global_step` value to\n",
    "compute the decayed learning rate.  You can just pass a TensorFlow variable\n",
    "that you increment at each training step."
   ]
  },
  {
   "cell_type": "code",
   "execution_count": null,
   "metadata": {
    "collapsed": true
   },
   "outputs": [],
   "source": [
    "LEARNING_RATE = 0.00005\n",
    "global_step = tf.Variable(0, trainable=False)\n",
    "starter_learning_rate = LEARNING_RATE\n",
    "learning_rate = tf.train.exponential_decay(starter_learning_rate, global_step,\n",
    "                                           10000, 0.96, staircase=True)\n",
    "optimizer = tf.train.GradientDescentOptimizer(learning_rate).minimize(loss)"
   ]
  },
  {
   "cell_type": "code",
   "execution_count": null,
   "metadata": {
    "collapsed": true
   },
   "outputs": [],
   "source": []
  },
  {
   "cell_type": "code",
   "execution_count": null,
   "metadata": {
    "collapsed": true
   },
   "outputs": [],
   "source": [
    "\n"
   ]
  },
  {
   "cell_type": "code",
   "execution_count": null,
   "metadata": {
    "collapsed": true
   },
   "outputs": [],
   "source": []
  },
  {
   "cell_type": "markdown",
   "metadata": {},
   "source": [
    "### Revisiting train, test, and the validation set\n",
    "During our search for the best hyper parameters we did something terrible: by optimising our network on our test data, and taking the best parameters for our test data, we \"leaked knowledge\" about our test set into our algorithms. \n",
    "\n",
    "Right now I'm not going to fix this, but you have to be aware of this \"smell\" in your own train data... it probably affects your results when you take new data. "
   ]
  },
  {
   "cell_type": "code",
   "execution_count": null,
   "metadata": {
    "collapsed": true
   },
   "outputs": [],
   "source": [
    "filename_queue = tf.train.string_input_producer([\"datasets/celebrities/list_attr_celeba.txt\"])\n",
    "textlinereader = tf.TextLineReader(skip_header_lines=2) #https://www.tensorflow.org/api_docs/python/tf/TextLineReader\n",
    "key, val = textlinereader.read(filename_queue)\n",
    "sess = tf.Session()\n",
    "coord = tf.train.Coordinator()\n",
    "threads = tf.train.start_queue_runners(coord=coord, sess=sess)\n",
    "\n",
    "#record_defaults = [[\"000001.jpg\"] + [0]*40]\n",
    "record_defaults = [[0] for _ in range(40)]\n",
    "content = tf.decode_csv(val, record_defaults=record_defaults)\n",
    "\n",
    "\n",
    "# Evaluate the tensor `c`.\n",
    "print(sess.run([key,val]))\n",
    "print(sess.run([key,val]))\n",
    "print(sess.run([key,val]))\n",
    "print(sess.run([key,val]))\n",
    "#print(sess.run([content]))\n",
    "\n",
    "# https://www.tensorflow.org/programmers_guide/reading_data"
   ]
  },
  {
   "cell_type": "code",
   "execution_count": null,
   "metadata": {
    "collapsed": true
   },
   "outputs": [],
   "source": [
    "\n",
    "tf.decode_csv?\n",
    "    "
   ]
  },
  {
   "cell_type": "code",
   "execution_count": null,
   "metadata": {
    "collapsed": true
   },
   "outputs": [],
   "source": [
    "print(zipped)\n"
   ]
  },
  {
   "cell_type": "code",
   "execution_count": null,
   "metadata": {
    "collapsed": true
   },
   "outputs": [],
   "source": []
  },
  {
   "cell_type": "code",
   "execution_count": null,
   "metadata": {
    "collapsed": true
   },
   "outputs": [],
   "source": [
    "col1, col2, col3, col4, col5 = tf.decode_csv(\n",
    "    value, record_defaults=record_defaults)\n",
    "features = tf.stack([col1, col2, col3, col4])\n",
    "\n",
    "with tf.Session() as sess:\n",
    "  # Start populating the filename queue.\n",
    "  coord = tf.train.Coordinator()\n",
    "  threads = tf.train.start_queue_runners(coord=coord)\n",
    "\n",
    "  for i in range(1200):\n",
    "    # Retrieve a single instance:\n",
    "    example, label = sess.run([features, col5])\n",
    "\n",
    "  coord.request_stop()\n",
    "  coord.join(threads)\n"
   ]
  },
  {
   "cell_type": "code",
   "execution_count": null,
   "metadata": {
    "collapsed": true
   },
   "outputs": [],
   "source": []
  },
  {
   "cell_type": "code",
   "execution_count": null,
   "metadata": {
    "collapsed": true
   },
   "outputs": [],
   "source": []
  },
  {
   "cell_type": "code",
   "execution_count": null,
   "metadata": {
    "collapsed": true
   },
   "outputs": [],
   "source": [
    "estimator = tf.estimatorDNNRegressor(\n",
    "    feature_columns=[sparse_feature_a_emb, sparse_feature_b_emb],\n",
    "    hidden_units=[1024, 512, 256])\n"
   ]
  },
  {
   "cell_type": "code",
   "execution_count": null,
   "metadata": {
    "collapsed": true
   },
   "outputs": [],
   "source": [
    "tf.estimator.DNNRegressor(feature_columns=[sparse_feature_a_emb, sparse_feature_b_emb],\n",
    "    hidden_units=[1024, 512, 256]))"
   ]
  },
  {
   "cell_type": "code",
   "execution_count": null,
   "metadata": {
    "collapsed": true
   },
   "outputs": [],
   "source": []
  },
  {
   "cell_type": "code",
   "execution_count": null,
   "metadata": {
    "collapsed": true
   },
   "outputs": [],
   "source": []
  },
  {
   "cell_type": "code",
   "execution_count": null,
   "metadata": {
    "collapsed": true
   },
   "outputs": [],
   "source": []
  },
  {
   "cell_type": "code",
   "execution_count": null,
   "metadata": {
    "collapsed": true
   },
   "outputs": [],
   "source": [
    "import numpy\n",
    "import pandas\n",
    "from keras.models import Sequential\n",
    "from keras.layers import Dense\n",
    "from keras.wrappers.scikit_learn import KerasRegressor\n",
    "from sklearn.model_selection import cross_val_score\n",
    "from sklearn.model_selection import KFold\n",
    "from sklearn.preprocessing import StandardScaler\n",
    "from sklearn.pipeline import Pipeline\n",
    "\n",
    "import numpy\n",
    "import pandas\n",
    "from keras.models import Sequential\n",
    "from keras.layers import Dense\n",
    "from keras.wrappers.scikit_learn import KerasRegressor\n",
    "from sklearn.model_selection import cross_val_score\n",
    "from sklearn.model_selection import KFold\n",
    "from sklearn.preprocessing import StandardScaler\n",
    "from sklearn.pipeline import Pipeline"
   ]
  },
  {
   "cell_type": "markdown",
   "metadata": {},
   "source": [
    "# Cool Keras thing"
   ]
  },
  {
   "cell_type": "code",
   "execution_count": null,
   "metadata": {
    "collapsed": true
   },
   "outputs": [],
   "source": [
    "def baseline_model():\n",
    "    # create model\n",
    "    model = Sequential()\n",
    "    model.add(Dense(24, input_dim=1275, kernel_initializer='normal', activation='relu'))\n",
    "    model.add(Dense(1, kernel_initializer='normal'))\n",
    "    # Compile model\n",
    "    model.compile(loss='mean_squared_error', optimizer='adam')\n",
    "    return model\n",
    "estimator = KerasRegressor(build_fn=baseline_model, nb_epoch=4, batch_size=5, verbose=1)\n",
    "seed=10\n",
    "kfold = KFold(n_splits=10, random_state=seed)\n",
    "results = cross_val_score(estimator, datasetX, datasetY, cv=kfold)\n",
    "print(\"Results: %.2f (%.2f) MSE\" % (results.mean(), results.std()))\n",
    "\n",
    "estimator.fit(datasetX, datasetY)\n",
    "prediction = estimator.predict(datasetXtest)\n",
    "plt.scatter(datasetYtest,prediction)"
   ]
  },
  {
   "cell_type": "code",
   "execution_count": null,
   "metadata": {
    "collapsed": true
   },
   "outputs": [],
   "source": [
    "\n",
    "from mpl_toolkits.mplot3d import Axes3D\n",
    "import matplotlib.pyplot as plt\n",
    "import numpy as np\n",
    "\n",
    "from sklearn import datasets\n",
    "\n",
    "import matplotlib.pyplot as plt\n",
    "from mpl_toolkits.mplot3d import Axes3D\n",
    "from sklearn import datasets\n",
    "from sklearn.decomposition import PCA\n",
    "\n",
    "# import some data to play with\n",
    "iris = datasets.load_iris()\n",
    "X = iris.data[:, :2]  # we only take the first two features.\n",
    "Y = iris.target\n",
    "\n",
    "x_min, x_max = X[:, 0].min() - .5, X[:, 0].max() + .5\n",
    "y_min, y_max = X[:, 1].min() - .5, X[:, 1].max() + .5\n",
    "\n",
    "plt.figure(2, figsize=(8, 6))\n",
    "plt.clf()\n",
    "\n",
    "# Plot the training points\n",
    "plt.scatter(X[:, 0], X[:, 1], c=Y, cmap=plt.cm.Paired)\n",
    "plt.xlabel('Sepal length')\n",
    "plt.ylabel('Sepal width')\n",
    "\n",
    "plt.xlim(x_min, x_max)\n",
    "plt.ylim(y_min, y_max)\n",
    "plt.xticks(())\n",
    "plt.yticks(())\n",
    "\n",
    "# To getter a better understanding of interaction of the dimensions\n",
    "# plot the first three PCA dimensions\n",
    "fig = plt.figure(1, figsize=(8, 6))\n",
    "ax = Axes3D(fig, elev=-150, azim=110)\n",
    "X_reduced = PCA(n_components=3).fit_transform(iris.data)\n",
    "ax.scatter(X_reduced[:, 0], X_reduced[:, 1], X_reduced[:, 2], c=Y,\n",
    "           cmap=plt.cm.Paired)\n",
    "ax.set_title(\"First three PCA directions\")\n",
    "ax.set_xlabel(\"1st eigenvector\")\n",
    "ax.w_xaxis.set_ticklabels([])\n",
    "ax.set_ylabel(\"2nd eigenvector\")\n",
    "ax.w_yaxis.set_ticklabels([])\n",
    "ax.set_zlabel(\"3rd eigenvector\")\n",
    "ax.w_zaxis.set_ticklabels([])\n",
    "\n",
    "plt.show()\n",
    "\n"
   ]
  },
  {
   "cell_type": "markdown",
   "metadata": {},
   "source": [
    "Although some of the clouds overlap you can see that we are probably able to classify any new species based on these three properties of the flowers. \n",
    "\n",
    "\n"
   ]
  },
  {
   "cell_type": "markdown",
   "metadata": {},
   "source": [
    "\n",
    "\n",
    "If you have your own dataset with values that look similar to those of the Iris dataset, give the network you just made a go! If the network does not converge yet, there are many tips and tricks you have to know about neural networks that you need to learn, and will learn during this course. \n"
   ]
  },
  {
   "cell_type": "code",
   "execution_count": null,
   "metadata": {
    "collapsed": true
   },
   "outputs": [],
   "source": [
    "import sklearn"
   ]
  },
  {
   "cell_type": "code",
   "execution_count": null,
   "metadata": {
    "collapsed": true
   },
   "outputs": [],
   "source": [
    "from sklearn import datasets"
   ]
  },
  {
   "cell_type": "code",
   "execution_count": null,
   "metadata": {
    "collapsed": true
   },
   "outputs": [],
   "source": [
    "iris = datasets.load_iris()"
   ]
  },
  {
   "cell_type": "code",
   "execution_count": null,
   "metadata": {
    "collapsed": true
   },
   "outputs": [],
   "source": [
    "print(iris['feature_names'])\n",
    "print(len(iris['data']))"
   ]
  },
  {
   "cell_type": "code",
   "execution_count": null,
   "metadata": {
    "collapsed": true
   },
   "outputs": [],
   "source": [
    "%matplotlib inline\n",
    "import matplotlib.pyplot as plt\n",
    "\n",
    "# Cool snail-age tutorial: https://www.tensorflow.org/versions/r0.12/tutorials/estimators/"
   ]
  },
  {
   "cell_type": "markdown",
   "metadata": {},
   "source": [
    "## A single layer network\n",
    "This is where we show \n",
    "\n",
    "$Y = \\sum{weight*input} + bias$\n",
    "\n",
    "This means that for one neuron we multiply the input with the weight, do this for each input-weight combination, and then add a bias. \n",
    "\n"
   ]
  },
  {
   "cell_type": "markdown",
   "metadata": {},
   "source": [
    "\n"
   ]
  },
  {
   "cell_type": "markdown",
   "metadata": {},
   "source": [
    "## What activation functions are out there?\n",
    "\n",
    "Story about how deep learning advances the last couple of years are party due to new activation functions: RELU and ELU. \n",
    "\n",
    "By only multiplying you get a 'linear' seperation. Why/how? \n",
    "\n",
    "https://medium.com/the-theory-of-everything/understanding-activation-functions-in-neural-networks-9491262884e0\n",
    "\n",
    "That's why it's common to add a 'nonregularity' after each layer. This turns the linear activation into a nonlinear activation. \n",
    "\n",
    "[Available activation functions](https://www.tensorflow.org/api_guides/python/nn#Activation_Functions)\n",
    "Let's take a look at the nonregularities Tensorflow offers out of the box with some sample graphs:\n"
   ]
  },
  {
   "cell_type": "code",
   "execution_count": null,
   "metadata": {
    "collapsed": true
   },
   "outputs": [],
   "source": [
    "inputdata = np.arange(-5.0, 5.0, 0.1)\n",
    "SHAPE_INPUT = inputdata.shape\n",
    "print(SHAPE_INPUT)"
   ]
  },
  {
   "cell_type": "code",
   "execution_count": null,
   "metadata": {
    "collapsed": true
   },
   "outputs": [],
   "source": [
    "mydatainput = tf.placeholder(dtype=tf.float32, shape=SHAPE_INPUT)\n",
    "reluoutput = tf.nn.relu(mydatainput) # https://www.tensorflow.org/api_docs/python/tf/nn/relu\n",
    "\n",
    "relu6output = tf.nn.relu6(mydatainput)\n",
    "creluoutput = tf.nn.crelu(mydatainput) # Concatenated relu\n",
    "eluoutput = tf.nn.elu(mydatainput)\n",
    "sigmoidoutput = tf.sigmoid(mydatainput)\n",
    "tanhoutput = tf.tanh(mydatainput)\n",
    "\n",
    "# tf.nn.softplus\n",
    "# tf.nn.softsign\n",
    "# tf.nn.dropout\n",
    "# tf.nn.bias_add\n",
    "\n",
    "print(reluoutput)"
   ]
  },
  {
   "cell_type": "code",
   "execution_count": null,
   "metadata": {
    "collapsed": true
   },
   "outputs": [],
   "source": [
    "init = tf.global_variables_initializer() # https://www.tensorflow.org/api_docs/python/tf/global_variables_initializer\n",
    "sess = tf.Session() # https://www.tensorflow.org/api_docs/python/tf/Session\n",
    "sess.run(init)\n"
   ]
  },
  {
   "cell_type": "code",
   "execution_count": null,
   "metadata": {
    "collapsed": true
   },
   "outputs": [],
   "source": [
    "a,b,c,d,e = sess.run([reluoutput, creluoutput, eluoutput, sigmoidoutput, tanhoutput], feed_dict={mydatainput:inputdata})\n",
    "print(a)\n",
    "for x in [a,b,c,d,e]:\n",
    "    print(len(x))"
   ]
  },
  {
   "cell_type": "code",
   "execution_count": null,
   "metadata": {
    "collapsed": true
   },
   "outputs": [],
   "source": [
    "plt.plot(a)\n",
    "\n",
    "\n",
    "\n",
    "plt.plot(c)\n",
    "\n",
    "plt.plot(d)\n",
    "\n",
    "plt.plot(e)\n",
    "plt.legend(['relu', 'elu', 'sigmoid', 'tanh'], loc='upper left')\n",
    "\n",
    "plt.show()"
   ]
  },
  {
   "cell_type": "markdown",
   "metadata": {},
   "source": [
    "You might think: what do I have to do with all this information, how do I use it, what activation function is best? The take-home message here is that you should know what they exist, how each one of them looks in the plot above. "
   ]
  },
  {
   "cell_type": "markdown",
   "metadata": {},
   "source": [
    "\n",
    "## Softmax\n",
    "In classificiation it's a good idea to use softmax. \n",
    "\n",
    "Right now each output neuron gives us a 'score'. The neuron with the highest score tells us what flower we are probably dealing with. \n",
    "But what about those difficult flowers that look like each other? We would love to have a probability per class. This is why we use the softmax layer. \n",
    "\n",
    "What this layer does is taking all activations and summing them: \n",
    "XXXX\n",
    "Then it divides each activation through the total sum. \n",
    "\n",
    "\n"
   ]
  }
 ],
 "metadata": {
  "kernelspec": {
   "display_name": "Python 3",
   "language": "python",
   "name": "python3"
  },
  "language_info": {
   "codemirror_mode": {
    "name": "ipython",
    "version": 3
   },
   "file_extension": ".py",
   "mimetype": "text/x-python",
   "name": "python",
   "nbconvert_exporter": "python",
   "pygments_lexer": "ipython3",
   "version": "3.5.2"
  }
 },
 "nbformat": 4,
 "nbformat_minor": 2
}
